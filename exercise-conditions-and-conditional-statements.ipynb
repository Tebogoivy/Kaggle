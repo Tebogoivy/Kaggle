{
 "cells": [
  {
   "cell_type": "markdown",
   "id": "dd2c8bd9",
   "metadata": {
    "papermill": {
     "duration": 0.006445,
     "end_time": "2023-05-13T08:11:25.839184",
     "exception": false,
     "start_time": "2023-05-13T08:11:25.832739",
     "status": "completed"
    },
    "tags": []
   },
   "source": [
    "**This notebook is an exercise in the [Intro to Programming](https://www.kaggle.com/learn/intro-to-programming) course.  You can reference the tutorial at [this link](https://www.kaggle.com/alexisbcook/conditions-and-conditional-statements).**\n",
    "\n",
    "---\n"
   ]
  },
  {
   "cell_type": "markdown",
   "id": "19b8dcce",
   "metadata": {
    "papermill": {
     "duration": 0.00547,
     "end_time": "2023-05-13T08:11:25.850523",
     "exception": false,
     "start_time": "2023-05-13T08:11:25.845053",
     "status": "completed"
    },
    "tags": []
   },
   "source": [
    "In the tutorial, you learned about conditions and conditional statements. In this exercise, you will use what you learned to answer several questions.\n",
    "\n",
    "# Set up the notebook\n",
    "\n",
    "Run the next code cell without changes to set up the notebook."
   ]
  },
  {
   "cell_type": "code",
   "execution_count": 1,
   "id": "7263dd5f",
   "metadata": {
    "execution": {
     "iopub.execute_input": "2023-05-13T08:11:25.864806Z",
     "iopub.status.busy": "2023-05-13T08:11:25.863485Z",
     "iopub.status.idle": "2023-05-13T08:11:25.914603Z",
     "shell.execute_reply": "2023-05-13T08:11:25.913493Z"
    },
    "papermill": {
     "duration": 0.06055,
     "end_time": "2023-05-13T08:11:25.916682",
     "exception": false,
     "start_time": "2023-05-13T08:11:25.856132",
     "status": "completed"
    },
    "tags": []
   },
   "outputs": [
    {
     "name": "stdout",
     "output_type": "stream",
     "text": [
      "Setup complete.\n"
     ]
    }
   ],
   "source": [
    "from learntools.core import binder\n",
    "binder.bind(globals())\n",
    "from learntools.intro_to_programming.ex4 import *\n",
    "print('Setup complete.')"
   ]
  },
  {
   "cell_type": "markdown",
   "id": "db725a78",
   "metadata": {
    "papermill": {
     "duration": 0.005491,
     "end_time": "2023-05-13T08:11:25.928103",
     "exception": false,
     "start_time": "2023-05-13T08:11:25.922612",
     "status": "completed"
    },
    "tags": []
   },
   "source": [
    "# Question 1\n",
    "\n",
    "You work at a college admissions office.  When inspecting a dataset of college applicants, you notice that some students have represented their grades with letters (`\"A\"`, `\"B\"`, `\"C\"`, `\"D\"`, `\"F\"`), whereas others have represented their grades with a number between 0 and 100.\n",
    "\n",
    "You realize that for consistency, all of the grades should be formatted in the same way, and you decide to format them all as letters.  For the conversion, you decide to assign:\n",
    "- `\"A\"` - any grade 90-100, inclusive\n",
    "- `\"B\"` - any grade 80-89, inclusive\n",
    "- `\"C\"` - any grade 70-79, inclusive\n",
    "- `\"D\"` - any grade 60-69, inclusive\n",
    "- `\"F\"` - any grade <60\n",
    "\n",
    "Write a function `get_grade()` that takes as input:\n",
    "- `score` - an integer 0-100 corresponding to a numerical grade\n",
    "\n",
    "It should return a Python string with the letter grade that it corresponds to.  For instance,\n",
    "- A score of 85 corresponds to a B grade.  In other words, `get_grade(85)` should return `\"B\"`.\n",
    "- A score of 49 corresponds to an F grade.  In other words, `get_grade(49)` should return `\"F\"`.\n",
    "\n",
    "Make sure that when supplying the grade that is returned by the function, it is enclosed in quotes.  (For instance, if you want to return `\"A\"`, you should write `return \"A\"` and not `return A`.)"
   ]
  },
  {
   "cell_type": "code",
   "execution_count": 2,
   "id": "7d5abd00",
   "metadata": {
    "execution": {
     "iopub.execute_input": "2023-05-13T08:11:25.942433Z",
     "iopub.status.busy": "2023-05-13T08:11:25.941767Z",
     "iopub.status.idle": "2023-05-13T08:11:25.953618Z",
     "shell.execute_reply": "2023-05-13T08:11:25.952595Z"
    },
    "papermill": {
     "duration": 0.021264,
     "end_time": "2023-05-13T08:11:25.955745",
     "exception": false,
     "start_time": "2023-05-13T08:11:25.934481",
     "status": "completed"
    },
    "tags": []
   },
   "outputs": [
    {
     "data": {
      "application/javascript": [
       "parent.postMessage({\"jupyterEvent\": \"custom.exercise_interaction\", \"data\": {\"outcomeType\": 1, \"valueTowardsCompletion\": 0.2, \"interactionType\": 1, \"questionType\": 2, \"questionId\": \"1_GetGrade\", \"learnToolsVersion\": \"0.3.4\", \"failureMessage\": \"\", \"exceptionClass\": \"\", \"trace\": \"\"}}, \"*\")"
      ],
      "text/plain": [
       "<IPython.core.display.Javascript object>"
      ]
     },
     "metadata": {},
     "output_type": "display_data"
    },
    {
     "data": {
      "text/markdown": [
       "<span style=\"color:#33cc33\">Correct</span>"
      ],
      "text/plain": [
       "Correct"
      ]
     },
     "metadata": {},
     "output_type": "display_data"
    }
   ],
   "source": [
    "# TODO: Edit the function to return the correct grade for different scores\n",
    "def get_grade(score):\n",
    "    if score >= 90:\n",
    "        grade = \"A\"\n",
    "    \n",
    "    elif score >= 80:\n",
    "        grade = \"B\"\n",
    "    \n",
    "    elif score >= 70:\n",
    "        grade = \"C\"\n",
    "    \n",
    "    elif score >= 60:\n",
    "        grade = \"D\"\n",
    "    \n",
    "    else:\n",
    "        grade = \"F\"\n",
    "    \n",
    "    return grade\n",
    "    \n",
    "# Check your answer\n",
    "q1.check()"
   ]
  },
  {
   "cell_type": "code",
   "execution_count": 3,
   "id": "6188befc",
   "metadata": {
    "execution": {
     "iopub.execute_input": "2023-05-13T08:11:25.970937Z",
     "iopub.status.busy": "2023-05-13T08:11:25.970323Z",
     "iopub.status.idle": "2023-05-13T08:11:25.973623Z",
     "shell.execute_reply": "2023-05-13T08:11:25.973024Z"
    },
    "papermill": {
     "duration": 0.012772,
     "end_time": "2023-05-13T08:11:25.975343",
     "exception": false,
     "start_time": "2023-05-13T08:11:25.962571",
     "status": "completed"
    },
    "tags": []
   },
   "outputs": [],
   "source": [
    "# Uncomment to see a hint\n",
    "#q1.hint()\n",
    "\n",
    "# Uncomment to see the solution\n",
    "#q1.solution()"
   ]
  },
  {
   "cell_type": "markdown",
   "id": "9cf62f03",
   "metadata": {
    "papermill": {
     "duration": 0.005927,
     "end_time": "2023-05-13T08:11:25.987405",
     "exception": false,
     "start_time": "2023-05-13T08:11:25.981478",
     "status": "completed"
    },
    "tags": []
   },
   "source": [
    "# Question 2\n",
    "\n",
    "In the exercise for the previous lesson, you wrote a function `cost_of_project()` that estimated the price of rings for an online shop that sells rings with custom engravings.  This function did not use conditional statements.  In this exercise, you will rewrite the function to use conditional statements.  Recall that the online shop has the following price structure:\n",
    "- Gold plated rings have a base cost of \\\\$50, and you charge \\\\$7 per engraved unit.  \n",
    "- Solid gold rings have a base cost of \\\\$100, and you charge \\\\$10 per engraved unit.\n",
    "- Spaces and punctuation are counted as engraved units.\n",
    "\n",
    "Your function `cost_of_project()` takes two arguments:\n",
    "- `engraving` - a Python string with the text of the engraving\n",
    "- `solid_gold` - a Boolean that indicates whether the ring is solid gold\n",
    "\n",
    "It should return the cost of the project.  \n",
    "\n",
    "The function has been partially completed for you, and you need to fill in the blanks to complete the function."
   ]
  },
  {
   "cell_type": "code",
   "execution_count": 4,
   "id": "7693c128",
   "metadata": {
    "execution": {
     "iopub.execute_input": "2023-05-13T08:11:26.002010Z",
     "iopub.status.busy": "2023-05-13T08:11:26.001628Z",
     "iopub.status.idle": "2023-05-13T08:11:26.009950Z",
     "shell.execute_reply": "2023-05-13T08:11:26.008758Z"
    },
    "papermill": {
     "duration": 0.017939,
     "end_time": "2023-05-13T08:11:26.011830",
     "exception": false,
     "start_time": "2023-05-13T08:11:25.993891",
     "status": "completed"
    },
    "tags": []
   },
   "outputs": [
    {
     "data": {
      "application/javascript": [
       "parent.postMessage({\"jupyterEvent\": \"custom.exercise_interaction\", \"data\": {\"outcomeType\": 1, \"valueTowardsCompletion\": 0.2, \"interactionType\": 1, \"questionType\": 2, \"questionId\": \"2_CostProjectPartDeux\", \"learnToolsVersion\": \"0.3.4\", \"failureMessage\": \"\", \"exceptionClass\": \"\", \"trace\": \"\"}}, \"*\")"
      ],
      "text/plain": [
       "<IPython.core.display.Javascript object>"
      ]
     },
     "metadata": {},
     "output_type": "display_data"
    },
    {
     "data": {
      "text/markdown": [
       "<span style=\"color:#33cc33\">Correct</span>"
      ],
      "text/plain": [
       "Correct"
      ]
     },
     "metadata": {},
     "output_type": "display_data"
    }
   ],
   "source": [
    "def cost_of_project(engraving, solid_gold):\n",
    "    # Determine the base cost and engraving cost based on the type of ring\n",
    "    if solid_gold:\n",
    "        base_cost = 100\n",
    "        engraving_cost = 10\n",
    "    else:\n",
    "        base_cost = 50\n",
    "        engraving_cost = 7\n",
    "    \n",
    "    # Count the number of engraved units\n",
    "    num_engraved_units = len(engraving)\n",
    "    \n",
    "    # Calculate the total cost\n",
    "    total_cost = base_cost + engraving_cost * num_engraved_units\n",
    "    \n",
    "    return total_cost\n",
    "\n",
    "\n",
    "# Check your answer\n",
    "q2.check()"
   ]
  },
  {
   "cell_type": "code",
   "execution_count": 5,
   "id": "6f3b9fba",
   "metadata": {
    "execution": {
     "iopub.execute_input": "2023-05-13T08:11:26.026326Z",
     "iopub.status.busy": "2023-05-13T08:11:26.025766Z",
     "iopub.status.idle": "2023-05-13T08:11:26.030535Z",
     "shell.execute_reply": "2023-05-13T08:11:26.029609Z"
    },
    "papermill": {
     "duration": 0.014379,
     "end_time": "2023-05-13T08:11:26.032715",
     "exception": false,
     "start_time": "2023-05-13T08:11:26.018336",
     "status": "completed"
    },
    "tags": []
   },
   "outputs": [],
   "source": [
    "# Uncomment to see a hint\n",
    "#q2.hint()\n",
    "\n",
    "# Uncomment to see the solution\n",
    "#q2.solution()"
   ]
  },
  {
   "cell_type": "markdown",
   "id": "d7dc6e7f",
   "metadata": {
    "papermill": {
     "duration": 0.007135,
     "end_time": "2023-05-13T08:11:26.046880",
     "exception": false,
     "start_time": "2023-05-13T08:11:26.039745",
     "status": "completed"
    },
    "tags": []
   },
   "source": [
    "# Question 3\n",
    "\n",
    "You are a programmer at a water agency.  Recently, you have been tasked to write a function `get_water_bill()` that takes as input:\n",
    "- `num_gallons` = the number of gallons of water that a customer used that month.  (This will always be an integer with no decimal part.)\n",
    "\n",
    "It should output the water bill.  \n",
    "\n",
    "The water agency uses this pricing structure:\n",
    "<table style=\"width: 100%;\">\n",
    "<tbody>\n",
    "<tr><th><b>Tier</b></th><th><b>Amount in gallons</b></th><th><b>Price per 1000 gallons</b></th></tr>\n",
    "<tr>\n",
    "<td>Tier 1</td>\n",
    "<td>0 - 8,000</td>\n",
    "<td>\\$5</td>\n",
    "</tr>\n",
    "<tr>\n",
    "<td>Tier 2</td>\n",
    "<td>8,001 - 22,000</td>\n",
    "<td>\\$6</td>\n",
    "</tr>\n",
    "<tr>\n",
    "<td>Tier 3</td>\n",
    "<td>22,001 - 30,000</td>\n",
    "<td>\\$7</td>\n",
    "</tr>\n",
    "<tr>\n",
    "<td>Tier 4</td>\n",
    "<td>30,001+</td>\n",
    "<td>\\$10</td>\n",
    "</tr>\n",
    "</tbody>\n",
    "</table>\n",
    "\n",
    "For example: \n",
    "- Someone who uses 10,000 gallons of water in a month is placed in Tier 2, and needs to pay a water bill of \\\\$6 * 10 = \\\\$60.  In other words, `get_water_bill(10000)` should return `60.0`.\n",
    "- Someone who uses 25,000 gallons of water in a month is placed in Tier 3, and needs to pay a water bill of \\\\$7 * 25 = \\\\$175.  In other words, `get_water_bill(25000)` should return `175.0`.\n",
    "\n",
    "**Do not round your answer.**  So, your answer might return fractions of a penny."
   ]
  },
  {
   "cell_type": "code",
   "execution_count": 6,
   "id": "10d3277d",
   "metadata": {
    "execution": {
     "iopub.execute_input": "2023-05-13T08:11:26.061621Z",
     "iopub.status.busy": "2023-05-13T08:11:26.061226Z",
     "iopub.status.idle": "2023-05-13T08:11:26.070713Z",
     "shell.execute_reply": "2023-05-13T08:11:26.069698Z"
    },
    "papermill": {
     "duration": 0.01922,
     "end_time": "2023-05-13T08:11:26.072422",
     "exception": false,
     "start_time": "2023-05-13T08:11:26.053202",
     "status": "completed"
    },
    "tags": []
   },
   "outputs": [
    {
     "data": {
      "application/javascript": [
       "parent.postMessage({\"jupyterEvent\": \"custom.exercise_interaction\", \"data\": {\"outcomeType\": 1, \"valueTowardsCompletion\": 0.2, \"interactionType\": 1, \"questionType\": 2, \"questionId\": \"3_GetWaterBill\", \"learnToolsVersion\": \"0.3.4\", \"failureMessage\": \"\", \"exceptionClass\": \"\", \"trace\": \"\"}}, \"*\")"
      ],
      "text/plain": [
       "<IPython.core.display.Javascript object>"
      ]
     },
     "metadata": {},
     "output_type": "display_data"
    },
    {
     "data": {
      "text/markdown": [
       "<span style=\"color:#33cc33\">Correct</span>"
      ],
      "text/plain": [
       "Correct"
      ]
     },
     "metadata": {},
     "output_type": "display_data"
    }
   ],
   "source": [
    "# TODO: Edit the function to return the correct bill for different\n",
    "# values of num_gallons\n",
    "def get_water_bill(num_gallons):\n",
    "    if num_gallons <= 8000:\n",
    "        return (num_gallons/1000) * 5\n",
    "    elif num_gallons <= 22000: \n",
    "       return (num_gallons/1000) * 6\n",
    "    elif num_gallons <= 30000: \n",
    "       return (num_gallons/1000) * 7\n",
    "    else:\n",
    "      return (num_gallons/1000) * 10\n",
    "# Check your answer\n",
    "q3.check()"
   ]
  },
  {
   "cell_type": "code",
   "execution_count": 7,
   "id": "53ad6079",
   "metadata": {
    "execution": {
     "iopub.execute_input": "2023-05-13T08:11:26.087616Z",
     "iopub.status.busy": "2023-05-13T08:11:26.086561Z",
     "iopub.status.idle": "2023-05-13T08:11:26.092431Z",
     "shell.execute_reply": "2023-05-13T08:11:26.090685Z"
    },
    "papermill": {
     "duration": 0.015907,
     "end_time": "2023-05-13T08:11:26.094966",
     "exception": false,
     "start_time": "2023-05-13T08:11:26.079059",
     "status": "completed"
    },
    "tags": []
   },
   "outputs": [],
   "source": [
    "# Uncomment to see a hint\n",
    "#q3.hint()\n",
    "\n",
    "# Uncomment to see the solution\n",
    "#q3.solution()"
   ]
  },
  {
   "cell_type": "markdown",
   "id": "aab32a3e",
   "metadata": {
    "papermill": {
     "duration": 0.006882,
     "end_time": "2023-05-13T08:11:26.109710",
     "exception": false,
     "start_time": "2023-05-13T08:11:26.102828",
     "status": "completed"
    },
    "tags": []
   },
   "source": [
    "# Question 4\n",
    "\n",
    "You work for a company that provides data services.  For \\\\$100/month, your company provides 15 gigabytes (GB) of data.  Then, any additional data is billed at \\\\$0.10/MB (or \\\\$100/GB, since 1,000 MB are in 1 GB).\n",
    "\n",
    "Use the next code cell to write a function `get_phone_bill()` that takes as input:\n",
    "- `gb` = number of GB that the customer used in a month\n",
    "\n",
    "It should return the customer's total phone bill.\n",
    "\n",
    "For instance:\n",
    "- A customer who uses 10 GB of data in one month is billed only \\\\$100, since the usage stayed under 15 GB.  In other words, `get_phone_bill(10)` should return `100`.\n",
    "- A customer who uses 15.1 GB (or 15 GB + 100 MB) of data in one month has gone over by .1 GB, so they must pay \\\\$100 (cost of plan), plus \\\\$0.10 * 100 = \\\\$10, for a total bill of \\\\$110.  In other words, `get_phone_bill(15.1)` should return `110`.\n",
    "\n",
    "Do not round your answer."
   ]
  },
  {
   "cell_type": "code",
   "execution_count": 8,
   "id": "aa59e3f3",
   "metadata": {
    "execution": {
     "iopub.execute_input": "2023-05-13T08:11:26.124919Z",
     "iopub.status.busy": "2023-05-13T08:11:26.124515Z",
     "iopub.status.idle": "2023-05-13T08:11:26.134465Z",
     "shell.execute_reply": "2023-05-13T08:11:26.133510Z"
    },
    "papermill": {
     "duration": 0.020499,
     "end_time": "2023-05-13T08:11:26.136964",
     "exception": false,
     "start_time": "2023-05-13T08:11:26.116465",
     "status": "completed"
    },
    "tags": []
   },
   "outputs": [
    {
     "data": {
      "application/javascript": [
       "parent.postMessage({\"jupyterEvent\": \"custom.exercise_interaction\", \"data\": {\"outcomeType\": 1, \"valueTowardsCompletion\": 0.2, \"interactionType\": 1, \"questionType\": 2, \"questionId\": \"4_GetPhoneBill\", \"learnToolsVersion\": \"0.3.4\", \"failureMessage\": \"\", \"exceptionClass\": \"\", \"trace\": \"\"}}, \"*\")"
      ],
      "text/plain": [
       "<IPython.core.display.Javascript object>"
      ]
     },
     "metadata": {},
     "output_type": "display_data"
    },
    {
     "data": {
      "text/markdown": [
       "<span style=\"color:#33cc33\">Correct</span>"
      ],
      "text/plain": [
       "Correct"
      ]
     },
     "metadata": {},
     "output_type": "display_data"
    }
   ],
   "source": [
    "# TODO: Edit the function to return the correct bill for different\n",
    "# values of GB\n",
    "def get_phone_bill(gb):\n",
    "    plan_price = 100  # Cost of the plan for 15 GB\n",
    "    additional_gb_price = 100  # Cost per additional GB\n",
    "\n",
    "    if gb <= 15:\n",
    "        return plan_price\n",
    "    else:\n",
    "        additional_gb = gb - 15\n",
    "        additional_data_cost = additional_gb * additional_gb_price\n",
    "        total_bill = plan_price + additional_data_cost\n",
    "        return total_bill\n",
    "\n",
    "# Check your answer\n",
    "q4.check()"
   ]
  },
  {
   "cell_type": "code",
   "execution_count": 9,
   "id": "456cba6e",
   "metadata": {
    "execution": {
     "iopub.execute_input": "2023-05-13T08:11:26.152619Z",
     "iopub.status.busy": "2023-05-13T08:11:26.152238Z",
     "iopub.status.idle": "2023-05-13T08:11:26.156755Z",
     "shell.execute_reply": "2023-05-13T08:11:26.155350Z"
    },
    "papermill": {
     "duration": 0.015041,
     "end_time": "2023-05-13T08:11:26.159045",
     "exception": false,
     "start_time": "2023-05-13T08:11:26.144004",
     "status": "completed"
    },
    "tags": []
   },
   "outputs": [],
   "source": [
    "# Uncomment to see a hint\n",
    "#q4.hint()\n",
    "\n",
    "# Uncomment to see the solution\n",
    "#q4.solution()"
   ]
  },
  {
   "cell_type": "markdown",
   "id": "bc47f2b4",
   "metadata": {
    "papermill": {
     "duration": 0.006765,
     "end_time": "2023-05-13T08:11:26.172807",
     "exception": false,
     "start_time": "2023-05-13T08:11:26.166042",
     "status": "completed"
    },
    "tags": []
   },
   "source": [
    "# 🌶️ Question 5\n",
    "\n",
    "In Mexico, foods and beverages that are high in saturated fat, trans fat, sugar, sodium, and/or calories appear with warning labels that are designed to help consumers make healthy food choices.\n",
    "\n",
    "For instance, the [box of cookies](https://world.openfoodfacts.org/product/7501000673209/florentinas-gamesa) in the image below appears with two labels (in the upper right corner):\n",
    "- EXCESO CALORÍAS (in English, EXCESS CALORIES)\n",
    "- EXCESO AZÚCARES (in English, EXCESS SUGAR)\n",
    "\n",
    "<center><img src=\"https://storage.googleapis.com/kaggle-media/learn/images/VXYKHnM.png\" alt=\"drawing\" width=\"500\"/></center>\n",
    "\n",
    "In this question, you'll work with a function `get_labels()` that takes the nutritional details about a food item and prints the needed warning labels.  This function takes several inputs:\n",
    "- `food_type` = one of `\"solid\"` or `\"liquid\"`\n",
    "- `serving_size` = size of one serving (if solid, in grams; if liquid, in milliliters)\n",
    "- `calories_per_serving` = calories in one serving\n",
    "- `saturated_fat_g` = grams of saturated fat in one serving\n",
    "- `trans_fat_g` = grams of trans fat in one serving\n",
    "- `sodium_mg` = mg of sodium in one serving\n",
    "- `sugars_g` = grams of sugar in one serving\n",
    "\n",
    "Note that some of the code here should feel unfamiliar to you, since we have not shared the details of how some of the functions like `excess_sugar()` or `excess_saturated_fat()` work.  But at a high level, these are functions that return a value of `True` if the food is deemed to have an excess of sugar or saturated fat, respectively.  These functions are used within the `get_labels()` function, and whenever there is an excess (of sugar or saturated fat, but also of trans fat, sodium, or calories), it prints the corresponding label."
   ]
  },
  {
   "cell_type": "code",
   "execution_count": 10,
   "id": "44ac3df4",
   "metadata": {
    "execution": {
     "iopub.execute_input": "2023-05-13T08:11:26.188224Z",
     "iopub.status.busy": "2023-05-13T08:11:26.187870Z",
     "iopub.status.idle": "2023-05-13T08:11:26.195136Z",
     "shell.execute_reply": "2023-05-13T08:11:26.194485Z"
    },
    "papermill": {
     "duration": 0.016918,
     "end_time": "2023-05-13T08:11:26.196802",
     "exception": false,
     "start_time": "2023-05-13T08:11:26.179884",
     "status": "completed"
    },
    "tags": []
   },
   "outputs": [],
   "source": [
    "# import functions needed to make get_labels work\n",
    "from learntools.intro_to_programming.ex4q5 import excess_sugar, excess_saturated_fat, excess_trans_fat, excess_sodium, excess_calories\n",
    "\n",
    "def get_labels(food_type, serving_size, calories_per_serving, saturated_fat_g, trans_fat_g, sodium_mg, sugars_g):\n",
    "    # Print messages based on findings\n",
    "    if excess_sugar(sugars_g, calories_per_serving) == True:\n",
    "        print(\"EXCESO AZÚCARES / EXCESS SUGAR\")\n",
    "    if excess_saturated_fat(saturated_fat_g, calories_per_serving) == True:\n",
    "        print(\"EXCESO GRASAS SATURADAS / EXCESS SATURATED FAT\")\n",
    "    if excess_trans_fat(trans_fat_g, calories_per_serving) == True:\n",
    "        print(\"EXCESO GRASAS TRANS / EXCESS TRANS FAT\")\n",
    "    if excess_sodium(calories_per_serving, sodium_mg) == True:\n",
    "        print(\"EXCESO SODIO / EXCESS SODIUM\")\n",
    "    if excess_calories(food_type, calories_per_serving, serving_size) == True:\n",
    "        print(\"EXCESO CALORÍAS / EXCESS CALORIES\")"
   ]
  },
  {
   "cell_type": "markdown",
   "id": "95947afc",
   "metadata": {
    "papermill": {
     "duration": 0.006952,
     "end_time": "2023-05-13T08:11:26.211172",
     "exception": false,
     "start_time": "2023-05-13T08:11:26.204220",
     "status": "completed"
    },
    "tags": []
   },
   "source": [
    "The next code cell demonstrates how to use `get_labels()` to get the warning labels that the food item should contain.  We begin with [bologna](https://world.openfoodfacts.org/product/4099100179378/bologna).  Here is [an image](https://storage.googleapis.com/kaggle-media/learn/images/Cfcx72e) with all of the nutritional information.  Note that for this food,\n",
    "- `food_type = \"solid\"` (because bologna is a solid and not a liquid)\n",
    "- `serving_size = 32` (the serving size is 32 grams)\n",
    "- `calories_per_serving = 110` (there are 110 calories per serving)\n",
    "- `saturated_fat_g = 2.5` (there are 2.5 grams of saturated fat per serving)\n",
    "- `trans_fat_g = 0` (there are 0 grams of trans fat per serving)\n",
    "- `sodium_mg = 400` (there are 400 mg of sodium per serving)\n",
    "- `sugars_g = 1` (the nutrition facts say <1g, but we will round it up to 1 gram per serving to be safe)\n",
    "\n",
    "By supplying all of these values to the function, we can print the warning labels."
   ]
  },
  {
   "cell_type": "code",
   "execution_count": 11,
   "id": "acbfeadf",
   "metadata": {
    "execution": {
     "iopub.execute_input": "2023-05-13T08:11:26.226879Z",
     "iopub.status.busy": "2023-05-13T08:11:26.226172Z",
     "iopub.status.idle": "2023-05-13T08:11:26.231211Z",
     "shell.execute_reply": "2023-05-13T08:11:26.230375Z"
    },
    "papermill": {
     "duration": 0.01473,
     "end_time": "2023-05-13T08:11:26.233022",
     "exception": false,
     "start_time": "2023-05-13T08:11:26.218292",
     "status": "completed"
    },
    "tags": []
   },
   "outputs": [
    {
     "name": "stdout",
     "output_type": "stream",
     "text": [
      "EXCESO GRASAS SATURADAS / EXCESS SATURATED FAT\n",
      "EXCESO SODIO / EXCESS SODIUM\n",
      "EXCESO CALORÍAS / EXCESS CALORIES\n"
     ]
    }
   ],
   "source": [
    "# bologna https://world.openfoodfacts.org/product/4099100179378/bologna\n",
    "get_labels(\"solid\", 32, 110, 2.5, 0, 400, 1)"
   ]
  },
  {
   "cell_type": "markdown",
   "id": "c65af60c",
   "metadata": {
    "papermill": {
     "duration": 0.006648,
     "end_time": "2023-05-13T08:11:26.246752",
     "exception": false,
     "start_time": "2023-05-13T08:11:26.240104",
     "status": "completed"
    },
    "tags": []
   },
   "source": [
    "This bologna has three labels, printed in the output above.\n",
    "\n",
    "For the rest of this question, you will use the same `get_labels()` function to determine the labels for more foods.  This question is designed to help you get practice with feeling comfortable with code that other people have written, and where you don't have time to review every single line of code before interacting with it.  For instance, when you take the [Intro to Machine Learning course](http://www.kaggle.com/learn/intro-to-machine-learning), you'll work with a Python package called \"scikit-learn\", which is a large collection of code that you'll learn how to run without reviewing all of the code in detail (as it would take too long, and you can trust that it was implemented correctly).\n",
    "\n",
    "In general, as you continue coding in Python, you will often be running code that other people have written.  This is common practice for advanced programmers.\n",
    "\n",
    "In the next code cell, fill in the values for [this cereal](https://world.openfoodfacts.org/product/7501008023624/zucaritas-kellogg-s).  Here is [an image](https://storage.googleapis.com/kaggle-media/learn/images/MUxzHVU) with all of the nutritional information.\n",
    "\n",
    "**Note**: running the line of code below as-is will return an error.  You have to fill in the nutritional values first."
   ]
  },
  {
   "cell_type": "code",
   "execution_count": 12,
   "id": "e41bf804",
   "metadata": {
    "execution": {
     "iopub.execute_input": "2023-05-13T08:11:26.263527Z",
     "iopub.status.busy": "2023-05-13T08:11:26.262430Z",
     "iopub.status.idle": "2023-05-13T08:11:26.268499Z",
     "shell.execute_reply": "2023-05-13T08:11:26.267008Z"
    },
    "papermill": {
     "duration": 0.016455,
     "end_time": "2023-05-13T08:11:26.270636",
     "exception": false,
     "start_time": "2023-05-13T08:11:26.254181",
     "status": "completed"
    },
    "tags": []
   },
   "outputs": [
    {
     "name": "stdout",
     "output_type": "stream",
     "text": [
      "EXCESO AZÚCARES / EXCESS SUGAR\n",
      "EXCESO SODIO / EXCESS SODIUM\n",
      "EXCESO CALORÍAS / EXCESS CALORIES\n"
     ]
    }
   ],
   "source": [
    "# zucaritas cereal https://world.openfoodfacts.org/product/7501008023624/zucaritas-kellogg-s\n",
    "# TODO: Uncomment the line below, fill in the values, and run the function\n",
    "get_labels(\"solid\", 18, 150, 0, 0, 150, 16)"
   ]
  },
  {
   "cell_type": "markdown",
   "id": "e2f2a8f9",
   "metadata": {
    "papermill": {
     "duration": 0.006487,
     "end_time": "2023-05-13T08:11:26.284201",
     "exception": false,
     "start_time": "2023-05-13T08:11:26.277714",
     "status": "completed"
    },
    "tags": []
   },
   "source": [
    "Next, try [these mozzarella sticks](https://world-es.openfoodfacts.org/producto/0062325540104/mozzarella-cheese-sticks).  Here is [an image](https://storage.googleapis.com/kaggle-media/learn/images/rcdB7VH) with all of the nutritional information."
   ]
  },
  {
   "cell_type": "code",
   "execution_count": 13,
   "id": "4220829e",
   "metadata": {
    "execution": {
     "iopub.execute_input": "2023-05-13T08:11:26.300184Z",
     "iopub.status.busy": "2023-05-13T08:11:26.299802Z",
     "iopub.status.idle": "2023-05-13T08:11:26.304945Z",
     "shell.execute_reply": "2023-05-13T08:11:26.304015Z"
    },
    "papermill": {
     "duration": 0.015721,
     "end_time": "2023-05-13T08:11:26.306966",
     "exception": false,
     "start_time": "2023-05-13T08:11:26.291245",
     "status": "completed"
    },
    "tags": []
   },
   "outputs": [
    {
     "name": "stdout",
     "output_type": "stream",
     "text": [
      "EXCESO GRASAS SATURADAS / EXCESS SATURATED FAT\n",
      "EXCESO GRASAS TRANS / EXCESS TRANS FAT\n",
      "EXCESO SODIO / EXCESS SODIUM\n",
      "EXCESO CALORÍAS / EXCESS CALORIES\n"
     ]
    }
   ],
   "source": [
    "# mozzarella sticks https://world-es.openfoodfacts.org/producto/0062325540104/mozzarella-cheese-sticks\n",
    "# TODO: Uncomment the line below, fill in the values, and run the function\n",
    "get_labels(\"solid\", 21, 68, 3, 0.2, 208, 0)"
   ]
  },
  {
   "cell_type": "markdown",
   "id": "a79b8bbe",
   "metadata": {
    "papermill": {
     "duration": 0.006359,
     "end_time": "2023-05-13T08:11:26.320274",
     "exception": false,
     "start_time": "2023-05-13T08:11:26.313915",
     "status": "completed"
    },
    "tags": []
   },
   "source": [
    "Feel free to skip to the end of the notebook now and run `q5.check()` to complete the exercise.  If you want to try more foods, \n",
    "- try [these cookies](https://world.openfoodfacts.org/product/0069700118545/biscuits-au-sucre-pretraches).  Here is [an image](https://storage.googleapis.com/kaggle-media/learn/images/2Bc271o) with all of the nutritional information.\n",
    "- try [this soda](https://world-es.openfoodfacts.org/producto/0078000113464/orange-soda-sunkist).  Here is [an image](https://storage.googleapis.com/kaggle-media/learn/images/RsBYa8E) with all of the nutritional information.\n",
    "\n",
    "Use the two code cells below for this."
   ]
  },
  {
   "cell_type": "code",
   "execution_count": 14,
   "id": "c82f76d5",
   "metadata": {
    "execution": {
     "iopub.execute_input": "2023-05-13T08:11:26.335360Z",
     "iopub.status.busy": "2023-05-13T08:11:26.335018Z",
     "iopub.status.idle": "2023-05-13T08:11:26.339325Z",
     "shell.execute_reply": "2023-05-13T08:11:26.338474Z"
    },
    "papermill": {
     "duration": 0.014329,
     "end_time": "2023-05-13T08:11:26.340995",
     "exception": false,
     "start_time": "2023-05-13T08:11:26.326666",
     "status": "completed"
    },
    "tags": []
   },
   "outputs": [
    {
     "name": "stdout",
     "output_type": "stream",
     "text": [
      "EXCESO AZÚCARES / EXCESS SUGAR\n",
      "EXCESO GRASAS SATURADAS / EXCESS SATURATED FAT\n",
      "EXCESO CALORÍAS / EXCESS CALORIES\n"
     ]
    }
   ],
   "source": [
    "# pillsbury cookies https://world.openfoodfacts.org/product/0069700118545/biscuits-au-sucre-pretraches\n",
    "# TODO: Uncomment the line below, fill in the values, and run the function\n",
    "get_labels(\"solid\", 30, 120, 1.5, 0.1, 110, 9)"
   ]
  },
  {
   "cell_type": "code",
   "execution_count": 15,
   "id": "72e03cfb",
   "metadata": {
    "execution": {
     "iopub.execute_input": "2023-05-13T08:11:26.355870Z",
     "iopub.status.busy": "2023-05-13T08:11:26.355511Z",
     "iopub.status.idle": "2023-05-13T08:11:26.360580Z",
     "shell.execute_reply": "2023-05-13T08:11:26.359456Z"
    },
    "papermill": {
     "duration": 0.014421,
     "end_time": "2023-05-13T08:11:26.362325",
     "exception": false,
     "start_time": "2023-05-13T08:11:26.347904",
     "status": "completed"
    },
    "tags": []
   },
   "outputs": [
    {
     "name": "stdout",
     "output_type": "stream",
     "text": [
      "EXCESO AZÚCARES / EXCESS SUGAR\n"
     ]
    }
   ],
   "source": [
    "# sunkist orange soda https://world-es.openfoodfacts.org/producto/0078000113464/orange-soda-sunkist\n",
    "# TODO: Uncomment the line below, fill in the values, and run the function\n",
    "get_labels(\"liquid\", 355, 160, 0, 0, 65, 44)"
   ]
  },
  {
   "cell_type": "markdown",
   "id": "d3bbf1b2",
   "metadata": {
    "papermill": {
     "duration": 0.007029,
     "end_time": "2023-05-13T08:11:26.376235",
     "exception": false,
     "start_time": "2023-05-13T08:11:26.369206",
     "status": "completed"
    },
    "tags": []
   },
   "source": [
    "Once you have finished investigating the food items in this question, run the final code cell to get credit for completing this problem."
   ]
  },
  {
   "cell_type": "code",
   "execution_count": 16,
   "id": "67dbcb46",
   "metadata": {
    "execution": {
     "iopub.execute_input": "2023-05-13T08:11:26.392333Z",
     "iopub.status.busy": "2023-05-13T08:11:26.392025Z",
     "iopub.status.idle": "2023-05-13T08:11:26.398924Z",
     "shell.execute_reply": "2023-05-13T08:11:26.397708Z"
    },
    "papermill": {
     "duration": 0.016969,
     "end_time": "2023-05-13T08:11:26.400527",
     "exception": false,
     "start_time": "2023-05-13T08:11:26.383558",
     "status": "completed"
    },
    "tags": []
   },
   "outputs": [
    {
     "data": {
      "application/javascript": [
       "parent.postMessage({\"jupyterEvent\": \"custom.exercise_interaction\", \"data\": {\"outcomeType\": 1, \"valueTowardsCompletion\": 0.2, \"interactionType\": 1, \"questionType\": 2, \"questionId\": \"5_GetLabels\", \"learnToolsVersion\": \"0.3.4\", \"failureMessage\": \"\", \"exceptionClass\": \"\", \"trace\": \"\"}}, \"*\")"
      ],
      "text/plain": [
       "<IPython.core.display.Javascript object>"
      ]
     },
     "metadata": {},
     "output_type": "display_data"
    },
    {
     "data": {
      "text/markdown": [
       "<span style=\"color:#33cc33\">Once you have determined the labels for all of the food items, you're ready to move on to the next lesson!</span>"
      ],
      "text/plain": [
       "Once you have determined the labels for all of the food items, you're ready to move on to the next lesson!"
      ]
     },
     "metadata": {},
     "output_type": "display_data"
    }
   ],
   "source": [
    "# Get credit for completing the problem\n",
    "q5.check()"
   ]
  },
  {
   "cell_type": "markdown",
   "id": "6118908f",
   "metadata": {
    "papermill": {
     "duration": 0.007054,
     "end_time": "2023-05-13T08:11:26.415180",
     "exception": false,
     "start_time": "2023-05-13T08:11:26.408126",
     "status": "completed"
    },
    "tags": []
   },
   "source": [
    "# Keep going\n",
    "\n",
    "Continue to the next lesson to **[learn about Python lists](https://www.kaggle.com/alexisbcook/intro-to-lists)**."
   ]
  },
  {
   "cell_type": "markdown",
   "id": "d691a789",
   "metadata": {
    "papermill": {
     "duration": 0.007067,
     "end_time": "2023-05-13T08:11:26.429599",
     "exception": false,
     "start_time": "2023-05-13T08:11:26.422532",
     "status": "completed"
    },
    "tags": []
   },
   "source": [
    "---\n",
    "\n",
    "\n",
    "\n",
    "\n",
    "*Have questions or comments? Visit the [course discussion forum](https://www.kaggle.com/learn/intro-to-programming/discussion) to chat with other learners.*"
   ]
  }
 ],
 "metadata": {
  "kernelspec": {
   "display_name": "Python 3",
   "language": "python",
   "name": "python3"
  },
  "language_info": {
   "codemirror_mode": {
    "name": "ipython",
    "version": 3
   },
   "file_extension": ".py",
   "mimetype": "text/x-python",
   "name": "python",
   "nbconvert_exporter": "python",
   "pygments_lexer": "ipython3",
   "version": "3.10.10"
  },
  "papermill": {
   "default_parameters": {},
   "duration": 10.667978,
   "end_time": "2023-05-13T08:11:27.356969",
   "environment_variables": {},
   "exception": null,
   "input_path": "__notebook__.ipynb",
   "output_path": "__notebook__.ipynb",
   "parameters": {},
   "start_time": "2023-05-13T08:11:16.688991",
   "version": "2.4.0"
  }
 },
 "nbformat": 4,
 "nbformat_minor": 5
}
