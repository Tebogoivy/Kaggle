{
 "cells": [
  {
   "cell_type": "markdown",
   "id": "cd110074",
   "metadata": {
    "papermill": {
     "duration": 0.006426,
     "end_time": "2023-12-18T05:43:28.053457",
     "exception": false,
     "start_time": "2023-12-18T05:43:28.047031",
     "status": "completed"
    },
    "tags": []
   },
   "source": [
    "**This notebook is an exercise in the [Pandas](https://www.kaggle.com/learn/pandas) course.  You can reference the tutorial at [this link](https://www.kaggle.com/residentmario/summary-functions-and-maps).**\n",
    "\n",
    "---\n"
   ]
  },
  {
   "cell_type": "markdown",
   "id": "4b2c186e",
   "metadata": {
    "papermill": {
     "duration": 0.006082,
     "end_time": "2023-12-18T05:43:28.065500",
     "exception": false,
     "start_time": "2023-12-18T05:43:28.059418",
     "status": "completed"
    },
    "tags": []
   },
   "source": [
    "# Introduction\n",
    "\n",
    "Now you are ready to get a deeper understanding of your data.\n",
    "\n",
    "Run the following cell to load your data and some utility functions (including code to check your answers)."
   ]
  },
  {
   "cell_type": "code",
   "execution_count": 1,
   "id": "7f929e5c",
   "metadata": {
    "execution": {
     "iopub.execute_input": "2023-12-18T05:43:28.079275Z",
     "iopub.status.busy": "2023-12-18T05:43:28.078652Z",
     "iopub.status.idle": "2023-12-18T05:43:34.930833Z",
     "shell.execute_reply": "2023-12-18T05:43:34.929585Z"
    },
    "papermill": {
     "duration": 6.862036,
     "end_time": "2023-12-18T05:43:34.933505",
     "exception": false,
     "start_time": "2023-12-18T05:43:28.071469",
     "status": "completed"
    },
    "tags": []
   },
   "outputs": [
    {
     "name": "stdout",
     "output_type": "stream",
     "text": [
      "Setup complete.\n"
     ]
    },
    {
     "data": {
      "text/html": [
       "<div>\n",
       "<style scoped>\n",
       "    .dataframe tbody tr th:only-of-type {\n",
       "        vertical-align: middle;\n",
       "    }\n",
       "\n",
       "    .dataframe tbody tr th {\n",
       "        vertical-align: top;\n",
       "    }\n",
       "\n",
       "    .dataframe thead th {\n",
       "        text-align: right;\n",
       "    }\n",
       "</style>\n",
       "<table border=\"1\" class=\"dataframe\">\n",
       "  <thead>\n",
       "    <tr style=\"text-align: right;\">\n",
       "      <th></th>\n",
       "      <th>country</th>\n",
       "      <th>description</th>\n",
       "      <th>designation</th>\n",
       "      <th>points</th>\n",
       "      <th>price</th>\n",
       "      <th>province</th>\n",
       "      <th>region_1</th>\n",
       "      <th>region_2</th>\n",
       "      <th>taster_name</th>\n",
       "      <th>taster_twitter_handle</th>\n",
       "      <th>title</th>\n",
       "      <th>variety</th>\n",
       "      <th>winery</th>\n",
       "    </tr>\n",
       "  </thead>\n",
       "  <tbody>\n",
       "    <tr>\n",
       "      <th>0</th>\n",
       "      <td>Italy</td>\n",
       "      <td>Aromas include tropical fruit, broom, brimston...</td>\n",
       "      <td>Vulkà Bianco</td>\n",
       "      <td>87</td>\n",
       "      <td>NaN</td>\n",
       "      <td>Sicily &amp; Sardinia</td>\n",
       "      <td>Etna</td>\n",
       "      <td>NaN</td>\n",
       "      <td>Kerin O’Keefe</td>\n",
       "      <td>@kerinokeefe</td>\n",
       "      <td>Nicosia 2013 Vulkà Bianco  (Etna)</td>\n",
       "      <td>White Blend</td>\n",
       "      <td>Nicosia</td>\n",
       "    </tr>\n",
       "    <tr>\n",
       "      <th>1</th>\n",
       "      <td>Portugal</td>\n",
       "      <td>This is ripe and fruity, a wine that is smooth...</td>\n",
       "      <td>Avidagos</td>\n",
       "      <td>87</td>\n",
       "      <td>15.0</td>\n",
       "      <td>Douro</td>\n",
       "      <td>NaN</td>\n",
       "      <td>NaN</td>\n",
       "      <td>Roger Voss</td>\n",
       "      <td>@vossroger</td>\n",
       "      <td>Quinta dos Avidagos 2011 Avidagos Red (Douro)</td>\n",
       "      <td>Portuguese Red</td>\n",
       "      <td>Quinta dos Avidagos</td>\n",
       "    </tr>\n",
       "    <tr>\n",
       "      <th>2</th>\n",
       "      <td>US</td>\n",
       "      <td>Tart and snappy, the flavors of lime flesh and...</td>\n",
       "      <td>NaN</td>\n",
       "      <td>87</td>\n",
       "      <td>14.0</td>\n",
       "      <td>Oregon</td>\n",
       "      <td>Willamette Valley</td>\n",
       "      <td>Willamette Valley</td>\n",
       "      <td>Paul Gregutt</td>\n",
       "      <td>@paulgwine</td>\n",
       "      <td>Rainstorm 2013 Pinot Gris (Willamette Valley)</td>\n",
       "      <td>Pinot Gris</td>\n",
       "      <td>Rainstorm</td>\n",
       "    </tr>\n",
       "    <tr>\n",
       "      <th>3</th>\n",
       "      <td>US</td>\n",
       "      <td>Pineapple rind, lemon pith and orange blossom ...</td>\n",
       "      <td>Reserve Late Harvest</td>\n",
       "      <td>87</td>\n",
       "      <td>13.0</td>\n",
       "      <td>Michigan</td>\n",
       "      <td>Lake Michigan Shore</td>\n",
       "      <td>NaN</td>\n",
       "      <td>Alexander Peartree</td>\n",
       "      <td>NaN</td>\n",
       "      <td>St. Julian 2013 Reserve Late Harvest Riesling ...</td>\n",
       "      <td>Riesling</td>\n",
       "      <td>St. Julian</td>\n",
       "    </tr>\n",
       "    <tr>\n",
       "      <th>4</th>\n",
       "      <td>US</td>\n",
       "      <td>Much like the regular bottling from 2012, this...</td>\n",
       "      <td>Vintner's Reserve Wild Child Block</td>\n",
       "      <td>87</td>\n",
       "      <td>65.0</td>\n",
       "      <td>Oregon</td>\n",
       "      <td>Willamette Valley</td>\n",
       "      <td>Willamette Valley</td>\n",
       "      <td>Paul Gregutt</td>\n",
       "      <td>@paulgwine</td>\n",
       "      <td>Sweet Cheeks 2012 Vintner's Reserve Wild Child...</td>\n",
       "      <td>Pinot Noir</td>\n",
       "      <td>Sweet Cheeks</td>\n",
       "    </tr>\n",
       "  </tbody>\n",
       "</table>\n",
       "</div>"
      ],
      "text/plain": [
       "    country                                        description  \\\n",
       "0     Italy  Aromas include tropical fruit, broom, brimston...   \n",
       "1  Portugal  This is ripe and fruity, a wine that is smooth...   \n",
       "2        US  Tart and snappy, the flavors of lime flesh and...   \n",
       "3        US  Pineapple rind, lemon pith and orange blossom ...   \n",
       "4        US  Much like the regular bottling from 2012, this...   \n",
       "\n",
       "                          designation  points  price           province  \\\n",
       "0                        Vulkà Bianco      87    NaN  Sicily & Sardinia   \n",
       "1                            Avidagos      87   15.0              Douro   \n",
       "2                                 NaN      87   14.0             Oregon   \n",
       "3                Reserve Late Harvest      87   13.0           Michigan   \n",
       "4  Vintner's Reserve Wild Child Block      87   65.0             Oregon   \n",
       "\n",
       "              region_1           region_2         taster_name  \\\n",
       "0                 Etna                NaN       Kerin O’Keefe   \n",
       "1                  NaN                NaN          Roger Voss   \n",
       "2    Willamette Valley  Willamette Valley        Paul Gregutt   \n",
       "3  Lake Michigan Shore                NaN  Alexander Peartree   \n",
       "4    Willamette Valley  Willamette Valley        Paul Gregutt   \n",
       "\n",
       "  taster_twitter_handle                                              title  \\\n",
       "0          @kerinokeefe                  Nicosia 2013 Vulkà Bianco  (Etna)   \n",
       "1            @vossroger      Quinta dos Avidagos 2011 Avidagos Red (Douro)   \n",
       "2           @paulgwine       Rainstorm 2013 Pinot Gris (Willamette Valley)   \n",
       "3                   NaN  St. Julian 2013 Reserve Late Harvest Riesling ...   \n",
       "4           @paulgwine   Sweet Cheeks 2012 Vintner's Reserve Wild Child...   \n",
       "\n",
       "          variety               winery  \n",
       "0     White Blend              Nicosia  \n",
       "1  Portuguese Red  Quinta dos Avidagos  \n",
       "2      Pinot Gris            Rainstorm  \n",
       "3        Riesling           St. Julian  \n",
       "4      Pinot Noir         Sweet Cheeks  "
      ]
     },
     "execution_count": 1,
     "metadata": {},
     "output_type": "execute_result"
    }
   ],
   "source": [
    "import pandas as pd\n",
    "pd.set_option(\"display.max_rows\", 5)\n",
    "reviews = pd.read_csv(\"../input/wine-reviews/winemag-data-130k-v2.csv\", index_col=0)\n",
    "\n",
    "from learntools.core import binder; binder.bind(globals())\n",
    "from learntools.pandas.summary_functions_and_maps import *\n",
    "print(\"Setup complete.\")\n",
    "\n",
    "reviews.head()"
   ]
  },
  {
   "cell_type": "markdown",
   "id": "003d0c0e",
   "metadata": {
    "papermill": {
     "duration": 0.005953,
     "end_time": "2023-12-18T05:43:34.945901",
     "exception": false,
     "start_time": "2023-12-18T05:43:34.939948",
     "status": "completed"
    },
    "tags": []
   },
   "source": [
    "# Exercises"
   ]
  },
  {
   "cell_type": "markdown",
   "id": "42282a41",
   "metadata": {
    "papermill": {
     "duration": 0.00642,
     "end_time": "2023-12-18T05:43:34.958468",
     "exception": false,
     "start_time": "2023-12-18T05:43:34.952048",
     "status": "completed"
    },
    "tags": []
   },
   "source": [
    "## 1.\n",
    "\n",
    "What is the median of the `points` column in the `reviews` DataFrame?"
   ]
  },
  {
   "cell_type": "code",
   "execution_count": 2,
   "id": "a38e6ae8",
   "metadata": {
    "execution": {
     "iopub.execute_input": "2023-12-18T05:43:34.973545Z",
     "iopub.status.busy": "2023-12-18T05:43:34.972305Z",
     "iopub.status.idle": "2023-12-18T05:43:34.983731Z",
     "shell.execute_reply": "2023-12-18T05:43:34.982742Z"
    },
    "papermill": {
     "duration": 0.021247,
     "end_time": "2023-12-18T05:43:34.986023",
     "exception": false,
     "start_time": "2023-12-18T05:43:34.964776",
     "status": "completed"
    },
    "tags": []
   },
   "outputs": [
    {
     "data": {
      "application/javascript": [
       "parent.postMessage({\"jupyterEvent\": \"custom.exercise_interaction\", \"data\": {\"outcomeType\": 1, \"valueTowardsCompletion\": 0.14285714285714285, \"interactionType\": 1, \"questionType\": 1, \"questionId\": \"1_MedianPoints\", \"learnToolsVersion\": \"0.3.4\", \"failureMessage\": \"\", \"exceptionClass\": \"\", \"trace\": \"\"}}, \"*\")"
      ],
      "text/plain": [
       "<IPython.core.display.Javascript object>"
      ]
     },
     "metadata": {},
     "output_type": "display_data"
    },
    {
     "data": {
      "text/markdown": [
       "<span style=\"color:#33cc33\">Correct</span>"
      ],
      "text/plain": [
       "Correct"
      ]
     },
     "metadata": {},
     "output_type": "display_data"
    }
   ],
   "source": [
    "median_points = reviews.points.median()\n",
    "\n",
    "# Check your answer\n",
    "q1.check()"
   ]
  },
  {
   "cell_type": "code",
   "execution_count": 3,
   "id": "072d292c",
   "metadata": {
    "execution": {
     "iopub.execute_input": "2023-12-18T05:43:35.000955Z",
     "iopub.status.busy": "2023-12-18T05:43:35.000592Z",
     "iopub.status.idle": "2023-12-18T05:43:35.005186Z",
     "shell.execute_reply": "2023-12-18T05:43:35.003959Z"
    },
    "papermill": {
     "duration": 0.014811,
     "end_time": "2023-12-18T05:43:35.007451",
     "exception": false,
     "start_time": "2023-12-18T05:43:34.992640",
     "status": "completed"
    },
    "tags": []
   },
   "outputs": [],
   "source": [
    "#q1.hint()\n",
    "#q1.solution()"
   ]
  },
  {
   "cell_type": "markdown",
   "id": "7a7fc507",
   "metadata": {
    "papermill": {
     "duration": 0.006798,
     "end_time": "2023-12-18T05:43:35.020864",
     "exception": false,
     "start_time": "2023-12-18T05:43:35.014066",
     "status": "completed"
    },
    "tags": []
   },
   "source": [
    "## 2. \n",
    "What countries are represented in the dataset? (Your answer should not include any duplicates.)"
   ]
  },
  {
   "cell_type": "code",
   "execution_count": 4,
   "id": "088df85d",
   "metadata": {
    "execution": {
     "iopub.execute_input": "2023-12-18T05:43:35.035821Z",
     "iopub.status.busy": "2023-12-18T05:43:35.035433Z",
     "iopub.status.idle": "2023-12-18T05:43:35.051548Z",
     "shell.execute_reply": "2023-12-18T05:43:35.050357Z"
    },
    "papermill": {
     "duration": 0.02615,
     "end_time": "2023-12-18T05:43:35.053716",
     "exception": false,
     "start_time": "2023-12-18T05:43:35.027566",
     "status": "completed"
    },
    "tags": []
   },
   "outputs": [
    {
     "data": {
      "application/javascript": [
       "parent.postMessage({\"jupyterEvent\": \"custom.exercise_interaction\", \"data\": {\"outcomeType\": 1, \"valueTowardsCompletion\": 0.14285714285714285, \"interactionType\": 1, \"questionType\": 2, \"questionId\": \"2_UniqueCountries\", \"learnToolsVersion\": \"0.3.4\", \"failureMessage\": \"\", \"exceptionClass\": \"\", \"trace\": \"\"}}, \"*\")"
      ],
      "text/plain": [
       "<IPython.core.display.Javascript object>"
      ]
     },
     "metadata": {},
     "output_type": "display_data"
    },
    {
     "data": {
      "text/markdown": [
       "<span style=\"color:#33cc33\">Correct</span>"
      ],
      "text/plain": [
       "Correct"
      ]
     },
     "metadata": {},
     "output_type": "display_data"
    }
   ],
   "source": [
    "countries = reviews.country.unique()\n",
    "\n",
    "# Check your answer\n",
    "q2.check()"
   ]
  },
  {
   "cell_type": "code",
   "execution_count": 5,
   "id": "59c4f794",
   "metadata": {
    "execution": {
     "iopub.execute_input": "2023-12-18T05:43:35.069049Z",
     "iopub.status.busy": "2023-12-18T05:43:35.068686Z",
     "iopub.status.idle": "2023-12-18T05:43:35.073540Z",
     "shell.execute_reply": "2023-12-18T05:43:35.072437Z"
    },
    "papermill": {
     "duration": 0.015103,
     "end_time": "2023-12-18T05:43:35.075733",
     "exception": false,
     "start_time": "2023-12-18T05:43:35.060630",
     "status": "completed"
    },
    "tags": []
   },
   "outputs": [],
   "source": [
    "#q2.hint()\n",
    "#q2.solution()"
   ]
  },
  {
   "cell_type": "markdown",
   "id": "5182956c",
   "metadata": {
    "papermill": {
     "duration": 0.006824,
     "end_time": "2023-12-18T05:43:35.090091",
     "exception": false,
     "start_time": "2023-12-18T05:43:35.083267",
     "status": "completed"
    },
    "tags": []
   },
   "source": [
    "## 3.\n",
    "How often does each country appear in the dataset? Create a Series `reviews_per_country` mapping countries to the count of reviews of wines from that country."
   ]
  },
  {
   "cell_type": "code",
   "execution_count": 6,
   "id": "6568a605",
   "metadata": {
    "execution": {
     "iopub.execute_input": "2023-12-18T05:43:35.105624Z",
     "iopub.status.busy": "2023-12-18T05:43:35.104946Z",
     "iopub.status.idle": "2023-12-18T05:43:35.124458Z",
     "shell.execute_reply": "2023-12-18T05:43:35.123366Z"
    },
    "papermill": {
     "duration": 0.029616,
     "end_time": "2023-12-18T05:43:35.126516",
     "exception": false,
     "start_time": "2023-12-18T05:43:35.096900",
     "status": "completed"
    },
    "tags": []
   },
   "outputs": [
    {
     "data": {
      "application/javascript": [
       "parent.postMessage({\"jupyterEvent\": \"custom.exercise_interaction\", \"data\": {\"outcomeType\": 1, \"valueTowardsCompletion\": 0.14285714285714285, \"interactionType\": 1, \"questionType\": 1, \"questionId\": \"3_ReviewsPerCountry\", \"learnToolsVersion\": \"0.3.4\", \"failureMessage\": \"\", \"exceptionClass\": \"\", \"trace\": \"\"}}, \"*\")"
      ],
      "text/plain": [
       "<IPython.core.display.Javascript object>"
      ]
     },
     "metadata": {},
     "output_type": "display_data"
    },
    {
     "data": {
      "text/markdown": [
       "<span style=\"color:#33cc33\">Correct</span>"
      ],
      "text/plain": [
       "Correct"
      ]
     },
     "metadata": {},
     "output_type": "display_data"
    }
   ],
   "source": [
    "reviews_per_country = reviews.country.value_counts()\n",
    "\n",
    "# Check your answer\n",
    "q3.check()"
   ]
  },
  {
   "cell_type": "code",
   "execution_count": 7,
   "id": "a44333f0",
   "metadata": {
    "execution": {
     "iopub.execute_input": "2023-12-18T05:43:35.143301Z",
     "iopub.status.busy": "2023-12-18T05:43:35.142265Z",
     "iopub.status.idle": "2023-12-18T05:43:35.146803Z",
     "shell.execute_reply": "2023-12-18T05:43:35.145686Z"
    },
    "papermill": {
     "duration": 0.014978,
     "end_time": "2023-12-18T05:43:35.148776",
     "exception": false,
     "start_time": "2023-12-18T05:43:35.133798",
     "status": "completed"
    },
    "tags": []
   },
   "outputs": [],
   "source": [
    "#q3.hint()\n",
    "#q3.solution()"
   ]
  },
  {
   "cell_type": "markdown",
   "id": "9ec8b829",
   "metadata": {
    "papermill": {
     "duration": 0.007263,
     "end_time": "2023-12-18T05:43:35.163156",
     "exception": false,
     "start_time": "2023-12-18T05:43:35.155893",
     "status": "completed"
    },
    "tags": []
   },
   "source": [
    "## 4.\n",
    "Create variable `centered_price` containing a version of the `price` column with the mean price subtracted.\n",
    "\n",
    "(Note: this 'centering' transformation is a common preprocessing step before applying various machine learning algorithms.) "
   ]
  },
  {
   "cell_type": "code",
   "execution_count": 8,
   "id": "b7740f26",
   "metadata": {
    "execution": {
     "iopub.execute_input": "2023-12-18T05:43:35.179365Z",
     "iopub.status.busy": "2023-12-18T05:43:35.179001Z",
     "iopub.status.idle": "2023-12-18T05:43:35.189909Z",
     "shell.execute_reply": "2023-12-18T05:43:35.188742Z"
    },
    "papermill": {
     "duration": 0.021662,
     "end_time": "2023-12-18T05:43:35.192040",
     "exception": false,
     "start_time": "2023-12-18T05:43:35.170378",
     "status": "completed"
    },
    "tags": []
   },
   "outputs": [
    {
     "data": {
      "application/javascript": [
       "parent.postMessage({\"jupyterEvent\": \"custom.exercise_interaction\", \"data\": {\"outcomeType\": 1, \"valueTowardsCompletion\": 0.14285714285714285, \"interactionType\": 1, \"questionType\": 1, \"questionId\": \"4_CenteredPrice\", \"learnToolsVersion\": \"0.3.4\", \"failureMessage\": \"\", \"exceptionClass\": \"\", \"trace\": \"\"}}, \"*\")"
      ],
      "text/plain": [
       "<IPython.core.display.Javascript object>"
      ]
     },
     "metadata": {},
     "output_type": "display_data"
    },
    {
     "data": {
      "text/markdown": [
       "<span style=\"color:#33cc33\">Correct</span>"
      ],
      "text/plain": [
       "Correct"
      ]
     },
     "metadata": {},
     "output_type": "display_data"
    }
   ],
   "source": [
    "centered_price = reviews.price - reviews.price.mean()\n",
    "\n",
    "# Check your answer\n",
    "q4.check()"
   ]
  },
  {
   "cell_type": "code",
   "execution_count": 9,
   "id": "6300f13f",
   "metadata": {
    "execution": {
     "iopub.execute_input": "2023-12-18T05:43:35.208350Z",
     "iopub.status.busy": "2023-12-18T05:43:35.207984Z",
     "iopub.status.idle": "2023-12-18T05:43:35.212632Z",
     "shell.execute_reply": "2023-12-18T05:43:35.211431Z"
    },
    "papermill": {
     "duration": 0.015667,
     "end_time": "2023-12-18T05:43:35.215035",
     "exception": false,
     "start_time": "2023-12-18T05:43:35.199368",
     "status": "completed"
    },
    "tags": []
   },
   "outputs": [],
   "source": [
    "#q4.hint()\n",
    "# q4.solution()"
   ]
  },
  {
   "cell_type": "markdown",
   "id": "94a7e632",
   "metadata": {
    "papermill": {
     "duration": 0.007069,
     "end_time": "2023-12-18T05:43:35.229814",
     "exception": false,
     "start_time": "2023-12-18T05:43:35.222745",
     "status": "completed"
    },
    "tags": []
   },
   "source": [
    "## 5.\n",
    "I'm an economical wine buyer. Which wine is the \"best bargain\"? Create a variable `bargain_wine` with the title of the wine with the highest points-to-price ratio in the dataset."
   ]
  },
  {
   "cell_type": "code",
   "execution_count": 10,
   "id": "1909ccd5",
   "metadata": {
    "execution": {
     "iopub.execute_input": "2023-12-18T05:43:35.246282Z",
     "iopub.status.busy": "2023-12-18T05:43:35.245916Z",
     "iopub.status.idle": "2023-12-18T05:43:35.260413Z",
     "shell.execute_reply": "2023-12-18T05:43:35.259608Z"
    },
    "papermill": {
     "duration": 0.025101,
     "end_time": "2023-12-18T05:43:35.262247",
     "exception": false,
     "start_time": "2023-12-18T05:43:35.237146",
     "status": "completed"
    },
    "tags": []
   },
   "outputs": [
    {
     "data": {
      "application/javascript": [
       "parent.postMessage({\"jupyterEvent\": \"custom.exercise_interaction\", \"data\": {\"outcomeType\": 1, \"valueTowardsCompletion\": 0.14285714285714285, \"interactionType\": 1, \"questionType\": 2, \"questionId\": \"5_BargainWine\", \"learnToolsVersion\": \"0.3.4\", \"failureMessage\": \"\", \"exceptionClass\": \"\", \"trace\": \"\"}}, \"*\")"
      ],
      "text/plain": [
       "<IPython.core.display.Javascript object>"
      ]
     },
     "metadata": {},
     "output_type": "display_data"
    },
    {
     "data": {
      "text/markdown": [
       "<span style=\"color:#33cc33\">Correct</span>"
      ],
      "text/plain": [
       "Correct"
      ]
     },
     "metadata": {},
     "output_type": "display_data"
    }
   ],
   "source": [
    "bargain_idx = (reviews.points / reviews.price).idxmax()\n",
    "bargain_wine = reviews.loc[bargain_idx, 'title']\n",
    "\n",
    "# Check your answer\n",
    "q5.check()"
   ]
  },
  {
   "cell_type": "code",
   "execution_count": 11,
   "id": "e199317c",
   "metadata": {
    "execution": {
     "iopub.execute_input": "2023-12-18T05:43:35.279885Z",
     "iopub.status.busy": "2023-12-18T05:43:35.279087Z",
     "iopub.status.idle": "2023-12-18T05:43:35.283318Z",
     "shell.execute_reply": "2023-12-18T05:43:35.282548Z"
    },
    "papermill": {
     "duration": 0.01533,
     "end_time": "2023-12-18T05:43:35.285241",
     "exception": false,
     "start_time": "2023-12-18T05:43:35.269911",
     "status": "completed"
    },
    "tags": []
   },
   "outputs": [],
   "source": [
    "#q5.hint()\n",
    "# q5.solution()"
   ]
  },
  {
   "cell_type": "markdown",
   "id": "43df866f",
   "metadata": {
    "papermill": {
     "duration": 0.008131,
     "end_time": "2023-12-18T05:43:35.301073",
     "exception": false,
     "start_time": "2023-12-18T05:43:35.292942",
     "status": "completed"
    },
    "tags": []
   },
   "source": [
    "## 6.\n",
    "There are only so many words you can use when describing a bottle of wine. Is a wine more likely to be \"tropical\" or \"fruity\"? Create a Series `descriptor_counts` counting how many times each of these two words appears in the `description` column in the dataset. (For simplicity, let's ignore the capitalized versions of these words.)"
   ]
  },
  {
   "cell_type": "code",
   "execution_count": 12,
   "id": "9bc9e2ad",
   "metadata": {
    "execution": {
     "iopub.execute_input": "2023-12-18T05:43:35.317977Z",
     "iopub.status.busy": "2023-12-18T05:43:35.317580Z",
     "iopub.status.idle": "2023-12-18T05:43:35.450454Z",
     "shell.execute_reply": "2023-12-18T05:43:35.449677Z"
    },
    "papermill": {
     "duration": 0.144036,
     "end_time": "2023-12-18T05:43:35.452719",
     "exception": false,
     "start_time": "2023-12-18T05:43:35.308683",
     "status": "completed"
    },
    "tags": []
   },
   "outputs": [
    {
     "data": {
      "application/javascript": [
       "parent.postMessage({\"jupyterEvent\": \"custom.exercise_interaction\", \"data\": {\"outcomeType\": 1, \"valueTowardsCompletion\": 0.14285714285714285, \"interactionType\": 1, \"questionType\": 1, \"questionId\": \"6_DescriptorCounts\", \"learnToolsVersion\": \"0.3.4\", \"failureMessage\": \"\", \"exceptionClass\": \"\", \"trace\": \"\"}}, \"*\")"
      ],
      "text/plain": [
       "<IPython.core.display.Javascript object>"
      ]
     },
     "metadata": {},
     "output_type": "display_data"
    },
    {
     "data": {
      "text/markdown": [
       "<span style=\"color:#33cc33\">Correct</span>"
      ],
      "text/plain": [
       "Correct"
      ]
     },
     "metadata": {},
     "output_type": "display_data"
    }
   ],
   "source": [
    "n_trop = reviews.description.map(lambda desc: \"tropical\" in desc).sum()\n",
    "n_fruity = reviews.description.map(lambda desc: \"fruity\" in desc).sum()\n",
    "descriptor_counts = pd.Series([n_trop, n_fruity], index=['tropical', 'fruity'])\n",
    "# Check your answer\n",
    "q6.check()"
   ]
  },
  {
   "cell_type": "code",
   "execution_count": 13,
   "id": "51dba149",
   "metadata": {
    "execution": {
     "iopub.execute_input": "2023-12-18T05:43:35.470157Z",
     "iopub.status.busy": "2023-12-18T05:43:35.469787Z",
     "iopub.status.idle": "2023-12-18T05:43:35.473941Z",
     "shell.execute_reply": "2023-12-18T05:43:35.472908Z"
    },
    "papermill": {
     "duration": 0.015395,
     "end_time": "2023-12-18T05:43:35.476010",
     "exception": false,
     "start_time": "2023-12-18T05:43:35.460615",
     "status": "completed"
    },
    "tags": []
   },
   "outputs": [],
   "source": [
    "#q6.hint()\n",
    "# q6.solution()"
   ]
  },
  {
   "cell_type": "markdown",
   "id": "d6708969",
   "metadata": {
    "papermill": {
     "duration": 0.007678,
     "end_time": "2023-12-18T05:43:35.491818",
     "exception": false,
     "start_time": "2023-12-18T05:43:35.484140",
     "status": "completed"
    },
    "tags": []
   },
   "source": [
    "## 7.\n",
    "We'd like to host these wine reviews on our website, but a rating system ranging from 80 to 100 points is too hard to understand - we'd like to translate them into simple star ratings. A score of 95 or higher counts as 3 stars, a score of at least 85 but less than 95 is 2 stars. Any other score is 1 star.\n",
    "\n",
    "Also, the Canadian Vintners Association bought a lot of ads on the site, so any wines from Canada should automatically get 3 stars, regardless of points.\n",
    "\n",
    "Create a series `star_ratings` with the number of stars corresponding to each review in the dataset."
   ]
  },
  {
   "cell_type": "code",
   "execution_count": 14,
   "id": "4cd6c79c",
   "metadata": {
    "execution": {
     "iopub.execute_input": "2023-12-18T05:43:35.509027Z",
     "iopub.status.busy": "2023-12-18T05:43:35.508664Z",
     "iopub.status.idle": "2023-12-18T05:43:38.788949Z",
     "shell.execute_reply": "2023-12-18T05:43:38.788028Z"
    },
    "papermill": {
     "duration": 3.291316,
     "end_time": "2023-12-18T05:43:38.790940",
     "exception": false,
     "start_time": "2023-12-18T05:43:35.499624",
     "status": "completed"
    },
    "tags": []
   },
   "outputs": [
    {
     "data": {
      "application/javascript": [
       "parent.postMessage({\"jupyterEvent\": \"custom.exercise_interaction\", \"data\": {\"outcomeType\": 1, \"valueTowardsCompletion\": 0.14285714285714285, \"interactionType\": 1, \"questionType\": 1, \"questionId\": \"7_StarRatings\", \"learnToolsVersion\": \"0.3.4\", \"failureMessage\": \"\", \"exceptionClass\": \"\", \"trace\": \"\"}}, \"*\")"
      ],
      "text/plain": [
       "<IPython.core.display.Javascript object>"
      ]
     },
     "metadata": {},
     "output_type": "display_data"
    },
    {
     "data": {
      "text/markdown": [
       "<span style=\"color:#33cc33\">Correct</span>"
      ],
      "text/plain": [
       "Correct"
      ]
     },
     "metadata": {},
     "output_type": "display_data"
    }
   ],
   "source": [
    "def stars(row):\n",
    "    if row.country == 'Canada':\n",
    "        return 3\n",
    "    elif row.points >= 95:\n",
    "        return 3\n",
    "    elif row.points >= 85:\n",
    "        return 2\n",
    "    else:\n",
    "        return 1\n",
    "\n",
    "star_ratings = reviews.apply(stars, axis='columns')\n",
    "\n",
    "# Check your answer\n",
    "q7.check()"
   ]
  },
  {
   "cell_type": "code",
   "execution_count": 15,
   "id": "68527ad0",
   "metadata": {
    "execution": {
     "iopub.execute_input": "2023-12-18T05:43:38.809328Z",
     "iopub.status.busy": "2023-12-18T05:43:38.808916Z",
     "iopub.status.idle": "2023-12-18T05:43:38.812886Z",
     "shell.execute_reply": "2023-12-18T05:43:38.812142Z"
    },
    "papermill": {
     "duration": 0.015555,
     "end_time": "2023-12-18T05:43:38.814856",
     "exception": false,
     "start_time": "2023-12-18T05:43:38.799301",
     "status": "completed"
    },
    "tags": []
   },
   "outputs": [],
   "source": [
    "#q7.hint()\n",
    "# q7.solution()"
   ]
  },
  {
   "cell_type": "markdown",
   "id": "b953367b",
   "metadata": {
    "papermill": {
     "duration": 0.008011,
     "end_time": "2023-12-18T05:43:38.831229",
     "exception": false,
     "start_time": "2023-12-18T05:43:38.823218",
     "status": "completed"
    },
    "tags": []
   },
   "source": [
    "# Keep going\n",
    "Continue to **[grouping and sorting](https://www.kaggle.com/residentmario/grouping-and-sorting)**."
   ]
  },
  {
   "cell_type": "markdown",
   "id": "2062f7bb",
   "metadata": {
    "papermill": {
     "duration": 0.007856,
     "end_time": "2023-12-18T05:43:38.847161",
     "exception": false,
     "start_time": "2023-12-18T05:43:38.839305",
     "status": "completed"
    },
    "tags": []
   },
   "source": [
    "---\n",
    "\n",
    "\n",
    "\n",
    "\n",
    "*Have questions or comments? Visit the [course discussion forum](https://www.kaggle.com/learn/pandas/discussion) to chat with other learners.*"
   ]
  }
 ],
 "metadata": {
  "kaggle": {
   "accelerator": "none",
   "dataSources": [
    {
     "datasetId": 655,
     "sourceId": 1252,
     "sourceType": "datasetVersion"
    },
    {
     "datasetId": 2321,
     "sourceId": 3919,
     "sourceType": "datasetVersion"
    },
    {
     "datasetId": 2894,
     "sourceId": 4877,
     "sourceType": "datasetVersion"
    },
    {
     "datasetId": 3491,
     "sourceId": 5624,
     "sourceType": "datasetVersion"
    },
    {
     "datasetId": 1442,
     "sourceId": 8172,
     "sourceType": "datasetVersion"
    },
    {
     "datasetId": 9366,
     "sourceId": 13206,
     "sourceType": "datasetVersion"
    },
    {
     "datasetId": 179555,
     "sourceId": 403916,
     "sourceType": "datasetVersion"
    },
    {
     "datasetId": 4549,
     "sourceId": 466349,
     "sourceType": "datasetVersion"
    },
    {
     "datasetId": 2478,
     "sourceId": 1151655,
     "sourceType": "datasetVersion"
    },
    {
     "datasetId": 10128,
     "sourceId": 5438389,
     "sourceType": "datasetVersion"
    }
   ],
   "isGpuEnabled": false,
   "isInternetEnabled": false,
   "language": "python",
   "sourceType": "notebook"
  },
  "kernelspec": {
   "display_name": "Python 3",
   "language": "python",
   "name": "python3"
  },
  "language_info": {
   "codemirror_mode": {
    "name": "ipython",
    "version": 3
   },
   "file_extension": ".py",
   "mimetype": "text/x-python",
   "name": "python",
   "nbconvert_exporter": "python",
   "pygments_lexer": "ipython3",
   "version": "3.10.12"
  },
  "papermill": {
   "default_parameters": {},
   "duration": 14.466902,
   "end_time": "2023-12-18T05:43:39.376967",
   "environment_variables": {},
   "exception": null,
   "input_path": "__notebook__.ipynb",
   "output_path": "__notebook__.ipynb",
   "parameters": {},
   "start_time": "2023-12-18T05:43:24.910065",
   "version": "2.4.0"
  }
 },
 "nbformat": 4,
 "nbformat_minor": 5
}
