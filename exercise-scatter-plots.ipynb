{
 "cells": [
  {
   "cell_type": "markdown",
   "id": "84c54acb",
   "metadata": {
    "papermill": {
     "duration": 0.01008,
     "end_time": "2024-01-02T15:44:46.603290",
     "exception": false,
     "start_time": "2024-01-02T15:44:46.593210",
     "status": "completed"
    },
    "tags": []
   },
   "source": [
    "**This notebook is an exercise in the [Data Visualization](https://www.kaggle.com/learn/data-visualization) course.  You can reference the tutorial at [this link](https://www.kaggle.com/alexisbcook/scatter-plots).**\n",
    "\n",
    "---\n"
   ]
  },
  {
   "cell_type": "markdown",
   "id": "912c4c21",
   "metadata": {
    "papermill": {
     "duration": 0.007501,
     "end_time": "2024-01-02T15:44:46.618909",
     "exception": false,
     "start_time": "2024-01-02T15:44:46.611408",
     "status": "completed"
    },
    "tags": []
   },
   "source": [
    "In this exercise, you will use your new knowledge to propose a solution to a real-world scenario.  To succeed, you will need to import data into Python, answer questions using the data, and generate **scatter plots** to understand patterns in the data.\n",
    "\n",
    "## Scenario\n",
    "\n",
    "You work for a major candy producer, and your goal is to write a report that your company can use to guide the design of its next product.  Soon after starting your research, you stumble across this [very interesting dataset](https://fivethirtyeight.com/features/the-ultimate-halloween-candy-power-ranking/) containing results from a fun survey to crowdsource favorite candies.\n",
    "\n",
    "## Setup\n",
    "\n",
    "Run the next cell to import and configure the Python libraries that you need to complete the exercise."
   ]
  },
  {
   "cell_type": "code",
   "execution_count": 1,
   "id": "8e9f2dab",
   "metadata": {
    "execution": {
     "iopub.execute_input": "2024-01-02T15:44:46.635720Z",
     "iopub.status.busy": "2024-01-02T15:44:46.635346Z",
     "iopub.status.idle": "2024-01-02T15:44:48.276773Z",
     "shell.execute_reply": "2024-01-02T15:44:48.275759Z"
    },
    "papermill": {
     "duration": 1.65229,
     "end_time": "2024-01-02T15:44:48.278952",
     "exception": false,
     "start_time": "2024-01-02T15:44:46.626662",
     "status": "completed"
    },
    "tags": []
   },
   "outputs": [
    {
     "name": "stdout",
     "output_type": "stream",
     "text": [
      "Setup Complete\n"
     ]
    }
   ],
   "source": [
    "import pandas as pd\n",
    "pd.plotting.register_matplotlib_converters()\n",
    "import matplotlib.pyplot as plt\n",
    "%matplotlib inline\n",
    "import seaborn as sns\n",
    "print(\"Setup Complete\")"
   ]
  },
  {
   "cell_type": "markdown",
   "id": "6a91c1fd",
   "metadata": {
    "papermill": {
     "duration": 0.00753,
     "end_time": "2024-01-02T15:44:48.294329",
     "exception": false,
     "start_time": "2024-01-02T15:44:48.286799",
     "status": "completed"
    },
    "tags": []
   },
   "source": [
    "The questions below will give you feedback on your work. Run the following cell to set up our feedback system."
   ]
  },
  {
   "cell_type": "code",
   "execution_count": 2,
   "id": "e61e5a1f",
   "metadata": {
    "execution": {
     "iopub.execute_input": "2024-01-02T15:44:48.311991Z",
     "iopub.status.busy": "2024-01-02T15:44:48.311451Z",
     "iopub.status.idle": "2024-01-02T15:44:48.419586Z",
     "shell.execute_reply": "2024-01-02T15:44:48.418476Z"
    },
    "papermill": {
     "duration": 0.119543,
     "end_time": "2024-01-02T15:44:48.421862",
     "exception": false,
     "start_time": "2024-01-02T15:44:48.302319",
     "status": "completed"
    },
    "tags": []
   },
   "outputs": [
    {
     "name": "stdout",
     "output_type": "stream",
     "text": [
      "Setup Complete\n"
     ]
    }
   ],
   "source": [
    "# Set up code checking\n",
    "import os\n",
    "if not os.path.exists(\"../input/candy.csv\"):\n",
    "    os.symlink(\"../input/data-for-datavis/candy.csv\", \"../input/candy.csv\") \n",
    "from learntools.core import binder\n",
    "binder.bind(globals())\n",
    "from learntools.data_viz_to_coder.ex4 import *\n",
    "print(\"Setup Complete\")"
   ]
  },
  {
   "cell_type": "markdown",
   "id": "54072f5b",
   "metadata": {
    "papermill": {
     "duration": 0.007531,
     "end_time": "2024-01-02T15:44:48.437569",
     "exception": false,
     "start_time": "2024-01-02T15:44:48.430038",
     "status": "completed"
    },
    "tags": []
   },
   "source": [
    "## Step 1: Load the Data\n",
    "\n",
    "Read the candy data file into `candy_data`.  Use the `\"id\"` column to label the rows."
   ]
  },
  {
   "cell_type": "code",
   "execution_count": 3,
   "id": "8b86abe1",
   "metadata": {
    "execution": {
     "iopub.execute_input": "2024-01-02T15:44:48.454911Z",
     "iopub.status.busy": "2024-01-02T15:44:48.454508Z",
     "iopub.status.idle": "2024-01-02T15:44:48.471948Z",
     "shell.execute_reply": "2024-01-02T15:44:48.470873Z"
    },
    "papermill": {
     "duration": 0.028574,
     "end_time": "2024-01-02T15:44:48.474025",
     "exception": false,
     "start_time": "2024-01-02T15:44:48.445451",
     "status": "completed"
    },
    "tags": []
   },
   "outputs": [
    {
     "data": {
      "application/javascript": [
       "parent.postMessage({\"jupyterEvent\": \"custom.exercise_interaction\", \"data\": {\"outcomeType\": 1, \"valueTowardsCompletion\": 0.3333333333333333, \"interactionType\": 1, \"questionType\": 1, \"questionId\": \"1_LoadData\", \"learnToolsVersion\": \"0.3.4\", \"failureMessage\": \"\", \"exceptionClass\": \"\", \"trace\": \"\"}}, \"*\")"
      ],
      "text/plain": [
       "<IPython.core.display.Javascript object>"
      ]
     },
     "metadata": {},
     "output_type": "display_data"
    },
    {
     "data": {
      "text/markdown": [
       "<span style=\"color:#33cc33\">Correct</span>"
      ],
      "text/plain": [
       "Correct"
      ]
     },
     "metadata": {},
     "output_type": "display_data"
    }
   ],
   "source": [
    "# Path of the file to read\n",
    "candy_filepath = \"../input/candy.csv\"\n",
    "\n",
    "# Fill in the line below to read the file into a variable candy_data\n",
    "candy_data = pd.read_csv(candy_filepath, index_col=\"id\")\n",
    "\n",
    "# Run the line below with no changes to check that you've loaded the data correctly\n",
    "step_1.check()"
   ]
  },
  {
   "cell_type": "code",
   "execution_count": 4,
   "id": "abeeabb3",
   "metadata": {
    "execution": {
     "iopub.execute_input": "2024-01-02T15:44:48.492142Z",
     "iopub.status.busy": "2024-01-02T15:44:48.491733Z",
     "iopub.status.idle": "2024-01-02T15:44:48.496405Z",
     "shell.execute_reply": "2024-01-02T15:44:48.495341Z"
    },
    "papermill": {
     "duration": 0.016069,
     "end_time": "2024-01-02T15:44:48.498362",
     "exception": false,
     "start_time": "2024-01-02T15:44:48.482293",
     "status": "completed"
    },
    "tags": []
   },
   "outputs": [],
   "source": [
    "# Lines below will give you a hint or solution code\n",
    "# step_1.hint()\n",
    "# step_1.solution()"
   ]
  },
  {
   "cell_type": "markdown",
   "id": "949aec65",
   "metadata": {
    "papermill": {
     "duration": 0.007826,
     "end_time": "2024-01-02T15:44:48.514580",
     "exception": false,
     "start_time": "2024-01-02T15:44:48.506754",
     "status": "completed"
    },
    "tags": []
   },
   "source": [
    "## Step 2: Review the data\n",
    "\n",
    "Use a Python command to print the first five rows of the data."
   ]
  },
  {
   "cell_type": "code",
   "execution_count": 5,
   "id": "d7637a28",
   "metadata": {
    "execution": {
     "iopub.execute_input": "2024-01-02T15:44:48.532440Z",
     "iopub.status.busy": "2024-01-02T15:44:48.532062Z",
     "iopub.status.idle": "2024-01-02T15:44:48.553903Z",
     "shell.execute_reply": "2024-01-02T15:44:48.552829Z"
    },
    "papermill": {
     "duration": 0.033231,
     "end_time": "2024-01-02T15:44:48.556048",
     "exception": false,
     "start_time": "2024-01-02T15:44:48.522817",
     "status": "completed"
    },
    "tags": []
   },
   "outputs": [
    {
     "data": {
      "text/html": [
       "<div>\n",
       "<style scoped>\n",
       "    .dataframe tbody tr th:only-of-type {\n",
       "        vertical-align: middle;\n",
       "    }\n",
       "\n",
       "    .dataframe tbody tr th {\n",
       "        vertical-align: top;\n",
       "    }\n",
       "\n",
       "    .dataframe thead th {\n",
       "        text-align: right;\n",
       "    }\n",
       "</style>\n",
       "<table border=\"1\" class=\"dataframe\">\n",
       "  <thead>\n",
       "    <tr style=\"text-align: right;\">\n",
       "      <th></th>\n",
       "      <th>competitorname</th>\n",
       "      <th>chocolate</th>\n",
       "      <th>fruity</th>\n",
       "      <th>caramel</th>\n",
       "      <th>peanutyalmondy</th>\n",
       "      <th>nougat</th>\n",
       "      <th>crispedricewafer</th>\n",
       "      <th>hard</th>\n",
       "      <th>bar</th>\n",
       "      <th>pluribus</th>\n",
       "      <th>sugarpercent</th>\n",
       "      <th>pricepercent</th>\n",
       "      <th>winpercent</th>\n",
       "    </tr>\n",
       "    <tr>\n",
       "      <th>id</th>\n",
       "      <th></th>\n",
       "      <th></th>\n",
       "      <th></th>\n",
       "      <th></th>\n",
       "      <th></th>\n",
       "      <th></th>\n",
       "      <th></th>\n",
       "      <th></th>\n",
       "      <th></th>\n",
       "      <th></th>\n",
       "      <th></th>\n",
       "      <th></th>\n",
       "      <th></th>\n",
       "    </tr>\n",
       "  </thead>\n",
       "  <tbody>\n",
       "    <tr>\n",
       "      <th>0</th>\n",
       "      <td>100 Grand</td>\n",
       "      <td>Yes</td>\n",
       "      <td>No</td>\n",
       "      <td>Yes</td>\n",
       "      <td>No</td>\n",
       "      <td>No</td>\n",
       "      <td>Yes</td>\n",
       "      <td>No</td>\n",
       "      <td>Yes</td>\n",
       "      <td>No</td>\n",
       "      <td>0.732</td>\n",
       "      <td>0.860</td>\n",
       "      <td>66.971725</td>\n",
       "    </tr>\n",
       "    <tr>\n",
       "      <th>1</th>\n",
       "      <td>3 Musketeers</td>\n",
       "      <td>Yes</td>\n",
       "      <td>No</td>\n",
       "      <td>No</td>\n",
       "      <td>No</td>\n",
       "      <td>Yes</td>\n",
       "      <td>No</td>\n",
       "      <td>No</td>\n",
       "      <td>Yes</td>\n",
       "      <td>No</td>\n",
       "      <td>0.604</td>\n",
       "      <td>0.511</td>\n",
       "      <td>67.602936</td>\n",
       "    </tr>\n",
       "    <tr>\n",
       "      <th>2</th>\n",
       "      <td>Air Heads</td>\n",
       "      <td>No</td>\n",
       "      <td>Yes</td>\n",
       "      <td>No</td>\n",
       "      <td>No</td>\n",
       "      <td>No</td>\n",
       "      <td>No</td>\n",
       "      <td>No</td>\n",
       "      <td>No</td>\n",
       "      <td>No</td>\n",
       "      <td>0.906</td>\n",
       "      <td>0.511</td>\n",
       "      <td>52.341465</td>\n",
       "    </tr>\n",
       "    <tr>\n",
       "      <th>3</th>\n",
       "      <td>Almond Joy</td>\n",
       "      <td>Yes</td>\n",
       "      <td>No</td>\n",
       "      <td>No</td>\n",
       "      <td>Yes</td>\n",
       "      <td>No</td>\n",
       "      <td>No</td>\n",
       "      <td>No</td>\n",
       "      <td>Yes</td>\n",
       "      <td>No</td>\n",
       "      <td>0.465</td>\n",
       "      <td>0.767</td>\n",
       "      <td>50.347546</td>\n",
       "    </tr>\n",
       "    <tr>\n",
       "      <th>4</th>\n",
       "      <td>Baby Ruth</td>\n",
       "      <td>Yes</td>\n",
       "      <td>No</td>\n",
       "      <td>Yes</td>\n",
       "      <td>Yes</td>\n",
       "      <td>Yes</td>\n",
       "      <td>No</td>\n",
       "      <td>No</td>\n",
       "      <td>Yes</td>\n",
       "      <td>No</td>\n",
       "      <td>0.604</td>\n",
       "      <td>0.767</td>\n",
       "      <td>56.914547</td>\n",
       "    </tr>\n",
       "  </tbody>\n",
       "</table>\n",
       "</div>"
      ],
      "text/plain": [
       "   competitorname chocolate fruity caramel peanutyalmondy nougat  \\\n",
       "id                                                                 \n",
       "0       100 Grand       Yes     No     Yes             No     No   \n",
       "1    3 Musketeers       Yes     No      No             No    Yes   \n",
       "2       Air Heads        No    Yes      No             No     No   \n",
       "3      Almond Joy       Yes     No      No            Yes     No   \n",
       "4       Baby Ruth       Yes     No     Yes            Yes    Yes   \n",
       "\n",
       "   crispedricewafer hard  bar pluribus  sugarpercent  pricepercent  winpercent  \n",
       "id                                                                              \n",
       "0               Yes   No  Yes       No         0.732         0.860   66.971725  \n",
       "1                No   No  Yes       No         0.604         0.511   67.602936  \n",
       "2                No   No   No       No         0.906         0.511   52.341465  \n",
       "3                No   No  Yes       No         0.465         0.767   50.347546  \n",
       "4                No   No  Yes       No         0.604         0.767   56.914547  "
      ]
     },
     "execution_count": 5,
     "metadata": {},
     "output_type": "execute_result"
    }
   ],
   "source": [
    "# Print the first five rows of the data\n",
    "candy_data.head()"
   ]
  },
  {
   "cell_type": "markdown",
   "id": "00156ead",
   "metadata": {
    "papermill": {
     "duration": 0.008234,
     "end_time": "2024-01-02T15:44:48.573074",
     "exception": false,
     "start_time": "2024-01-02T15:44:48.564840",
     "status": "completed"
    },
    "tags": []
   },
   "source": [
    "The dataset contains 83 rows, where each corresponds to a different candy bar.  There are 13 columns:\n",
    "- `'competitorname'` contains the name of the candy bar. \n",
    "- the next **9** columns (from `'chocolate'` to `'pluribus'`) describe the candy.  For instance, rows with chocolate candies have `\"Yes\"` in the `'chocolate'` column (and candies without chocolate have `\"No\"` in the same column).\n",
    "- `'sugarpercent'` provides some indication of the amount of sugar, where higher values signify higher sugar content.\n",
    "- `'pricepercent'` shows the price per unit, relative to the other candies in the dataset.\n",
    "- `'winpercent'` is calculated from the survey results; higher values indicate that the candy was more popular with survey respondents.\n",
    "\n",
    "Use the first five rows of the data to answer the questions below."
   ]
  },
  {
   "cell_type": "code",
   "execution_count": 6,
   "id": "ee133d95",
   "metadata": {
    "execution": {
     "iopub.execute_input": "2024-01-02T15:44:48.591816Z",
     "iopub.status.busy": "2024-01-02T15:44:48.591438Z",
     "iopub.status.idle": "2024-01-02T15:44:48.599559Z",
     "shell.execute_reply": "2024-01-02T15:44:48.598464Z"
    },
    "papermill": {
     "duration": 0.020005,
     "end_time": "2024-01-02T15:44:48.601575",
     "exception": false,
     "start_time": "2024-01-02T15:44:48.581570",
     "status": "completed"
    },
    "tags": []
   },
   "outputs": [
    {
     "data": {
      "application/javascript": [
       "parent.postMessage({\"jupyterEvent\": \"custom.exercise_interaction\", \"data\": {\"outcomeType\": 1, \"valueTowardsCompletion\": 0.3333333333333333, \"interactionType\": 1, \"questionType\": 1, \"questionId\": \"2_ReviewData\", \"learnToolsVersion\": \"0.3.4\", \"failureMessage\": \"\", \"exceptionClass\": \"\", \"trace\": \"\"}}, \"*\")"
      ],
      "text/plain": [
       "<IPython.core.display.Javascript object>"
      ]
     },
     "metadata": {},
     "output_type": "display_data"
    },
    {
     "data": {
      "text/markdown": [
       "<span style=\"color:#33cc33\">Correct</span>"
      ],
      "text/plain": [
       "Correct"
      ]
     },
     "metadata": {},
     "output_type": "display_data"
    }
   ],
   "source": [
    "# Fill in the line below: Which candy was more popular with survey respondents:\n",
    "# '3 Musketeers' or 'Almond Joy'?  (Please enclose your answer in single quotes.)\n",
    "more_popular = '3 Musketeers'\n",
    "\n",
    "# Fill in the line below: Which candy has higher sugar content: 'Air Heads'\n",
    "# or 'Baby Ruth'? (Please enclose your answer in single quotes.)\n",
    "more_sugar = 'Air Heads'\n",
    "\n",
    "# Check your answers\n",
    "step_2.check()"
   ]
  },
  {
   "cell_type": "code",
   "execution_count": 7,
   "id": "6721420c",
   "metadata": {
    "execution": {
     "iopub.execute_input": "2024-01-02T15:44:48.622187Z",
     "iopub.status.busy": "2024-01-02T15:44:48.621825Z",
     "iopub.status.idle": "2024-01-02T15:44:48.626268Z",
     "shell.execute_reply": "2024-01-02T15:44:48.625294Z"
    },
    "papermill": {
     "duration": 0.016589,
     "end_time": "2024-01-02T15:44:48.628467",
     "exception": false,
     "start_time": "2024-01-02T15:44:48.611878",
     "status": "completed"
    },
    "tags": []
   },
   "outputs": [],
   "source": [
    "# Lines below will give you a hint or solution code\n",
    "#step_2.hint()\n",
    "#step_2.solution()"
   ]
  },
  {
   "cell_type": "markdown",
   "id": "c9a70cc2",
   "metadata": {
    "papermill": {
     "duration": 0.008454,
     "end_time": "2024-01-02T15:44:48.645771",
     "exception": false,
     "start_time": "2024-01-02T15:44:48.637317",
     "status": "completed"
    },
    "tags": []
   },
   "source": [
    "## Step 3: The role of sugar\n",
    "\n",
    "Do people tend to prefer candies with higher sugar content?  \n",
    "\n",
    "#### Part A\n",
    "\n",
    "Create a scatter plot that shows the relationship between `'sugarpercent'` (on the horizontal x-axis) and `'winpercent'` (on the vertical y-axis).  _Don't add a regression line just yet -- you'll do that in the next step!_"
   ]
  },
  {
   "cell_type": "code",
   "execution_count": 8,
   "id": "4bdb9b23",
   "metadata": {
    "execution": {
     "iopub.execute_input": "2024-01-02T15:44:48.665246Z",
     "iopub.status.busy": "2024-01-02T15:44:48.664580Z",
     "iopub.status.idle": "2024-01-02T15:44:48.957633Z",
     "shell.execute_reply": "2024-01-02T15:44:48.956525Z"
    },
    "papermill": {
     "duration": 0.305228,
     "end_time": "2024-01-02T15:44:48.959862",
     "exception": false,
     "start_time": "2024-01-02T15:44:48.654634",
     "status": "completed"
    },
    "tags": []
   },
   "outputs": [
    {
     "data": {
      "application/javascript": [
       "parent.postMessage({\"jupyterEvent\": \"custom.exercise_interaction\", \"data\": {\"outcomeType\": 1, \"valueTowardsCompletion\": 0.3333333333333333, \"interactionType\": 1, \"questionType\": 2, \"questionId\": \"3.1_PlotBlueScatter\", \"learnToolsVersion\": \"0.3.4\", \"failureMessage\": \"\", \"exceptionClass\": \"\", \"trace\": \"\"}}, \"*\")"
      ],
      "text/plain": [
       "<IPython.core.display.Javascript object>"
      ]
     },
     "metadata": {},
     "output_type": "display_data"
    },
    {
     "data": {
      "text/markdown": [
       "<span style=\"color:#33cc33\">Correct</span>"
      ],
      "text/plain": [
       "Correct"
      ]
     },
     "metadata": {},
     "output_type": "display_data"
    },
    {
     "data": {
      "image/png": "[encoded data removed]",
      "text/plain": [
       "<Figure size 640x480 with 1 Axes>"
      ]
     },
     "metadata": {},
     "output_type": "display_data"
    }
   ],
   "source": [
    "# Scatter plot showing the relationship between 'sugarpercent' and 'winpercent'\n",
    "sns.scatterplot(x=candy_data['sugarpercent'], y=candy_data['winpercent'])\n",
    "\n",
    "# Check your answer\n",
    "step_3.a.check()"
   ]
  },
  {
   "cell_type": "code",
   "execution_count": 9,
   "id": "a5453790",
   "metadata": {
    "execution": {
     "iopub.execute_input": "2024-01-02T15:44:48.980895Z",
     "iopub.status.busy": "2024-01-02T15:44:48.979909Z",
     "iopub.status.idle": "2024-01-02T15:44:48.985187Z",
     "shell.execute_reply": "2024-01-02T15:44:48.984487Z"
    },
    "papermill": {
     "duration": 0.017983,
     "end_time": "2024-01-02T15:44:48.987154",
     "exception": false,
     "start_time": "2024-01-02T15:44:48.969171",
     "status": "completed"
    },
    "tags": []
   },
   "outputs": [],
   "source": [
    "# Lines below will give you a hint or solution code\n",
    "#step_3.a.hint()\n",
    "#step_3.a.solution_plot()"
   ]
  },
  {
   "cell_type": "markdown",
   "id": "d1b7461b",
   "metadata": {
    "papermill": {
     "duration": 0.009058,
     "end_time": "2024-01-02T15:44:49.005741",
     "exception": false,
     "start_time": "2024-01-02T15:44:48.996683",
     "status": "completed"
    },
    "tags": []
   },
   "source": [
    "#### Part B\n",
    "\n",
    "Does the scatter plot show a **strong** correlation between the two variables?  If so, are candies with more sugar relatively more or less popular with the survey respondents?"
   ]
  },
  {
   "cell_type": "code",
   "execution_count": 10,
   "id": "2313915b",
   "metadata": {
    "execution": {
     "iopub.execute_input": "2024-01-02T15:44:49.026839Z",
     "iopub.status.busy": "2024-01-02T15:44:49.026380Z",
     "iopub.status.idle": "2024-01-02T15:44:49.030739Z",
     "shell.execute_reply": "2024-01-02T15:44:49.029623Z"
    },
    "papermill": {
     "duration": 0.018363,
     "end_time": "2024-01-02T15:44:49.033572",
     "exception": false,
     "start_time": "2024-01-02T15:44:49.015209",
     "status": "completed"
    },
    "tags": []
   },
   "outputs": [],
   "source": [
    "#step_3.b.hint()"
   ]
  },
  {
   "cell_type": "code",
   "execution_count": 11,
   "id": "079363cf",
   "metadata": {
    "execution": {
     "iopub.execute_input": "2024-01-02T15:44:49.054784Z",
     "iopub.status.busy": "2024-01-02T15:44:49.054373Z",
     "iopub.status.idle": "2024-01-02T15:44:49.063464Z",
     "shell.execute_reply": "2024-01-02T15:44:49.062579Z"
    },
    "papermill": {
     "duration": 0.022521,
     "end_time": "2024-01-02T15:44:49.065609",
     "exception": false,
     "start_time": "2024-01-02T15:44:49.043088",
     "status": "completed"
    },
    "tags": []
   },
   "outputs": [
    {
     "data": {
      "application/javascript": [
       "parent.postMessage({\"jupyterEvent\": \"custom.exercise_interaction\", \"data\": {\"interactionType\": 3, \"questionType\": 4, \"questionId\": \"3.2_ThinkBlueScatter\", \"learnToolsVersion\": \"0.3.4\", \"valueTowardsCompletion\": 0.0, \"failureMessage\": \"\", \"exceptionClass\": \"\", \"trace\": \"\", \"outcomeType\": 4}}, \"*\")"
      ],
      "text/plain": [
       "<IPython.core.display.Javascript object>"
      ]
     },
     "metadata": {},
     "output_type": "display_data"
    },
    {
     "data": {
      "text/markdown": [
       "<span style=\"color:#33cc99\">Solution:</span> The scatter plot does not show a strong correlation between the two variables. Since there is no clear relationship between the two variables, this tells us that sugar content does not play a strong role in candy popularity."
      ],
      "text/plain": [
       "Solution: The scatter plot does not show a strong correlation between the two variables. Since there is no clear relationship between the two variables, this tells us that sugar content does not play a strong role in candy popularity."
      ]
     },
     "metadata": {},
     "output_type": "display_data"
    }
   ],
   "source": [
    "# Check your answer (Run this code cell to receive credit!)\n",
    "step_3.b.solution()"
   ]
  },
  {
   "cell_type": "markdown",
   "id": "78f485f3",
   "metadata": {
    "papermill": {
     "duration": 0.009608,
     "end_time": "2024-01-02T15:44:49.085288",
     "exception": false,
     "start_time": "2024-01-02T15:44:49.075680",
     "status": "completed"
    },
    "tags": []
   },
   "source": [
    "## Step 4: Take a closer look\n",
    "\n",
    "#### Part A\n",
    "\n",
    "Create the same scatter plot you created in **Step 3**, but now with a regression line!"
   ]
  },
  {
   "cell_type": "code",
   "execution_count": 12,
   "id": "c63d4128",
   "metadata": {
    "execution": {
     "iopub.execute_input": "2024-01-02T15:44:49.107631Z",
     "iopub.status.busy": "2024-01-02T15:44:49.106882Z",
     "iopub.status.idle": "2024-01-02T15:44:49.466634Z",
     "shell.execute_reply": "2024-01-02T15:44:49.465522Z"
    },
    "papermill": {
     "duration": 0.373661,
     "end_time": "2024-01-02T15:44:49.469018",
     "exception": false,
     "start_time": "2024-01-02T15:44:49.095357",
     "status": "completed"
    },
    "tags": []
   },
   "outputs": [
    {
     "data": {
      "application/javascript": [
       "parent.postMessage({\"jupyterEvent\": \"custom.exercise_interaction\", \"data\": {\"outcomeType\": 1, \"valueTowardsCompletion\": 0.3333333333333333, \"interactionType\": 1, \"questionType\": 2, \"questionId\": \"4.1_PlotBlueReg\", \"learnToolsVersion\": \"0.3.4\", \"failureMessage\": \"\", \"exceptionClass\": \"\", \"trace\": \"\"}}, \"*\")"
      ],
      "text/plain": [
       "<IPython.core.display.Javascript object>"
      ]
     },
     "metadata": {},
     "output_type": "display_data"
    },
    {
     "data": {
      "text/markdown": [
       "<span style=\"color:#33cc33\">Correct</span>"
      ],
      "text/plain": [
       "Correct"
      ]
     },
     "metadata": {},
     "output_type": "display_data"
    },
    {
     "data": {
      "image/png": "[encoded data removed]",
      "text/plain": [
       "<Figure size 640x480 with 1 Axes>"
      ]
     },
     "metadata": {},
     "output_type": "display_data"
    }
   ],
   "source": [
    "# Scatter plot w/ regression line showing the relationship between 'sugarpercent' and 'winpercent'\n",
    "sns.regplot(x=candy_data['sugarpercent'], y=candy_data['winpercent'])\n",
    "\n",
    "# Check your answer\n",
    "step_4.a.check()"
   ]
  },
  {
   "cell_type": "code",
   "execution_count": 13,
   "id": "10dcaeff",
   "metadata": {
    "execution": {
     "iopub.execute_input": "2024-01-02T15:44:49.491027Z",
     "iopub.status.busy": "2024-01-02T15:44:49.490658Z",
     "iopub.status.idle": "2024-01-02T15:44:49.495170Z",
     "shell.execute_reply": "2024-01-02T15:44:49.494069Z"
    },
    "papermill": {
     "duration": 0.018025,
     "end_time": "2024-01-02T15:44:49.497301",
     "exception": false,
     "start_time": "2024-01-02T15:44:49.479276",
     "status": "completed"
    },
    "tags": []
   },
   "outputs": [],
   "source": [
    "# Lines below will give you a hint or solution code\n",
    "#step_4.a.hint()\n",
    "#step_4.a.solution_plot()"
   ]
  },
  {
   "cell_type": "markdown",
   "id": "ba566440",
   "metadata": {
    "papermill": {
     "duration": 0.010072,
     "end_time": "2024-01-02T15:44:49.517846",
     "exception": false,
     "start_time": "2024-01-02T15:44:49.507774",
     "status": "completed"
    },
    "tags": []
   },
   "source": [
    "#### Part B\n",
    "\n",
    "According to the plot above, is there a **slight** correlation between `'winpercent'` and `'sugarpercent'`?  What does this tell you about the candy that people tend to prefer?"
   ]
  },
  {
   "cell_type": "code",
   "execution_count": 14,
   "id": "fc0e3c0f",
   "metadata": {
    "execution": {
     "iopub.execute_input": "2024-01-02T15:44:49.595879Z",
     "iopub.status.busy": "2024-01-02T15:44:49.594814Z",
     "iopub.status.idle": "2024-01-02T15:44:49.599275Z",
     "shell.execute_reply": "2024-01-02T15:44:49.598604Z"
    },
    "papermill": {
     "duration": 0.018225,
     "end_time": "2024-01-02T15:44:49.601303",
     "exception": false,
     "start_time": "2024-01-02T15:44:49.583078",
     "status": "completed"
    },
    "tags": []
   },
   "outputs": [],
   "source": [
    "#step_4.b.hint()"
   ]
  },
  {
   "cell_type": "code",
   "execution_count": 15,
   "id": "e7a8e64b",
   "metadata": {
    "execution": {
     "iopub.execute_input": "2024-01-02T15:44:49.625465Z",
     "iopub.status.busy": "2024-01-02T15:44:49.624858Z",
     "iopub.status.idle": "2024-01-02T15:44:49.633000Z",
     "shell.execute_reply": "2024-01-02T15:44:49.632052Z"
    },
    "papermill": {
     "duration": 0.022875,
     "end_time": "2024-01-02T15:44:49.635047",
     "exception": false,
     "start_time": "2024-01-02T15:44:49.612172",
     "status": "completed"
    },
    "tags": []
   },
   "outputs": [
    {
     "data": {
      "application/javascript": [
       "parent.postMessage({\"jupyterEvent\": \"custom.exercise_interaction\", \"data\": {\"interactionType\": 3, \"questionType\": 4, \"questionId\": \"4.2_ThinkBlueReg\", \"learnToolsVersion\": \"0.3.4\", \"valueTowardsCompletion\": 0.0, \"failureMessage\": \"\", \"exceptionClass\": \"\", \"trace\": \"\", \"outcomeType\": 4}}, \"*\")"
      ],
      "text/plain": [
       "<IPython.core.display.Javascript object>"
      ]
     },
     "metadata": {},
     "output_type": "display_data"
    },
    {
     "data": {
      "text/markdown": [
       "<span style=\"color:#33cc99\">Solution:</span> Since the regression line has a slightly positive slope, this tells us that there is a slightly positive correlation between `'winpercent'` and `'sugarpercent'`. Thus, people have a slight preference for candies containing relatively more sugar."
      ],
      "text/plain": [
       "Solution: Since the regression line has a slightly positive slope, this tells us that there is a slightly positive correlation between `'winpercent'` and `'sugarpercent'`. Thus, people have a slight preference for candies containing relatively more sugar."
      ]
     },
     "metadata": {},
     "output_type": "display_data"
    }
   ],
   "source": [
    "# Check your answer (Run this code cell to receive credit!)\n",
    "step_4.b.solution()"
   ]
  },
  {
   "cell_type": "markdown",
   "id": "571f65ef",
   "metadata": {
    "papermill": {
     "duration": 0.010521,
     "end_time": "2024-01-02T15:44:49.656449",
     "exception": false,
     "start_time": "2024-01-02T15:44:49.645928",
     "status": "completed"
    },
    "tags": []
   },
   "source": [
    "## Step 5: Chocolate!\n",
    "\n",
    "In the code cell below, create a scatter plot to show the relationship between `'pricepercent'` (on the horizontal x-axis) and `'winpercent'` (on the vertical y-axis). Use the `'chocolate'` column to color-code the points.  _Don't add any regression lines just yet -- you'll do that in the next step!_"
   ]
  },
  {
   "cell_type": "code",
   "execution_count": 16,
   "id": "b0f9cdd7",
   "metadata": {
    "execution": {
     "iopub.execute_input": "2024-01-02T15:44:49.679972Z",
     "iopub.status.busy": "2024-01-02T15:44:49.679579Z",
     "iopub.status.idle": "2024-01-02T15:44:50.033938Z",
     "shell.execute_reply": "2024-01-02T15:44:50.033138Z"
    },
    "papermill": {
     "duration": 0.368422,
     "end_time": "2024-01-02T15:44:50.035897",
     "exception": false,
     "start_time": "2024-01-02T15:44:49.667475",
     "status": "completed"
    },
    "tags": []
   },
   "outputs": [
    {
     "data": {
      "application/javascript": [
       "parent.postMessage({\"jupyterEvent\": \"custom.exercise_interaction\", \"data\": {\"outcomeType\": 1, \"valueTowardsCompletion\": 0.3333333333333333, \"interactionType\": 1, \"questionType\": 2, \"questionId\": \"5_ColorScatter\", \"learnToolsVersion\": \"0.3.4\", \"failureMessage\": \"\", \"exceptionClass\": \"\", \"trace\": \"\"}}, \"*\")"
      ],
      "text/plain": [
       "<IPython.core.display.Javascript object>"
      ]
     },
     "metadata": {},
     "output_type": "display_data"
    },
    {
     "data": {
      "text/markdown": [
       "<span style=\"color:#33cc33\">Correct</span>"
      ],
      "text/plain": [
       "Correct"
      ]
     },
     "metadata": {},
     "output_type": "display_data"
    },
    {
     "data": {
      "image/png": "[encoded data removed]",
      "text/plain": [
       "<Figure size 640x480 with 1 Axes>"
      ]
     },
     "metadata": {},
     "output_type": "display_data"
    }
   ],
   "source": [
    "# Scatter plot showing the relationship between 'pricepercent', 'winpercent', and 'chocolate'\n",
    "sns.scatterplot(x=candy_data['pricepercent'], y=candy_data['winpercent'], hue=candy_data['chocolate'])\n",
    "\n",
    "# Check your answer\n",
    "step_5.check()"
   ]
  },
  {
   "cell_type": "code",
   "execution_count": 17,
   "id": "3e6c1e66",
   "metadata": {
    "execution": {
     "iopub.execute_input": "2024-01-02T15:44:50.061601Z",
     "iopub.status.busy": "2024-01-02T15:44:50.060947Z",
     "iopub.status.idle": "2024-01-02T15:44:50.064522Z",
     "shell.execute_reply": "2024-01-02T15:44:50.063828Z"
    },
    "papermill": {
     "duration": 0.018594,
     "end_time": "2024-01-02T15:44:50.066358",
     "exception": false,
     "start_time": "2024-01-02T15:44:50.047764",
     "status": "completed"
    },
    "tags": []
   },
   "outputs": [],
   "source": [
    "# Lines below will give you a hint or solution code\n",
    "#step_5.hint()\n",
    "#step_5.solution_plot()"
   ]
  },
  {
   "cell_type": "markdown",
   "id": "04c368e3",
   "metadata": {
    "papermill": {
     "duration": 0.011799,
     "end_time": "2024-01-02T15:44:50.089961",
     "exception": false,
     "start_time": "2024-01-02T15:44:50.078162",
     "status": "completed"
    },
    "tags": []
   },
   "source": [
    "Can you see any interesting patterns in the scatter plot?  We'll investigate this plot further  by adding regression lines in the next step!\n",
    "\n",
    "## Step 6: Investigate chocolate\n",
    "\n",
    "#### Part A\n",
    "\n",
    "Create the same scatter plot you created in **Step 5**, but now with two regression lines, corresponding to (1) chocolate candies and (2) candies without chocolate."
   ]
  },
  {
   "cell_type": "code",
   "execution_count": 18,
   "id": "ffc39388",
   "metadata": {
    "execution": {
     "iopub.execute_input": "2024-01-02T15:44:50.115442Z",
     "iopub.status.busy": "2024-01-02T15:44:50.114800Z",
     "iopub.status.idle": "2024-01-02T15:44:50.867449Z",
     "shell.execute_reply": "2024-01-02T15:44:50.866227Z"
    },
    "papermill": {
     "duration": 0.767955,
     "end_time": "2024-01-02T15:44:50.869718",
     "exception": false,
     "start_time": "2024-01-02T15:44:50.101763",
     "status": "completed"
    },
    "tags": []
   },
   "outputs": [
    {
     "data": {
      "application/javascript": [
       "parent.postMessage({\"jupyterEvent\": \"custom.exercise_interaction\", \"data\": {\"outcomeType\": 1, \"valueTowardsCompletion\": 0.3333333333333333, \"interactionType\": 1, \"questionType\": 2, \"questionId\": \"6.1_PlotColorReg\", \"learnToolsVersion\": \"0.3.4\", \"failureMessage\": \"\", \"exceptionClass\": \"\", \"trace\": \"\"}}, \"*\")"
      ],
      "text/plain": [
       "<IPython.core.display.Javascript object>"
      ]
     },
     "metadata": {},
     "output_type": "display_data"
    },
    {
     "data": {
      "text/markdown": [
       "<span style=\"color:#33cc33\">Correct</span>"
      ],
      "text/plain": [
       "Correct"
      ]
     },
     "metadata": {},
     "output_type": "display_data"
    },
    {
     "data": {
      "image/png": "[encoded data removed]",
      "text/plain": [
       "<Figure size 578.611x500 with 1 Axes>"
      ]
     },
     "metadata": {},
     "output_type": "display_data"
    }
   ],
   "source": [
    "# Color-coded scatter plot w/ regression lines\n",
    "sns.lmplot(x='pricepercent', y='winpercent', hue='chocolate', data=candy_data)\n",
    "\n",
    "# Check your answer\n",
    "step_6.a.check()"
   ]
  },
  {
   "cell_type": "code",
   "execution_count": 19,
   "id": "44a95488",
   "metadata": {
    "execution": {
     "iopub.execute_input": "2024-01-02T15:44:50.897214Z",
     "iopub.status.busy": "2024-01-02T15:44:50.896830Z",
     "iopub.status.idle": "2024-01-02T15:44:50.901046Z",
     "shell.execute_reply": "2024-01-02T15:44:50.900242Z"
    },
    "papermill": {
     "duration": 0.020211,
     "end_time": "2024-01-02T15:44:50.902876",
     "exception": false,
     "start_time": "2024-01-02T15:44:50.882665",
     "status": "completed"
    },
    "tags": []
   },
   "outputs": [],
   "source": [
    "# Lines below will give you a hint or solution code\n",
    "# step_6.a.hint()\n",
    "# step_6.a.solution_plot()"
   ]
  },
  {
   "cell_type": "markdown",
   "id": "0e4da12a",
   "metadata": {
    "papermill": {
     "duration": 0.012451,
     "end_time": "2024-01-02T15:44:50.928880",
     "exception": false,
     "start_time": "2024-01-02T15:44:50.916429",
     "status": "completed"
    },
    "tags": []
   },
   "source": [
    "#### Part B\n",
    "\n",
    "Using the regression lines, what conclusions can you draw about the effects of chocolate and price on candy popularity?"
   ]
  },
  {
   "cell_type": "code",
   "execution_count": 20,
   "id": "86e4050d",
   "metadata": {
    "execution": {
     "iopub.execute_input": "2024-01-02T15:44:50.956200Z",
     "iopub.status.busy": "2024-01-02T15:44:50.955140Z",
     "iopub.status.idle": "2024-01-02T15:44:50.959521Z",
     "shell.execute_reply": "2024-01-02T15:44:50.958756Z"
    },
    "papermill": {
     "duration": 0.020021,
     "end_time": "2024-01-02T15:44:50.961513",
     "exception": false,
     "start_time": "2024-01-02T15:44:50.941492",
     "status": "completed"
    },
    "tags": []
   },
   "outputs": [],
   "source": [
    "#step_6.b.hint()"
   ]
  },
  {
   "cell_type": "code",
   "execution_count": 21,
   "id": "49b1ad32",
   "metadata": {
    "execution": {
     "iopub.execute_input": "2024-01-02T15:44:50.989201Z",
     "iopub.status.busy": "2024-01-02T15:44:50.988524Z",
     "iopub.status.idle": "2024-01-02T15:44:50.995745Z",
     "shell.execute_reply": "2024-01-02T15:44:50.995004Z"
    },
    "papermill": {
     "duration": 0.022955,
     "end_time": "2024-01-02T15:44:50.997621",
     "exception": false,
     "start_time": "2024-01-02T15:44:50.974666",
     "status": "completed"
    },
    "tags": []
   },
   "outputs": [
    {
     "data": {
      "application/javascript": [
       "parent.postMessage({\"jupyterEvent\": \"custom.exercise_interaction\", \"data\": {\"interactionType\": 3, \"questionType\": 4, \"questionId\": \"6.2_ThinkColorReg\", \"learnToolsVersion\": \"0.3.4\", \"valueTowardsCompletion\": 0.0, \"failureMessage\": \"\", \"exceptionClass\": \"\", \"trace\": \"\", \"outcomeType\": 4}}, \"*\")"
      ],
      "text/plain": [
       "<IPython.core.display.Javascript object>"
      ]
     },
     "metadata": {},
     "output_type": "display_data"
    },
    {
     "data": {
      "text/markdown": [
       "<span style=\"color:#33cc99\">Solution:</span> We'll begin with the regression line for chocolate candies. Since this line has a slightly positive slope, we can say that more expensive chocolate candies tend to be more popular (than relatively cheaper chocolate candies).  Likewise, since the regression line for candies without chocolate has a negative slope, we can say that if candies don't contain chocolate, they tend to be more popular when they are cheaper.  One important note, however, is that the dataset is quite small -- so we shouldn't invest too much trust in these patterns!  To inspire more confidence in the results, we should add more candies to the dataset."
      ],
      "text/plain": [
       "Solution: We'll begin with the regression line for chocolate candies. Since this line has a slightly positive slope, we can say that more expensive chocolate candies tend to be more popular (than relatively cheaper chocolate candies).  Likewise, since the regression line for candies without chocolate has a negative slope, we can say that if candies don't contain chocolate, they tend to be more popular when they are cheaper.  One important note, however, is that the dataset is quite small -- so we shouldn't invest too much trust in these patterns!  To inspire more confidence in the results, we should add more candies to the dataset."
      ]
     },
     "metadata": {},
     "output_type": "display_data"
    }
   ],
   "source": [
    "# Check your answer (Run this code cell to receive credit!)\n",
    "step_6.b.solution()"
   ]
  },
  {
   "cell_type": "markdown",
   "id": "c7b7347c",
   "metadata": {
    "papermill": {
     "duration": 0.012655,
     "end_time": "2024-01-02T15:44:51.023286",
     "exception": false,
     "start_time": "2024-01-02T15:44:51.010631",
     "status": "completed"
    },
    "tags": []
   },
   "source": [
    "## Step 7: Everybody loves chocolate.\n",
    "\n",
    "#### Part A\n",
    "\n",
    "Create a categorical scatter plot to highlight the relationship between `'chocolate'` and `'winpercent'`.  Put `'chocolate'` on the (horizontal) x-axis, and `'winpercent'` on the (vertical) y-axis."
   ]
  },
  {
   "cell_type": "code",
   "execution_count": 22,
   "id": "3169ac69",
   "metadata": {
    "execution": {
     "iopub.execute_input": "2024-01-02T15:44:51.051263Z",
     "iopub.status.busy": "2024-01-02T15:44:51.050872Z",
     "iopub.status.idle": "2024-01-02T15:44:51.460575Z",
     "shell.execute_reply": "2024-01-02T15:44:51.459479Z"
    },
    "papermill": {
     "duration": 0.426562,
     "end_time": "2024-01-02T15:44:51.462919",
     "exception": false,
     "start_time": "2024-01-02T15:44:51.036357",
     "status": "completed"
    },
    "tags": []
   },
   "outputs": [
    {
     "data": {
      "application/javascript": [
       "parent.postMessage({\"jupyterEvent\": \"custom.exercise_interaction\", \"data\": {\"outcomeType\": 1, \"valueTowardsCompletion\": 0.3333333333333333, \"interactionType\": 1, \"questionType\": 2, \"questionId\": \"7.1_PlotSwarm\", \"learnToolsVersion\": \"0.3.4\", \"failureMessage\": \"\", \"exceptionClass\": \"\", \"trace\": \"\"}}, \"*\")"
      ],
      "text/plain": [
       "<IPython.core.display.Javascript object>"
      ]
     },
     "metadata": {},
     "output_type": "display_data"
    },
    {
     "data": {
      "text/markdown": [
       "<span style=\"color:#33cc33\">Correct</span>"
      ],
      "text/plain": [
       "Correct"
      ]
     },
     "metadata": {},
     "output_type": "display_data"
    },
    {
     "data": {
      "image/png": "[encoded data removed]",
      "text/plain": [
       "<Figure size 640x480 with 1 Axes>"
      ]
     },
     "metadata": {},
     "output_type": "display_data"
    }
   ],
   "source": [
    "# Scatter plot showing the relationship between 'chocolate' and 'winpercent'\n",
    "sns.swarmplot(x=candy_data['chocolate'],\n",
    "              y=candy_data['winpercent'])\n",
    "\n",
    "# Check your answer\n",
    "step_7.a.check()"
   ]
  },
  {
   "cell_type": "code",
   "execution_count": 23,
   "id": "4d3ed53e",
   "metadata": {
    "execution": {
     "iopub.execute_input": "2024-01-02T15:44:51.493026Z",
     "iopub.status.busy": "2024-01-02T15:44:51.492638Z",
     "iopub.status.idle": "2024-01-02T15:44:51.496910Z",
     "shell.execute_reply": "2024-01-02T15:44:51.495779Z"
    },
    "papermill": {
     "duration": 0.02191,
     "end_time": "2024-01-02T15:44:51.498976",
     "exception": false,
     "start_time": "2024-01-02T15:44:51.477066",
     "status": "completed"
    },
    "tags": []
   },
   "outputs": [],
   "source": [
    "# Lines below will give you a hint or solution code\n",
    "#step_7.a.hint()\n",
    "#step_7.a.solution_plot()"
   ]
  },
  {
   "cell_type": "markdown",
   "id": "897b54e1",
   "metadata": {
    "papermill": {
     "duration": 0.013452,
     "end_time": "2024-01-02T15:44:51.526145",
     "exception": false,
     "start_time": "2024-01-02T15:44:51.512693",
     "status": "completed"
    },
    "tags": []
   },
   "source": [
    "#### Part B\n",
    "\n",
    "You decide to dedicate a section of your report to the fact that chocolate candies tend to be more popular than candies without chocolate.  Which plot is more appropriate to tell this story: the plot from **Step 6**, or the plot from **Step 7**?"
   ]
  },
  {
   "cell_type": "code",
   "execution_count": 24,
   "id": "fca9801a",
   "metadata": {
    "execution": {
     "iopub.execute_input": "2024-01-02T15:44:51.556391Z",
     "iopub.status.busy": "2024-01-02T15:44:51.556013Z",
     "iopub.status.idle": "2024-01-02T15:44:51.560497Z",
     "shell.execute_reply": "2024-01-02T15:44:51.559574Z"
    },
    "papermill": {
     "duration": 0.021474,
     "end_time": "2024-01-02T15:44:51.562530",
     "exception": false,
     "start_time": "2024-01-02T15:44:51.541056",
     "status": "completed"
    },
    "tags": []
   },
   "outputs": [],
   "source": [
    "#step_7.b.hint()"
   ]
  },
  {
   "cell_type": "code",
   "execution_count": 25,
   "id": "20085c49",
   "metadata": {
    "execution": {
     "iopub.execute_input": "2024-01-02T15:44:51.592433Z",
     "iopub.status.busy": "2024-01-02T15:44:51.591321Z",
     "iopub.status.idle": "2024-01-02T15:44:51.600208Z",
     "shell.execute_reply": "2024-01-02T15:44:51.599334Z"
    },
    "papermill": {
     "duration": 0.025997,
     "end_time": "2024-01-02T15:44:51.602245",
     "exception": false,
     "start_time": "2024-01-02T15:44:51.576248",
     "status": "completed"
    },
    "tags": []
   },
   "outputs": [
    {
     "data": {
      "application/javascript": [
       "parent.postMessage({\"jupyterEvent\": \"custom.exercise_interaction\", \"data\": {\"interactionType\": 3, \"questionType\": 4, \"questionId\": \"7.2_ThinkSwarm\", \"learnToolsVersion\": \"0.3.4\", \"valueTowardsCompletion\": 0.0, \"failureMessage\": \"\", \"exceptionClass\": \"\", \"trace\": \"\", \"outcomeType\": 4}}, \"*\")"
      ],
      "text/plain": [
       "<IPython.core.display.Javascript object>"
      ]
     },
     "metadata": {},
     "output_type": "display_data"
    },
    {
     "data": {
      "text/markdown": [
       "<span style=\"color:#33cc99\">Solution:</span> In this case, the categorical scatter plot from **Step 7** is the more appropriate plot. While both plots tell the desired story, the plot from **Step 6** conveys far more information that could distract from the main point."
      ],
      "text/plain": [
       "Solution: In this case, the categorical scatter plot from **Step 7** is the more appropriate plot. While both plots tell the desired story, the plot from **Step 6** conveys far more information that could distract from the main point."
      ]
     },
     "metadata": {},
     "output_type": "display_data"
    }
   ],
   "source": [
    "# Check your answer (Run this code cell to receive credit!)\n",
    "step_7.b.solution()"
   ]
  },
  {
   "cell_type": "markdown",
   "id": "1a59c345",
   "metadata": {
    "papermill": {
     "duration": 0.016125,
     "end_time": "2024-01-02T15:44:51.632527",
     "exception": false,
     "start_time": "2024-01-02T15:44:51.616402",
     "status": "completed"
    },
    "tags": []
   },
   "source": [
    "## Keep going\n",
    "\n",
    "Explore **[histograms and density plots](https://www.kaggle.com/alexisbcook/distributions)**."
   ]
  },
  {
   "cell_type": "markdown",
   "id": "eec2a77b",
   "metadata": {
    "papermill": {
     "duration": 0.013478,
     "end_time": "2024-01-02T15:44:51.659957",
     "exception": false,
     "start_time": "2024-01-02T15:44:51.646479",
     "status": "completed"
    },
    "tags": []
   },
   "source": [
    "---\n",
    "\n",
    "\n",
    "\n",
    "\n",
    "*Have questions or comments? Visit the [course discussion forum](https://www.kaggle.com/learn/data-visualization/discussion) to chat with other learners.*"
   ]
  }
 ],
 "metadata": {
  "kaggle": {
   "accelerator": "none",
   "dataSources": [
    {
     "datasetId": 116573,
     "sourceId": 3551030,
     "sourceType": "datasetVersion"
    }
   ],
   "isGpuEnabled": false,
   "isInternetEnabled": false,
   "language": "python",
   "sourceType": "notebook"
  },
  "kernelspec": {
   "display_name": "Python 3",
   "language": "python",
   "name": "python3"
  },
  "language_info": {
   "codemirror_mode": {
    "name": "ipython",
    "version": 3
   },
   "file_extension": ".py",
   "mimetype": "text/x-python",
   "name": "python",
   "nbconvert_exporter": "python",
   "pygments_lexer": "ipython3",
   "version": "3.10.12"
  },
  "papermill": {
   "default_parameters": {},
   "duration": 8.657675,
   "end_time": "2024-01-02T15:44:52.294636",
   "environment_variables": {},
   "exception": null,
   "input_path": "__notebook__.ipynb",
   "output_path": "__notebook__.ipynb",
   "parameters": {},
   "start_time": "2024-01-02T15:44:43.636961",
   "version": "2.4.0"
  }
 },
 "nbformat": 4,
 "nbformat_minor": 5
}
