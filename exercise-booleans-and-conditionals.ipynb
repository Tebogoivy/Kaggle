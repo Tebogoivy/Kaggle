{
 "cells": [
  {
   "cell_type": "markdown",
   "id": "e5df0a83",
   "metadata": {
    "papermill": {
     "duration": 0.007816,
     "end_time": "2023-12-03T10:35:37.467292",
     "exception": false,
     "start_time": "2023-12-03T10:35:37.459476",
     "status": "completed"
    },
    "tags": []
   },
   "source": [
    "**This notebook is an exercise in the [Python](https://www.kaggle.com/learn/python) course.  You can reference the tutorial at [this link](https://www.kaggle.com/colinmorris/booleans-and-conditionals).**\n",
    "\n",
    "---\n"
   ]
  },
  {
   "cell_type": "markdown",
   "id": "d06608d9",
   "metadata": {
    "papermill": {
     "duration": 0.0067,
     "end_time": "2023-12-03T10:35:37.481037",
     "exception": false,
     "start_time": "2023-12-03T10:35:37.474337",
     "status": "completed"
    },
    "tags": []
   },
   "source": [
    "In this exercise, you'll put to work what you have learned about booleans and conditionals.\n",
    "\n",
    "To get started, **run the setup code below** before writing your own code (and if you leave this notebook and come back later, don't forget to run the setup code again)."
   ]
  },
  {
   "cell_type": "code",
   "execution_count": 1,
   "id": "a143cf44",
   "metadata": {
    "execution": {
     "iopub.execute_input": "2023-12-03T10:35:37.496506Z",
     "iopub.status.busy": "2023-12-03T10:35:37.496216Z",
     "iopub.status.idle": "2023-12-03T10:35:37.789340Z",
     "shell.execute_reply": "2023-12-03T10:35:37.788355Z"
    },
    "papermill": {
     "duration": 0.303136,
     "end_time": "2023-12-03T10:35:37.791085",
     "exception": false,
     "start_time": "2023-12-03T10:35:37.487949",
     "status": "completed"
    },
    "tags": []
   },
   "outputs": [
    {
     "name": "stdout",
     "output_type": "stream",
     "text": [
      "Setup complete.\n"
     ]
    }
   ],
   "source": [
    "from learntools.core import binder; binder.bind(globals())\n",
    "from learntools.python.ex3 import *\n",
    "print('Setup complete.')"
   ]
  },
  {
   "cell_type": "markdown",
   "id": "23143c7f",
   "metadata": {
    "papermill": {
     "duration": 0.006888,
     "end_time": "2023-12-03T10:35:37.805362",
     "exception": false,
     "start_time": "2023-12-03T10:35:37.798474",
     "status": "completed"
    },
    "tags": []
   },
   "source": [
    "# 1.\n",
    "\n",
    "Many programming languages have [`sign`](https://en.wikipedia.org/wiki/Sign_function) available as a built-in function. Python doesn't, but we can define our own!\n",
    "\n",
    "In the cell below, define a function called `sign` which takes a numerical argument and returns -1 if it's negative, 1 if it's positive, and 0 if it's 0."
   ]
  },
  {
   "cell_type": "code",
   "execution_count": 2,
   "id": "0c930b01",
   "metadata": {
    "execution": {
     "iopub.execute_input": "2023-12-03T10:35:37.820808Z",
     "iopub.status.busy": "2023-12-03T10:35:37.820411Z",
     "iopub.status.idle": "2023-12-03T10:35:37.827168Z",
     "shell.execute_reply": "2023-12-03T10:35:37.826646Z"
    },
    "papermill": {
     "duration": 0.016041,
     "end_time": "2023-12-03T10:35:37.828494",
     "exception": false,
     "start_time": "2023-12-03T10:35:37.812453",
     "status": "completed"
    },
    "tags": []
   },
   "outputs": [
    {
     "data": {
      "application/javascript": [
       "parent.postMessage({\"jupyterEvent\": \"custom.exercise_interaction\", \"data\": {\"outcomeType\": 1, \"valueTowardsCompletion\": 0.2, \"interactionType\": 1, \"questionType\": 2, \"questionId\": \"1_SignFunctionProblem\", \"learnToolsVersion\": \"0.3.4\", \"failureMessage\": \"\", \"exceptionClass\": \"\", \"trace\": \"\"}}, \"*\")"
      ],
      "text/plain": [
       "<IPython.core.display.Javascript object>"
      ]
     },
     "metadata": {},
     "output_type": "display_data"
    },
    {
     "data": {
      "text/markdown": [
       "<span style=\"color:#33cc33\">Correct</span>"
      ],
      "text/plain": [
       "Correct"
      ]
     },
     "metadata": {},
     "output_type": "display_data"
    }
   ],
   "source": [
    "def sign(number):\n",
    "\n",
    "    if number < 0:\n",
    "        return -1\n",
    "\n",
    "    elif number > 0:\n",
    "        return 1\n",
    "    \n",
    "    else: \n",
    "        return 0 \n",
    "\n",
    "# Check your answer\n",
    "q1.check()"
   ]
  },
  {
   "cell_type": "code",
   "execution_count": 3,
   "id": "007e8060",
   "metadata": {
    "execution": {
     "iopub.execute_input": "2023-12-03T10:35:37.844325Z",
     "iopub.status.busy": "2023-12-03T10:35:37.844065Z",
     "iopub.status.idle": "2023-12-03T10:35:37.847364Z",
     "shell.execute_reply": "2023-12-03T10:35:37.846613Z"
    },
    "papermill": {
     "duration": 0.013086,
     "end_time": "2023-12-03T10:35:37.848942",
     "exception": false,
     "start_time": "2023-12-03T10:35:37.835856",
     "status": "completed"
    },
    "tags": []
   },
   "outputs": [],
   "source": [
    "#q1.solution()"
   ]
  },
  {
   "cell_type": "markdown",
   "id": "b943d3ce",
   "metadata": {
    "papermill": {
     "duration": 0.007106,
     "end_time": "2023-12-03T10:35:37.863358",
     "exception": false,
     "start_time": "2023-12-03T10:35:37.856252",
     "status": "completed"
    },
    "tags": []
   },
   "source": [
    "# 2.\n",
    "\n",
    "We've decided to add \"logging\" to our `to_smash` function from the previous exercise."
   ]
  },
  {
   "cell_type": "code",
   "execution_count": 4,
   "id": "5934c26d",
   "metadata": {
    "execution": {
     "iopub.execute_input": "2023-12-03T10:35:37.879470Z",
     "iopub.status.busy": "2023-12-03T10:35:37.879027Z",
     "iopub.status.idle": "2023-12-03T10:35:37.885682Z",
     "shell.execute_reply": "2023-12-03T10:35:37.884788Z"
    },
    "papermill": {
     "duration": 0.016405,
     "end_time": "2023-12-03T10:35:37.887249",
     "exception": false,
     "start_time": "2023-12-03T10:35:37.870844",
     "status": "completed"
    },
    "tags": []
   },
   "outputs": [
    {
     "name": "stdout",
     "output_type": "stream",
     "text": [
      "Splitting 91 candies among 3 friends\n"
     ]
    },
    {
     "data": {
      "text/plain": [
       "1"
      ]
     },
     "execution_count": 4,
     "metadata": {},
     "output_type": "execute_result"
    }
   ],
   "source": [
    "def to_smash(total_candies, num_friends=3):\n",
    "    \"\"\"Return the number of leftover candies that must be smashed after distributing\n",
    "    the given number of candies evenly between the specified number of friends.\n",
    "    \n",
    "    >>> to_smash(91)\n",
    "    1\n",
    "    \"\"\"\n",
    "    print(\"Splitting\", total_candies, \"candies among\", num_friends, \"friends\")\n",
    "    return total_candies % num_friends\n",
    "\n",
    "# Example usage:\n",
    "to_smash(91)"
   ]
  },
  {
   "cell_type": "markdown",
   "id": "798d9327",
   "metadata": {
    "papermill": {
     "duration": 0.007327,
     "end_time": "2023-12-03T10:35:37.902187",
     "exception": false,
     "start_time": "2023-12-03T10:35:37.894860",
     "status": "completed"
    },
    "tags": []
   },
   "source": [
    "What happens if we call it with `total_candies = 1`?"
   ]
  },
  {
   "cell_type": "code",
   "execution_count": 5,
   "id": "17b22d4b",
   "metadata": {
    "execution": {
     "iopub.execute_input": "2023-12-03T10:35:37.919035Z",
     "iopub.status.busy": "2023-12-03T10:35:37.918748Z",
     "iopub.status.idle": "2023-12-03T10:35:37.924602Z",
     "shell.execute_reply": "2023-12-03T10:35:37.923807Z"
    },
    "papermill": {
     "duration": 0.016154,
     "end_time": "2023-12-03T10:35:37.926072",
     "exception": false,
     "start_time": "2023-12-03T10:35:37.909918",
     "status": "completed"
    },
    "tags": []
   },
   "outputs": [
    {
     "name": "stdout",
     "output_type": "stream",
     "text": [
      "Splitting 1 candies among 3 friends\n"
     ]
    },
    {
     "data": {
      "text/plain": [
       "1"
      ]
     },
     "execution_count": 5,
     "metadata": {},
     "output_type": "execute_result"
    }
   ],
   "source": [
    "to_smash(1)"
   ]
  },
  {
   "cell_type": "markdown",
   "id": "2dc504ab",
   "metadata": {
    "papermill": {
     "duration": 0.007564,
     "end_time": "2023-12-03T10:35:37.941665",
     "exception": false,
     "start_time": "2023-12-03T10:35:37.934101",
     "status": "completed"
    },
    "tags": []
   },
   "source": [
    "That isn't great grammar!\n",
    "\n",
    "Modify the definition in the cell below to correct the grammar of our print statement. (If there's only one candy, we should use the singular \"candy\" instead of the plural \"candies\")"
   ]
  },
  {
   "cell_type": "code",
   "execution_count": 6,
   "id": "d4547a37",
   "metadata": {
    "execution": {
     "iopub.execute_input": "2023-12-03T10:35:37.958586Z",
     "iopub.status.busy": "2023-12-03T10:35:37.958328Z",
     "iopub.status.idle": "2023-12-03T10:35:37.964572Z",
     "shell.execute_reply": "2023-12-03T10:35:37.963749Z"
    },
    "papermill": {
     "duration": 0.016635,
     "end_time": "2023-12-03T10:35:37.966149",
     "exception": false,
     "start_time": "2023-12-03T10:35:37.949514",
     "status": "completed"
    },
    "tags": []
   },
   "outputs": [
    {
     "name": "stdout",
     "output_type": "stream",
     "text": [
      "Splitting 91 candies\n"
     ]
    },
    {
     "data": {
      "text/plain": [
       "1"
      ]
     },
     "execution_count": 6,
     "metadata": {},
     "output_type": "execute_result"
    }
   ],
   "source": [
    "def to_smash(total_candies, num_friends=3):\n",
    "    \"\"\"Return the number of leftover candies that must be smashed after distributing\n",
    "    the given number of candies evenly between the specified number of friends.\n",
    "    \n",
    "    >>> to_smash(91)\n",
    "    1\n",
    "    \"\"\"\n",
    "    print(\"Splitting\", total_candies, \"candy\" if total_candies == 1 else \"candies\")\n",
    "    return total_candies % num_friends\n",
    "\n",
    "# Example usage:\n",
    "to_smash(91)"
   ]
  },
  {
   "cell_type": "markdown",
   "id": "155f3ccc",
   "metadata": {
    "papermill": {
     "duration": 0.007957,
     "end_time": "2023-12-03T10:35:37.982207",
     "exception": false,
     "start_time": "2023-12-03T10:35:37.974250",
     "status": "completed"
    },
    "tags": []
   },
   "source": [
    "To get credit for completing this problem, and to see the official answer, run the code cell below."
   ]
  },
  {
   "cell_type": "code",
   "execution_count": 7,
   "id": "c280bbc3",
   "metadata": {
    "execution": {
     "iopub.execute_input": "2023-12-03T10:35:37.999088Z",
     "iopub.status.busy": "2023-12-03T10:35:37.998786Z",
     "iopub.status.idle": "2023-12-03T10:35:38.002411Z",
     "shell.execute_reply": "2023-12-03T10:35:38.001644Z"
    },
    "papermill": {
     "duration": 0.014178,
     "end_time": "2023-12-03T10:35:38.004245",
     "exception": false,
     "start_time": "2023-12-03T10:35:37.990067",
     "status": "completed"
    },
    "tags": []
   },
   "outputs": [],
   "source": [
    "# Check your answer (Run this code cell to receive credit!)\n",
    "# q2.solution()"
   ]
  },
  {
   "cell_type": "markdown",
   "id": "f6ba434b",
   "metadata": {
    "papermill": {
     "duration": 0.008161,
     "end_time": "2023-12-03T10:35:38.020445",
     "exception": false,
     "start_time": "2023-12-03T10:35:38.012284",
     "status": "completed"
    },
    "tags": []
   },
   "source": [
    "# 3. <span title=\"A bit spicy\" style=\"color: darkgreen \">🌶️</span>\n",
    "\n",
    "In the tutorial, we talked about deciding whether we're prepared for the weather. I said that I'm safe from today's weather if...\n",
    "- I have an umbrella...\n",
    "- or if the rain isn't too heavy and I have a hood...\n",
    "- otherwise, I'm still fine unless it's raining *and* it's a workday\n",
    "\n",
    "The function below uses our first attempt at turning this logic into a Python expression. I claimed that there was a bug in that code. Can you find it?\n",
    "\n",
    "To prove that `prepared_for_weather` is buggy, come up with a set of inputs where either:\n",
    "- the function returns `False` (but should have returned `True`), or\n",
    "- the function returned `True` (but should have returned `False`).\n",
    "\n",
    "To get credit for completing this question, your code should return a <font color='#33cc33'>Correct</font> result."
   ]
  },
  {
   "cell_type": "code",
   "execution_count": 8,
   "id": "ba7c3b47",
   "metadata": {
    "execution": {
     "iopub.execute_input": "2023-12-03T10:35:38.038431Z",
     "iopub.status.busy": "2023-12-03T10:35:38.037947Z",
     "iopub.status.idle": "2023-12-03T10:35:38.046995Z",
     "shell.execute_reply": "2023-12-03T10:35:38.046368Z"
    },
    "papermill": {
     "duration": 0.020075,
     "end_time": "2023-12-03T10:35:38.048534",
     "exception": false,
     "start_time": "2023-12-03T10:35:38.028459",
     "status": "completed"
    },
    "tags": []
   },
   "outputs": [
    {
     "name": "stdout",
     "output_type": "stream",
     "text": [
      "True\n"
     ]
    },
    {
     "data": {
      "application/javascript": [
       "parent.postMessage({\"jupyterEvent\": \"custom.exercise_interaction\", \"data\": {\"outcomeType\": 1, \"valueTowardsCompletion\": 0.2, \"interactionType\": 1, \"questionType\": 1, \"questionId\": \"3_WeatherDebug\", \"learnToolsVersion\": \"0.3.4\", \"failureMessage\": \"\", \"exceptionClass\": \"\", \"trace\": \"\"}}, \"*\")"
      ],
      "text/plain": [
       "<IPython.core.display.Javascript object>"
      ]
     },
     "metadata": {},
     "output_type": "display_data"
    },
    {
     "data": {
      "text/markdown": [
       "<span style=\"color:#33cc33\">Correct:</span> \n",
       "\n",
       "One example of a failing test case is:\n",
       "\n",
       "```python\n",
       "have_umbrella = False\n",
       "rain_level = 0.0\n",
       "have_hood = False\n",
       "is_workday = False\n",
       "```\n",
       "\n",
       "Clearly we're prepared for the weather in this case. It's not raining. Not only that, it's not a workday, so we don't even need to leave the house! But our function will return False on these inputs.\n",
       "\n",
       "The key problem is that Python implictly parenthesizes the last part as:\n",
       "\n",
       "```python\n",
       "(not (rain_level > 0)) and is_workday\n",
       "```\n",
       "\n",
       "Whereas what we were trying to express would look more like:\n",
       "\n",
       "```python\n",
       "not (rain_level > 0 and is_workday)\n",
       "```\n"
      ],
      "text/plain": [
       "Correct: \n",
       "\n",
       "One example of a failing test case is:\n",
       "\n",
       "```python\n",
       "have_umbrella = False\n",
       "rain_level = 0.0\n",
       "have_hood = False\n",
       "is_workday = False\n",
       "```\n",
       "\n",
       "Clearly we're prepared for the weather in this case. It's not raining. Not only that, it's not a workday, so we don't even need to leave the house! But our function will return False on these inputs.\n",
       "\n",
       "The key problem is that Python implictly parenthesizes the last part as:\n",
       "\n",
       "```python\n",
       "(not (rain_level > 0)) and is_workday\n",
       "```\n",
       "\n",
       "Whereas what we were trying to express would look more like:\n",
       "\n",
       "```python\n",
       "not (rain_level > 0 and is_workday)\n",
       "```"
      ]
     },
     "metadata": {},
     "output_type": "display_data"
    }
   ],
   "source": [
    "def prepared_for_weather(have_umbrella, rain_level, have_hood, is_workday):\n",
    "    # Don't change this code. Our goal is just to find the bug, not fix it!\n",
    "    return have_umbrella or rain_level < 5 and have_hood or not (rain_level > 0 and is_workday)\n",
    "\n",
    "# Change the values of these inputs so they represent a case where prepared_for_weather\n",
    "# returns the wrong answer.\n",
    "have_umbrella = False\n",
    "rain_level = 6.0\n",
    "have_hood = True\n",
    "is_workday = False\n",
    "\n",
    "# Check what the function returns given the current values of the variables above\n",
    "actual = prepared_for_weather(have_umbrella, rain_level, have_hood, is_workday)\n",
    "print(actual)\n",
    "\n",
    "q3.check()"
   ]
  },
  {
   "cell_type": "code",
   "execution_count": 9,
   "id": "515c0bf3",
   "metadata": {
    "execution": {
     "iopub.execute_input": "2023-12-03T10:35:38.067100Z",
     "iopub.status.busy": "2023-12-03T10:35:38.066619Z",
     "iopub.status.idle": "2023-12-03T10:35:38.073308Z",
     "shell.execute_reply": "2023-12-03T10:35:38.072425Z"
    },
    "papermill": {
     "duration": 0.017884,
     "end_time": "2023-12-03T10:35:38.074948",
     "exception": false,
     "start_time": "2023-12-03T10:35:38.057064",
     "status": "completed"
    },
    "tags": []
   },
   "outputs": [
    {
     "data": {
      "application/javascript": [
       "parent.postMessage({\"jupyterEvent\": \"custom.exercise_interaction\", \"data\": {\"interactionType\": 3, \"questionType\": 1, \"questionId\": \"3_WeatherDebug\", \"learnToolsVersion\": \"0.3.4\", \"valueTowardsCompletion\": 0.0, \"failureMessage\": \"\", \"exceptionClass\": \"\", \"trace\": \"\", \"outcomeType\": 4}}, \"*\")"
      ],
      "text/plain": [
       "<IPython.core.display.Javascript object>"
      ]
     },
     "metadata": {},
     "output_type": "display_data"
    },
    {
     "data": {
      "text/markdown": [
       "<span style=\"color:#33cc99\">Solution:</span> One example of a failing test case is:\n",
       "\n",
       "```python\n",
       "have_umbrella = False\n",
       "rain_level = 0.0\n",
       "have_hood = False\n",
       "is_workday = False\n",
       "```\n",
       "\n",
       "Clearly we're prepared for the weather in this case. It's not raining. Not only that, it's not a workday, so we don't even need to leave the house! But our function will return False on these inputs.\n",
       "\n",
       "The key problem is that Python implictly parenthesizes the last part as:\n",
       "\n",
       "```python\n",
       "(not (rain_level > 0)) and is_workday\n",
       "```\n",
       "\n",
       "Whereas what we were trying to express would look more like:\n",
       "\n",
       "```python\n",
       "not (rain_level > 0 and is_workday)\n",
       "```\n"
      ],
      "text/plain": [
       "Solution: One example of a failing test case is:\n",
       "\n",
       "```python\n",
       "have_umbrella = False\n",
       "rain_level = 0.0\n",
       "have_hood = False\n",
       "is_workday = False\n",
       "```\n",
       "\n",
       "Clearly we're prepared for the weather in this case. It's not raining. Not only that, it's not a workday, so we don't even need to leave the house! But our function will return False on these inputs.\n",
       "\n",
       "The key problem is that Python implictly parenthesizes the last part as:\n",
       "\n",
       "```python\n",
       "(not (rain_level > 0)) and is_workday\n",
       "```\n",
       "\n",
       "Whereas what we were trying to express would look more like:\n",
       "\n",
       "```python\n",
       "not (rain_level > 0 and is_workday)\n",
       "```"
      ]
     },
     "metadata": {},
     "output_type": "display_data"
    }
   ],
   "source": [
    "#q3.hint()\n",
    "q3.solution()"
   ]
  },
  {
   "cell_type": "markdown",
   "id": "16869d3d",
   "metadata": {
    "papermill": {
     "duration": 0.008193,
     "end_time": "2023-12-03T10:35:38.091635",
     "exception": false,
     "start_time": "2023-12-03T10:35:38.083442",
     "status": "completed"
    },
    "tags": []
   },
   "source": [
    "# 4.\n",
    "\n",
    "The function `is_negative` below is implemented correctly - it returns True if the given number is negative and False otherwise.\n",
    "\n",
    "However, it's more verbose than it needs to be. We can actually reduce the number of lines of code in this function by *75%* while keeping the same behaviour. \n",
    "\n",
    "See if you can come up with an equivalent body that uses just **one line** of code, and put it in the function `concise_is_negative`. (HINT: you don't even need Python's ternary syntax)"
   ]
  },
  {
   "cell_type": "code",
   "execution_count": 10,
   "id": "1cfdb5d1",
   "metadata": {
    "execution": {
     "iopub.execute_input": "2023-12-03T10:35:38.109943Z",
     "iopub.status.busy": "2023-12-03T10:35:38.109410Z",
     "iopub.status.idle": "2023-12-03T10:35:38.117001Z",
     "shell.execute_reply": "2023-12-03T10:35:38.116415Z"
    },
    "papermill": {
     "duration": 0.018578,
     "end_time": "2023-12-03T10:35:38.118580",
     "exception": false,
     "start_time": "2023-12-03T10:35:38.100002",
     "status": "completed"
    },
    "tags": []
   },
   "outputs": [
    {
     "data": {
      "application/javascript": [
       "parent.postMessage({\"jupyterEvent\": \"custom.exercise_interaction\", \"data\": {\"outcomeType\": 1, \"valueTowardsCompletion\": 0.2, \"interactionType\": 1, \"questionType\": 2, \"questionId\": \"4_ConciseIsNegative\", \"learnToolsVersion\": \"0.3.4\", \"failureMessage\": \"\", \"exceptionClass\": \"\", \"trace\": \"\"}}, \"*\")"
      ],
      "text/plain": [
       "<IPython.core.display.Javascript object>"
      ]
     },
     "metadata": {},
     "output_type": "display_data"
    },
    {
     "data": {
      "text/markdown": [
       "<span style=\"color:#33cc33\">Correct</span>"
      ],
      "text/plain": [
       "Correct"
      ]
     },
     "metadata": {},
     "output_type": "display_data"
    }
   ],
   "source": [
    "def is_negative(number):\n",
    "    if number < 0:\n",
    "        return True\n",
    "    else:\n",
    "        return False\n",
    "\n",
    "def concise_is_negative(number):\n",
    "    return number < 0\n",
    "\n",
    "# Check your answer\n",
    "q4.check()"
   ]
  },
  {
   "cell_type": "code",
   "execution_count": 11,
   "id": "034af7b4",
   "metadata": {
    "execution": {
     "iopub.execute_input": "2023-12-03T10:35:38.137250Z",
     "iopub.status.busy": "2023-12-03T10:35:38.136768Z",
     "iopub.status.idle": "2023-12-03T10:35:38.140131Z",
     "shell.execute_reply": "2023-12-03T10:35:38.139576Z"
    },
    "papermill": {
     "duration": 0.014493,
     "end_time": "2023-12-03T10:35:38.141726",
     "exception": false,
     "start_time": "2023-12-03T10:35:38.127233",
     "status": "completed"
    },
    "tags": []
   },
   "outputs": [],
   "source": [
    "# q4.hint()\n",
    "# q4.solution()"
   ]
  },
  {
   "cell_type": "markdown",
   "id": "b63d8639",
   "metadata": {
    "papermill": {
     "duration": 0.008289,
     "end_time": "2023-12-03T10:35:38.158926",
     "exception": false,
     "start_time": "2023-12-03T10:35:38.150637",
     "status": "completed"
    },
    "tags": []
   },
   "source": [
    "# 5a.\n",
    "\n",
    "The boolean variables `ketchup`, `mustard` and `onion` represent whether a customer wants a particular topping on their hot dog. We want to implement a number of boolean functions that correspond to some yes-or-no questions about the customer's order. For example:"
   ]
  },
  {
   "cell_type": "code",
   "execution_count": 12,
   "id": "7f16812d",
   "metadata": {
    "execution": {
     "iopub.execute_input": "2023-12-03T10:35:38.177836Z",
     "iopub.status.busy": "2023-12-03T10:35:38.177408Z",
     "iopub.status.idle": "2023-12-03T10:35:38.181179Z",
     "shell.execute_reply": "2023-12-03T10:35:38.180445Z"
    },
    "papermill": {
     "duration": 0.014939,
     "end_time": "2023-12-03T10:35:38.182804",
     "exception": false,
     "start_time": "2023-12-03T10:35:38.167865",
     "status": "completed"
    },
    "tags": []
   },
   "outputs": [],
   "source": [
    "def onionless(ketchup, mustard, onion):\n",
    "    \"\"\"Return whether the customer doesn't want onions.\n",
    "    \"\"\"\n",
    "    return not onion"
   ]
  },
  {
   "cell_type": "code",
   "execution_count": 13,
   "id": "ac85dffa",
   "metadata": {
    "execution": {
     "iopub.execute_input": "2023-12-03T10:35:38.200986Z",
     "iopub.status.busy": "2023-12-03T10:35:38.200754Z",
     "iopub.status.idle": "2023-12-03T10:35:38.207376Z",
     "shell.execute_reply": "2023-12-03T10:35:38.206624Z"
    },
    "papermill": {
     "duration": 0.017445,
     "end_time": "2023-12-03T10:35:38.208883",
     "exception": false,
     "start_time": "2023-12-03T10:35:38.191438",
     "status": "completed"
    },
    "tags": []
   },
   "outputs": [
    {
     "data": {
      "application/javascript": [
       "parent.postMessage({\"jupyterEvent\": \"custom.exercise_interaction\", \"data\": {\"outcomeType\": 1, \"valueTowardsCompletion\": 0.2, \"interactionType\": 1, \"questionType\": 2, \"questionId\": \"5.1_AllToppings\", \"learnToolsVersion\": \"0.3.4\", \"failureMessage\": \"\", \"exceptionClass\": \"\", \"trace\": \"\"}}, \"*\")"
      ],
      "text/plain": [
       "<IPython.core.display.Javascript object>"
      ]
     },
     "metadata": {},
     "output_type": "display_data"
    },
    {
     "data": {
      "text/markdown": [
       "<span style=\"color:#33cc33\">Correct</span>"
      ],
      "text/plain": [
       "Correct"
      ]
     },
     "metadata": {},
     "output_type": "display_data"
    }
   ],
   "source": [
    "def wants_all_toppings(ketchup, mustard, onion):\n",
    "    \"\"\"Return whether the customer wants \"the works\" (all 3 toppings)\n",
    "    \"\"\"\n",
    "    return  ketchup and mustard and onion \n",
    "\n",
    "# Check your answer\n",
    "q5.a.check()"
   ]
  },
  {
   "cell_type": "code",
   "execution_count": 14,
   "id": "8085e6ea",
   "metadata": {
    "execution": {
     "iopub.execute_input": "2023-12-03T10:35:38.269385Z",
     "iopub.status.busy": "2023-12-03T10:35:38.268583Z",
     "iopub.status.idle": "2023-12-03T10:35:38.271879Z",
     "shell.execute_reply": "2023-12-03T10:35:38.271301Z"
    },
    "papermill": {
     "duration": 0.014859,
     "end_time": "2023-12-03T10:35:38.273310",
     "exception": false,
     "start_time": "2023-12-03T10:35:38.258451",
     "status": "completed"
    },
    "tags": []
   },
   "outputs": [],
   "source": [
    "# q5.a.hint()\n",
    "# q5.a.solution()"
   ]
  },
  {
   "cell_type": "markdown",
   "id": "4218fd8a",
   "metadata": {
    "papermill": {
     "duration": 0.008625,
     "end_time": "2023-12-03T10:35:38.290823",
     "exception": false,
     "start_time": "2023-12-03T10:35:38.282198",
     "status": "completed"
    },
    "tags": []
   },
   "source": [
    "# 5b.\n",
    "\n",
    "For the next function, fill in the body to match the English description in the docstring. "
   ]
  },
  {
   "cell_type": "code",
   "execution_count": 15,
   "id": "383764f6",
   "metadata": {
    "execution": {
     "iopub.execute_input": "2023-12-03T10:35:38.309673Z",
     "iopub.status.busy": "2023-12-03T10:35:38.309360Z",
     "iopub.status.idle": "2023-12-03T10:35:38.316634Z",
     "shell.execute_reply": "2023-12-03T10:35:38.315637Z"
    },
    "papermill": {
     "duration": 0.018653,
     "end_time": "2023-12-03T10:35:38.318282",
     "exception": false,
     "start_time": "2023-12-03T10:35:38.299629",
     "status": "completed"
    },
    "tags": []
   },
   "outputs": [
    {
     "data": {
      "application/javascript": [
       "parent.postMessage({\"jupyterEvent\": \"custom.exercise_interaction\", \"data\": {\"outcomeType\": 1, \"valueTowardsCompletion\": 0.2, \"interactionType\": 1, \"questionType\": 2, \"questionId\": \"5.2_PlainDog\", \"learnToolsVersion\": \"0.3.4\", \"failureMessage\": \"\", \"exceptionClass\": \"\", \"trace\": \"\"}}, \"*\")"
      ],
      "text/plain": [
       "<IPython.core.display.Javascript object>"
      ]
     },
     "metadata": {},
     "output_type": "display_data"
    },
    {
     "data": {
      "text/markdown": [
       "<span style=\"color:#33cc33\">Correct:</span> \n",
       "\n",
       "One solution looks like:\n",
       "```python\n",
       "return not ketchup and not mustard and not onion\n",
       "```\n",
       "\n",
       "We can also [\"factor out\" the nots](https://en.wikipedia.org/wiki/De_Morgan%27s_laws) to get:\n",
       "\n",
       "```python\n",
       "return not (ketchup or mustard or onion)\n",
       "```"
      ],
      "text/plain": [
       "Correct: \n",
       "\n",
       "One solution looks like:\n",
       "```python\n",
       "return not ketchup and not mustard and not onion\n",
       "```\n",
       "\n",
       "We can also [\"factor out\" the nots](https://en.wikipedia.org/wiki/De_Morgan%27s_laws) to get:\n",
       "\n",
       "```python\n",
       "return not (ketchup or mustard or onion)\n",
       "```"
      ]
     },
     "metadata": {},
     "output_type": "display_data"
    }
   ],
   "source": [
    "def wants_plain_hotdog(ketchup, mustard, onion):\n",
    "    \"\"\"Return whether the customer wants a plain hot dog with no toppings.\n",
    "    \"\"\"\n",
    "    return not ketchup and not mustard and not onion \n",
    "\n",
    "# Check your answer\n",
    "q5.b.check()"
   ]
  },
  {
   "cell_type": "code",
   "execution_count": 16,
   "id": "f08d0ad5",
   "metadata": {
    "execution": {
     "iopub.execute_input": "2023-12-03T10:35:38.338208Z",
     "iopub.status.busy": "2023-12-03T10:35:38.337802Z",
     "iopub.status.idle": "2023-12-03T10:35:38.341148Z",
     "shell.execute_reply": "2023-12-03T10:35:38.340339Z"
    },
    "papermill": {
     "duration": 0.015455,
     "end_time": "2023-12-03T10:35:38.342798",
     "exception": false,
     "start_time": "2023-12-03T10:35:38.327343",
     "status": "completed"
    },
    "tags": []
   },
   "outputs": [],
   "source": [
    "# q5.b.hint()\n",
    "# q5.b.solution()"
   ]
  },
  {
   "cell_type": "markdown",
   "id": "c6efd135",
   "metadata": {
    "papermill": {
     "duration": 0.008878,
     "end_time": "2023-12-03T10:35:38.360794",
     "exception": false,
     "start_time": "2023-12-03T10:35:38.351916",
     "status": "completed"
    },
    "tags": []
   },
   "source": [
    "# 5c.\n",
    "\n",
    "You know what to do: for the next function, fill in the body to match the English description in the docstring."
   ]
  },
  {
   "cell_type": "code",
   "execution_count": 17,
   "id": "26e53690",
   "metadata": {
    "execution": {
     "iopub.execute_input": "2023-12-03T10:35:38.380077Z",
     "iopub.status.busy": "2023-12-03T10:35:38.379799Z",
     "iopub.status.idle": "2023-12-03T10:35:38.387277Z",
     "shell.execute_reply": "2023-12-03T10:35:38.386522Z"
    },
    "papermill": {
     "duration": 0.019098,
     "end_time": "2023-12-03T10:35:38.388909",
     "exception": false,
     "start_time": "2023-12-03T10:35:38.369811",
     "status": "completed"
    },
    "tags": []
   },
   "outputs": [
    {
     "data": {
      "application/javascript": [
       "parent.postMessage({\"jupyterEvent\": \"custom.exercise_interaction\", \"data\": {\"outcomeType\": 1, \"valueTowardsCompletion\": 0.2, \"interactionType\": 1, \"questionType\": 2, \"questionId\": \"5.3_OneSauce\", \"learnToolsVersion\": \"0.3.4\", \"failureMessage\": \"\", \"exceptionClass\": \"\", \"trace\": \"\"}}, \"*\")"
      ],
      "text/plain": [
       "<IPython.core.display.Javascript object>"
      ]
     },
     "metadata": {},
     "output_type": "display_data"
    },
    {
     "data": {
      "text/markdown": [
       "<span style=\"color:#33cc33\">Correct</span>"
      ],
      "text/plain": [
       "Correct"
      ]
     },
     "metadata": {},
     "output_type": "display_data"
    }
   ],
   "source": [
    "def exactly_one_sauce(ketchup, mustard, onion):\n",
    "    \"\"\"Return whether the customer wants either ketchup or mustard, but not both.\n",
    "    (You may be familiar with this operation under the name \"exclusive or\")\n",
    "    \"\"\"\n",
    "    \n",
    "    return (ketchup and not mustard) or (mustard and not ketchup)\n",
    "\n",
    "# Check your answer\n",
    "q5.c.check()"
   ]
  },
  {
   "cell_type": "code",
   "execution_count": 18,
   "id": "e85506c3",
   "metadata": {
    "execution": {
     "iopub.execute_input": "2023-12-03T10:35:38.408881Z",
     "iopub.status.busy": "2023-12-03T10:35:38.408556Z",
     "iopub.status.idle": "2023-12-03T10:35:38.412187Z",
     "shell.execute_reply": "2023-12-03T10:35:38.411348Z"
    },
    "papermill": {
     "duration": 0.015535,
     "end_time": "2023-12-03T10:35:38.413817",
     "exception": false,
     "start_time": "2023-12-03T10:35:38.398282",
     "status": "completed"
    },
    "tags": []
   },
   "outputs": [],
   "source": [
    "# q5.c.hint()\n",
    "# q5.c.solution()"
   ]
  },
  {
   "cell_type": "markdown",
   "id": "627d3330",
   "metadata": {
    "papermill": {
     "duration": 0.009163,
     "end_time": "2023-12-03T10:35:38.432331",
     "exception": false,
     "start_time": "2023-12-03T10:35:38.423168",
     "status": "completed"
    },
    "tags": []
   },
   "source": [
    "# 6. <span title=\"A bit spicy\" style=\"color: darkgreen \">🌶️</span>\n",
    "\n",
    "We’ve seen that calling `bool()` on an integer returns `False` if it’s equal to 0 and `True` otherwise. What happens if we call `int()` on a bool? Try it out in the notebook cell below.\n",
    "\n",
    "Can you take advantage of this to write a succinct function that corresponds to the English sentence \"does the customer want exactly one topping?\"?"
   ]
  },
  {
   "cell_type": "code",
   "execution_count": 19,
   "id": "ce16c516",
   "metadata": {
    "execution": {
     "iopub.execute_input": "2023-12-03T10:35:38.452211Z",
     "iopub.status.busy": "2023-12-03T10:35:38.451932Z",
     "iopub.status.idle": "2023-12-03T10:35:38.458886Z",
     "shell.execute_reply": "2023-12-03T10:35:38.458063Z"
    },
    "papermill": {
     "duration": 0.018766,
     "end_time": "2023-12-03T10:35:38.460434",
     "exception": false,
     "start_time": "2023-12-03T10:35:38.441668",
     "status": "completed"
    },
    "tags": []
   },
   "outputs": [
    {
     "data": {
      "application/javascript": [
       "parent.postMessage({\"jupyterEvent\": \"custom.exercise_interaction\", \"data\": {\"outcomeType\": 1, \"valueTowardsCompletion\": 0.2, \"interactionType\": 1, \"questionType\": 2, \"questionId\": \"6_OneTopping\", \"learnToolsVersion\": \"0.3.4\", \"failureMessage\": \"\", \"exceptionClass\": \"\", \"trace\": \"\"}}, \"*\")"
      ],
      "text/plain": [
       "<IPython.core.display.Javascript object>"
      ]
     },
     "metadata": {},
     "output_type": "display_data"
    },
    {
     "data": {
      "text/markdown": [
       "<span style=\"color:#33cc33\">Correct:</span> \n",
       "\n",
       "This condition would be pretty complicated to express using just `and`, `or` and `not`, but using boolean-to-integer conversion gives us this short solution:\n",
       "```python\n",
       "return (int(ketchup) + int(mustard) + int(onion)) == 1\n",
       "```\n",
       "\n",
       "Fun fact: we don't technically need to call `int` on the arguments. Just by doing addition with booleans, Python implicitly does the integer conversion. So we could also write...\n",
       "\n",
       "```python\n",
       "return (ketchup + mustard + onion) == 1\n",
       "```"
      ],
      "text/plain": [
       "Correct: \n",
       "\n",
       "This condition would be pretty complicated to express using just `and`, `or` and `not`, but using boolean-to-integer conversion gives us this short solution:\n",
       "```python\n",
       "return (int(ketchup) + int(mustard) + int(onion)) == 1\n",
       "```\n",
       "\n",
       "Fun fact: we don't technically need to call `int` on the arguments. Just by doing addition with booleans, Python implicitly does the integer conversion. So we could also write...\n",
       "\n",
       "```python\n",
       "return (ketchup + mustard + onion) == 1\n",
       "```"
      ]
     },
     "metadata": {},
     "output_type": "display_data"
    }
   ],
   "source": [
    "def exactly_one_topping(ketchup, mustard, onion):\n",
    "    \"\"\"Return whether the customer wants exactly one of the three available toppings\n",
    "    on their hot dog.\n",
    "    \"\"\"\n",
    "    return (ketchup + mustard + onion) == 1\n",
    "\n",
    "\n",
    "# Check your answer\n",
    "q6.check()"
   ]
  },
  {
   "cell_type": "code",
   "execution_count": 20,
   "id": "c1b80211",
   "metadata": {
    "execution": {
     "iopub.execute_input": "2023-12-03T10:35:38.482261Z",
     "iopub.status.busy": "2023-12-03T10:35:38.482027Z",
     "iopub.status.idle": "2023-12-03T10:35:38.487650Z",
     "shell.execute_reply": "2023-12-03T10:35:38.486918Z"
    },
    "papermill": {
     "duration": 0.018142,
     "end_time": "2023-12-03T10:35:38.489093",
     "exception": false,
     "start_time": "2023-12-03T10:35:38.470951",
     "status": "completed"
    },
    "tags": []
   },
   "outputs": [
    {
     "data": {
      "application/javascript": [
       "parent.postMessage({\"jupyterEvent\": \"custom.exercise_interaction\", \"data\": {\"interactionType\": 3, \"questionType\": 2, \"questionId\": \"6_OneTopping\", \"learnToolsVersion\": \"0.3.4\", \"valueTowardsCompletion\": 0.0, \"failureMessage\": \"\", \"exceptionClass\": \"\", \"trace\": \"\", \"outcomeType\": 4}}, \"*\")"
      ],
      "text/plain": [
       "<IPython.core.display.Javascript object>"
      ]
     },
     "metadata": {},
     "output_type": "display_data"
    },
    {
     "data": {
      "text/markdown": [
       "<span style=\"color:#33cc99\">Solution:</span> This condition would be pretty complicated to express using just `and`, `or` and `not`, but using boolean-to-integer conversion gives us this short solution:\n",
       "```python\n",
       "return (int(ketchup) + int(mustard) + int(onion)) == 1\n",
       "```\n",
       "\n",
       "Fun fact: we don't technically need to call `int` on the arguments. Just by doing addition with booleans, Python implicitly does the integer conversion. So we could also write...\n",
       "\n",
       "```python\n",
       "return (ketchup + mustard + onion) == 1\n",
       "```"
      ],
      "text/plain": [
       "Solution: This condition would be pretty complicated to express using just `and`, `or` and `not`, but using boolean-to-integer conversion gives us this short solution:\n",
       "```python\n",
       "return (int(ketchup) + int(mustard) + int(onion)) == 1\n",
       "```\n",
       "\n",
       "Fun fact: we don't technically need to call `int` on the arguments. Just by doing addition with booleans, Python implicitly does the integer conversion. So we could also write...\n",
       "\n",
       "```python\n",
       "return (ketchup + mustard + onion) == 1\n",
       "```"
      ]
     },
     "metadata": {},
     "output_type": "display_data"
    }
   ],
   "source": [
    "#q6.hint()\n",
    "q6.solution()"
   ]
  },
  {
   "cell_type": "markdown",
   "id": "b259833e",
   "metadata": {
    "papermill": {
     "duration": 0.009527,
     "end_time": "2023-12-03T10:35:38.508387",
     "exception": false,
     "start_time": "2023-12-03T10:35:38.498860",
     "status": "completed"
    },
    "tags": []
   },
   "source": [
    "# 7. <span title=\"A bit spicy\" style=\"color: darkgreen \">🌶️</span> (Optional)\n",
    "\n",
    "In this problem we'll be working with a simplified version of [blackjack](https://en.wikipedia.org/wiki/Blackjack) (aka twenty-one). In this version there is one player (who you'll control) and a dealer. Play proceeds as follows:\n",
    "\n",
    "- The player is dealt two face-up cards. The dealer is dealt one face-up card.\n",
    "- The player may ask to be dealt another card ('hit') as many times as they wish. If the sum of their cards exceeds 21, they lose the round immediately.\n",
    "- The dealer then deals additional cards to himself until either:\n",
    "    - the sum of the dealer's cards exceeds 21, in which case the player wins the round\n",
    "    - the sum of the dealer's cards is greater than or equal to 17. If the player's total is greater than the dealer's, the player wins. Otherwise, the dealer wins (even in case of a tie).\n",
    "    \n",
    "When calculating the sum of cards, Jack, Queen, and King count for 10. Aces can count as 1 or 11 (when referring to a player's \"total\" above, we mean the largest total that can be made without exceeding 21. So e.g. A+8 = 19, A+8+8 = 17)\n",
    "\n",
    "For this problem, you'll write a function representing the player's decision-making strategy in this game. We've provided a very unintelligent implementation below:"
   ]
  },
  {
   "cell_type": "code",
   "execution_count": 21,
   "id": "baa43ba8",
   "metadata": {
    "execution": {
     "iopub.execute_input": "2023-12-03T10:35:38.529156Z",
     "iopub.status.busy": "2023-12-03T10:35:38.528887Z",
     "iopub.status.idle": "2023-12-03T10:35:38.532920Z",
     "shell.execute_reply": "2023-12-03T10:35:38.532055Z"
    },
    "papermill": {
     "duration": 0.016542,
     "end_time": "2023-12-03T10:35:38.534690",
     "exception": false,
     "start_time": "2023-12-03T10:35:38.518148",
     "status": "completed"
    },
    "tags": []
   },
   "outputs": [],
   "source": [
    "def should_hit(dealer_total, player_total, player_low_aces, player_high_aces):\n",
    "    \"\"\"Return True if the player should hit (request another card) given the current game\n",
    "    state, or False if the player should stay.\n",
    "    When calculating a hand's total value, we count aces as \"high\" (with value 11) if doing so\n",
    "    doesn't bring the total above 21, otherwise we count them as low (with value 1). \n",
    "    For example, if the player's hand is {A, A, A, 7}, we will count it as 11 + 1 + 1 + 7,\n",
    "    and therefore set player_total=20, player_low_aces=2, player_high_aces=1.\n",
    "    \"\"\"\n",
    "    return False"
   ]
  },
  {
   "cell_type": "markdown",
   "id": "1ceeca4e",
   "metadata": {
    "papermill": {
     "duration": 0.009607,
     "end_time": "2023-12-03T10:35:38.554078",
     "exception": false,
     "start_time": "2023-12-03T10:35:38.544471",
     "status": "completed"
    },
    "tags": []
   },
   "source": [
    "This very conservative agent *always* sticks with the hand of two cards that they're dealt.\n",
    "\n",
    "We'll be simulating games between your player agent and our own dealer agent by calling your function.\n",
    "\n",
    "Try running the function below to see an example of a simulated game:"
   ]
  },
  {
   "cell_type": "code",
   "execution_count": 22,
   "id": "f3b8b8d4",
   "metadata": {
    "execution": {
     "iopub.execute_input": "2023-12-03T10:35:38.575479Z",
     "iopub.status.busy": "2023-12-03T10:35:38.574951Z",
     "iopub.status.idle": "2023-12-03T10:35:38.580220Z",
     "shell.execute_reply": "2023-12-03T10:35:38.578861Z"
    },
    "papermill": {
     "duration": 0.017895,
     "end_time": "2023-12-03T10:35:38.581881",
     "exception": false,
     "start_time": "2023-12-03T10:35:38.563986",
     "status": "completed"
    },
    "tags": []
   },
   "outputs": [
    {
     "name": "stdout",
     "output_type": "stream",
     "text": [
      "Player starts with 7 and A (total = 18)\n",
      "Dealer starts with A\n",
      "\n",
      "__Player's turn__\n",
      "Player stays\n",
      "\n",
      "__Dealer's turn__\n",
      "Dealer hits and receives 3. (total = 14)\n",
      "Dealer hits and receives 8. (total = 12)\n",
      "Dealer hits and receives A. (total = 13)\n",
      "Dealer hits and receives 10. (total = 23)\n",
      "Dealer busts! Player wins.\n"
     ]
    }
   ],
   "source": [
    "q7.simulate_one_game()"
   ]
  },
  {
   "cell_type": "markdown",
   "id": "011f0c5a",
   "metadata": {
    "papermill": {
     "duration": 0.009538,
     "end_time": "2023-12-03T10:35:38.601439",
     "exception": false,
     "start_time": "2023-12-03T10:35:38.591901",
     "status": "completed"
    },
    "tags": []
   },
   "source": [
    "The real test of your agent's mettle is their average win rate over many games. Try calling the function below to simulate 50000 games of blackjack (it may take a couple seconds):"
   ]
  },
  {
   "cell_type": "code",
   "execution_count": 23,
   "id": "61ab39f3",
   "metadata": {
    "execution": {
     "iopub.execute_input": "2023-12-03T10:35:38.622825Z",
     "iopub.status.busy": "2023-12-03T10:35:38.622282Z",
     "iopub.status.idle": "2023-12-03T10:35:39.858071Z",
     "shell.execute_reply": "2023-12-03T10:35:39.857172Z"
    },
    "papermill": {
     "duration": 1.248608,
     "end_time": "2023-12-03T10:35:39.859854",
     "exception": false,
     "start_time": "2023-12-03T10:35:38.611246",
     "status": "completed"
    },
    "tags": []
   },
   "outputs": [
    {
     "name": "stdout",
     "output_type": "stream",
     "text": [
      "Player won 18914 out of 50000 games (win rate = 37.8%)\n"
     ]
    }
   ],
   "source": [
    "q7.simulate(n_games=50000)"
   ]
  },
  {
   "cell_type": "markdown",
   "id": "d39ec3fd",
   "metadata": {
    "papermill": {
     "duration": 0.009892,
     "end_time": "2023-12-03T10:35:39.879996",
     "exception": false,
     "start_time": "2023-12-03T10:35:39.870104",
     "status": "completed"
    },
    "tags": []
   },
   "source": [
    "Our dumb agent that completely ignores the game state still manages to win shockingly often!\n",
    "\n",
    "Try adding some more smarts to the `should_hit` function and see how it affects the results."
   ]
  },
  {
   "cell_type": "code",
   "execution_count": 24,
   "id": "2d1e99d2",
   "metadata": {
    "execution": {
     "iopub.execute_input": "2023-12-03T10:35:39.901214Z",
     "iopub.status.busy": "2023-12-03T10:35:39.900919Z",
     "iopub.status.idle": "2023-12-03T10:35:41.147764Z",
     "shell.execute_reply": "2023-12-03T10:35:41.147061Z"
    },
    "papermill": {
     "duration": 1.259775,
     "end_time": "2023-12-03T10:35:41.149660",
     "exception": false,
     "start_time": "2023-12-03T10:35:39.889885",
     "status": "completed"
    },
    "tags": []
   },
   "outputs": [
    {
     "name": "stdout",
     "output_type": "stream",
     "text": [
      "Player won 19184 out of 50000 games (win rate = 38.4%)\n"
     ]
    }
   ],
   "source": [
    "def should_hit(dealer_total, player_total, player_low_aces, player_high_aces):\n",
    "    \"\"\"Return True if the player should hit (request another card) given the current game\n",
    "    state, or False if the player should stay.\n",
    "    When calculating a hand's total value, we count aces as \"high\" (with value 11) if doing so\n",
    "    doesn't bring the total above 21, otherwise we count them as low (with value 1). \n",
    "    For example, if the player's hand is {A, A, A, 7}, we will count it as 11 + 1 + 1 + 7,\n",
    "    and therefore set player_total=20, player_low_aces=2, player_high_aces=1.\n",
    "    \"\"\"\n",
    "    return False\n",
    "\n",
    "q7.simulate(n_games=50000)"
   ]
  },
  {
   "cell_type": "markdown",
   "id": "57cf134e",
   "metadata": {
    "papermill": {
     "duration": 0.009961,
     "end_time": "2023-12-03T10:35:41.170500",
     "exception": false,
     "start_time": "2023-12-03T10:35:41.160539",
     "status": "completed"
    },
    "tags": []
   },
   "source": [
    "# Keep Going\n",
    "\n",
    "Learn about **[lists and tuples](https://www.kaggle.com/colinmorris/lists)** to handle multiple items of data in a systematic way."
   ]
  },
  {
   "cell_type": "markdown",
   "id": "1bd124dc",
   "metadata": {
    "papermill": {
     "duration": 0.009819,
     "end_time": "2023-12-03T10:35:41.190629",
     "exception": false,
     "start_time": "2023-12-03T10:35:41.180810",
     "status": "completed"
    },
    "tags": []
   },
   "source": [
    "---\n",
    "\n",
    "\n",
    "\n",
    "\n",
    "*Have questions or comments? Visit the [course discussion forum](https://www.kaggle.com/learn/python/discussion) to chat with other learners.*"
   ]
  }
 ],
 "metadata": {
  "kaggle": {
   "accelerator": "none",
   "dataSources": [],
   "isGpuEnabled": false,
   "isInternetEnabled": false,
   "language": "python",
   "sourceType": "notebook"
  },
  "kernelspec": {
   "display_name": "Python 3",
   "language": "python",
   "name": "python3"
  },
  "language_info": {
   "codemirror_mode": {
    "name": "ipython",
    "version": 3
   },
   "file_extension": ".py",
   "mimetype": "text/x-python",
   "name": "python",
   "nbconvert_exporter": "python",
   "pygments_lexer": "ipython3",
   "version": "3.10.12"
  },
  "learntools_metadata": {
   "lesson_index": 2,
   "type": "exercise"
  },
  "papermill": {
   "default_parameters": {},
   "duration": 6.339081,
   "end_time": "2023-12-03T10:35:41.517527",
   "environment_variables": {},
   "exception": null,
   "input_path": "__notebook__.ipynb",
   "output_path": "__notebook__.ipynb",
   "parameters": {},
   "start_time": "2023-12-03T10:35:35.178446",
   "version": "2.4.0"
  }
 },
 "nbformat": 4,
 "nbformat_minor": 5
}
