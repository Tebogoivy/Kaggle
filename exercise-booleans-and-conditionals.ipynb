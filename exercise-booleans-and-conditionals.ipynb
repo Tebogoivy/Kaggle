{
 "cells": [
  {
   "cell_type": "markdown",
   "id": "2a7334c6",
   "metadata": {
    "papermill": {
     "duration": 0.012497,
     "end_time": "2023-12-01T14:35:09.521823",
     "exception": false,
     "start_time": "2023-12-01T14:35:09.509326",
     "status": "completed"
    },
    "tags": []
   },
   "source": [
    "**This notebook is an exercise in the [Python](https://www.kaggle.com/learn/python) course.  You can reference the tutorial at [this link](https://www.kaggle.com/colinmorris/booleans-and-conditionals).**\n",
    "\n",
    "---\n"
   ]
  },
  {
   "cell_type": "markdown",
   "id": "4b514443",
   "metadata": {
    "papermill": {
     "duration": 0.012421,
     "end_time": "2023-12-01T14:35:09.546945",
     "exception": false,
     "start_time": "2023-12-01T14:35:09.534524",
     "status": "completed"
    },
    "tags": []
   },
   "source": [
    "In this exercise, you'll put to work what you have learned about booleans and conditionals.\n",
    "\n",
    "To get started, **run the setup code below** before writing your own code (and if you leave this notebook and come back later, don't forget to run the setup code again)."
   ]
  },
  {
   "cell_type": "code",
   "execution_count": 1,
   "id": "54cac710",
   "metadata": {
    "execution": {
     "iopub.execute_input": "2023-12-01T14:35:09.573717Z",
     "iopub.status.busy": "2023-12-01T14:35:09.572988Z",
     "iopub.status.idle": "2023-12-01T14:35:10.051974Z",
     "shell.execute_reply": "2023-12-01T14:35:10.050866Z"
    },
    "papermill": {
     "duration": 0.495472,
     "end_time": "2023-12-01T14:35:10.054665",
     "exception": false,
     "start_time": "2023-12-01T14:35:09.559193",
     "status": "completed"
    },
    "tags": []
   },
   "outputs": [
    {
     "name": "stdout",
     "output_type": "stream",
     "text": [
      "Setup complete.\n"
     ]
    }
   ],
   "source": [
    "from learntools.core import binder; binder.bind(globals())\n",
    "from learntools.python.ex3 import *\n",
    "print('Setup complete.')"
   ]
  },
  {
   "cell_type": "markdown",
   "id": "93723522",
   "metadata": {
    "papermill": {
     "duration": 0.012424,
     "end_time": "2023-12-01T14:35:10.080024",
     "exception": false,
     "start_time": "2023-12-01T14:35:10.067600",
     "status": "completed"
    },
    "tags": []
   },
   "source": [
    "# 1.\n",
    "\n",
    "Many programming languages have [`sign`](https://en.wikipedia.org/wiki/Sign_function) available as a built-in function. Python doesn't, but we can define our own!\n",
    "\n",
    "In the cell below, define a function called `sign` which takes a numerical argument and returns -1 if it's negative, 1 if it's positive, and 0 if it's 0."
   ]
  },
  {
   "cell_type": "code",
   "execution_count": 2,
   "id": "2f7d98c4",
   "metadata": {
    "execution": {
     "iopub.execute_input": "2023-12-01T14:35:10.107037Z",
     "iopub.status.busy": "2023-12-01T14:35:10.106492Z",
     "iopub.status.idle": "2023-12-01T14:35:10.118161Z",
     "shell.execute_reply": "2023-12-01T14:35:10.116994Z"
    },
    "papermill": {
     "duration": 0.027906,
     "end_time": "2023-12-01T14:35:10.120647",
     "exception": false,
     "start_time": "2023-12-01T14:35:10.092741",
     "status": "completed"
    },
    "tags": []
   },
   "outputs": [
    {
     "data": {
      "application/javascript": [
       "parent.postMessage({\"jupyterEvent\": \"custom.exercise_interaction\", \"data\": {\"outcomeType\": 1, \"valueTowardsCompletion\": 0.2, \"interactionType\": 1, \"questionType\": 2, \"questionId\": \"1_SignFunctionProblem\", \"learnToolsVersion\": \"0.3.4\", \"failureMessage\": \"\", \"exceptionClass\": \"\", \"trace\": \"\"}}, \"*\")"
      ],
      "text/plain": [
       "<IPython.core.display.Javascript object>"
      ]
     },
     "metadata": {},
     "output_type": "display_data"
    },
    {
     "data": {
      "text/markdown": [
       "<span style=\"color:#33cc33\">Correct</span>"
      ],
      "text/plain": [
       "Correct"
      ]
     },
     "metadata": {},
     "output_type": "display_data"
    }
   ],
   "source": [
    "def sign(number):\n",
    "\n",
    "    if number < 0:\n",
    "        return -1\n",
    "\n",
    "    elif number > 0:\n",
    "        return 1\n",
    "    \n",
    "    else: \n",
    "        return 0 \n",
    "\n",
    "# Check your answer\n",
    "q1.check()"
   ]
  },
  {
   "cell_type": "code",
   "execution_count": 3,
   "id": "545129b5",
   "metadata": {
    "execution": {
     "iopub.execute_input": "2023-12-01T14:35:10.148455Z",
     "iopub.status.busy": "2023-12-01T14:35:10.147640Z",
     "iopub.status.idle": "2023-12-01T14:35:10.152493Z",
     "shell.execute_reply": "2023-12-01T14:35:10.151655Z"
    },
    "papermill": {
     "duration": 0.021343,
     "end_time": "2023-12-01T14:35:10.154786",
     "exception": false,
     "start_time": "2023-12-01T14:35:10.133443",
     "status": "completed"
    },
    "tags": []
   },
   "outputs": [],
   "source": [
    "#q1.solution()"
   ]
  },
  {
   "cell_type": "markdown",
   "id": "5206d4f3",
   "metadata": {
    "papermill": {
     "duration": 0.012379,
     "end_time": "2023-12-01T14:35:10.179891",
     "exception": false,
     "start_time": "2023-12-01T14:35:10.167512",
     "status": "completed"
    },
    "tags": []
   },
   "source": [
    "# 2.\n",
    "\n",
    "We've decided to add \"logging\" to our `to_smash` function from the previous exercise."
   ]
  },
  {
   "cell_type": "code",
   "execution_count": 4,
   "id": "f4fef707",
   "metadata": {
    "execution": {
     "iopub.execute_input": "2023-12-01T14:35:10.207836Z",
     "iopub.status.busy": "2023-12-01T14:35:10.207049Z",
     "iopub.status.idle": "2023-12-01T14:35:10.216664Z",
     "shell.execute_reply": "2023-12-01T14:35:10.215608Z"
    },
    "papermill": {
     "duration": 0.026446,
     "end_time": "2023-12-01T14:35:10.219132",
     "exception": false,
     "start_time": "2023-12-01T14:35:10.192686",
     "status": "completed"
    },
    "tags": []
   },
   "outputs": [
    {
     "name": "stdout",
     "output_type": "stream",
     "text": [
      "Splitting 91 candies among 3 friends\n"
     ]
    },
    {
     "data": {
      "text/plain": [
       "1"
      ]
     },
     "execution_count": 4,
     "metadata": {},
     "output_type": "execute_result"
    }
   ],
   "source": [
    "def to_smash(total_candies, num_friends=3):\n",
    "    \"\"\"Return the number of leftover candies that must be smashed after distributing\n",
    "    the given number of candies evenly between the specified number of friends.\n",
    "    \n",
    "    >>> to_smash(91)\n",
    "    1\n",
    "    \"\"\"\n",
    "    print(\"Splitting\", total_candies, \"candies among\", num_friends, \"friends\")\n",
    "    return total_candies % num_friends\n",
    "\n",
    "# Example usage:\n",
    "to_smash(91)"
   ]
  },
  {
   "cell_type": "markdown",
   "id": "0da16e0a",
   "metadata": {
    "papermill": {
     "duration": 0.012715,
     "end_time": "2023-12-01T14:35:10.244628",
     "exception": false,
     "start_time": "2023-12-01T14:35:10.231913",
     "status": "completed"
    },
    "tags": []
   },
   "source": [
    "What happens if we call it with `total_candies = 1`?"
   ]
  },
  {
   "cell_type": "code",
   "execution_count": 5,
   "id": "6da0a095",
   "metadata": {
    "execution": {
     "iopub.execute_input": "2023-12-01T14:35:10.272819Z",
     "iopub.status.busy": "2023-12-01T14:35:10.271994Z",
     "iopub.status.idle": "2023-12-01T14:35:10.279937Z",
     "shell.execute_reply": "2023-12-01T14:35:10.278848Z"
    },
    "papermill": {
     "duration": 0.024771,
     "end_time": "2023-12-01T14:35:10.282421",
     "exception": false,
     "start_time": "2023-12-01T14:35:10.257650",
     "status": "completed"
    },
    "tags": []
   },
   "outputs": [
    {
     "name": "stdout",
     "output_type": "stream",
     "text": [
      "Splitting 1 candies among 3 friends\n"
     ]
    },
    {
     "data": {
      "text/plain": [
       "1"
      ]
     },
     "execution_count": 5,
     "metadata": {},
     "output_type": "execute_result"
    }
   ],
   "source": [
    "to_smash(1)"
   ]
  },
  {
   "cell_type": "markdown",
   "id": "69fcfb73",
   "metadata": {
    "papermill": {
     "duration": 0.012835,
     "end_time": "2023-12-01T14:35:10.308490",
     "exception": false,
     "start_time": "2023-12-01T14:35:10.295655",
     "status": "completed"
    },
    "tags": []
   },
   "source": [
    "That isn't great grammar!\n",
    "\n",
    "Modify the definition in the cell below to correct the grammar of our print statement. (If there's only one candy, we should use the singular \"candy\" instead of the plural \"candies\")"
   ]
  },
  {
   "cell_type": "code",
   "execution_count": 6,
   "id": "7fb952df",
   "metadata": {
    "execution": {
     "iopub.execute_input": "2023-12-01T14:35:10.337808Z",
     "iopub.status.busy": "2023-12-01T14:35:10.336986Z",
     "iopub.status.idle": "2023-12-01T14:35:10.346386Z",
     "shell.execute_reply": "2023-12-01T14:35:10.345291Z"
    },
    "papermill": {
     "duration": 0.026616,
     "end_time": "2023-12-01T14:35:10.348757",
     "exception": false,
     "start_time": "2023-12-01T14:35:10.322141",
     "status": "completed"
    },
    "tags": []
   },
   "outputs": [
    {
     "name": "stdout",
     "output_type": "stream",
     "text": [
      "Splitting 91 candies\n"
     ]
    },
    {
     "data": {
      "text/plain": [
       "1"
      ]
     },
     "execution_count": 6,
     "metadata": {},
     "output_type": "execute_result"
    }
   ],
   "source": [
    "def to_smash(total_candies, num_friends=3):\n",
    "    \"\"\"Return the number of leftover candies that must be smashed after distributing\n",
    "    the given number of candies evenly between the specified number of friends.\n",
    "    \n",
    "    >>> to_smash(91)\n",
    "    1\n",
    "    \"\"\"\n",
    "    print(\"Splitting\", total_candies, \"candy\" if total_candies == 1 else \"candies\")\n",
    "    return total_candies % num_friends\n",
    "\n",
    "# Example usage:\n",
    "to_smash(91)"
   ]
  },
  {
   "cell_type": "markdown",
   "id": "ac235174",
   "metadata": {
    "papermill": {
     "duration": 0.013348,
     "end_time": "2023-12-01T14:35:10.375429",
     "exception": false,
     "start_time": "2023-12-01T14:35:10.362081",
     "status": "completed"
    },
    "tags": []
   },
   "source": [
    "To get credit for completing this problem, and to see the official answer, run the code cell below."
   ]
  },
  {
   "cell_type": "code",
   "execution_count": 7,
   "id": "97f330be",
   "metadata": {
    "execution": {
     "iopub.execute_input": "2023-12-01T14:35:10.404293Z",
     "iopub.status.busy": "2023-12-01T14:35:10.403885Z",
     "iopub.status.idle": "2023-12-01T14:35:10.408075Z",
     "shell.execute_reply": "2023-12-01T14:35:10.406999Z"
    },
    "papermill": {
     "duration": 0.021463,
     "end_time": "2023-12-01T14:35:10.410403",
     "exception": false,
     "start_time": "2023-12-01T14:35:10.388940",
     "status": "completed"
    },
    "tags": []
   },
   "outputs": [],
   "source": [
    "# Check your answer (Run this code cell to receive credit!)\n",
    "# q2.solution()"
   ]
  },
  {
   "cell_type": "markdown",
   "id": "4fc138b5",
   "metadata": {
    "papermill": {
     "duration": 0.012855,
     "end_time": "2023-12-01T14:35:10.436639",
     "exception": false,
     "start_time": "2023-12-01T14:35:10.423784",
     "status": "completed"
    },
    "tags": []
   },
   "source": [
    "# 3. <span title=\"A bit spicy\" style=\"color: darkgreen \">🌶️</span>\n",
    "\n",
    "In the tutorial, we talked about deciding whether we're prepared for the weather. I said that I'm safe from today's weather if...\n",
    "- I have an umbrella...\n",
    "- or if the rain isn't too heavy and I have a hood...\n",
    "- otherwise, I'm still fine unless it's raining *and* it's a workday\n",
    "\n",
    "The function below uses our first attempt at turning this logic into a Python expression. I claimed that there was a bug in that code. Can you find it?\n",
    "\n",
    "To prove that `prepared_for_weather` is buggy, come up with a set of inputs where either:\n",
    "- the function returns `False` (but should have returned `True`), or\n",
    "- the function returned `True` (but should have returned `False`).\n",
    "\n",
    "To get credit for completing this question, your code should return a <font color='#33cc33'>Correct</font> result."
   ]
  },
  {
   "cell_type": "code",
   "execution_count": 8,
   "id": "55051c49",
   "metadata": {
    "execution": {
     "iopub.execute_input": "2023-12-01T14:35:10.466350Z",
     "iopub.status.busy": "2023-12-01T14:35:10.465578Z",
     "iopub.status.idle": "2023-12-01T14:35:10.474761Z",
     "shell.execute_reply": "2023-12-01T14:35:10.473202Z"
    },
    "papermill": {
     "duration": 0.027359,
     "end_time": "2023-12-01T14:35:10.477547",
     "exception": false,
     "start_time": "2023-12-01T14:35:10.450188",
     "status": "completed"
    },
    "tags": []
   },
   "outputs": [
    {
     "name": "stdout",
     "output_type": "stream",
     "text": [
      "True\n"
     ]
    }
   ],
   "source": [
    "def prepared_for_weather(have_umbrella, rain_level, have_hood, is_workday):\n",
    "    # Use parentheses to clarify the order of operations\n",
    "    return have_umbrella or (rain_level < 5 and have_hood) or not (rain_level > 0 and is_workday)\n",
    "\n",
    "# Change the values of these inputs so they represent a case where prepared_for_weather\n",
    "# returns the wrong answer.\n",
    "have_umbrella = False\n",
    "rain_level = 0.0\n",
    "have_hood = False\n",
    "is_workday = False\n",
    "\n",
    "# Check what the function returns given the current values of the variables above\n",
    "actual = prepared_for_weather(have_umbrella, rain_level, have_hood, is_workday)\n",
    "print(actual)"
   ]
  },
  {
   "cell_type": "code",
   "execution_count": 9,
   "id": "10f7faa5",
   "metadata": {
    "execution": {
     "iopub.execute_input": "2023-12-01T14:35:10.506433Z",
     "iopub.status.busy": "2023-12-01T14:35:10.505985Z",
     "iopub.status.idle": "2023-12-01T14:35:10.511107Z",
     "shell.execute_reply": "2023-12-01T14:35:10.509969Z"
    },
    "papermill": {
     "duration": 0.022357,
     "end_time": "2023-12-01T14:35:10.513705",
     "exception": false,
     "start_time": "2023-12-01T14:35:10.491348",
     "status": "completed"
    },
    "tags": []
   },
   "outputs": [],
   "source": [
    "#q3.hint()\n",
    "#q3.solution()"
   ]
  },
  {
   "cell_type": "markdown",
   "id": "1a2f7d55",
   "metadata": {
    "papermill": {
     "duration": 0.013808,
     "end_time": "2023-12-01T14:35:10.541416",
     "exception": false,
     "start_time": "2023-12-01T14:35:10.527608",
     "status": "completed"
    },
    "tags": []
   },
   "source": [
    "# 4.\n",
    "\n",
    "The function `is_negative` below is implemented correctly - it returns True if the given number is negative and False otherwise.\n",
    "\n",
    "However, it's more verbose than it needs to be. We can actually reduce the number of lines of code in this function by *75%* while keeping the same behaviour. \n",
    "\n",
    "See if you can come up with an equivalent body that uses just **one line** of code, and put it in the function `concise_is_negative`. (HINT: you don't even need Python's ternary syntax)"
   ]
  },
  {
   "cell_type": "code",
   "execution_count": 10,
   "id": "9405f542",
   "metadata": {
    "execution": {
     "iopub.execute_input": "2023-12-01T14:35:10.570239Z",
     "iopub.status.busy": "2023-12-01T14:35:10.569655Z",
     "iopub.status.idle": "2023-12-01T14:35:10.580204Z",
     "shell.execute_reply": "2023-12-01T14:35:10.579036Z"
    },
    "papermill": {
     "duration": 0.027452,
     "end_time": "2023-12-01T14:35:10.582456",
     "exception": false,
     "start_time": "2023-12-01T14:35:10.555004",
     "status": "completed"
    },
    "tags": []
   },
   "outputs": [
    {
     "data": {
      "application/javascript": [
       "parent.postMessage({\"jupyterEvent\": \"custom.exercise_interaction\", \"data\": {\"outcomeType\": 1, \"valueTowardsCompletion\": 0.2, \"interactionType\": 1, \"questionType\": 2, \"questionId\": \"4_ConciseIsNegative\", \"learnToolsVersion\": \"0.3.4\", \"failureMessage\": \"\", \"exceptionClass\": \"\", \"trace\": \"\"}}, \"*\")"
      ],
      "text/plain": [
       "<IPython.core.display.Javascript object>"
      ]
     },
     "metadata": {},
     "output_type": "display_data"
    },
    {
     "data": {
      "text/markdown": [
       "<span style=\"color:#33cc33\">Correct</span>"
      ],
      "text/plain": [
       "Correct"
      ]
     },
     "metadata": {},
     "output_type": "display_data"
    }
   ],
   "source": [
    "def is_negative(number):\n",
    "    if number < 0:\n",
    "        return True\n",
    "    else:\n",
    "        return False\n",
    "\n",
    "def concise_is_negative(number):\n",
    "    return number < 0\n",
    "\n",
    "# Check your answer\n",
    "q4.check()"
   ]
  },
  {
   "cell_type": "code",
   "execution_count": 11,
   "id": "53255a8c",
   "metadata": {
    "execution": {
     "iopub.execute_input": "2023-12-01T14:35:10.612218Z",
     "iopub.status.busy": "2023-12-01T14:35:10.611779Z",
     "iopub.status.idle": "2023-12-01T14:35:10.616274Z",
     "shell.execute_reply": "2023-12-01T14:35:10.615161Z"
    },
    "papermill": {
     "duration": 0.022015,
     "end_time": "2023-12-01T14:35:10.618509",
     "exception": false,
     "start_time": "2023-12-01T14:35:10.596494",
     "status": "completed"
    },
    "tags": []
   },
   "outputs": [],
   "source": [
    "# q4.hint()\n",
    "# q4.solution()"
   ]
  },
  {
   "cell_type": "markdown",
   "id": "f13ff7d4",
   "metadata": {
    "papermill": {
     "duration": 0.013465,
     "end_time": "2023-12-01T14:35:10.646200",
     "exception": false,
     "start_time": "2023-12-01T14:35:10.632735",
     "status": "completed"
    },
    "tags": []
   },
   "source": [
    "# 5a.\n",
    "\n",
    "The boolean variables `ketchup`, `mustard` and `onion` represent whether a customer wants a particular topping on their hot dog. We want to implement a number of boolean functions that correspond to some yes-or-no questions about the customer's order. For example:"
   ]
  },
  {
   "cell_type": "code",
   "execution_count": 12,
   "id": "eba73088",
   "metadata": {
    "execution": {
     "iopub.execute_input": "2023-12-01T14:35:10.676372Z",
     "iopub.status.busy": "2023-12-01T14:35:10.675229Z",
     "iopub.status.idle": "2023-12-01T14:35:10.680251Z",
     "shell.execute_reply": "2023-12-01T14:35:10.679422Z"
    },
    "papermill": {
     "duration": 0.022593,
     "end_time": "2023-12-01T14:35:10.682642",
     "exception": false,
     "start_time": "2023-12-01T14:35:10.660049",
     "status": "completed"
    },
    "tags": []
   },
   "outputs": [],
   "source": [
    "def onionless(ketchup, mustard, onion):\n",
    "    \"\"\"Return whether the customer doesn't want onions.\n",
    "    \"\"\"\n",
    "    return not onion"
   ]
  },
  {
   "cell_type": "code",
   "execution_count": 13,
   "id": "61e96945",
   "metadata": {
    "execution": {
     "iopub.execute_input": "2023-12-01T14:35:10.713786Z",
     "iopub.status.busy": "2023-12-01T14:35:10.713331Z",
     "iopub.status.idle": "2023-12-01T14:35:10.722563Z",
     "shell.execute_reply": "2023-12-01T14:35:10.721430Z"
    },
    "papermill": {
     "duration": 0.027463,
     "end_time": "2023-12-01T14:35:10.725036",
     "exception": false,
     "start_time": "2023-12-01T14:35:10.697573",
     "status": "completed"
    },
    "tags": []
   },
   "outputs": [
    {
     "data": {
      "application/javascript": [
       "parent.postMessage({\"jupyterEvent\": \"custom.exercise_interaction\", \"data\": {\"outcomeType\": 1, \"valueTowardsCompletion\": 0.2, \"interactionType\": 1, \"questionType\": 2, \"questionId\": \"5.1_AllToppings\", \"learnToolsVersion\": \"0.3.4\", \"failureMessage\": \"\", \"exceptionClass\": \"\", \"trace\": \"\"}}, \"*\")"
      ],
      "text/plain": [
       "<IPython.core.display.Javascript object>"
      ]
     },
     "metadata": {},
     "output_type": "display_data"
    },
    {
     "data": {
      "text/markdown": [
       "<span style=\"color:#33cc33\">Correct</span>"
      ],
      "text/plain": [
       "Correct"
      ]
     },
     "metadata": {},
     "output_type": "display_data"
    }
   ],
   "source": [
    "def wants_all_toppings(ketchup, mustard, onion):\n",
    "    \"\"\"Return whether the customer wants \"the works\" (all 3 toppings)\n",
    "    \"\"\"\n",
    "    return  ketchup and mustard and onion \n",
    "\n",
    "# Check your answer\n",
    "q5.a.check()"
   ]
  },
  {
   "cell_type": "code",
   "execution_count": 14,
   "id": "525cfd3c",
   "metadata": {
    "execution": {
     "iopub.execute_input": "2023-12-01T14:35:10.819956Z",
     "iopub.status.busy": "2023-12-01T14:35:10.819543Z",
     "iopub.status.idle": "2023-12-01T14:35:10.824458Z",
     "shell.execute_reply": "2023-12-01T14:35:10.823285Z"
    },
    "papermill": {
     "duration": 0.023031,
     "end_time": "2023-12-01T14:35:10.826972",
     "exception": false,
     "start_time": "2023-12-01T14:35:10.803941",
     "status": "completed"
    },
    "tags": []
   },
   "outputs": [],
   "source": [
    "# q5.a.hint()\n",
    "# q5.a.solution()"
   ]
  },
  {
   "cell_type": "markdown",
   "id": "ca76e471",
   "metadata": {
    "papermill": {
     "duration": 0.014587,
     "end_time": "2023-12-01T14:35:10.856258",
     "exception": false,
     "start_time": "2023-12-01T14:35:10.841671",
     "status": "completed"
    },
    "tags": []
   },
   "source": [
    "# 5b.\n",
    "\n",
    "For the next function, fill in the body to match the English description in the docstring. "
   ]
  },
  {
   "cell_type": "code",
   "execution_count": 15,
   "id": "9701f14b",
   "metadata": {
    "execution": {
     "iopub.execute_input": "2023-12-01T14:35:10.886732Z",
     "iopub.status.busy": "2023-12-01T14:35:10.886121Z",
     "iopub.status.idle": "2023-12-01T14:35:10.896065Z",
     "shell.execute_reply": "2023-12-01T14:35:10.894934Z"
    },
    "papermill": {
     "duration": 0.028018,
     "end_time": "2023-12-01T14:35:10.898583",
     "exception": false,
     "start_time": "2023-12-01T14:35:10.870565",
     "status": "completed"
    },
    "tags": []
   },
   "outputs": [
    {
     "data": {
      "application/javascript": [
       "parent.postMessage({\"jupyterEvent\": \"custom.exercise_interaction\", \"data\": {\"outcomeType\": 1, \"valueTowardsCompletion\": 0.2, \"interactionType\": 1, \"questionType\": 2, \"questionId\": \"5.2_PlainDog\", \"learnToolsVersion\": \"0.3.4\", \"failureMessage\": \"\", \"exceptionClass\": \"\", \"trace\": \"\"}}, \"*\")"
      ],
      "text/plain": [
       "<IPython.core.display.Javascript object>"
      ]
     },
     "metadata": {},
     "output_type": "display_data"
    },
    {
     "data": {
      "text/markdown": [
       "<span style=\"color:#33cc33\">Correct:</span> \n",
       "\n",
       "One solution looks like:\n",
       "```python\n",
       "return not ketchup and not mustard and not onion\n",
       "```\n",
       "\n",
       "We can also [\"factor out\" the nots](https://en.wikipedia.org/wiki/De_Morgan%27s_laws) to get:\n",
       "\n",
       "```python\n",
       "return not (ketchup or mustard or onion)\n",
       "```"
      ],
      "text/plain": [
       "Correct: \n",
       "\n",
       "One solution looks like:\n",
       "```python\n",
       "return not ketchup and not mustard and not onion\n",
       "```\n",
       "\n",
       "We can also [\"factor out\" the nots](https://en.wikipedia.org/wiki/De_Morgan%27s_laws) to get:\n",
       "\n",
       "```python\n",
       "return not (ketchup or mustard or onion)\n",
       "```"
      ]
     },
     "metadata": {},
     "output_type": "display_data"
    }
   ],
   "source": [
    "def wants_plain_hotdog(ketchup, mustard, onion):\n",
    "    \"\"\"Return whether the customer wants a plain hot dog with no toppings.\n",
    "    \"\"\"\n",
    "    return not ketchup and not mustard and not onion \n",
    "\n",
    "# Check your answer\n",
    "q5.b.check()"
   ]
  },
  {
   "cell_type": "code",
   "execution_count": 16,
   "id": "00b92f9a",
   "metadata": {
    "execution": {
     "iopub.execute_input": "2023-12-01T14:35:10.930158Z",
     "iopub.status.busy": "2023-12-01T14:35:10.929745Z",
     "iopub.status.idle": "2023-12-01T14:35:10.933994Z",
     "shell.execute_reply": "2023-12-01T14:35:10.933173Z"
    },
    "papermill": {
     "duration": 0.022735,
     "end_time": "2023-12-01T14:35:10.936271",
     "exception": false,
     "start_time": "2023-12-01T14:35:10.913536",
     "status": "completed"
    },
    "tags": []
   },
   "outputs": [],
   "source": [
    "# q5.b.hint()\n",
    "# q5.b.solution()"
   ]
  },
  {
   "cell_type": "markdown",
   "id": "14ff2b7d",
   "metadata": {
    "papermill": {
     "duration": 0.015176,
     "end_time": "2023-12-01T14:35:10.966387",
     "exception": false,
     "start_time": "2023-12-01T14:35:10.951211",
     "status": "completed"
    },
    "tags": []
   },
   "source": [
    "# 5c.\n",
    "\n",
    "You know what to do: for the next function, fill in the body to match the English description in the docstring."
   ]
  },
  {
   "cell_type": "code",
   "execution_count": 17,
   "id": "b5d5f04c",
   "metadata": {
    "execution": {
     "iopub.execute_input": "2023-12-01T14:35:10.998015Z",
     "iopub.status.busy": "2023-12-01T14:35:10.997239Z",
     "iopub.status.idle": "2023-12-01T14:35:11.006258Z",
     "shell.execute_reply": "2023-12-01T14:35:11.005181Z"
    },
    "papermill": {
     "duration": 0.027471,
     "end_time": "2023-12-01T14:35:11.008535",
     "exception": false,
     "start_time": "2023-12-01T14:35:10.981064",
     "status": "completed"
    },
    "tags": []
   },
   "outputs": [
    {
     "data": {
      "application/javascript": [
       "parent.postMessage({\"jupyterEvent\": \"custom.exercise_interaction\", \"data\": {\"outcomeType\": 1, \"valueTowardsCompletion\": 0.2, \"interactionType\": 1, \"questionType\": 2, \"questionId\": \"5.3_OneSauce\", \"learnToolsVersion\": \"0.3.4\", \"failureMessage\": \"\", \"exceptionClass\": \"\", \"trace\": \"\"}}, \"*\")"
      ],
      "text/plain": [
       "<IPython.core.display.Javascript object>"
      ]
     },
     "metadata": {},
     "output_type": "display_data"
    },
    {
     "data": {
      "text/markdown": [
       "<span style=\"color:#33cc33\">Correct</span>"
      ],
      "text/plain": [
       "Correct"
      ]
     },
     "metadata": {},
     "output_type": "display_data"
    }
   ],
   "source": [
    "def exactly_one_sauce(ketchup, mustard, onion):\n",
    "    \"\"\"Return whether the customer wants either ketchup or mustard, but not both.\n",
    "    (You may be familiar with this operation under the name \"exclusive or\")\n",
    "    \"\"\"\n",
    "    \n",
    "    return (ketchup and not mustard) or (mustard and not ketchup)\n",
    "\n",
    "# Check your answer\n",
    "q5.c.check()"
   ]
  },
  {
   "cell_type": "code",
   "execution_count": 18,
   "id": "98f457ae",
   "metadata": {
    "execution": {
     "iopub.execute_input": "2023-12-01T14:35:11.041075Z",
     "iopub.status.busy": "2023-12-01T14:35:11.040354Z",
     "iopub.status.idle": "2023-12-01T14:35:11.044635Z",
     "shell.execute_reply": "2023-12-01T14:35:11.043526Z"
    },
    "papermill": {
     "duration": 0.023395,
     "end_time": "2023-12-01T14:35:11.047116",
     "exception": false,
     "start_time": "2023-12-01T14:35:11.023721",
     "status": "completed"
    },
    "tags": []
   },
   "outputs": [],
   "source": [
    "# q5.c.hint()\n",
    "# q5.c.solution()"
   ]
  },
  {
   "cell_type": "markdown",
   "id": "7e8036dd",
   "metadata": {
    "papermill": {
     "duration": 0.015086,
     "end_time": "2023-12-01T14:35:11.077355",
     "exception": false,
     "start_time": "2023-12-01T14:35:11.062269",
     "status": "completed"
    },
    "tags": []
   },
   "source": [
    "# 6. <span title=\"A bit spicy\" style=\"color: darkgreen \">🌶️</span>\n",
    "\n",
    "We’ve seen that calling `bool()` on an integer returns `False` if it’s equal to 0 and `True` otherwise. What happens if we call `int()` on a bool? Try it out in the notebook cell below.\n",
    "\n",
    "Can you take advantage of this to write a succinct function that corresponds to the English sentence \"does the customer want exactly one topping?\"?"
   ]
  },
  {
   "cell_type": "code",
   "execution_count": 19,
   "id": "68ade866",
   "metadata": {
    "execution": {
     "iopub.execute_input": "2023-12-01T14:35:11.110231Z",
     "iopub.status.busy": "2023-12-01T14:35:11.109070Z",
     "iopub.status.idle": "2023-12-01T14:35:11.117962Z",
     "shell.execute_reply": "2023-12-01T14:35:11.117012Z"
    },
    "papermill": {
     "duration": 0.027294,
     "end_time": "2023-12-01T14:35:11.120033",
     "exception": false,
     "start_time": "2023-12-01T14:35:11.092739",
     "status": "completed"
    },
    "tags": []
   },
   "outputs": [
    {
     "data": {
      "application/javascript": [
       "parent.postMessage({\"jupyterEvent\": \"custom.exercise_interaction\", \"data\": {\"outcomeType\": 1, \"valueTowardsCompletion\": 0.2, \"interactionType\": 1, \"questionType\": 2, \"questionId\": \"6_OneTopping\", \"learnToolsVersion\": \"0.3.4\", \"failureMessage\": \"\", \"exceptionClass\": \"\", \"trace\": \"\"}}, \"*\")"
      ],
      "text/plain": [
       "<IPython.core.display.Javascript object>"
      ]
     },
     "metadata": {},
     "output_type": "display_data"
    },
    {
     "data": {
      "text/markdown": [
       "<span style=\"color:#33cc33\">Correct:</span> \n",
       "\n",
       "This condition would be pretty complicated to express using just `and`, `or` and `not`, but using boolean-to-integer conversion gives us this short solution:\n",
       "```python\n",
       "return (int(ketchup) + int(mustard) + int(onion)) == 1\n",
       "```\n",
       "\n",
       "Fun fact: we don't technically need to call `int` on the arguments. Just by doing addition with booleans, Python implicitly does the integer conversion. So we could also write...\n",
       "\n",
       "```python\n",
       "return (ketchup + mustard + onion) == 1\n",
       "```"
      ],
      "text/plain": [
       "Correct: \n",
       "\n",
       "This condition would be pretty complicated to express using just `and`, `or` and `not`, but using boolean-to-integer conversion gives us this short solution:\n",
       "```python\n",
       "return (int(ketchup) + int(mustard) + int(onion)) == 1\n",
       "```\n",
       "\n",
       "Fun fact: we don't technically need to call `int` on the arguments. Just by doing addition with booleans, Python implicitly does the integer conversion. So we could also write...\n",
       "\n",
       "```python\n",
       "return (ketchup + mustard + onion) == 1\n",
       "```"
      ]
     },
     "metadata": {},
     "output_type": "display_data"
    }
   ],
   "source": [
    "def exactly_one_topping(ketchup, mustard, onion):\n",
    "    \"\"\"Return whether the customer wants exactly one of the three available toppings\n",
    "    on their hot dog.\n",
    "    \"\"\"\n",
    "    return (ketchup + mustard + onion) == 1\n",
    "\n",
    "\n",
    "# Check your answer\n",
    "q6.check()"
   ]
  },
  {
   "cell_type": "code",
   "execution_count": 20,
   "id": "500be8f0",
   "metadata": {
    "execution": {
     "iopub.execute_input": "2023-12-01T14:35:11.153305Z",
     "iopub.status.busy": "2023-12-01T14:35:11.152248Z",
     "iopub.status.idle": "2023-12-01T14:35:11.161718Z",
     "shell.execute_reply": "2023-12-01T14:35:11.160616Z"
    },
    "papermill": {
     "duration": 0.028783,
     "end_time": "2023-12-01T14:35:11.164237",
     "exception": false,
     "start_time": "2023-12-01T14:35:11.135454",
     "status": "completed"
    },
    "tags": []
   },
   "outputs": [
    {
     "data": {
      "application/javascript": [
       "parent.postMessage({\"jupyterEvent\": \"custom.exercise_interaction\", \"data\": {\"interactionType\": 3, \"questionType\": 2, \"questionId\": \"6_OneTopping\", \"learnToolsVersion\": \"0.3.4\", \"valueTowardsCompletion\": 0.0, \"failureMessage\": \"\", \"exceptionClass\": \"\", \"trace\": \"\", \"outcomeType\": 4}}, \"*\")"
      ],
      "text/plain": [
       "<IPython.core.display.Javascript object>"
      ]
     },
     "metadata": {},
     "output_type": "display_data"
    },
    {
     "data": {
      "text/markdown": [
       "<span style=\"color:#33cc99\">Solution:</span> This condition would be pretty complicated to express using just `and`, `or` and `not`, but using boolean-to-integer conversion gives us this short solution:\n",
       "```python\n",
       "return (int(ketchup) + int(mustard) + int(onion)) == 1\n",
       "```\n",
       "\n",
       "Fun fact: we don't technically need to call `int` on the arguments. Just by doing addition with booleans, Python implicitly does the integer conversion. So we could also write...\n",
       "\n",
       "```python\n",
       "return (ketchup + mustard + onion) == 1\n",
       "```"
      ],
      "text/plain": [
       "Solution: This condition would be pretty complicated to express using just `and`, `or` and `not`, but using boolean-to-integer conversion gives us this short solution:\n",
       "```python\n",
       "return (int(ketchup) + int(mustard) + int(onion)) == 1\n",
       "```\n",
       "\n",
       "Fun fact: we don't technically need to call `int` on the arguments. Just by doing addition with booleans, Python implicitly does the integer conversion. So we could also write...\n",
       "\n",
       "```python\n",
       "return (ketchup + mustard + onion) == 1\n",
       "```"
      ]
     },
     "metadata": {},
     "output_type": "display_data"
    }
   ],
   "source": [
    "#q6.hint()\n",
    "q6.solution()"
   ]
  },
  {
   "cell_type": "markdown",
   "id": "1009fb20",
   "metadata": {
    "papermill": {
     "duration": 0.016024,
     "end_time": "2023-12-01T14:35:11.196579",
     "exception": false,
     "start_time": "2023-12-01T14:35:11.180555",
     "status": "completed"
    },
    "tags": []
   },
   "source": [
    "# 7. <span title=\"A bit spicy\" style=\"color: darkgreen \">🌶️</span> (Optional)\n",
    "\n",
    "In this problem we'll be working with a simplified version of [blackjack](https://en.wikipedia.org/wiki/Blackjack) (aka twenty-one). In this version there is one player (who you'll control) and a dealer. Play proceeds as follows:\n",
    "\n",
    "- The player is dealt two face-up cards. The dealer is dealt one face-up card.\n",
    "- The player may ask to be dealt another card ('hit') as many times as they wish. If the sum of their cards exceeds 21, they lose the round immediately.\n",
    "- The dealer then deals additional cards to himself until either:\n",
    "    - the sum of the dealer's cards exceeds 21, in which case the player wins the round\n",
    "    - the sum of the dealer's cards is greater than or equal to 17. If the player's total is greater than the dealer's, the player wins. Otherwise, the dealer wins (even in case of a tie).\n",
    "    \n",
    "When calculating the sum of cards, Jack, Queen, and King count for 10. Aces can count as 1 or 11 (when referring to a player's \"total\" above, we mean the largest total that can be made without exceeding 21. So e.g. A+8 = 19, A+8+8 = 17)\n",
    "\n",
    "For this problem, you'll write a function representing the player's decision-making strategy in this game. We've provided a very unintelligent implementation below:"
   ]
  },
  {
   "cell_type": "code",
   "execution_count": 21,
   "id": "d66b3ac3",
   "metadata": {
    "execution": {
     "iopub.execute_input": "2023-12-01T14:35:11.230294Z",
     "iopub.status.busy": "2023-12-01T14:35:11.229894Z",
     "iopub.status.idle": "2023-12-01T14:35:11.235598Z",
     "shell.execute_reply": "2023-12-01T14:35:11.234429Z"
    },
    "papermill": {
     "duration": 0.025266,
     "end_time": "2023-12-01T14:35:11.238073",
     "exception": false,
     "start_time": "2023-12-01T14:35:11.212807",
     "status": "completed"
    },
    "tags": []
   },
   "outputs": [],
   "source": [
    "def should_hit(dealer_total, player_total, player_low_aces, player_high_aces):\n",
    "    \"\"\"Return True if the player should hit (request another card) given the current game\n",
    "    state, or False if the player should stay.\n",
    "    When calculating a hand's total value, we count aces as \"high\" (with value 11) if doing so\n",
    "    doesn't bring the total above 21, otherwise we count them as low (with value 1). \n",
    "    For example, if the player's hand is {A, A, A, 7}, we will count it as 11 + 1 + 1 + 7,\n",
    "    and therefore set player_total=20, player_low_aces=2, player_high_aces=1.\n",
    "    \"\"\"\n",
    "    return False"
   ]
  },
  {
   "cell_type": "markdown",
   "id": "309de480",
   "metadata": {
    "papermill": {
     "duration": 0.015673,
     "end_time": "2023-12-01T14:35:11.269588",
     "exception": false,
     "start_time": "2023-12-01T14:35:11.253915",
     "status": "completed"
    },
    "tags": []
   },
   "source": [
    "This very conservative agent *always* sticks with the hand of two cards that they're dealt.\n",
    "\n",
    "We'll be simulating games between your player agent and our own dealer agent by calling your function.\n",
    "\n",
    "Try running the function below to see an example of a simulated game:"
   ]
  },
  {
   "cell_type": "code",
   "execution_count": 22,
   "id": "facb4e1f",
   "metadata": {
    "execution": {
     "iopub.execute_input": "2023-12-01T14:35:11.304199Z",
     "iopub.status.busy": "2023-12-01T14:35:11.303785Z",
     "iopub.status.idle": "2023-12-01T14:35:11.309951Z",
     "shell.execute_reply": "2023-12-01T14:35:11.308747Z"
    },
    "papermill": {
     "duration": 0.02648,
     "end_time": "2023-12-01T14:35:11.312729",
     "exception": false,
     "start_time": "2023-12-01T14:35:11.286249",
     "status": "completed"
    },
    "tags": []
   },
   "outputs": [
    {
     "name": "stdout",
     "output_type": "stream",
     "text": [
      "Player starts with 10 and 2 (total = 12)\n",
      "Dealer starts with 4\n",
      "\n",
      "__Player's turn__\n",
      "Player stays\n",
      "\n",
      "__Dealer's turn__\n",
      "Dealer hits and receives 10. (total = 14)\n",
      "Dealer hits and receives 3. (total = 17)\n",
      "Dealer stands.\n",
      "Dealer wins. 17 >= 12\n"
     ]
    }
   ],
   "source": [
    "q7.simulate_one_game()"
   ]
  },
  {
   "cell_type": "markdown",
   "id": "7d9c60b6",
   "metadata": {
    "papermill": {
     "duration": 0.015896,
     "end_time": "2023-12-01T14:35:11.344774",
     "exception": false,
     "start_time": "2023-12-01T14:35:11.328878",
     "status": "completed"
    },
    "tags": []
   },
   "source": [
    "The real test of your agent's mettle is their average win rate over many games. Try calling the function below to simulate 50000 games of blackjack (it may take a couple seconds):"
   ]
  },
  {
   "cell_type": "code",
   "execution_count": 23,
   "id": "b7bfe285",
   "metadata": {
    "execution": {
     "iopub.execute_input": "2023-12-01T14:35:11.379728Z",
     "iopub.status.busy": "2023-12-01T14:35:11.379335Z",
     "iopub.status.idle": "2023-12-01T14:35:13.536689Z",
     "shell.execute_reply": "2023-12-01T14:35:13.535338Z"
    },
    "papermill": {
     "duration": 2.177962,
     "end_time": "2023-12-01T14:35:13.539215",
     "exception": false,
     "start_time": "2023-12-01T14:35:11.361253",
     "status": "completed"
    },
    "tags": []
   },
   "outputs": [
    {
     "name": "stdout",
     "output_type": "stream",
     "text": [
      "Player won 19071 out of 50000 games (win rate = 38.1%)\n"
     ]
    }
   ],
   "source": [
    "q7.simulate(n_games=50000)"
   ]
  },
  {
   "cell_type": "markdown",
   "id": "0ce0618c",
   "metadata": {
    "papermill": {
     "duration": 0.015933,
     "end_time": "2023-12-01T14:35:13.571265",
     "exception": false,
     "start_time": "2023-12-01T14:35:13.555332",
     "status": "completed"
    },
    "tags": []
   },
   "source": [
    "Our dumb agent that completely ignores the game state still manages to win shockingly often!\n",
    "\n",
    "Try adding some more smarts to the `should_hit` function and see how it affects the results."
   ]
  },
  {
   "cell_type": "code",
   "execution_count": 24,
   "id": "60af4c58",
   "metadata": {
    "execution": {
     "iopub.execute_input": "2023-12-01T14:35:13.605324Z",
     "iopub.status.busy": "2023-12-01T14:35:13.604565Z",
     "iopub.status.idle": "2023-12-01T14:35:15.821308Z",
     "shell.execute_reply": "2023-12-01T14:35:15.819929Z"
    },
    "papermill": {
     "duration": 2.23734,
     "end_time": "2023-12-01T14:35:15.824565",
     "exception": false,
     "start_time": "2023-12-01T14:35:13.587225",
     "status": "completed"
    },
    "tags": []
   },
   "outputs": [
    {
     "name": "stdout",
     "output_type": "stream",
     "text": [
      "Player won 19060 out of 50000 games (win rate = 38.1%)\n"
     ]
    }
   ],
   "source": [
    "def should_hit(dealer_total, player_total, player_low_aces, player_high_aces):\n",
    "    \"\"\"Return True if the player should hit (request another card) given the current game\n",
    "    state, or False if the player should stay.\n",
    "    When calculating a hand's total value, we count aces as \"high\" (with value 11) if doing so\n",
    "    doesn't bring the total above 21, otherwise we count them as low (with value 1). \n",
    "    For example, if the player's hand is {A, A, A, 7}, we will count it as 11 + 1 + 1 + 7,\n",
    "    and therefore set player_total=20, player_low_aces=2, player_high_aces=1.\n",
    "    \"\"\"\n",
    "    return False\n",
    "\n",
    "q7.simulate(n_games=50000)"
   ]
  },
  {
   "cell_type": "markdown",
   "id": "a5dedfe8",
   "metadata": {
    "papermill": {
     "duration": 0.016247,
     "end_time": "2023-12-01T14:35:15.860070",
     "exception": false,
     "start_time": "2023-12-01T14:35:15.843823",
     "status": "completed"
    },
    "tags": []
   },
   "source": [
    "# Keep Going\n",
    "\n",
    "Learn about **[lists and tuples](https://www.kaggle.com/colinmorris/lists)** to handle multiple items of data in a systematic way."
   ]
  },
  {
   "cell_type": "markdown",
   "id": "5d75749c",
   "metadata": {
    "papermill": {
     "duration": 0.015901,
     "end_time": "2023-12-01T14:35:15.892287",
     "exception": false,
     "start_time": "2023-12-01T14:35:15.876386",
     "status": "completed"
    },
    "tags": []
   },
   "source": [
    "---\n",
    "\n",
    "\n",
    "\n",
    "\n",
    "*Have questions or comments? Visit the [course discussion forum](https://www.kaggle.com/learn/python/discussion) to chat with other learners.*"
   ]
  }
 ],
 "metadata": {
  "kaggle": {
   "accelerator": "none",
   "dataSources": [],
   "isGpuEnabled": false,
   "isInternetEnabled": false,
   "language": "python",
   "sourceType": "notebook"
  },
  "kernelspec": {
   "display_name": "Python 3",
   "language": "python",
   "name": "python3"
  },
  "language_info": {
   "codemirror_mode": {
    "name": "ipython",
    "version": 3
   },
   "file_extension": ".py",
   "mimetype": "text/x-python",
   "name": "python",
   "nbconvert_exporter": "python",
   "pygments_lexer": "ipython3",
   "version": "3.10.12"
  },
  "learntools_metadata": {
   "lesson_index": 2,
   "type": "exercise"
  },
  "papermill": {
   "default_parameters": {},
   "duration": 10.491663,
   "end_time": "2023-12-01T14:35:16.430018",
   "environment_variables": {},
   "exception": null,
   "input_path": "__notebook__.ipynb",
   "output_path": "__notebook__.ipynb",
   "parameters": {},
   "start_time": "2023-12-01T14:35:05.938355",
   "version": "2.4.0"
  }
 },
 "nbformat": 4,
 "nbformat_minor": 5
}
