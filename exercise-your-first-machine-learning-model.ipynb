{
 "cells": [
  {
   "cell_type": "markdown",
   "id": "dd3d7578",
   "metadata": {
    "papermill": {
     "duration": 0.007429,
     "end_time": "2024-01-19T12:24:03.989663",
     "exception": false,
     "start_time": "2024-01-19T12:24:03.982234",
     "status": "completed"
    },
    "tags": []
   },
   "source": [
    "**This notebook is an exercise in the [Introduction to Machine Learning](https://www.kaggle.com/learn/intro-to-machine-learning) course.  You can reference the tutorial at [this link](https://www.kaggle.com/dansbecker/your-first-machine-learning-model).**\n",
    "\n",
    "---\n"
   ]
  },
  {
   "cell_type": "markdown",
   "id": "6b07b6f3",
   "metadata": {
    "papermill": {
     "duration": 0.006533,
     "end_time": "2024-01-19T12:24:04.003190",
     "exception": false,
     "start_time": "2024-01-19T12:24:03.996657",
     "status": "completed"
    },
    "tags": []
   },
   "source": [
    "## Recap\n",
    "So far, you have loaded your data and reviewed it with the following code. Run this cell to set up your coding environment where the previous step left off."
   ]
  },
  {
   "cell_type": "code",
   "execution_count": 1,
   "id": "eb1efca3",
   "metadata": {
    "execution": {
     "iopub.execute_input": "2024-01-19T12:24:04.019605Z",
     "iopub.status.busy": "2024-01-19T12:24:04.018653Z",
     "iopub.status.idle": "2024-01-19T12:24:06.797070Z",
     "shell.execute_reply": "2024-01-19T12:24:06.795508Z"
    },
    "papermill": {
     "duration": 2.790147,
     "end_time": "2024-01-19T12:24:06.800144",
     "exception": false,
     "start_time": "2024-01-19T12:24:04.009997",
     "status": "completed"
    },
    "tags": []
   },
   "outputs": [
    {
     "name": "stdout",
     "output_type": "stream",
     "text": [
      "Setup Complete\n"
     ]
    }
   ],
   "source": [
    "# Code you have previously used to load data\n",
    "import pandas as pd\n",
    "\n",
    "# Path of the file to read\n",
    "iowa_file_path = '../input/home-data-for-ml-course/train.csv'\n",
    "\n",
    "home_data = pd.read_csv(iowa_file_path)\n",
    "\n",
    "# Set up code checking\n",
    "from learntools.core import binder\n",
    "binder.bind(globals())\n",
    "from learntools.machine_learning.ex3 import *\n",
    "\n",
    "print(\"Setup Complete\")"
   ]
  },
  {
   "cell_type": "markdown",
   "id": "d2a4bbaa",
   "metadata": {
    "papermill": {
     "duration": 0.0067,
     "end_time": "2024-01-19T12:24:06.814384",
     "exception": false,
     "start_time": "2024-01-19T12:24:06.807684",
     "status": "completed"
    },
    "tags": []
   },
   "source": [
    "# Exercises\n",
    "\n",
    "## Step 1: Specify Prediction Target\n",
    "Select the target variable, which corresponds to the sales price. Save this to a new variable called `y`. You'll need to print a list of the columns to find the name of the column you need.\n"
   ]
  },
  {
   "cell_type": "code",
   "execution_count": 2,
   "id": "f8be761d",
   "metadata": {
    "execution": {
     "iopub.execute_input": "2024-01-19T12:24:06.830524Z",
     "iopub.status.busy": "2024-01-19T12:24:06.829771Z",
     "iopub.status.idle": "2024-01-19T12:24:06.834308Z",
     "shell.execute_reply": "2024-01-19T12:24:06.833366Z"
    },
    "papermill": {
     "duration": 0.015472,
     "end_time": "2024-01-19T12:24:06.836780",
     "exception": false,
     "start_time": "2024-01-19T12:24:06.821308",
     "status": "completed"
    },
    "tags": []
   },
   "outputs": [],
   "source": [
    "# print the list of columns in the dataset to find the name of the prediction target\n"
   ]
  },
  {
   "cell_type": "code",
   "execution_count": 3,
   "id": "e5fb81cc",
   "metadata": {
    "execution": {
     "iopub.execute_input": "2024-01-19T12:24:06.853726Z",
     "iopub.status.busy": "2024-01-19T12:24:06.853131Z",
     "iopub.status.idle": "2024-01-19T12:24:06.870278Z",
     "shell.execute_reply": "2024-01-19T12:24:06.869330Z"
    },
    "papermill": {
     "duration": 0.02793,
     "end_time": "2024-01-19T12:24:06.872418",
     "exception": false,
     "start_time": "2024-01-19T12:24:06.844488",
     "status": "completed"
    },
    "tags": []
   },
   "outputs": [
    {
     "data": {
      "application/javascript": [
       "parent.postMessage({\"jupyterEvent\": \"custom.exercise_interaction\", \"data\": {\"outcomeType\": 1, \"valueTowardsCompletion\": 0.25, \"interactionType\": 1, \"questionType\": 2, \"questionId\": \"1_SetTarget\", \"learnToolsVersion\": \"0.3.4\", \"failureMessage\": \"\", \"exceptionClass\": \"\", \"trace\": \"\"}}, \"*\")"
      ],
      "text/plain": [
       "<IPython.core.display.Javascript object>"
      ]
     },
     "metadata": {},
     "output_type": "display_data"
    },
    {
     "data": {
      "text/markdown": [
       "<span style=\"color:#33cc33\">Correct</span>"
      ],
      "text/plain": [
       "Correct"
      ]
     },
     "metadata": {},
     "output_type": "display_data"
    }
   ],
   "source": [
    "y = home_data.SalePrice\n",
    "\n",
    "# Check your answer\n",
    "step_1.check()"
   ]
  },
  {
   "cell_type": "code",
   "execution_count": 4,
   "id": "d8f9e8ce",
   "metadata": {
    "execution": {
     "iopub.execute_input": "2024-01-19T12:24:06.890660Z",
     "iopub.status.busy": "2024-01-19T12:24:06.890251Z",
     "iopub.status.idle": "2024-01-19T12:24:06.895359Z",
     "shell.execute_reply": "2024-01-19T12:24:06.894125Z"
    },
    "papermill": {
     "duration": 0.016593,
     "end_time": "2024-01-19T12:24:06.897791",
     "exception": false,
     "start_time": "2024-01-19T12:24:06.881198",
     "status": "completed"
    },
    "tags": []
   },
   "outputs": [],
   "source": [
    "# The lines below will show you a hint or the solution.\n",
    "# step_1.hint() \n",
    "# step_1.solution()"
   ]
  },
  {
   "cell_type": "markdown",
   "id": "65ec250a",
   "metadata": {
    "papermill": {
     "duration": 0.006984,
     "end_time": "2024-01-19T12:24:06.912233",
     "exception": false,
     "start_time": "2024-01-19T12:24:06.905249",
     "status": "completed"
    },
    "tags": []
   },
   "source": [
    "## Step 2: Create X\n",
    "Now you will create a DataFrame called `X` holding the predictive features.\n",
    "\n",
    "Since you want only some columns from the original data, you'll first create a list with the names of the columns you want in `X`.\n",
    "\n",
    "You'll use just the following columns in the list (you can copy and paste the whole list to save some typing, though you'll still need to add quotes):\n",
    "  * LotArea\n",
    "  * YearBuilt\n",
    "  * 1stFlrSF\n",
    "  * 2ndFlrSF\n",
    "  * FullBath\n",
    "  * BedroomAbvGr\n",
    "  * TotRmsAbvGrd\n",
    "\n",
    "After you've created that list of features, use it to create the DataFrame that you'll use to fit the model."
   ]
  },
  {
   "cell_type": "code",
   "execution_count": 5,
   "id": "16cba916",
   "metadata": {
    "execution": {
     "iopub.execute_input": "2024-01-19T12:24:06.929196Z",
     "iopub.status.busy": "2024-01-19T12:24:06.928503Z",
     "iopub.status.idle": "2024-01-19T12:24:06.947336Z",
     "shell.execute_reply": "2024-01-19T12:24:06.946146Z"
    },
    "papermill": {
     "duration": 0.030421,
     "end_time": "2024-01-19T12:24:06.949990",
     "exception": false,
     "start_time": "2024-01-19T12:24:06.919569",
     "status": "completed"
    },
    "tags": []
   },
   "outputs": [
    {
     "data": {
      "application/javascript": [
       "parent.postMessage({\"jupyterEvent\": \"custom.exercise_interaction\", \"data\": {\"outcomeType\": 1, \"valueTowardsCompletion\": 0.25, \"interactionType\": 1, \"questionType\": 2, \"questionId\": \"2_SelectPredictionData\", \"learnToolsVersion\": \"0.3.4\", \"failureMessage\": \"\", \"exceptionClass\": \"\", \"trace\": \"\"}}, \"*\")"
      ],
      "text/plain": [
       "<IPython.core.display.Javascript object>"
      ]
     },
     "metadata": {},
     "output_type": "display_data"
    },
    {
     "data": {
      "text/markdown": [
       "<span style=\"color:#33cc33\">Correct</span>"
      ],
      "text/plain": [
       "Correct"
      ]
     },
     "metadata": {},
     "output_type": "display_data"
    }
   ],
   "source": [
    "# Create the list of features below\n",
    "feature_names = ['LotArea','YearBuilt','1stFlrSF','2ndFlrSF','FullBath','BedroomAbvGr','TotRmsAbvGrd']\n",
    "\n",
    "# Select data corresponding to features in feature_names\n",
    "X = home_data[feature_names]\n",
    "\n",
    "# Check your answer\n",
    "step_2.check()"
   ]
  },
  {
   "cell_type": "code",
   "execution_count": 6,
   "id": "3bc0c3f0",
   "metadata": {
    "collapsed": true,
    "execution": {
     "iopub.execute_input": "2024-01-19T12:24:06.967810Z",
     "iopub.status.busy": "2024-01-19T12:24:06.967405Z",
     "iopub.status.idle": "2024-01-19T12:24:06.972534Z",
     "shell.execute_reply": "2024-01-19T12:24:06.971245Z"
    },
    "jupyter": {
     "outputs_hidden": true
    },
    "papermill": {
     "duration": 0.016527,
     "end_time": "2024-01-19T12:24:06.974756",
     "exception": false,
     "start_time": "2024-01-19T12:24:06.958229",
     "status": "completed"
    },
    "tags": []
   },
   "outputs": [],
   "source": [
    "# step_2.hint()\n",
    "# step_2.solution()"
   ]
  },
  {
   "cell_type": "markdown",
   "id": "2bc44029",
   "metadata": {
    "papermill": {
     "duration": 0.007747,
     "end_time": "2024-01-19T12:24:06.990533",
     "exception": false,
     "start_time": "2024-01-19T12:24:06.982786",
     "status": "completed"
    },
    "tags": []
   },
   "source": [
    "## Review Data\n",
    "Before building a model, take a quick look at **X** to verify it looks sensible"
   ]
  },
  {
   "cell_type": "code",
   "execution_count": 7,
   "id": "71356b09",
   "metadata": {
    "execution": {
     "iopub.execute_input": "2024-01-19T12:24:07.008757Z",
     "iopub.status.busy": "2024-01-19T12:24:07.008039Z",
     "iopub.status.idle": "2024-01-19T12:24:07.021744Z",
     "shell.execute_reply": "2024-01-19T12:24:07.020423Z"
    },
    "papermill": {
     "duration": 0.025771,
     "end_time": "2024-01-19T12:24:07.024169",
     "exception": false,
     "start_time": "2024-01-19T12:24:06.998398",
     "status": "completed"
    },
    "tags": []
   },
   "outputs": [
    {
     "name": "stdout",
     "output_type": "stream",
     "text": [
      "      LotArea  YearBuilt  1stFlrSF  2ndFlrSF  FullBath  BedroomAbvGr  \\\n",
      "0        8450       2003       856       854         2             3   \n",
      "1        9600       1976      1262         0         2             3   \n",
      "2       11250       2001       920       866         2             3   \n",
      "3        9550       1915       961       756         1             3   \n",
      "4       14260       2000      1145      1053         2             4   \n",
      "...       ...        ...       ...       ...       ...           ...   \n",
      "1455     7917       1999       953       694         2             3   \n",
      "1456    13175       1978      2073         0         2             3   \n",
      "1457     9042       1941      1188      1152         2             4   \n",
      "1458     9717       1950      1078         0         1             2   \n",
      "1459     9937       1965      1256         0         1             3   \n",
      "\n",
      "      TotRmsAbvGrd  \n",
      "0                8  \n",
      "1                6  \n",
      "2                6  \n",
      "3                7  \n",
      "4                9  \n",
      "...            ...  \n",
      "1455             7  \n",
      "1456             7  \n",
      "1457             9  \n",
      "1458             5  \n",
      "1459             6  \n",
      "\n",
      "[1460 rows x 7 columns]\n"
     ]
    }
   ],
   "source": [
    "# Review data\n",
    "# print description or statistics from X\n",
    "print(X)\n",
    "\n",
    "# print the top few lines\n",
    "#print(feature_names.head)"
   ]
  },
  {
   "cell_type": "markdown",
   "id": "0386ca11",
   "metadata": {
    "papermill": {
     "duration": 0.007564,
     "end_time": "2024-01-19T12:24:07.039760",
     "exception": false,
     "start_time": "2024-01-19T12:24:07.032196",
     "status": "completed"
    },
    "tags": []
   },
   "source": [
    "## Step 3: Specify and Fit Model\n",
    "Create a `DecisionTreeRegressor` and save it iowa_model. Ensure you've done the relevant import from sklearn to run this command.\n",
    "\n",
    "Then fit the model you just created using the data in `X` and `y` that you saved above."
   ]
  },
  {
   "cell_type": "code",
   "execution_count": 8,
   "id": "20c76f5b",
   "metadata": {
    "execution": {
     "iopub.execute_input": "2024-01-19T12:24:07.057459Z",
     "iopub.status.busy": "2024-01-19T12:24:07.057045Z",
     "iopub.status.idle": "2024-01-19T12:24:07.078496Z",
     "shell.execute_reply": "2024-01-19T12:24:07.077326Z"
    },
    "papermill": {
     "duration": 0.033172,
     "end_time": "2024-01-19T12:24:07.080881",
     "exception": false,
     "start_time": "2024-01-19T12:24:07.047709",
     "status": "completed"
    },
    "tags": []
   },
   "outputs": [
    {
     "data": {
      "application/javascript": [
       "parent.postMessage({\"jupyterEvent\": \"custom.exercise_interaction\", \"data\": {\"outcomeType\": 1, \"valueTowardsCompletion\": 0.25, \"interactionType\": 1, \"questionType\": 2, \"questionId\": \"3_CreateModel\", \"learnToolsVersion\": \"0.3.4\", \"failureMessage\": \"\", \"exceptionClass\": \"\", \"trace\": \"\"}}, \"*\")"
      ],
      "text/plain": [
       "<IPython.core.display.Javascript object>"
      ]
     },
     "metadata": {},
     "output_type": "display_data"
    },
    {
     "data": {
      "text/markdown": [
       "<span style=\"color:#33cc33\">Correct</span>"
      ],
      "text/plain": [
       "Correct"
      ]
     },
     "metadata": {},
     "output_type": "display_data"
    }
   ],
   "source": [
    "from sklearn.tree import DecisionTreeRegressor\n",
    "\n",
    "#specify the model. \n",
    "#For model reproducibility, set a numeric value for random_state when specifying the model\n",
    "iowa_model = DecisionTreeRegressor(random_state=1)\n",
    "\n",
    "# Fit the model\n",
    "iowa_model.fit(X,y)\n",
    "\n",
    "# Check your answer\n",
    "step_3.check()"
   ]
  },
  {
   "cell_type": "code",
   "execution_count": 9,
   "id": "7fd90c1e",
   "metadata": {
    "collapsed": true,
    "execution": {
     "iopub.execute_input": "2024-01-19T12:24:07.099540Z",
     "iopub.status.busy": "2024-01-19T12:24:07.099141Z",
     "iopub.status.idle": "2024-01-19T12:24:07.104449Z",
     "shell.execute_reply": "2024-01-19T12:24:07.103433Z"
    },
    "jupyter": {
     "outputs_hidden": true
    },
    "papermill": {
     "duration": 0.017623,
     "end_time": "2024-01-19T12:24:07.106766",
     "exception": false,
     "start_time": "2024-01-19T12:24:07.089143",
     "status": "completed"
    },
    "tags": []
   },
   "outputs": [],
   "source": [
    "# step_3.hint()\n",
    "# step_3.solution()"
   ]
  },
  {
   "cell_type": "markdown",
   "id": "1d8baada",
   "metadata": {
    "papermill": {
     "duration": 0.008066,
     "end_time": "2024-01-19T12:24:07.123397",
     "exception": false,
     "start_time": "2024-01-19T12:24:07.115331",
     "status": "completed"
    },
    "tags": []
   },
   "source": [
    "## Step 4: Make Predictions\n",
    "Make predictions with the model's `predict` command using `X` as the data. Save the results to a variable called `predictions`."
   ]
  },
  {
   "cell_type": "code",
   "execution_count": 10,
   "id": "6074566e",
   "metadata": {
    "execution": {
     "iopub.execute_input": "2024-01-19T12:24:07.142548Z",
     "iopub.status.busy": "2024-01-19T12:24:07.142136Z",
     "iopub.status.idle": "2024-01-19T12:24:07.156571Z",
     "shell.execute_reply": "2024-01-19T12:24:07.155372Z"
    },
    "papermill": {
     "duration": 0.026801,
     "end_time": "2024-01-19T12:24:07.159193",
     "exception": false,
     "start_time": "2024-01-19T12:24:07.132392",
     "status": "completed"
    },
    "tags": []
   },
   "outputs": [
    {
     "name": "stdout",
     "output_type": "stream",
     "text": [
      "[208500. 181500. 223500. ... 266500. 142125. 147500.]\n"
     ]
    },
    {
     "data": {
      "application/javascript": [
       "parent.postMessage({\"jupyterEvent\": \"custom.exercise_interaction\", \"data\": {\"outcomeType\": 1, \"valueTowardsCompletion\": 0.25, \"interactionType\": 1, \"questionType\": 2, \"questionId\": \"4_MakePredictions\", \"learnToolsVersion\": \"0.3.4\", \"failureMessage\": \"\", \"exceptionClass\": \"\", \"trace\": \"\"}}, \"*\")"
      ],
      "text/plain": [
       "<IPython.core.display.Javascript object>"
      ]
     },
     "metadata": {},
     "output_type": "display_data"
    },
    {
     "data": {
      "text/markdown": [
       "<span style=\"color:#33cc33\">Correct</span>"
      ],
      "text/plain": [
       "Correct"
      ]
     },
     "metadata": {},
     "output_type": "display_data"
    }
   ],
   "source": [
    "predictions = iowa_model.predict(X)\n",
    "print(predictions)\n",
    "\n",
    "# Check your answer\n",
    "step_4.check()"
   ]
  },
  {
   "cell_type": "code",
   "execution_count": 11,
   "id": "f2f3fe15",
   "metadata": {
    "collapsed": true,
    "execution": {
     "iopub.execute_input": "2024-01-19T12:24:07.179194Z",
     "iopub.status.busy": "2024-01-19T12:24:07.178754Z",
     "iopub.status.idle": "2024-01-19T12:24:07.183702Z",
     "shell.execute_reply": "2024-01-19T12:24:07.182494Z"
    },
    "jupyter": {
     "outputs_hidden": true
    },
    "papermill": {
     "duration": 0.018314,
     "end_time": "2024-01-19T12:24:07.186422",
     "exception": false,
     "start_time": "2024-01-19T12:24:07.168108",
     "status": "completed"
    },
    "tags": []
   },
   "outputs": [],
   "source": [
    "# step_4.hint()\n",
    "# step_4.solution()"
   ]
  },
  {
   "cell_type": "markdown",
   "id": "fe1dc168",
   "metadata": {
    "papermill": {
     "duration": 0.008699,
     "end_time": "2024-01-19T12:24:07.204179",
     "exception": false,
     "start_time": "2024-01-19T12:24:07.195480",
     "status": "completed"
    },
    "tags": []
   },
   "source": [
    "## Think About Your Results\n",
    "\n",
    "Use the `head` method to compare the top few predictions to the actual home values (in `y`) for those same homes. Anything surprising?\n"
   ]
  },
  {
   "cell_type": "code",
   "execution_count": 12,
   "id": "f9d28dd5",
   "metadata": {
    "execution": {
     "iopub.execute_input": "2024-01-19T12:24:07.224213Z",
     "iopub.status.busy": "2024-01-19T12:24:07.223764Z",
     "iopub.status.idle": "2024-01-19T12:24:07.231645Z",
     "shell.execute_reply": "2024-01-19T12:24:07.230287Z"
    },
    "papermill": {
     "duration": 0.021043,
     "end_time": "2024-01-19T12:24:07.233994",
     "exception": false,
     "start_time": "2024-01-19T12:24:07.212951",
     "status": "completed"
    },
    "tags": []
   },
   "outputs": [
    {
     "data": {
      "text/plain": [
       "array([208500., 181500., 223500., ..., 266500., 142125., 147500.])"
      ]
     },
     "execution_count": 12,
     "metadata": {},
     "output_type": "execute_result"
    }
   ],
   "source": [
    "# You can write code in this cell\n",
    "predictions"
   ]
  },
  {
   "cell_type": "markdown",
   "id": "9bd38627",
   "metadata": {
    "papermill": {
     "duration": 0.008755,
     "end_time": "2024-01-19T12:24:07.251985",
     "exception": false,
     "start_time": "2024-01-19T12:24:07.243230",
     "status": "completed"
    },
    "tags": []
   },
   "source": [
    "It's natural to ask how accurate the model's predictions will be and how you can improve that. That will be you're next step.\n",
    "\n",
    "# Keep Going\n",
    "\n",
    "You are ready for **[Model Validation](https://www.kaggle.com/dansbecker/model-validation).**\n"
   ]
  },
  {
   "cell_type": "markdown",
   "id": "1896249a",
   "metadata": {
    "papermill": {
     "duration": 0.008562,
     "end_time": "2024-01-19T12:24:07.269699",
     "exception": false,
     "start_time": "2024-01-19T12:24:07.261137",
     "status": "completed"
    },
    "tags": []
   },
   "source": [
    "---\n",
    "\n",
    "\n",
    "\n",
    "\n",
    "*Have questions or comments? Visit the [course discussion forum](https://www.kaggle.com/learn/intro-to-machine-learning/discussion) to chat with other learners.*"
   ]
  }
 ],
 "metadata": {
  "kaggle": {
   "accelerator": "none",
   "dataSources": [
    {
     "databundleVersionId": 111096,
     "sourceId": 10211,
     "sourceType": "competition"
    },
    {
     "datasetId": 11167,
     "sourceId": 15520,
     "sourceType": "datasetVersion"
    },
    {
     "datasetId": 2709,
     "sourceId": 38454,
     "sourceType": "datasetVersion"
    }
   ],
   "isGpuEnabled": false,
   "isInternetEnabled": false,
   "language": "python",
   "sourceType": "notebook"
  },
  "kernelspec": {
   "display_name": "Python 3",
   "language": "python",
   "name": "python3"
  },
  "language_info": {
   "codemirror_mode": {
    "name": "ipython",
    "version": 3
   },
   "file_extension": ".py",
   "mimetype": "text/x-python",
   "name": "python",
   "nbconvert_exporter": "python",
   "pygments_lexer": "ipython3",
   "version": "3.10.12"
  },
  "papermill": {
   "default_parameters": {},
   "duration": 8.794369,
   "end_time": "2024-01-19T12:24:07.899958",
   "environment_variables": {},
   "exception": null,
   "input_path": "__notebook__.ipynb",
   "output_path": "__notebook__.ipynb",
   "parameters": {},
   "start_time": "2024-01-19T12:23:59.105589",
   "version": "2.4.0"
  }
 },
 "nbformat": 4,
 "nbformat_minor": 5
}
