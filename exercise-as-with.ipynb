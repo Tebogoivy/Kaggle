{
 "cells": [
  {
   "cell_type": "markdown",
   "id": "ed27c93c",
   "metadata": {
    "papermill": {
     "duration": 0.008756,
     "end_time": "2023-12-29T16:06:34.677224",
     "exception": false,
     "start_time": "2023-12-29T16:06:34.668468",
     "status": "completed"
    },
    "tags": []
   },
   "source": [
    "**This notebook is an exercise in the [SQL](https://www.kaggle.com/learn/intro-to-sql) course.  You can reference the tutorial at [this link](https://www.kaggle.com/dansbecker/as-with).**\n",
    "\n",
    "---\n"
   ]
  },
  {
   "cell_type": "markdown",
   "id": "1a025526",
   "metadata": {
    "papermill": {
     "duration": 0.008117,
     "end_time": "2023-12-29T16:06:34.693795",
     "exception": false,
     "start_time": "2023-12-29T16:06:34.685678",
     "status": "completed"
    },
    "tags": []
   },
   "source": [
    "# Introduction\n",
    "\n",
    "You are getting to the point where you can own an analysis from beginning to end. So you'll do more data exploration in this exercise than you've done before.  Before you get started, run the following set-up code as usual. "
   ]
  },
  {
   "cell_type": "code",
   "execution_count": 1,
   "id": "4e992459",
   "metadata": {
    "execution": {
     "iopub.execute_input": "2023-12-29T16:06:34.713050Z",
     "iopub.status.busy": "2023-12-29T16:06:34.712250Z",
     "iopub.status.idle": "2023-12-29T16:07:09.200649Z",
     "shell.execute_reply": "2023-12-29T16:07:09.199725Z"
    },
    "papermill": {
     "duration": 34.501373,
     "end_time": "2023-12-29T16:07:09.203482",
     "exception": false,
     "start_time": "2023-12-29T16:06:34.702109",
     "status": "completed"
    },
    "tags": []
   },
   "outputs": [
    {
     "name": "stdout",
     "output_type": "stream",
     "text": [
      "Collecting git+https://github.com/Kaggle/learntools.git\r\n",
      "  Cloning https://github.com/Kaggle/learntools.git to /tmp/pip-req-build-j7wawana\r\n",
      "  Running command git clone --filter=blob:none --quiet https://github.com/Kaggle/learntools.git /tmp/pip-req-build-j7wawana\r\n",
      "  Resolved https://github.com/Kaggle/learntools.git to commit 7a83948d1820d0282e518fc44692bb3118c9e1a6\r\n",
      "  Preparing metadata (setup.py) ... \u001b[?25ldone\r\n",
      "\u001b[?25hBuilding wheels for collected packages: learntools\r\n",
      "  Building wheel for learntools (setup.py) ... \u001b[?25l-\b \bdone\r\n",
      "\u001b[?25h  Created wheel for learntools: filename=learntools-0.3.4-py3-none-any.whl size=268962 sha256=85b4c6ad220e47c3b934472f17ca537fedb1d449aa1ed5a5a72b15b7c2e91090\r\n",
      "  Stored in directory: /tmp/pip-ephem-wheel-cache-d2afvyrw/wheels/2f/6c/3c/aa9f50cfb5a862157cb4c7a5b34881828cf45404698255dced\r\n",
      "Successfully built learntools\r\n",
      "Installing collected packages: learntools\r\n",
      "Successfully installed learntools-0.3.4\r\n",
      "Using Kaggle's public dataset BigQuery integration.\n",
      "Setup Complete\n"
     ]
    }
   ],
   "source": [
    "# Get most recent checking code\n",
    "!pip install -U -t /kaggle/working/ git+https://github.com/Kaggle/learntools.git\n",
    "# Set up feedback system\n",
    "from learntools.core import binder\n",
    "binder.bind(globals())\n",
    "from learntools.sql.ex5 import *\n",
    "print(\"Setup Complete\")"
   ]
  },
  {
   "cell_type": "markdown",
   "id": "759f5609",
   "metadata": {
    "papermill": {
     "duration": 0.009093,
     "end_time": "2023-12-29T16:07:09.222132",
     "exception": false,
     "start_time": "2023-12-29T16:07:09.213039",
     "status": "completed"
    },
    "tags": []
   },
   "source": [
    "You'll work with a dataset about taxi trips in the city of Chicago. Run the cell below to fetch the `chicago_taxi_trips` dataset."
   ]
  },
  {
   "cell_type": "code",
   "execution_count": 2,
   "id": "34b8c45c",
   "metadata": {
    "execution": {
     "iopub.execute_input": "2023-12-29T16:07:09.244500Z",
     "iopub.status.busy": "2023-12-29T16:07:09.243463Z",
     "iopub.status.idle": "2023-12-29T16:07:09.653357Z",
     "shell.execute_reply": "2023-12-29T16:07:09.652387Z"
    },
    "papermill": {
     "duration": 0.424318,
     "end_time": "2023-12-29T16:07:09.656131",
     "exception": false,
     "start_time": "2023-12-29T16:07:09.231813",
     "status": "completed"
    },
    "tags": []
   },
   "outputs": [
    {
     "name": "stdout",
     "output_type": "stream",
     "text": [
      "Using Kaggle's public dataset BigQuery integration.\n"
     ]
    }
   ],
   "source": [
    "from google.cloud import bigquery\n",
    "\n",
    "# Create a \"Client\" object\n",
    "client = bigquery.Client()\n",
    "\n",
    "# Construct a reference to the \"chicago_taxi_trips\" dataset\n",
    "dataset_ref = client.dataset(\"chicago_taxi_trips\", project=\"bigquery-public-data\")\n",
    "\n",
    "# API request - fetch the dataset\n",
    "dataset = client.get_dataset(dataset_ref)"
   ]
  },
  {
   "cell_type": "markdown",
   "id": "b8ac83e8",
   "metadata": {
    "papermill": {
     "duration": 0.013128,
     "end_time": "2023-12-29T16:07:09.682088",
     "exception": false,
     "start_time": "2023-12-29T16:07:09.668960",
     "status": "completed"
    },
    "tags": []
   },
   "source": [
    "# Exercises\n",
    "\n",
    "You are curious how much slower traffic moves when traffic volume is high. This involves a few steps.\n",
    "\n",
    "### 1) Find the data\n",
    "Before you can access the data, you need to find the table name with the data.\n",
    "\n",
    "*Hint*: Tab completion is helpful whenever you can't remember a command. Type `client.` and then hit the tab key. Don't forget the period before hitting tab."
   ]
  },
  {
   "cell_type": "code",
   "execution_count": 3,
   "id": "ccb48247",
   "metadata": {
    "execution": {
     "iopub.execute_input": "2023-12-29T16:07:09.709035Z",
     "iopub.status.busy": "2023-12-29T16:07:09.708617Z",
     "iopub.status.idle": "2023-12-29T16:07:09.713568Z",
     "shell.execute_reply": "2023-12-29T16:07:09.712391Z"
    },
    "papermill": {
     "duration": 0.021568,
     "end_time": "2023-12-29T16:07:09.715947",
     "exception": false,
     "start_time": "2023-12-29T16:07:09.694379",
     "status": "completed"
    },
    "tags": []
   },
   "outputs": [],
   "source": [
    "# Your code here to find the table name"
   ]
  },
  {
   "cell_type": "code",
   "execution_count": 4,
   "id": "44938b6e",
   "metadata": {
    "execution": {
     "iopub.execute_input": "2023-12-29T16:07:09.737318Z",
     "iopub.status.busy": "2023-12-29T16:07:09.736543Z",
     "iopub.status.idle": "2023-12-29T16:07:10.098670Z",
     "shell.execute_reply": "2023-12-29T16:07:10.097430Z"
    },
    "papermill": {
     "duration": 0.37613,
     "end_time": "2023-12-29T16:07:10.101557",
     "exception": false,
     "start_time": "2023-12-29T16:07:09.725427",
     "status": "completed"
    },
    "tags": []
   },
   "outputs": [
    {
     "name": "stdout",
     "output_type": "stream",
     "text": [
      "taxi_trips\n"
     ]
    },
    {
     "data": {
      "application/javascript": [
       "parent.postMessage({\"jupyterEvent\": \"custom.exercise_interaction\", \"data\": {\"outcomeType\": 1, \"valueTowardsCompletion\": 0.16666666666666666, \"interactionType\": 1, \"questionType\": 1, \"questionId\": \"1_GetTableName\", \"learnToolsVersion\": \"0.3.4\", \"failureMessage\": \"\", \"exceptionClass\": \"\", \"trace\": \"\"}}, \"*\")"
      ],
      "text/plain": [
       "<IPython.core.display.Javascript object>"
      ]
     },
     "metadata": {},
     "output_type": "display_data"
    },
    {
     "data": {
      "text/markdown": [
       "<span style=\"color:#33cc33\">Correct</span>"
      ],
      "text/plain": [
       "Correct"
      ]
     },
     "metadata": {},
     "output_type": "display_data"
    }
   ],
   "source": [
    "# List all the tables in the dataset\n",
    "tables = list(client.list_tables(dataset))\n",
    "\n",
    "# Print names of all tables in the dataset (there is only one!)\n",
    "for table in tables:  \n",
    "    print(table.table_id)\n",
    "\n",
    "table_name = 'taxi_trips'\n",
    "    \n",
    "# Check your answer\n",
    "q_1.check()"
   ]
  },
  {
   "cell_type": "markdown",
   "id": "0cef2539",
   "metadata": {
    "papermill": {
     "duration": 0.010733,
     "end_time": "2023-12-29T16:07:10.122797",
     "exception": false,
     "start_time": "2023-12-29T16:07:10.112064",
     "status": "completed"
    },
    "tags": []
   },
   "source": [
    "For the solution, uncomment the line below."
   ]
  },
  {
   "cell_type": "code",
   "execution_count": 5,
   "id": "102ec5cc",
   "metadata": {
    "execution": {
     "iopub.execute_input": "2023-12-29T16:07:10.144669Z",
     "iopub.status.busy": "2023-12-29T16:07:10.144265Z",
     "iopub.status.idle": "2023-12-29T16:07:10.148911Z",
     "shell.execute_reply": "2023-12-29T16:07:10.147719Z"
    },
    "papermill": {
     "duration": 0.018484,
     "end_time": "2023-12-29T16:07:10.151273",
     "exception": false,
     "start_time": "2023-12-29T16:07:10.132789",
     "status": "completed"
    },
    "tags": []
   },
   "outputs": [],
   "source": [
    "# q_1.solution()"
   ]
  },
  {
   "cell_type": "markdown",
   "id": "c914f5b5",
   "metadata": {
    "papermill": {
     "duration": 0.009667,
     "end_time": "2023-12-29T16:07:10.171241",
     "exception": false,
     "start_time": "2023-12-29T16:07:10.161574",
     "status": "completed"
    },
    "tags": []
   },
   "source": [
    "### 2) Peek at the data\n",
    "\n",
    "Use the next code cell to peek at the top few rows of the data. Inspect the data and see if any issues with data quality are immediately obvious. "
   ]
  },
  {
   "cell_type": "code",
   "execution_count": 6,
   "id": "a623d850",
   "metadata": {
    "execution": {
     "iopub.execute_input": "2023-12-29T16:07:10.193945Z",
     "iopub.status.busy": "2023-12-29T16:07:10.193174Z",
     "iopub.status.idle": "2023-12-29T16:07:10.838540Z",
     "shell.execute_reply": "2023-12-29T16:07:10.837403Z"
    },
    "papermill": {
     "duration": 0.659772,
     "end_time": "2023-12-29T16:07:10.841445",
     "exception": false,
     "start_time": "2023-12-29T16:07:10.181673",
     "status": "completed"
    },
    "tags": []
   },
   "outputs": [
    {
     "data": {
      "text/html": [
       "<div>\n",
       "<style scoped>\n",
       "    .dataframe tbody tr th:only-of-type {\n",
       "        vertical-align: middle;\n",
       "    }\n",
       "\n",
       "    .dataframe tbody tr th {\n",
       "        vertical-align: top;\n",
       "    }\n",
       "\n",
       "    .dataframe thead th {\n",
       "        text-align: right;\n",
       "    }\n",
       "</style>\n",
       "<table border=\"1\" class=\"dataframe\">\n",
       "  <thead>\n",
       "    <tr style=\"text-align: right;\">\n",
       "      <th></th>\n",
       "      <th>unique_key</th>\n",
       "      <th>taxi_id</th>\n",
       "      <th>trip_start_timestamp</th>\n",
       "      <th>trip_end_timestamp</th>\n",
       "      <th>trip_seconds</th>\n",
       "      <th>trip_miles</th>\n",
       "      <th>pickup_census_tract</th>\n",
       "      <th>dropoff_census_tract</th>\n",
       "      <th>pickup_community_area</th>\n",
       "      <th>dropoff_community_area</th>\n",
       "      <th>...</th>\n",
       "      <th>extras</th>\n",
       "      <th>trip_total</th>\n",
       "      <th>payment_type</th>\n",
       "      <th>company</th>\n",
       "      <th>pickup_latitude</th>\n",
       "      <th>pickup_longitude</th>\n",
       "      <th>pickup_location</th>\n",
       "      <th>dropoff_latitude</th>\n",
       "      <th>dropoff_longitude</th>\n",
       "      <th>dropoff_location</th>\n",
       "    </tr>\n",
       "  </thead>\n",
       "  <tbody>\n",
       "    <tr>\n",
       "      <th>0</th>\n",
       "      <td>c0d78d7c0c3cae454bd7be7db78b5647fc948216</td>\n",
       "      <td>2ba062c1af0dcca978289cafaafafb442bd649a884ec3b...</td>\n",
       "      <td>2016-09-29 09:45:00+00:00</td>\n",
       "      <td>2016-09-29 09:45:00+00:00</td>\n",
       "      <td>41</td>\n",
       "      <td>0.3</td>\n",
       "      <td>1.703181e+10</td>\n",
       "      <td>1.703181e+10</td>\n",
       "      <td>NaN</td>\n",
       "      <td>NaN</td>\n",
       "      <td>...</td>\n",
       "      <td>0.0</td>\n",
       "      <td>2.4</td>\n",
       "      <td>Cash</td>\n",
       "      <td>Norshore Cab</td>\n",
       "      <td>NaN</td>\n",
       "      <td>NaN</td>\n",
       "      <td>None</td>\n",
       "      <td>NaN</td>\n",
       "      <td>NaN</td>\n",
       "      <td>None</td>\n",
       "    </tr>\n",
       "    <tr>\n",
       "      <th>1</th>\n",
       "      <td>921f1e27a2f60211ee246514484ab41cea4c5afe</td>\n",
       "      <td>2ba062c1af0dcca978289cafaafafb442bd649a884ec3b...</td>\n",
       "      <td>2016-09-29 10:00:00+00:00</td>\n",
       "      <td>2016-09-29 10:00:00+00:00</td>\n",
       "      <td>197</td>\n",
       "      <td>2.5</td>\n",
       "      <td>NaN</td>\n",
       "      <td>NaN</td>\n",
       "      <td>NaN</td>\n",
       "      <td>NaN</td>\n",
       "      <td>...</td>\n",
       "      <td>0.0</td>\n",
       "      <td>7.8</td>\n",
       "      <td>Cash</td>\n",
       "      <td>Norshore Cab</td>\n",
       "      <td>NaN</td>\n",
       "      <td>NaN</td>\n",
       "      <td>None</td>\n",
       "      <td>NaN</td>\n",
       "      <td>NaN</td>\n",
       "      <td>None</td>\n",
       "    </tr>\n",
       "    <tr>\n",
       "      <th>2</th>\n",
       "      <td>cfb20db21d0504b232972d1152d14e2b9eb8b4f0</td>\n",
       "      <td>2ba062c1af0dcca978289cafaafafb442bd649a884ec3b...</td>\n",
       "      <td>2016-09-29 13:45:00+00:00</td>\n",
       "      <td>2016-09-29 13:45:00+00:00</td>\n",
       "      <td>272</td>\n",
       "      <td>3.9</td>\n",
       "      <td>NaN</td>\n",
       "      <td>NaN</td>\n",
       "      <td>NaN</td>\n",
       "      <td>NaN</td>\n",
       "      <td>...</td>\n",
       "      <td>0.0</td>\n",
       "      <td>11.2</td>\n",
       "      <td>Cash</td>\n",
       "      <td>Norshore Cab</td>\n",
       "      <td>NaN</td>\n",
       "      <td>NaN</td>\n",
       "      <td>None</td>\n",
       "      <td>NaN</td>\n",
       "      <td>NaN</td>\n",
       "      <td>None</td>\n",
       "    </tr>\n",
       "    <tr>\n",
       "      <th>3</th>\n",
       "      <td>4f161126c714175aba1eaa937116060c8203497f</td>\n",
       "      <td>2ba062c1af0dcca978289cafaafafb442bd649a884ec3b...</td>\n",
       "      <td>2016-09-29 14:00:00+00:00</td>\n",
       "      <td>2016-09-29 14:00:00+00:00</td>\n",
       "      <td>246</td>\n",
       "      <td>1.8</td>\n",
       "      <td>NaN</td>\n",
       "      <td>NaN</td>\n",
       "      <td>NaN</td>\n",
       "      <td>NaN</td>\n",
       "      <td>...</td>\n",
       "      <td>0.0</td>\n",
       "      <td>6.4</td>\n",
       "      <td>Cash</td>\n",
       "      <td>Norshore Cab</td>\n",
       "      <td>NaN</td>\n",
       "      <td>NaN</td>\n",
       "      <td>None</td>\n",
       "      <td>NaN</td>\n",
       "      <td>NaN</td>\n",
       "      <td>None</td>\n",
       "    </tr>\n",
       "    <tr>\n",
       "      <th>4</th>\n",
       "      <td>c475d9dced40a0d92cd0db9d9328a745dbbad26e</td>\n",
       "      <td>304ba57c63532d90658c49810d576a49695a5e9a402e78...</td>\n",
       "      <td>2017-11-30 15:30:00+00:00</td>\n",
       "      <td>2017-11-30 15:30:00+00:00</td>\n",
       "      <td>101</td>\n",
       "      <td>0.0</td>\n",
       "      <td>NaN</td>\n",
       "      <td>NaN</td>\n",
       "      <td>NaN</td>\n",
       "      <td>NaN</td>\n",
       "      <td>...</td>\n",
       "      <td>0.0</td>\n",
       "      <td>2.6</td>\n",
       "      <td>Cash</td>\n",
       "      <td>303 Taxi</td>\n",
       "      <td>NaN</td>\n",
       "      <td>NaN</td>\n",
       "      <td>None</td>\n",
       "      <td>NaN</td>\n",
       "      <td>NaN</td>\n",
       "      <td>None</td>\n",
       "    </tr>\n",
       "  </tbody>\n",
       "</table>\n",
       "<p>5 rows × 23 columns</p>\n",
       "</div>"
      ],
      "text/plain": [
       "                                 unique_key  \\\n",
       "0  c0d78d7c0c3cae454bd7be7db78b5647fc948216   \n",
       "1  921f1e27a2f60211ee246514484ab41cea4c5afe   \n",
       "2  cfb20db21d0504b232972d1152d14e2b9eb8b4f0   \n",
       "3  4f161126c714175aba1eaa937116060c8203497f   \n",
       "4  c475d9dced40a0d92cd0db9d9328a745dbbad26e   \n",
       "\n",
       "                                             taxi_id  \\\n",
       "0  2ba062c1af0dcca978289cafaafafb442bd649a884ec3b...   \n",
       "1  2ba062c1af0dcca978289cafaafafb442bd649a884ec3b...   \n",
       "2  2ba062c1af0dcca978289cafaafafb442bd649a884ec3b...   \n",
       "3  2ba062c1af0dcca978289cafaafafb442bd649a884ec3b...   \n",
       "4  304ba57c63532d90658c49810d576a49695a5e9a402e78...   \n",
       "\n",
       "       trip_start_timestamp        trip_end_timestamp  trip_seconds  \\\n",
       "0 2016-09-29 09:45:00+00:00 2016-09-29 09:45:00+00:00            41   \n",
       "1 2016-09-29 10:00:00+00:00 2016-09-29 10:00:00+00:00           197   \n",
       "2 2016-09-29 13:45:00+00:00 2016-09-29 13:45:00+00:00           272   \n",
       "3 2016-09-29 14:00:00+00:00 2016-09-29 14:00:00+00:00           246   \n",
       "4 2017-11-30 15:30:00+00:00 2017-11-30 15:30:00+00:00           101   \n",
       "\n",
       "   trip_miles  pickup_census_tract  dropoff_census_tract  \\\n",
       "0         0.3         1.703181e+10          1.703181e+10   \n",
       "1         2.5                  NaN                   NaN   \n",
       "2         3.9                  NaN                   NaN   \n",
       "3         1.8                  NaN                   NaN   \n",
       "4         0.0                  NaN                   NaN   \n",
       "\n",
       "   pickup_community_area  dropoff_community_area  ...  extras  trip_total  \\\n",
       "0                    NaN                     NaN  ...     0.0         2.4   \n",
       "1                    NaN                     NaN  ...     0.0         7.8   \n",
       "2                    NaN                     NaN  ...     0.0        11.2   \n",
       "3                    NaN                     NaN  ...     0.0         6.4   \n",
       "4                    NaN                     NaN  ...     0.0         2.6   \n",
       "\n",
       "   payment_type       company  pickup_latitude pickup_longitude  \\\n",
       "0          Cash  Norshore Cab              NaN              NaN   \n",
       "1          Cash  Norshore Cab              NaN              NaN   \n",
       "2          Cash  Norshore Cab              NaN              NaN   \n",
       "3          Cash  Norshore Cab              NaN              NaN   \n",
       "4          Cash      303 Taxi              NaN              NaN   \n",
       "\n",
       "  pickup_location  dropoff_latitude  dropoff_longitude dropoff_location  \n",
       "0            None               NaN                NaN             None  \n",
       "1            None               NaN                NaN             None  \n",
       "2            None               NaN                NaN             None  \n",
       "3            None               NaN                NaN             None  \n",
       "4            None               NaN                NaN             None  \n",
       "\n",
       "[5 rows x 23 columns]"
      ]
     },
     "execution_count": 6,
     "metadata": {},
     "output_type": "execute_result"
    }
   ],
   "source": [
    "# Construct a reference to the \"taxi_trips\" table\n",
    "table_ref = dataset_ref.table(\"taxi_trips\")\n",
    "\n",
    "# API request - fetch the table\n",
    "table = client.get_table(table_ref)\n",
    "\n",
    "# Preview the first five lines of the \"taxi_trips\" table\n",
    "client.list_rows(table, max_results=5).to_dataframe()"
   ]
  },
  {
   "cell_type": "markdown",
   "id": "45aeb21d",
   "metadata": {
    "papermill": {
     "duration": 0.010259,
     "end_time": "2023-12-29T16:07:10.865695",
     "exception": false,
     "start_time": "2023-12-29T16:07:10.855436",
     "status": "completed"
    },
    "tags": []
   },
   "source": [
    "After deciding whether you see any important issues, run the code cell below."
   ]
  },
  {
   "cell_type": "code",
   "execution_count": 7,
   "id": "ba1e5830",
   "metadata": {
    "execution": {
     "iopub.execute_input": "2023-12-29T16:07:10.890355Z",
     "iopub.status.busy": "2023-12-29T16:07:10.889526Z",
     "iopub.status.idle": "2023-12-29T16:07:10.894922Z",
     "shell.execute_reply": "2023-12-29T16:07:10.893656Z"
    },
    "papermill": {
     "duration": 0.020809,
     "end_time": "2023-12-29T16:07:10.897788",
     "exception": false,
     "start_time": "2023-12-29T16:07:10.876979",
     "status": "completed"
    },
    "tags": []
   },
   "outputs": [],
   "source": [
    "# Check your answer (Run this code cell to receive credit!)\n",
    "# q_2.solution()"
   ]
  },
  {
   "cell_type": "markdown",
   "id": "d92fd5c0",
   "metadata": {
    "papermill": {
     "duration": 0.01158,
     "end_time": "2023-12-29T16:07:10.920996",
     "exception": false,
     "start_time": "2023-12-29T16:07:10.909416",
     "status": "completed"
    },
    "tags": []
   },
   "source": [
    "### 3) Determine when this data is from\n",
    "\n",
    "If the data is sufficiently old, we might be careful before assuming the data is still relevant to traffic patterns today. Write a query that counts the number of trips in each year.  \n",
    "\n",
    "Your results should have two columns:\n",
    "- `year` - the year of the trips\n",
    "- `num_trips` - the number of trips in that year\n",
    "\n",
    "Hints:\n",
    "- When using **GROUP BY** and **ORDER BY**, you should refer to the columns by the alias `year` that you set at the top of the **SELECT** query.\n",
    "- The SQL code to **SELECT** the year from `trip_start_timestamp` is <code>SELECT EXTRACT(YEAR FROM trip_start_timestamp)</code>\n",
    "- The **FROM** field can be a little tricky until you are used to it.  The format is:\n",
    "    1. A backick (the symbol \\`).\n",
    "    2. The project name. In this case it is `bigquery-public-data`.\n",
    "    3. A period.\n",
    "    4. The dataset name. In this case, it is `chicago_taxi_trips`.\n",
    "    5. A period.\n",
    "    6. The table name. You used this as your answer in **1) Find the data**.\n",
    "    7. A backtick (the symbol \\`)."
   ]
  },
  {
   "cell_type": "code",
   "execution_count": 8,
   "id": "e02722dc",
   "metadata": {
    "execution": {
     "iopub.execute_input": "2023-12-29T16:07:10.944479Z",
     "iopub.status.busy": "2023-12-29T16:07:10.944111Z",
     "iopub.status.idle": "2023-12-29T16:07:12.091401Z",
     "shell.execute_reply": "2023-12-29T16:07:12.090641Z"
    },
    "papermill": {
     "duration": 1.161248,
     "end_time": "2023-12-29T16:07:12.093614",
     "exception": false,
     "start_time": "2023-12-29T16:07:10.932366",
     "status": "completed"
    },
    "tags": []
   },
   "outputs": [
    {
     "data": {
      "application/javascript": [
       "parent.postMessage({\"jupyterEvent\": \"custom.exercise_interaction\", \"data\": {\"outcomeType\": 1, \"valueTowardsCompletion\": 0.16666666666666666, \"interactionType\": 1, \"questionType\": 2, \"questionId\": \"3_YearDistrib\", \"learnToolsVersion\": \"0.3.4\", \"failureMessage\": \"\", \"exceptionClass\": \"\", \"trace\": \"\"}}, \"*\")"
      ],
      "text/plain": [
       "<IPython.core.display.Javascript object>"
      ]
     },
     "metadata": {},
     "output_type": "display_data"
    },
    {
     "data": {
      "text/markdown": [
       "<span style=\"color:#33cc33\">Correct</span>"
      ],
      "text/plain": [
       "Correct"
      ]
     },
     "metadata": {},
     "output_type": "display_data"
    }
   ],
   "source": [
    "rides_per_year_query = \"\"\"\n",
    "                       SELECT EXTRACT(YEAR FROM trip_start_timestamp) AS year, \n",
    "                              COUNT(1) AS num_trips\n",
    "                       FROM `bigquery-public-data.chicago_taxi_trips.taxi_trips`\n",
    "                       GROUP BY year\n",
    "                       ORDER BY year\n",
    "                       \"\"\"\n",
    "\n",
    "# Set up the query (cancel the query if it would use too much of \n",
    "# your quota)\n",
    "safe_config = bigquery.QueryJobConfig(maximum_bytes_billed=10**10)\n",
    "rides_per_year_query_job = client.query(rides_per_year_query, job_config=safe_config)\n",
    "\n",
    "# API request - run the query, and return a pandas DataFrame\n",
    "rides_per_year_result = rides_per_year_query_job.to_dataframe()\n",
    "\n",
    "# Check your answer\n",
    "q_3.check()"
   ]
  },
  {
   "cell_type": "markdown",
   "id": "a06d3062",
   "metadata": {
    "papermill": {
     "duration": 0.010318,
     "end_time": "2023-12-29T16:07:12.114667",
     "exception": false,
     "start_time": "2023-12-29T16:07:12.104349",
     "status": "completed"
    },
    "tags": []
   },
   "source": [
    "For a hint or the solution, uncomment the appropriate line below."
   ]
  },
  {
   "cell_type": "code",
   "execution_count": 9,
   "id": "feeec068",
   "metadata": {
    "execution": {
     "iopub.execute_input": "2023-12-29T16:07:12.138146Z",
     "iopub.status.busy": "2023-12-29T16:07:12.137268Z",
     "iopub.status.idle": "2023-12-29T16:07:12.142531Z",
     "shell.execute_reply": "2023-12-29T16:07:12.141712Z"
    },
    "papermill": {
     "duration": 0.01941,
     "end_time": "2023-12-29T16:07:12.144813",
     "exception": false,
     "start_time": "2023-12-29T16:07:12.125403",
     "status": "completed"
    },
    "tags": []
   },
   "outputs": [],
   "source": [
    "#q_3.hint()\n",
    "# q_3.solution()"
   ]
  },
  {
   "cell_type": "markdown",
   "id": "27426e97",
   "metadata": {
    "papermill": {
     "duration": 0.010352,
     "end_time": "2023-12-29T16:07:12.166003",
     "exception": false,
     "start_time": "2023-12-29T16:07:12.155651",
     "status": "completed"
    },
    "tags": []
   },
   "source": [
    "### 4) Dive slightly deeper\n",
    "\n",
    "You'd like to take a closer look at rides from 2016.  Copy the query you used above in `rides_per_year_query` into the cell below for `rides_per_month_query`.  Then modify it in two ways:\n",
    "1. Use a **WHERE** clause to limit the query to data from 2016.\n",
    "2. Modify the query to extract the month rather than the year."
   ]
  },
  {
   "cell_type": "code",
   "execution_count": 10,
   "id": "5120a965",
   "metadata": {
    "execution": {
     "iopub.execute_input": "2023-12-29T16:07:12.189604Z",
     "iopub.status.busy": "2023-12-29T16:07:12.188985Z",
     "iopub.status.idle": "2023-12-29T16:07:13.344010Z",
     "shell.execute_reply": "2023-12-29T16:07:13.343060Z"
    },
    "papermill": {
     "duration": 1.171727,
     "end_time": "2023-12-29T16:07:13.348406",
     "exception": false,
     "start_time": "2023-12-29T16:07:12.176679",
     "status": "completed"
    },
    "tags": []
   },
   "outputs": [
    {
     "data": {
      "application/javascript": [
       "parent.postMessage({\"jupyterEvent\": \"custom.exercise_interaction\", \"data\": {\"outcomeType\": 1, \"valueTowardsCompletion\": 0.16666666666666666, \"interactionType\": 1, \"questionType\": 2, \"questionId\": \"4_MonthDistrib\", \"learnToolsVersion\": \"0.3.4\", \"failureMessage\": \"\", \"exceptionClass\": \"\", \"trace\": \"\"}}, \"*\")"
      ],
      "text/plain": [
       "<IPython.core.display.Javascript object>"
      ]
     },
     "metadata": {},
     "output_type": "display_data"
    },
    {
     "data": {
      "text/markdown": [
       "<span style=\"color:#33cc33\">Correct</span>"
      ],
      "text/plain": [
       "Correct"
      ]
     },
     "metadata": {},
     "output_type": "display_data"
    }
   ],
   "source": [
    "rides_per_month_query = \"\"\"\n",
    "                        SELECT EXTRACT(MONTH FROM trip_start_timestamp) AS month, \n",
    "                               COUNT(1) AS num_trips\n",
    "                        FROM `bigquery-public-data.chicago_taxi_trips.taxi_trips`\n",
    "                        WHERE EXTRACT(YEAR FROM trip_start_timestamp) = 2016\n",
    "                        GROUP BY month\n",
    "                        ORDER BY month\n",
    "                        \"\"\"\n",
    "\n",
    "# Set up the query (cancel the query if it would use too much of \n",
    "# your quota)\n",
    "safe_config = bigquery.QueryJobConfig(maximum_bytes_billed=10**10)\n",
    "rides_per_month_query_job = client.query(rides_per_month_query, job_config=safe_config)\n",
    "\n",
    "# API request - run the query, and return a pandas DataFrame\n",
    "rides_per_month_result = rides_per_month_query_job.to_dataframe()\n",
    "\n",
    "# Check your answer\n",
    "q_4.check()"
   ]
  },
  {
   "cell_type": "markdown",
   "id": "31ea12e2",
   "metadata": {
    "papermill": {
     "duration": 0.010742,
     "end_time": "2023-12-29T16:07:13.370340",
     "exception": false,
     "start_time": "2023-12-29T16:07:13.359598",
     "status": "completed"
    },
    "tags": []
   },
   "source": [
    "For a hint or the solution, uncomment the appropriate line below."
   ]
  },
  {
   "cell_type": "code",
   "execution_count": 11,
   "id": "ad4149f6",
   "metadata": {
    "execution": {
     "iopub.execute_input": "2023-12-29T16:07:13.394396Z",
     "iopub.status.busy": "2023-12-29T16:07:13.393657Z",
     "iopub.status.idle": "2023-12-29T16:07:13.398392Z",
     "shell.execute_reply": "2023-12-29T16:07:13.397370Z"
    },
    "papermill": {
     "duration": 0.019704,
     "end_time": "2023-12-29T16:07:13.400956",
     "exception": false,
     "start_time": "2023-12-29T16:07:13.381252",
     "status": "completed"
    },
    "tags": []
   },
   "outputs": [],
   "source": [
    "#q_4.hint()\n",
    "# q_4.solution()"
   ]
  },
  {
   "cell_type": "markdown",
   "id": "1b666fba",
   "metadata": {
    "papermill": {
     "duration": 0.01177,
     "end_time": "2023-12-29T16:07:13.424374",
     "exception": false,
     "start_time": "2023-12-29T16:07:13.412604",
     "status": "completed"
    },
    "tags": []
   },
   "source": [
    "### 5) Write the query\n",
    "\n",
    "It's time to step up the sophistication of your queries.  Write a query that shows, for each hour of the day in the dataset, the corresponding number of trips and average speed.\n",
    "\n",
    "Your results should have three columns:\n",
    "- `hour_of_day` - sort by this column, which holds the result of extracting the hour from `trip_start_timestamp`.\n",
    "- `num_trips` - the count of the total number of trips in each hour of the day (e.g. how many trips were started between 6AM and 7AM, independent of which day it occurred on).\n",
    "- `avg_mph` - the average speed, measured in miles per hour, for trips that started in that hour of the day.  Average speed in miles per hour is calculated as `3600 * SUM(trip_miles) / SUM(trip_seconds)`. (The value 3600 is used to convert from seconds to hours.)\n",
    "\n",
    "Restrict your query to data meeting the following criteria:\n",
    "- a `trip_start_timestamp` > **2016-01-01** and < **2016-04-01**\n",
    "- `trip_seconds` > 0 and `trip_miles` > 0\n",
    "\n",
    "You will use a common table expression (CTE) to select just the relevant rides.  Because this dataset is very big, this CTE should select only the columns you'll need to create the final output (though you won't actually create those in the CTE -- instead you'll create those in the later **SELECT** statement below the CTE).\n",
    "\n",
    "This is a much harder query than anything you've written so far.  Good luck!"
   ]
  },
  {
   "cell_type": "code",
   "execution_count": 12,
   "id": "45520aa4",
   "metadata": {
    "execution": {
     "iopub.execute_input": "2023-12-29T16:07:13.449901Z",
     "iopub.status.busy": "2023-12-29T16:07:13.449498Z",
     "iopub.status.idle": "2023-12-29T16:07:14.556292Z",
     "shell.execute_reply": "2023-12-29T16:07:14.554979Z"
    },
    "papermill": {
     "duration": 1.122161,
     "end_time": "2023-12-29T16:07:14.558654",
     "exception": false,
     "start_time": "2023-12-29T16:07:13.436493",
     "status": "completed"
    },
    "tags": []
   },
   "outputs": [
    {
     "name": "stdout",
     "output_type": "stream",
     "text": [
      "    hour_of_day  num_trips    avg_mph\n",
      "0             0     203092  20.191744\n",
      "1             1     178046  18.628598\n",
      "2             2     143447  18.444370\n",
      "3             3     108899  19.273107\n",
      "4             4      80067  27.599669\n",
      "5             5      75786  33.065604\n",
      "6             6     102254  28.533112\n",
      "7             7     187585  19.884592\n",
      "8             8     284223  16.787900\n",
      "9             9     306854  18.434124\n",
      "10           10     279762  20.091309\n",
      "11           11     294006  20.926340\n",
      "12           12     311522  20.063901\n",
      "13           13     317225  19.766321\n",
      "14           14     312629  19.309655\n",
      "15           15     319953  18.515564\n",
      "16           16     349455  17.168814\n",
      "17           17     394324  14.641375\n",
      "18           18     431991  15.381995\n",
      "19           19     416743  17.795008\n",
      "20           20     356279  20.347398\n",
      "21           21     318363  22.584731\n",
      "22           22     289886  21.129847\n",
      "23           23     241690  20.259757\n"
     ]
    },
    {
     "data": {
      "application/javascript": [
       "parent.postMessage({\"jupyterEvent\": \"custom.exercise_interaction\", \"data\": {\"outcomeType\": 1, \"valueTowardsCompletion\": 0.16666666666666666, \"interactionType\": 1, \"questionType\": 2, \"questionId\": \"5_TheLongQuery\", \"learnToolsVersion\": \"0.3.4\", \"failureMessage\": \"\", \"exceptionClass\": \"\", \"trace\": \"\"}}, \"*\")"
      ],
      "text/plain": [
       "<IPython.core.display.Javascript object>"
      ]
     },
     "metadata": {},
     "output_type": "display_data"
    },
    {
     "data": {
      "text/markdown": [
       "<span style=\"color:#33cc33\">Correct</span>"
      ],
      "text/plain": [
       "Correct"
      ]
     },
     "metadata": {},
     "output_type": "display_data"
    }
   ],
   "source": [
    "speeds_query = \"\"\"\n",
    "               WITH RelevantRides AS\n",
    "               (\n",
    "                   SELECT EXTRACT(HOUR FROM trip_start_timestamp) AS hour_of_day, \n",
    "                          trip_miles, \n",
    "                          trip_seconds\n",
    "                   FROM `bigquery-public-data.chicago_taxi_trips.taxi_trips`\n",
    "                   WHERE trip_start_timestamp > '2016-01-01' AND \n",
    "                         trip_start_timestamp < '2016-04-01' AND \n",
    "                         trip_seconds > 0 AND \n",
    "                         trip_miles > 0\n",
    "               )\n",
    "               SELECT hour_of_day, \n",
    "                      COUNT(1) AS num_trips, \n",
    "                      3600 * SUM(trip_miles) / SUM(trip_seconds) AS avg_mph\n",
    "               FROM RelevantRides\n",
    "               GROUP BY hour_of_day\n",
    "               ORDER BY hour_of_day\n",
    "               \"\"\"\n",
    "\n",
    "# Set up the query (cancel the query if it would use too much of \n",
    "# your quota)\n",
    "safe_config = bigquery.QueryJobConfig(maximum_bytes_billed=10**10)\n",
    "speeds_query_job = client.query(speeds_query, job_config=safe_config)\n",
    "\n",
    "# API request - run the query, and return a pandas DataFrame\n",
    "speeds_result = speeds_query_job.to_dataframe()\n",
    "\n",
    "# View results\n",
    "print(speeds_result)\n",
    "   \n",
    "\n",
    "# Check your answer\n",
    "q_5.check()"
   ]
  },
  {
   "cell_type": "markdown",
   "id": "795a42ab",
   "metadata": {
    "papermill": {
     "duration": 0.01147,
     "end_time": "2023-12-29T16:07:14.581678",
     "exception": false,
     "start_time": "2023-12-29T16:07:14.570208",
     "status": "completed"
    },
    "tags": []
   },
   "source": [
    "For the solution, uncomment the appropriate line below."
   ]
  },
  {
   "cell_type": "code",
   "execution_count": 13,
   "id": "30b96155",
   "metadata": {
    "execution": {
     "iopub.execute_input": "2023-12-29T16:07:14.607318Z",
     "iopub.status.busy": "2023-12-29T16:07:14.606896Z",
     "iopub.status.idle": "2023-12-29T16:07:14.616578Z",
     "shell.execute_reply": "2023-12-29T16:07:14.615391Z"
    },
    "papermill": {
     "duration": 0.025615,
     "end_time": "2023-12-29T16:07:14.618911",
     "exception": false,
     "start_time": "2023-12-29T16:07:14.593296",
     "status": "completed"
    },
    "tags": []
   },
   "outputs": [
    {
     "data": {
      "application/javascript": [
       "parent.postMessage({\"jupyterEvent\": \"custom.exercise_interaction\", \"data\": {\"interactionType\": 3, \"questionType\": 2, \"questionId\": \"5_TheLongQuery\", \"learnToolsVersion\": \"0.3.4\", \"valueTowardsCompletion\": 0.0, \"failureMessage\": \"\", \"exceptionClass\": \"\", \"trace\": \"\", \"outcomeType\": 4}}, \"*\")"
      ],
      "text/plain": [
       "<IPython.core.display.Javascript object>"
      ]
     },
     "metadata": {},
     "output_type": "display_data"
    },
    {
     "data": {
      "text/markdown": [
       "<span style=\"color:#33cc99\">Solution:</span> \n",
       "```python\n",
       "\n",
       "speeds_query = \"\"\"\n",
       "               WITH RelevantRides AS\n",
       "               (\n",
       "                   SELECT EXTRACT(HOUR FROM trip_start_timestamp) AS hour_of_day, \n",
       "                          trip_miles, \n",
       "                          trip_seconds\n",
       "                   FROM `bigquery-public-data.chicago_taxi_trips.taxi_trips`\n",
       "                   WHERE trip_start_timestamp > '2016-01-01' AND \n",
       "                         trip_start_timestamp < '2016-04-01' AND \n",
       "                         trip_seconds > 0 AND \n",
       "                         trip_miles > 0\n",
       "               )\n",
       "               SELECT hour_of_day, \n",
       "                      COUNT(1) AS num_trips, \n",
       "                      3600 * SUM(trip_miles) / SUM(trip_seconds) AS avg_mph\n",
       "               FROM RelevantRides\n",
       "               GROUP BY hour_of_day\n",
       "               ORDER BY hour_of_day\n",
       "               \"\"\"\n",
       "\n",
       "# Set up the query (cancel the query if it would use too much of \n",
       "# your quota)\n",
       "safe_config = bigquery.QueryJobConfig(maximum_bytes_billed=10**10)\n",
       "speeds_query_job = client.query(speeds_query, job_config=safe_config)\n",
       "\n",
       "# API request - run the query, and return a pandas DataFrame\n",
       "speeds_result = speeds_query_job.to_dataframe()\n",
       "\n",
       "# View results\n",
       "print(speeds_result)\n",
       "\n",
       "```"
      ],
      "text/plain": [
       "Solution: \n",
       "```python\n",
       "\n",
       "speeds_query = \"\"\"\n",
       "               WITH RelevantRides AS\n",
       "               (\n",
       "                   SELECT EXTRACT(HOUR FROM trip_start_timestamp) AS hour_of_day, \n",
       "                          trip_miles, \n",
       "                          trip_seconds\n",
       "                   FROM `bigquery-public-data.chicago_taxi_trips.taxi_trips`\n",
       "                   WHERE trip_start_timestamp > '2016-01-01' AND \n",
       "                         trip_start_timestamp < '2016-04-01' AND \n",
       "                         trip_seconds > 0 AND \n",
       "                         trip_miles > 0\n",
       "               )\n",
       "               SELECT hour_of_day, \n",
       "                      COUNT(1) AS num_trips, \n",
       "                      3600 * SUM(trip_miles) / SUM(trip_seconds) AS avg_mph\n",
       "               FROM RelevantRides\n",
       "               GROUP BY hour_of_day\n",
       "               ORDER BY hour_of_day\n",
       "               \"\"\"\n",
       "\n",
       "# Set up the query (cancel the query if it would use too much of \n",
       "# your quota)\n",
       "safe_config = bigquery.QueryJobConfig(maximum_bytes_billed=10**10)\n",
       "speeds_query_job = client.query(speeds_query, job_config=safe_config)\n",
       "\n",
       "# API request - run the query, and return a pandas DataFrame\n",
       "speeds_result = speeds_query_job.to_dataframe()\n",
       "\n",
       "# View results\n",
       "print(speeds_result)\n",
       "\n",
       "```"
      ]
     },
     "metadata": {},
     "output_type": "display_data"
    }
   ],
   "source": [
    "q_5.solution()"
   ]
  },
  {
   "cell_type": "markdown",
   "id": "b7ab6999",
   "metadata": {
    "papermill": {
     "duration": 0.012125,
     "end_time": "2023-12-29T16:07:14.643168",
     "exception": false,
     "start_time": "2023-12-29T16:07:14.631043",
     "status": "completed"
    },
    "tags": []
   },
   "source": [
    "That's a hard query. If you made good progress towards the solution, congratulations!"
   ]
  },
  {
   "cell_type": "markdown",
   "id": "035cf6b5",
   "metadata": {
    "papermill": {
     "duration": 0.012281,
     "end_time": "2023-12-29T16:07:14.667612",
     "exception": false,
     "start_time": "2023-12-29T16:07:14.655331",
     "status": "completed"
    },
    "tags": []
   },
   "source": [
    "# Keep going\n",
    "\n",
    "You can write very complex queries now with a single data source. But nothing expands the horizons of SQL as much as the ability to combine or **JOIN** tables.\n",
    "\n",
    "**[Click here](https://www.kaggle.com/dansbecker/joining-data)** to start the last lesson in the Intro to SQL course."
   ]
  },
  {
   "cell_type": "markdown",
   "id": "02a85a71",
   "metadata": {
    "papermill": {
     "duration": 0.013316,
     "end_time": "2023-12-29T16:07:14.693456",
     "exception": false,
     "start_time": "2023-12-29T16:07:14.680140",
     "status": "completed"
    },
    "tags": []
   },
   "source": [
    "---\n",
    "\n",
    "\n",
    "\n",
    "\n",
    "*Have questions or comments? Visit the [course discussion forum](https://www.kaggle.com/learn/intro-to-sql/discussion) to chat with other learners.*"
   ]
  }
 ],
 "metadata": {
  "kaggle": {
   "accelerator": "none",
   "dataSources": [
    {
     "datasetId": 22219,
     "sourceId": 28536,
     "sourceType": "datasetVersion"
    },
    {
     "datasetId": 11496,
     "sourceId": 285947,
     "sourceType": "datasetVersion"
    }
   ],
   "isGpuEnabled": false,
   "isInternetEnabled": true,
   "language": "python",
   "sourceType": "notebook"
  },
  "kernelspec": {
   "display_name": "Python 3",
   "language": "python",
   "name": "python3"
  },
  "language_info": {
   "codemirror_mode": {
    "name": "ipython",
    "version": 3
   },
   "file_extension": ".py",
   "mimetype": "text/x-python",
   "name": "python",
   "nbconvert_exporter": "python",
   "pygments_lexer": "ipython3",
   "version": "3.10.12"
  },
  "papermill": {
   "default_parameters": {},
   "duration": 44.40671,
   "end_time": "2023-12-29T16:07:15.527786",
   "environment_variables": {},
   "exception": null,
   "input_path": "__notebook__.ipynb",
   "output_path": "__notebook__.ipynb",
   "parameters": {},
   "start_time": "2023-12-29T16:06:31.121076",
   "version": "2.4.0"
  }
 },
 "nbformat": 4,
 "nbformat_minor": 5
}
