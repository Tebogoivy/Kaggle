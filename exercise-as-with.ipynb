{
 "cells": [
  {
   "cell_type": "markdown",
   "id": "3a0452fa",
   "metadata": {
    "papermill": {
     "duration": 0.008754,
     "end_time": "2023-12-29T13:53:04.727737",
     "exception": false,
     "start_time": "2023-12-29T13:53:04.718983",
     "status": "completed"
    },
    "tags": []
   },
   "source": [
    "**This notebook is an exercise in the [SQL](https://www.kaggle.com/learn/intro-to-sql) course.  You can reference the tutorial at [this link](https://www.kaggle.com/dansbecker/as-with).**\n",
    "\n",
    "---\n"
   ]
  },
  {
   "cell_type": "markdown",
   "id": "ed701e5a",
   "metadata": {
    "papermill": {
     "duration": 0.008462,
     "end_time": "2023-12-29T13:53:04.745162",
     "exception": false,
     "start_time": "2023-12-29T13:53:04.736700",
     "status": "completed"
    },
    "tags": []
   },
   "source": [
    "# Introduction\n",
    "\n",
    "You are getting to the point where you can own an analysis from beginning to end. So you'll do more data exploration in this exercise than you've done before.  Before you get started, run the following set-up code as usual. "
   ]
  },
  {
   "cell_type": "code",
   "execution_count": 1,
   "id": "0d7519fb",
   "metadata": {
    "execution": {
     "iopub.execute_input": "2023-12-29T13:53:04.765494Z",
     "iopub.status.busy": "2023-12-29T13:53:04.764641Z",
     "iopub.status.idle": "2023-12-29T13:53:41.571242Z",
     "shell.execute_reply": "2023-12-29T13:53:41.569158Z"
    },
    "papermill": {
     "duration": 36.82122,
     "end_time": "2023-12-29T13:53:41.574916",
     "exception": false,
     "start_time": "2023-12-29T13:53:04.753696",
     "status": "completed"
    },
    "tags": []
   },
   "outputs": [
    {
     "name": "stdout",
     "output_type": "stream",
     "text": [
      "Collecting git+https://github.com/Kaggle/learntools.git\r\n",
      "  Cloning https://github.com/Kaggle/learntools.git to /tmp/pip-req-build-4qo9_3zr\r\n",
      "  Running command git clone --filter=blob:none --quiet https://github.com/Kaggle/learntools.git /tmp/pip-req-build-4qo9_3zr\r\n",
      "  Resolved https://github.com/Kaggle/learntools.git to commit 7a83948d1820d0282e518fc44692bb3118c9e1a6\r\n",
      "  Preparing metadata (setup.py) ... \u001b[?25ldone\r\n",
      "\u001b[?25hBuilding wheels for collected packages: learntools\r\n",
      "  Building wheel for learntools (setup.py) ... \u001b[?25l-\b \bdone\r\n",
      "\u001b[?25h  Created wheel for learntools: filename=learntools-0.3.4-py3-none-any.whl size=268962 sha256=53283b2c85aef97347982c0c6b2941c9607d75c87fc070fc7971a1f613d7f750\r\n",
      "  Stored in directory: /tmp/pip-ephem-wheel-cache-j62oejno/wheels/2f/6c/3c/aa9f50cfb5a862157cb4c7a5b34881828cf45404698255dced\r\n",
      "Successfully built learntools\r\n",
      "Installing collected packages: learntools\r\n",
      "Successfully installed learntools-0.3.4\r\n",
      "Using Kaggle's public dataset BigQuery integration.\n",
      "Setup Complete\n"
     ]
    }
   ],
   "source": [
    "# Get most recent checking code\n",
    "!pip install -U -t /kaggle/working/ git+https://github.com/Kaggle/learntools.git\n",
    "# Set up feedback system\n",
    "from learntools.core import binder\n",
    "binder.bind(globals())\n",
    "from learntools.sql.ex5 import *\n",
    "print(\"Setup Complete\")"
   ]
  },
  {
   "cell_type": "markdown",
   "id": "8a20d72e",
   "metadata": {
    "papermill": {
     "duration": 0.008892,
     "end_time": "2023-12-29T13:53:41.593300",
     "exception": false,
     "start_time": "2023-12-29T13:53:41.584408",
     "status": "completed"
    },
    "tags": []
   },
   "source": [
    "You'll work with a dataset about taxi trips in the city of Chicago. Run the cell below to fetch the `chicago_taxi_trips` dataset."
   ]
  },
  {
   "cell_type": "code",
   "execution_count": 2,
   "id": "c682a802",
   "metadata": {
    "execution": {
     "iopub.execute_input": "2023-12-29T13:53:41.614747Z",
     "iopub.status.busy": "2023-12-29T13:53:41.613378Z",
     "iopub.status.idle": "2023-12-29T13:53:41.985759Z",
     "shell.execute_reply": "2023-12-29T13:53:41.984478Z"
    },
    "papermill": {
     "duration": 0.386348,
     "end_time": "2023-12-29T13:53:41.988933",
     "exception": false,
     "start_time": "2023-12-29T13:53:41.602585",
     "status": "completed"
    },
    "tags": []
   },
   "outputs": [
    {
     "name": "stdout",
     "output_type": "stream",
     "text": [
      "Using Kaggle's public dataset BigQuery integration.\n"
     ]
    }
   ],
   "source": [
    "from google.cloud import bigquery\n",
    "\n",
    "# Create a \"Client\" object\n",
    "client = bigquery.Client()\n",
    "\n",
    "# Construct a reference to the \"chicago_taxi_trips\" dataset\n",
    "dataset_ref = client.dataset(\"chicago_taxi_trips\", project=\"bigquery-public-data\")\n",
    "\n",
    "# API request - fetch the dataset\n",
    "dataset = client.get_dataset(dataset_ref)"
   ]
  },
  {
   "cell_type": "markdown",
   "id": "2524e9da",
   "metadata": {
    "papermill": {
     "duration": 0.008973,
     "end_time": "2023-12-29T13:53:42.007224",
     "exception": false,
     "start_time": "2023-12-29T13:53:41.998251",
     "status": "completed"
    },
    "tags": []
   },
   "source": [
    "# Exercises\n",
    "\n",
    "You are curious how much slower traffic moves when traffic volume is high. This involves a few steps.\n",
    "\n",
    "### 1) Find the data\n",
    "Before you can access the data, you need to find the table name with the data.\n",
    "\n",
    "*Hint*: Tab completion is helpful whenever you can't remember a command. Type `client.` and then hit the tab key. Don't forget the period before hitting tab."
   ]
  },
  {
   "cell_type": "code",
   "execution_count": 3,
   "id": "341695f1",
   "metadata": {
    "execution": {
     "iopub.execute_input": "2023-12-29T13:53:42.027997Z",
     "iopub.status.busy": "2023-12-29T13:53:42.027572Z",
     "iopub.status.idle": "2023-12-29T13:53:42.032675Z",
     "shell.execute_reply": "2023-12-29T13:53:42.031330Z"
    },
    "papermill": {
     "duration": 0.018898,
     "end_time": "2023-12-29T13:53:42.035476",
     "exception": false,
     "start_time": "2023-12-29T13:53:42.016578",
     "status": "completed"
    },
    "tags": []
   },
   "outputs": [],
   "source": [
    "# Your code here to find the table name"
   ]
  },
  {
   "cell_type": "code",
   "execution_count": 4,
   "id": "6a939f6d",
   "metadata": {
    "execution": {
     "iopub.execute_input": "2023-12-29T13:53:42.056857Z",
     "iopub.status.busy": "2023-12-29T13:53:42.056447Z",
     "iopub.status.idle": "2023-12-29T13:53:42.355821Z",
     "shell.execute_reply": "2023-12-29T13:53:42.354574Z"
    },
    "papermill": {
     "duration": 0.313647,
     "end_time": "2023-12-29T13:53:42.358946",
     "exception": false,
     "start_time": "2023-12-29T13:53:42.045299",
     "status": "completed"
    },
    "tags": []
   },
   "outputs": [
    {
     "name": "stdout",
     "output_type": "stream",
     "text": [
      "taxi_trips\n"
     ]
    },
    {
     "data": {
      "application/javascript": [
       "parent.postMessage({\"jupyterEvent\": \"custom.exercise_interaction\", \"data\": {\"outcomeType\": 1, \"valueTowardsCompletion\": 0.16666666666666666, \"interactionType\": 1, \"questionType\": 1, \"questionId\": \"1_GetTableName\", \"learnToolsVersion\": \"0.3.4\", \"failureMessage\": \"\", \"exceptionClass\": \"\", \"trace\": \"\"}}, \"*\")"
      ],
      "text/plain": [
       "<IPython.core.display.Javascript object>"
      ]
     },
     "metadata": {},
     "output_type": "display_data"
    },
    {
     "data": {
      "text/markdown": [
       "<span style=\"color:#33cc33\">Correct</span>"
      ],
      "text/plain": [
       "Correct"
      ]
     },
     "metadata": {},
     "output_type": "display_data"
    }
   ],
   "source": [
    "# List all the tables in the dataset\n",
    "tables = list(client.list_tables(dataset))\n",
    "\n",
    "# Print names of all tables in the dataset (there is only one!)\n",
    "for table in tables:  \n",
    "    print(table.table_id)\n",
    "\n",
    "table_name = 'taxi_trips'\n",
    "    \n",
    "# Check your answer\n",
    "q_1.check()"
   ]
  },
  {
   "cell_type": "markdown",
   "id": "3380c653",
   "metadata": {
    "papermill": {
     "duration": 0.00949,
     "end_time": "2023-12-29T13:53:42.378440",
     "exception": false,
     "start_time": "2023-12-29T13:53:42.368950",
     "status": "completed"
    },
    "tags": []
   },
   "source": [
    "For the solution, uncomment the line below."
   ]
  },
  {
   "cell_type": "code",
   "execution_count": 5,
   "id": "67458ef5",
   "metadata": {
    "execution": {
     "iopub.execute_input": "2023-12-29T13:53:42.400975Z",
     "iopub.status.busy": "2023-12-29T13:53:42.399960Z",
     "iopub.status.idle": "2023-12-29T13:53:42.405157Z",
     "shell.execute_reply": "2023-12-29T13:53:42.403792Z"
    },
    "papermill": {
     "duration": 0.019328,
     "end_time": "2023-12-29T13:53:42.407983",
     "exception": false,
     "start_time": "2023-12-29T13:53:42.388655",
     "status": "completed"
    },
    "tags": []
   },
   "outputs": [],
   "source": [
    "# q_1.solution()"
   ]
  },
  {
   "cell_type": "markdown",
   "id": "59ad04bc",
   "metadata": {
    "papermill": {
     "duration": 0.009516,
     "end_time": "2023-12-29T13:53:42.427880",
     "exception": false,
     "start_time": "2023-12-29T13:53:42.418364",
     "status": "completed"
    },
    "tags": []
   },
   "source": [
    "### 2) Peek at the data\n",
    "\n",
    "Use the next code cell to peek at the top few rows of the data. Inspect the data and see if any issues with data quality are immediately obvious. "
   ]
  },
  {
   "cell_type": "code",
   "execution_count": 6,
   "id": "b3bb17f8",
   "metadata": {
    "execution": {
     "iopub.execute_input": "2023-12-29T13:53:42.449713Z",
     "iopub.status.busy": "2023-12-29T13:53:42.449279Z",
     "iopub.status.idle": "2023-12-29T13:53:43.255329Z",
     "shell.execute_reply": "2023-12-29T13:53:43.254466Z"
    },
    "papermill": {
     "duration": 0.820317,
     "end_time": "2023-12-29T13:53:43.258006",
     "exception": false,
     "start_time": "2023-12-29T13:53:42.437689",
     "status": "completed"
    },
    "tags": []
   },
   "outputs": [
    {
     "data": {
      "text/html": [
       "<div>\n",
       "<style scoped>\n",
       "    .dataframe tbody tr th:only-of-type {\n",
       "        vertical-align: middle;\n",
       "    }\n",
       "\n",
       "    .dataframe tbody tr th {\n",
       "        vertical-align: top;\n",
       "    }\n",
       "\n",
       "    .dataframe thead th {\n",
       "        text-align: right;\n",
       "    }\n",
       "</style>\n",
       "<table border=\"1\" class=\"dataframe\">\n",
       "  <thead>\n",
       "    <tr style=\"text-align: right;\">\n",
       "      <th></th>\n",
       "      <th>unique_key</th>\n",
       "      <th>taxi_id</th>\n",
       "      <th>trip_start_timestamp</th>\n",
       "      <th>trip_end_timestamp</th>\n",
       "      <th>trip_seconds</th>\n",
       "      <th>trip_miles</th>\n",
       "      <th>pickup_census_tract</th>\n",
       "      <th>dropoff_census_tract</th>\n",
       "      <th>pickup_community_area</th>\n",
       "      <th>dropoff_community_area</th>\n",
       "      <th>...</th>\n",
       "      <th>extras</th>\n",
       "      <th>trip_total</th>\n",
       "      <th>payment_type</th>\n",
       "      <th>company</th>\n",
       "      <th>pickup_latitude</th>\n",
       "      <th>pickup_longitude</th>\n",
       "      <th>pickup_location</th>\n",
       "      <th>dropoff_latitude</th>\n",
       "      <th>dropoff_longitude</th>\n",
       "      <th>dropoff_location</th>\n",
       "    </tr>\n",
       "  </thead>\n",
       "  <tbody>\n",
       "    <tr>\n",
       "      <th>0</th>\n",
       "      <td>c0d78d7c0c3cae454bd7be7db78b5647fc948216</td>\n",
       "      <td>2ba062c1af0dcca978289cafaafafb442bd649a884ec3b...</td>\n",
       "      <td>2016-09-29 09:45:00+00:00</td>\n",
       "      <td>2016-09-29 09:45:00+00:00</td>\n",
       "      <td>41</td>\n",
       "      <td>0.3</td>\n",
       "      <td>1.703181e+10</td>\n",
       "      <td>1.703181e+10</td>\n",
       "      <td>NaN</td>\n",
       "      <td>NaN</td>\n",
       "      <td>...</td>\n",
       "      <td>0.0</td>\n",
       "      <td>2.4</td>\n",
       "      <td>Cash</td>\n",
       "      <td>Norshore Cab</td>\n",
       "      <td>NaN</td>\n",
       "      <td>NaN</td>\n",
       "      <td>None</td>\n",
       "      <td>NaN</td>\n",
       "      <td>NaN</td>\n",
       "      <td>None</td>\n",
       "    </tr>\n",
       "    <tr>\n",
       "      <th>1</th>\n",
       "      <td>921f1e27a2f60211ee246514484ab41cea4c5afe</td>\n",
       "      <td>2ba062c1af0dcca978289cafaafafb442bd649a884ec3b...</td>\n",
       "      <td>2016-09-29 10:00:00+00:00</td>\n",
       "      <td>2016-09-29 10:00:00+00:00</td>\n",
       "      <td>197</td>\n",
       "      <td>2.5</td>\n",
       "      <td>NaN</td>\n",
       "      <td>NaN</td>\n",
       "      <td>NaN</td>\n",
       "      <td>NaN</td>\n",
       "      <td>...</td>\n",
       "      <td>0.0</td>\n",
       "      <td>7.8</td>\n",
       "      <td>Cash</td>\n",
       "      <td>Norshore Cab</td>\n",
       "      <td>NaN</td>\n",
       "      <td>NaN</td>\n",
       "      <td>None</td>\n",
       "      <td>NaN</td>\n",
       "      <td>NaN</td>\n",
       "      <td>None</td>\n",
       "    </tr>\n",
       "    <tr>\n",
       "      <th>2</th>\n",
       "      <td>cfb20db21d0504b232972d1152d14e2b9eb8b4f0</td>\n",
       "      <td>2ba062c1af0dcca978289cafaafafb442bd649a884ec3b...</td>\n",
       "      <td>2016-09-29 13:45:00+00:00</td>\n",
       "      <td>2016-09-29 13:45:00+00:00</td>\n",
       "      <td>272</td>\n",
       "      <td>3.9</td>\n",
       "      <td>NaN</td>\n",
       "      <td>NaN</td>\n",
       "      <td>NaN</td>\n",
       "      <td>NaN</td>\n",
       "      <td>...</td>\n",
       "      <td>0.0</td>\n",
       "      <td>11.2</td>\n",
       "      <td>Cash</td>\n",
       "      <td>Norshore Cab</td>\n",
       "      <td>NaN</td>\n",
       "      <td>NaN</td>\n",
       "      <td>None</td>\n",
       "      <td>NaN</td>\n",
       "      <td>NaN</td>\n",
       "      <td>None</td>\n",
       "    </tr>\n",
       "    <tr>\n",
       "      <th>3</th>\n",
       "      <td>4f161126c714175aba1eaa937116060c8203497f</td>\n",
       "      <td>2ba062c1af0dcca978289cafaafafb442bd649a884ec3b...</td>\n",
       "      <td>2016-09-29 14:00:00+00:00</td>\n",
       "      <td>2016-09-29 14:00:00+00:00</td>\n",
       "      <td>246</td>\n",
       "      <td>1.8</td>\n",
       "      <td>NaN</td>\n",
       "      <td>NaN</td>\n",
       "      <td>NaN</td>\n",
       "      <td>NaN</td>\n",
       "      <td>...</td>\n",
       "      <td>0.0</td>\n",
       "      <td>6.4</td>\n",
       "      <td>Cash</td>\n",
       "      <td>Norshore Cab</td>\n",
       "      <td>NaN</td>\n",
       "      <td>NaN</td>\n",
       "      <td>None</td>\n",
       "      <td>NaN</td>\n",
       "      <td>NaN</td>\n",
       "      <td>None</td>\n",
       "    </tr>\n",
       "    <tr>\n",
       "      <th>4</th>\n",
       "      <td>c475d9dced40a0d92cd0db9d9328a745dbbad26e</td>\n",
       "      <td>304ba57c63532d90658c49810d576a49695a5e9a402e78...</td>\n",
       "      <td>2017-11-30 15:30:00+00:00</td>\n",
       "      <td>2017-11-30 15:30:00+00:00</td>\n",
       "      <td>101</td>\n",
       "      <td>0.0</td>\n",
       "      <td>NaN</td>\n",
       "      <td>NaN</td>\n",
       "      <td>NaN</td>\n",
       "      <td>NaN</td>\n",
       "      <td>...</td>\n",
       "      <td>0.0</td>\n",
       "      <td>2.6</td>\n",
       "      <td>Cash</td>\n",
       "      <td>303 Taxi</td>\n",
       "      <td>NaN</td>\n",
       "      <td>NaN</td>\n",
       "      <td>None</td>\n",
       "      <td>NaN</td>\n",
       "      <td>NaN</td>\n",
       "      <td>None</td>\n",
       "    </tr>\n",
       "  </tbody>\n",
       "</table>\n",
       "<p>5 rows × 23 columns</p>\n",
       "</div>"
      ],
      "text/plain": [
       "                                 unique_key  \\\n",
       "0  c0d78d7c0c3cae454bd7be7db78b5647fc948216   \n",
       "1  921f1e27a2f60211ee246514484ab41cea4c5afe   \n",
       "2  cfb20db21d0504b232972d1152d14e2b9eb8b4f0   \n",
       "3  4f161126c714175aba1eaa937116060c8203497f   \n",
       "4  c475d9dced40a0d92cd0db9d9328a745dbbad26e   \n",
       "\n",
       "                                             taxi_id  \\\n",
       "0  2ba062c1af0dcca978289cafaafafb442bd649a884ec3b...   \n",
       "1  2ba062c1af0dcca978289cafaafafb442bd649a884ec3b...   \n",
       "2  2ba062c1af0dcca978289cafaafafb442bd649a884ec3b...   \n",
       "3  2ba062c1af0dcca978289cafaafafb442bd649a884ec3b...   \n",
       "4  304ba57c63532d90658c49810d576a49695a5e9a402e78...   \n",
       "\n",
       "       trip_start_timestamp        trip_end_timestamp  trip_seconds  \\\n",
       "0 2016-09-29 09:45:00+00:00 2016-09-29 09:45:00+00:00            41   \n",
       "1 2016-09-29 10:00:00+00:00 2016-09-29 10:00:00+00:00           197   \n",
       "2 2016-09-29 13:45:00+00:00 2016-09-29 13:45:00+00:00           272   \n",
       "3 2016-09-29 14:00:00+00:00 2016-09-29 14:00:00+00:00           246   \n",
       "4 2017-11-30 15:30:00+00:00 2017-11-30 15:30:00+00:00           101   \n",
       "\n",
       "   trip_miles  pickup_census_tract  dropoff_census_tract  \\\n",
       "0         0.3         1.703181e+10          1.703181e+10   \n",
       "1         2.5                  NaN                   NaN   \n",
       "2         3.9                  NaN                   NaN   \n",
       "3         1.8                  NaN                   NaN   \n",
       "4         0.0                  NaN                   NaN   \n",
       "\n",
       "   pickup_community_area  dropoff_community_area  ...  extras  trip_total  \\\n",
       "0                    NaN                     NaN  ...     0.0         2.4   \n",
       "1                    NaN                     NaN  ...     0.0         7.8   \n",
       "2                    NaN                     NaN  ...     0.0        11.2   \n",
       "3                    NaN                     NaN  ...     0.0         6.4   \n",
       "4                    NaN                     NaN  ...     0.0         2.6   \n",
       "\n",
       "   payment_type       company  pickup_latitude pickup_longitude  \\\n",
       "0          Cash  Norshore Cab              NaN              NaN   \n",
       "1          Cash  Norshore Cab              NaN              NaN   \n",
       "2          Cash  Norshore Cab              NaN              NaN   \n",
       "3          Cash  Norshore Cab              NaN              NaN   \n",
       "4          Cash      303 Taxi              NaN              NaN   \n",
       "\n",
       "  pickup_location  dropoff_latitude  dropoff_longitude dropoff_location  \n",
       "0            None               NaN                NaN             None  \n",
       "1            None               NaN                NaN             None  \n",
       "2            None               NaN                NaN             None  \n",
       "3            None               NaN                NaN             None  \n",
       "4            None               NaN                NaN             None  \n",
       "\n",
       "[5 rows x 23 columns]"
      ]
     },
     "execution_count": 6,
     "metadata": {},
     "output_type": "execute_result"
    }
   ],
   "source": [
    "# Construct a reference to the \"taxi_trips\" table\n",
    "table_ref = dataset_ref.table(\"taxi_trips\")\n",
    "\n",
    "# API request - fetch the table\n",
    "table = client.get_table(table_ref)\n",
    "\n",
    "# Preview the first five lines of the \"taxi_trips\" table\n",
    "client.list_rows(table, max_results=5).to_dataframe()"
   ]
  },
  {
   "cell_type": "markdown",
   "id": "26f62875",
   "metadata": {
    "papermill": {
     "duration": 0.010094,
     "end_time": "2023-12-29T13:53:43.278318",
     "exception": false,
     "start_time": "2023-12-29T13:53:43.268224",
     "status": "completed"
    },
    "tags": []
   },
   "source": [
    "After deciding whether you see any important issues, run the code cell below."
   ]
  },
  {
   "cell_type": "code",
   "execution_count": 7,
   "id": "55f1254b",
   "metadata": {
    "execution": {
     "iopub.execute_input": "2023-12-29T13:53:43.302811Z",
     "iopub.status.busy": "2023-12-29T13:53:43.301600Z",
     "iopub.status.idle": "2023-12-29T13:53:43.311341Z",
     "shell.execute_reply": "2023-12-29T13:53:43.310189Z"
    },
    "papermill": {
     "duration": 0.025394,
     "end_time": "2023-12-29T13:53:43.314011",
     "exception": false,
     "start_time": "2023-12-29T13:53:43.288617",
     "status": "completed"
    },
    "tags": []
   },
   "outputs": [
    {
     "data": {
      "application/javascript": [
       "parent.postMessage({\"jupyterEvent\": \"custom.exercise_interaction\", \"data\": {\"interactionType\": 3, \"questionType\": 4, \"questionId\": \"2_WhatsWrongWithData\", \"learnToolsVersion\": \"0.3.4\", \"valueTowardsCompletion\": 0.0, \"failureMessage\": \"\", \"exceptionClass\": \"\", \"trace\": \"\", \"outcomeType\": 4}}, \"*\")"
      ],
      "text/plain": [
       "<IPython.core.display.Javascript object>"
      ]
     },
     "metadata": {},
     "output_type": "display_data"
    },
    {
     "data": {
      "text/markdown": [
       "<span style=\"color:#33cc99\">Solution:</span> \n",
       "You can see the data by calling: \n",
       "```python\n",
       "# Construct a reference to the \"taxi_trips\" table\n",
       "table_ref = dataset_ref.table(\"taxi_trips\")\n",
       "\n",
       "# API request - fetch the table\n",
       "table = client.get_table(table_ref)\n",
       "\n",
       "# Preview the first five lines of the \"taxi_trips\" table\n",
       "client.list_rows(table, max_results=5).to_dataframe()\n",
       "```\n",
       "\n",
       "Some location fields have values of `None` or `NaN`. That is a problem if we want to use those fields.\n"
      ],
      "text/plain": [
       "Solution: \n",
       "You can see the data by calling: \n",
       "```python\n",
       "# Construct a reference to the \"taxi_trips\" table\n",
       "table_ref = dataset_ref.table(\"taxi_trips\")\n",
       "\n",
       "# API request - fetch the table\n",
       "table = client.get_table(table_ref)\n",
       "\n",
       "# Preview the first five lines of the \"taxi_trips\" table\n",
       "client.list_rows(table, max_results=5).to_dataframe()\n",
       "```\n",
       "\n",
       "Some location fields have values of `None` or `NaN`. That is a problem if we want to use those fields."
      ]
     },
     "metadata": {},
     "output_type": "display_data"
    }
   ],
   "source": [
    "# Check your answer (Run this code cell to receive credit!)\n",
    "q_2.solution()"
   ]
  },
  {
   "cell_type": "markdown",
   "id": "b2be0921",
   "metadata": {
    "papermill": {
     "duration": 0.010384,
     "end_time": "2023-12-29T13:53:43.335192",
     "exception": false,
     "start_time": "2023-12-29T13:53:43.324808",
     "status": "completed"
    },
    "tags": []
   },
   "source": [
    "### 3) Determine when this data is from\n",
    "\n",
    "If the data is sufficiently old, we might be careful before assuming the data is still relevant to traffic patterns today. Write a query that counts the number of trips in each year.  \n",
    "\n",
    "Your results should have two columns:\n",
    "- `year` - the year of the trips\n",
    "- `num_trips` - the number of trips in that year\n",
    "\n",
    "Hints:\n",
    "- When using **GROUP BY** and **ORDER BY**, you should refer to the columns by the alias `year` that you set at the top of the **SELECT** query.\n",
    "- The SQL code to **SELECT** the year from `trip_start_timestamp` is <code>SELECT EXTRACT(YEAR FROM trip_start_timestamp)</code>\n",
    "- The **FROM** field can be a little tricky until you are used to it.  The format is:\n",
    "    1. A backick (the symbol \\`).\n",
    "    2. The project name. In this case it is `bigquery-public-data`.\n",
    "    3. A period.\n",
    "    4. The dataset name. In this case, it is `chicago_taxi_trips`.\n",
    "    5. A period.\n",
    "    6. The table name. You used this as your answer in **1) Find the data**.\n",
    "    7. A backtick (the symbol \\`)."
   ]
  },
  {
   "cell_type": "code",
   "execution_count": 8,
   "id": "c8be452a",
   "metadata": {
    "execution": {
     "iopub.execute_input": "2023-12-29T13:53:43.358875Z",
     "iopub.status.busy": "2023-12-29T13:53:43.358420Z",
     "iopub.status.idle": "2023-12-29T13:53:44.527483Z",
     "shell.execute_reply": "2023-12-29T13:53:44.526063Z"
    },
    "papermill": {
     "duration": 1.184431,
     "end_time": "2023-12-29T13:53:44.530522",
     "exception": false,
     "start_time": "2023-12-29T13:53:43.346091",
     "status": "completed"
    },
    "tags": []
   },
   "outputs": [
    {
     "data": {
      "application/javascript": [
       "parent.postMessage({\"jupyterEvent\": \"custom.exercise_interaction\", \"data\": {\"outcomeType\": 1, \"valueTowardsCompletion\": 0.16666666666666666, \"interactionType\": 1, \"questionType\": 2, \"questionId\": \"3_YearDistrib\", \"learnToolsVersion\": \"0.3.4\", \"failureMessage\": \"\", \"exceptionClass\": \"\", \"trace\": \"\"}}, \"*\")"
      ],
      "text/plain": [
       "<IPython.core.display.Javascript object>"
      ]
     },
     "metadata": {},
     "output_type": "display_data"
    },
    {
     "data": {
      "text/markdown": [
       "<span style=\"color:#33cc33\">Correct</span>"
      ],
      "text/plain": [
       "Correct"
      ]
     },
     "metadata": {},
     "output_type": "display_data"
    }
   ],
   "source": [
    "rides_per_year_query = \"\"\"\n",
    "                       SELECT EXTRACT(YEAR FROM trip_start_timestamp) AS year, \n",
    "                              COUNT(1) AS num_trips\n",
    "                       FROM `bigquery-public-data.chicago_taxi_trips.taxi_trips`\n",
    "                       GROUP BY year\n",
    "                       ORDER BY year\n",
    "                       \"\"\"\n",
    "\n",
    "# Set up the query (cancel the query if it would use too much of \n",
    "# your quota)\n",
    "safe_config = bigquery.QueryJobConfig(maximum_bytes_billed=10**10)\n",
    "rides_per_year_query_job = client.query(rides_per_year_query, job_config=safe_config)\n",
    "\n",
    "# API request - run the query, and return a pandas DataFrame\n",
    "rides_per_year_result = rides_per_year_query_job.to_dataframe()\n",
    "\n",
    "# Check your answer\n",
    "q_3.check()"
   ]
  },
  {
   "cell_type": "markdown",
   "id": "c83cb17d",
   "metadata": {
    "papermill": {
     "duration": 0.013116,
     "end_time": "2023-12-29T13:53:44.554827",
     "exception": false,
     "start_time": "2023-12-29T13:53:44.541711",
     "status": "completed"
    },
    "tags": []
   },
   "source": [
    "For a hint or the solution, uncomment the appropriate line below."
   ]
  },
  {
   "cell_type": "code",
   "execution_count": 9,
   "id": "625630cc",
   "metadata": {
    "execution": {
     "iopub.execute_input": "2023-12-29T13:53:44.579599Z",
     "iopub.status.busy": "2023-12-29T13:53:44.579146Z",
     "iopub.status.idle": "2023-12-29T13:53:44.584179Z",
     "shell.execute_reply": "2023-12-29T13:53:44.582971Z"
    },
    "papermill": {
     "duration": 0.020105,
     "end_time": "2023-12-29T13:53:44.586695",
     "exception": false,
     "start_time": "2023-12-29T13:53:44.566590",
     "status": "completed"
    },
    "tags": []
   },
   "outputs": [],
   "source": [
    "#q_3.hint()\n",
    "# q_3.solution()"
   ]
  },
  {
   "cell_type": "markdown",
   "id": "e72bed3d",
   "metadata": {
    "papermill": {
     "duration": 0.011321,
     "end_time": "2023-12-29T13:53:44.609519",
     "exception": false,
     "start_time": "2023-12-29T13:53:44.598198",
     "status": "completed"
    },
    "tags": []
   },
   "source": [
    "### 4) Dive slightly deeper\n",
    "\n",
    "You'd like to take a closer look at rides from 2016.  Copy the query you used above in `rides_per_year_query` into the cell below for `rides_per_month_query`.  Then modify it in two ways:\n",
    "1. Use a **WHERE** clause to limit the query to data from 2016.\n",
    "2. Modify the query to extract the month rather than the year."
   ]
  },
  {
   "cell_type": "code",
   "execution_count": 10,
   "id": "7a4e0ffe",
   "metadata": {
    "execution": {
     "iopub.execute_input": "2023-12-29T13:53:44.634733Z",
     "iopub.status.busy": "2023-12-29T13:53:44.634290Z",
     "iopub.status.idle": "2023-12-29T13:53:45.896432Z",
     "shell.execute_reply": "2023-12-29T13:53:45.895114Z"
    },
    "papermill": {
     "duration": 1.278059,
     "end_time": "2023-12-29T13:53:45.899017",
     "exception": false,
     "start_time": "2023-12-29T13:53:44.620958",
     "status": "completed"
    },
    "tags": []
   },
   "outputs": [
    {
     "data": {
      "application/javascript": [
       "parent.postMessage({\"jupyterEvent\": \"custom.exercise_interaction\", \"data\": {\"outcomeType\": 1, \"valueTowardsCompletion\": 0.16666666666666666, \"interactionType\": 1, \"questionType\": 2, \"questionId\": \"4_MonthDistrib\", \"learnToolsVersion\": \"0.3.4\", \"failureMessage\": \"\", \"exceptionClass\": \"\", \"trace\": \"\"}}, \"*\")"
      ],
      "text/plain": [
       "<IPython.core.display.Javascript object>"
      ]
     },
     "metadata": {},
     "output_type": "display_data"
    },
    {
     "data": {
      "text/markdown": [
       "<span style=\"color:#33cc33\">Correct</span>"
      ],
      "text/plain": [
       "Correct"
      ]
     },
     "metadata": {},
     "output_type": "display_data"
    }
   ],
   "source": [
    "rides_per_month_query = \"\"\"\n",
    "                        SELECT EXTRACT(MONTH FROM trip_start_timestamp) AS month, \n",
    "                               COUNT(1) AS num_trips\n",
    "                        FROM `bigquery-public-data.chicago_taxi_trips.taxi_trips`\n",
    "                        WHERE EXTRACT(YEAR FROM trip_start_timestamp) = 2016\n",
    "                        GROUP BY month\n",
    "                        ORDER BY month\n",
    "                        \"\"\"\n",
    "\n",
    "# Set up the query (cancel the query if it would use too much of \n",
    "# your quota)\n",
    "safe_config = bigquery.QueryJobConfig(maximum_bytes_billed=10**10)\n",
    "rides_per_month_query_job = client.query(rides_per_month_query, job_config=safe_config)\n",
    "\n",
    "# API request - run the query, and return a pandas DataFrame\n",
    "rides_per_month_result = rides_per_month_query_job.to_dataframe()\n",
    "\n",
    "# Check your answer\n",
    "q_4.check()"
   ]
  },
  {
   "cell_type": "markdown",
   "id": "0b0d658d",
   "metadata": {
    "papermill": {
     "duration": 0.011094,
     "end_time": "2023-12-29T13:53:45.921418",
     "exception": false,
     "start_time": "2023-12-29T13:53:45.910324",
     "status": "completed"
    },
    "tags": []
   },
   "source": [
    "For a hint or the solution, uncomment the appropriate line below."
   ]
  },
  {
   "cell_type": "code",
   "execution_count": 11,
   "id": "1514654d",
   "metadata": {
    "execution": {
     "iopub.execute_input": "2023-12-29T13:53:45.946495Z",
     "iopub.status.busy": "2023-12-29T13:53:45.945794Z",
     "iopub.status.idle": "2023-12-29T13:53:45.950672Z",
     "shell.execute_reply": "2023-12-29T13:53:45.949488Z"
    },
    "papermill": {
     "duration": 0.020121,
     "end_time": "2023-12-29T13:53:45.953231",
     "exception": false,
     "start_time": "2023-12-29T13:53:45.933110",
     "status": "completed"
    },
    "tags": []
   },
   "outputs": [],
   "source": [
    "#q_4.hint()\n",
    "# q_4.solution()"
   ]
  },
  {
   "cell_type": "markdown",
   "id": "caf8e9dc",
   "metadata": {
    "papermill": {
     "duration": 0.011114,
     "end_time": "2023-12-29T13:53:45.975671",
     "exception": false,
     "start_time": "2023-12-29T13:53:45.964557",
     "status": "completed"
    },
    "tags": []
   },
   "source": [
    "### 5) Write the query\n",
    "\n",
    "It's time to step up the sophistication of your queries.  Write a query that shows, for each hour of the day in the dataset, the corresponding number of trips and average speed.\n",
    "\n",
    "Your results should have three columns:\n",
    "- `hour_of_day` - sort by this column, which holds the result of extracting the hour from `trip_start_timestamp`.\n",
    "- `num_trips` - the count of the total number of trips in each hour of the day (e.g. how many trips were started between 6AM and 7AM, independent of which day it occurred on).\n",
    "- `avg_mph` - the average speed, measured in miles per hour, for trips that started in that hour of the day.  Average speed in miles per hour is calculated as `3600 * SUM(trip_miles) / SUM(trip_seconds)`. (The value 3600 is used to convert from seconds to hours.)\n",
    "\n",
    "Restrict your query to data meeting the following criteria:\n",
    "- a `trip_start_timestamp` > **2016-01-01** and < **2016-04-01**\n",
    "- `trip_seconds` > 0 and `trip_miles` > 0\n",
    "\n",
    "You will use a common table expression (CTE) to select just the relevant rides.  Because this dataset is very big, this CTE should select only the columns you'll need to create the final output (though you won't actually create those in the CTE -- instead you'll create those in the later **SELECT** statement below the CTE).\n",
    "\n",
    "This is a much harder query than anything you've written so far.  Good luck!"
   ]
  },
  {
   "cell_type": "code",
   "execution_count": 12,
   "id": "4d0512d7",
   "metadata": {
    "execution": {
     "iopub.execute_input": "2023-12-29T13:53:46.000258Z",
     "iopub.status.busy": "2023-12-29T13:53:45.999826Z",
     "iopub.status.idle": "2023-12-29T13:53:46.012982Z",
     "shell.execute_reply": "2023-12-29T13:53:46.011736Z"
    },
    "papermill": {
     "duration": 0.029259,
     "end_time": "2023-12-29T13:53:46.016335",
     "exception": false,
     "start_time": "2023-12-29T13:53:45.987076",
     "status": "completed"
    },
    "tags": []
   },
   "outputs": [
    {
     "name": "stdout",
     "output_type": "stream",
     "text": [
      "<learntools.core.constants.PlaceholderValue object at 0x7fe102852110>\n"
     ]
    },
    {
     "data": {
      "application/javascript": [
       "parent.postMessage({\"jupyterEvent\": \"custom.exercise_interaction\", \"data\": {\"outcomeType\": 4, \"interactionType\": 1, \"questionType\": 2, \"questionId\": \"5_TheLongQuery\", \"learnToolsVersion\": \"0.3.4\", \"valueTowardsCompletion\": 0.0, \"failureMessage\": \"\", \"exceptionClass\": \"\", \"trace\": \"\"}}, \"*\")"
      ],
      "text/plain": [
       "<IPython.core.display.Javascript object>"
      ]
     },
     "metadata": {},
     "output_type": "display_data"
    },
    {
     "data": {
      "text/markdown": [
       "<span style=\"color:#ccaa33\">Check:</span> When you've updated the starter code, `check()` will tell you whether your code is correct. You need to update the code that creates variable `speeds_result`"
      ],
      "text/plain": [
       "Check: When you've updated the starter code, `check()` will tell you whether your code is correct. You need to update the code that creates variable `speeds_result`"
      ]
     },
     "metadata": {},
     "output_type": "display_data"
    }
   ],
   "source": [
    "# Your code goes here\n",
    "speeds_query = \"\"\"\n",
    "               WITH RelevantRides AS\n",
    "               (\n",
    "                   SELECT ____\n",
    "                   FROM ____\n",
    "                   WHERE ____\n",
    "               )\n",
    "               SELECT ______\n",
    "               FROM RelevantRides\n",
    "               GROUP BY ____\n",
    "               ORDER BY ____\n",
    "               \"\"\"\n",
    "\n",
    "# Set up the query\n",
    "safe_config = bigquery.QueryJobConfig(maximum_bytes_billed=10**10)\n",
    "speeds_query_job = ____ # Your code here\n",
    "\n",
    "# API request - run the query, and return a pandas DataFrame\n",
    "speeds_result = ____ # Your code here\n",
    "\n",
    "# View results\n",
    "print(speeds_result)\n",
    "\n",
    "# Check your answer\n",
    "q_5.check()"
   ]
  },
  {
   "cell_type": "markdown",
   "id": "5b09189c",
   "metadata": {
    "papermill": {
     "duration": 0.012004,
     "end_time": "2023-12-29T13:53:46.040518",
     "exception": false,
     "start_time": "2023-12-29T13:53:46.028514",
     "status": "completed"
    },
    "tags": []
   },
   "source": [
    "For the solution, uncomment the appropriate line below."
   ]
  },
  {
   "cell_type": "code",
   "execution_count": 13,
   "id": "4d162c7e",
   "metadata": {
    "execution": {
     "iopub.execute_input": "2023-12-29T13:53:46.067083Z",
     "iopub.status.busy": "2023-12-29T13:53:46.066674Z",
     "iopub.status.idle": "2023-12-29T13:53:46.071839Z",
     "shell.execute_reply": "2023-12-29T13:53:46.070471Z"
    },
    "papermill": {
     "duration": 0.022185,
     "end_time": "2023-12-29T13:53:46.074458",
     "exception": false,
     "start_time": "2023-12-29T13:53:46.052273",
     "status": "completed"
    },
    "tags": []
   },
   "outputs": [],
   "source": [
    "#q_5.solution()"
   ]
  },
  {
   "cell_type": "markdown",
   "id": "0d2512d9",
   "metadata": {
    "papermill": {
     "duration": 0.013455,
     "end_time": "2023-12-29T13:53:46.099929",
     "exception": false,
     "start_time": "2023-12-29T13:53:46.086474",
     "status": "completed"
    },
    "tags": []
   },
   "source": [
    "That's a hard query. If you made good progress towards the solution, congratulations!"
   ]
  },
  {
   "cell_type": "markdown",
   "id": "beacc909",
   "metadata": {
    "papermill": {
     "duration": 0.011727,
     "end_time": "2023-12-29T13:53:46.123799",
     "exception": false,
     "start_time": "2023-12-29T13:53:46.112072",
     "status": "completed"
    },
    "tags": []
   },
   "source": [
    "# Keep going\n",
    "\n",
    "You can write very complex queries now with a single data source. But nothing expands the horizons of SQL as much as the ability to combine or **JOIN** tables.\n",
    "\n",
    "**[Click here](https://www.kaggle.com/dansbecker/joining-data)** to start the last lesson in the Intro to SQL course."
   ]
  },
  {
   "cell_type": "markdown",
   "id": "7ae4b76a",
   "metadata": {
    "papermill": {
     "duration": 0.011841,
     "end_time": "2023-12-29T13:53:46.147617",
     "exception": false,
     "start_time": "2023-12-29T13:53:46.135776",
     "status": "completed"
    },
    "tags": []
   },
   "source": [
    "---\n",
    "\n",
    "\n",
    "\n",
    "\n",
    "*Have questions or comments? Visit the [course discussion forum](https://www.kaggle.com/learn/intro-to-sql/discussion) to chat with other learners.*"
   ]
  }
 ],
 "metadata": {
  "kaggle": {
   "accelerator": "none",
   "dataSources": [
    {
     "datasetId": 22219,
     "sourceId": 28536,
     "sourceType": "datasetVersion"
    },
    {
     "datasetId": 11496,
     "sourceId": 285947,
     "sourceType": "datasetVersion"
    }
   ],
   "isGpuEnabled": false,
   "isInternetEnabled": true,
   "language": "python",
   "sourceType": "notebook"
  },
  "kernelspec": {
   "display_name": "Python 3",
   "language": "python",
   "name": "python3"
  },
  "language_info": {
   "codemirror_mode": {
    "name": "ipython",
    "version": 3
   },
   "file_extension": ".py",
   "mimetype": "text/x-python",
   "name": "python",
   "nbconvert_exporter": "python",
   "pygments_lexer": "ipython3",
   "version": "3.10.12"
  },
  "papermill": {
   "default_parameters": {},
   "duration": 46.106792,
   "end_time": "2023-12-29T13:53:46.982402",
   "environment_variables": {},
   "exception": null,
   "input_path": "__notebook__.ipynb",
   "output_path": "__notebook__.ipynb",
   "parameters": {},
   "start_time": "2023-12-29T13:53:00.875610",
   "version": "2.4.0"
  }
 },
 "nbformat": 4,
 "nbformat_minor": 5
}
