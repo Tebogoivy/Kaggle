{
 "cells": [
  {
   "cell_type": "markdown",
   "id": "52a095ca",
   "metadata": {
    "papermill": {
     "duration": 0.008635,
     "end_time": "2023-05-13T08:14:02.552869",
     "exception": false,
     "start_time": "2023-05-13T08:14:02.544234",
     "status": "completed"
    },
    "tags": []
   },
   "source": [
    "**This notebook is an exercise in the [Intro to Programming](https://www.kaggle.com/learn/intro-to-programming) course.  You can reference the tutorial at [this link](https://www.kaggle.com/alexisbcook/data-types).**\n",
    "\n",
    "---\n"
   ]
  },
  {
   "cell_type": "markdown",
   "id": "74969251",
   "metadata": {
    "papermill": {
     "duration": 0.007883,
     "end_time": "2023-05-13T08:14:02.569002",
     "exception": false,
     "start_time": "2023-05-13T08:14:02.561119",
     "status": "completed"
    },
    "tags": []
   },
   "source": [
    "In the tutorial, you learned about four different data types: floats, integers, strings, and booleans.  In this exercise, you'll experiment with them.\n",
    "\n",
    "# Set up the notebook\n",
    "\n",
    "Run the next code cell without changes to set up the notebook."
   ]
  },
  {
   "cell_type": "code",
   "execution_count": 1,
   "id": "2ae22bb7",
   "metadata": {
    "execution": {
     "iopub.execute_input": "2023-05-13T08:14:02.587162Z",
     "iopub.status.busy": "2023-05-13T08:14:02.586472Z",
     "iopub.status.idle": "2023-05-13T08:14:02.638585Z",
     "shell.execute_reply": "2023-05-13T08:14:02.637692Z"
    },
    "papermill": {
     "duration": 0.064226,
     "end_time": "2023-05-13T08:14:02.641233",
     "exception": false,
     "start_time": "2023-05-13T08:14:02.577007",
     "status": "completed"
    },
    "tags": []
   },
   "outputs": [
    {
     "name": "stdout",
     "output_type": "stream",
     "text": [
      "Setup complete.\n"
     ]
    }
   ],
   "source": [
    "# Set up the exercise\n",
    "from learntools.core import binder\n",
    "binder.bind(globals())\n",
    "from learntools.intro_to_programming.ex3 import *\n",
    "print('Setup complete.')"
   ]
  },
  {
   "cell_type": "markdown",
   "id": "ffe44fda",
   "metadata": {
    "papermill": {
     "duration": 0.008648,
     "end_time": "2023-05-13T08:14:02.658475",
     "exception": false,
     "start_time": "2023-05-13T08:14:02.649827",
     "status": "completed"
    },
    "tags": []
   },
   "source": [
    "# Question 1\n",
    "\n",
    "You have seen how to convert a float to an integer with the `int` function.  Try this out yourself by running the code cell below."
   ]
  },
  {
   "cell_type": "code",
   "execution_count": 2,
   "id": "645348fa",
   "metadata": {
    "execution": {
     "iopub.execute_input": "2023-05-13T08:14:02.677270Z",
     "iopub.status.busy": "2023-05-13T08:14:02.676666Z",
     "iopub.status.idle": "2023-05-13T08:14:02.681911Z",
     "shell.execute_reply": "2023-05-13T08:14:02.681142Z"
    },
    "papermill": {
     "duration": 0.017338,
     "end_time": "2023-05-13T08:14:02.684280",
     "exception": false,
     "start_time": "2023-05-13T08:14:02.666942",
     "status": "completed"
    },
    "tags": []
   },
   "outputs": [
    {
     "name": "stdout",
     "output_type": "stream",
     "text": [
      "1.0\n",
      "<class 'float'>\n",
      "1\n",
      "<class 'int'>\n"
     ]
    }
   ],
   "source": [
    "# Define a float\n",
    "y = 1.\n",
    "print(y)\n",
    "print(type(y))\n",
    "\n",
    "# Convert float to integer with the int function\n",
    "z = int(y)\n",
    "print(z)\n",
    "print(type(z))"
   ]
  },
  {
   "cell_type": "markdown",
   "id": "185c774d",
   "metadata": {
    "papermill": {
     "duration": 0.008287,
     "end_time": "2023-05-13T08:14:02.701042",
     "exception": false,
     "start_time": "2023-05-13T08:14:02.692755",
     "status": "completed"
    },
    "tags": []
   },
   "source": [
    "In this case, the float you are using has no numbers after the decimal.  \n",
    "- But what happens when you try to convert a float with a fractional part to an integer?  \n",
    "- How does the outcome of the `int` function change for positive and negative numbers?\n",
    "\n",
    "Use the next code cell to investigate and answer these questions.  Feel free to add or remove any lines of code -- it is your workspace!"
   ]
  },
  {
   "cell_type": "code",
   "execution_count": 3,
   "id": "7ba466ce",
   "metadata": {
    "execution": {
     "iopub.execute_input": "2023-05-13T08:14:02.720101Z",
     "iopub.status.busy": "2023-05-13T08:14:02.719700Z",
     "iopub.status.idle": "2023-05-13T08:14:02.726338Z",
     "shell.execute_reply": "2023-05-13T08:14:02.725123Z"
    },
    "papermill": {
     "duration": 0.019212,
     "end_time": "2023-05-13T08:14:02.729206",
     "exception": false,
     "start_time": "2023-05-13T08:14:02.709994",
     "status": "completed"
    },
    "tags": []
   },
   "outputs": [
    {
     "name": "stdout",
     "output_type": "stream",
     "text": [
      "1\n",
      "1\n",
      "-3\n",
      "-2\n"
     ]
    }
   ],
   "source": [
    "# Uncomment and run this code to get started!\n",
    "print(int(1.2321))\n",
    "print(int(1.747))\n",
    "print(int(-3.94535))\n",
    "print(int(-2.19774))"
   ]
  },
  {
   "cell_type": "markdown",
   "id": "84060f24",
   "metadata": {
    "papermill": {
     "duration": 0.00823,
     "end_time": "2023-05-13T08:14:02.745865",
     "exception": false,
     "start_time": "2023-05-13T08:14:02.737635",
     "status": "completed"
    },
    "tags": []
   },
   "source": [
    "Once you have an answer, run the code cell below to see the solution.  Viewing the solution will give you credit for answering the problem."
   ]
  },
  {
   "cell_type": "code",
   "execution_count": 4,
   "id": "82af9704",
   "metadata": {
    "execution": {
     "iopub.execute_input": "2023-05-13T08:14:02.764660Z",
     "iopub.status.busy": "2023-05-13T08:14:02.764005Z",
     "iopub.status.idle": "2023-05-13T08:14:02.774174Z",
     "shell.execute_reply": "2023-05-13T08:14:02.773084Z"
    },
    "papermill": {
     "duration": 0.022246,
     "end_time": "2023-05-13T08:14:02.776567",
     "exception": false,
     "start_time": "2023-05-13T08:14:02.754321",
     "status": "completed"
    },
    "tags": []
   },
   "outputs": [
    {
     "data": {
      "application/javascript": [
       "parent.postMessage({\"jupyterEvent\": \"custom.exercise_interaction\", \"data\": {\"outcomeType\": 1, \"valueTowardsCompletion\": 0.2, \"interactionType\": 1, \"questionType\": 4, \"questionId\": \"1_FloatToInt\", \"learnToolsVersion\": \"0.3.4\", \"failureMessage\": \"\", \"exceptionClass\": \"\", \"trace\": \"\"}}, \"*\")"
      ],
      "text/plain": [
       "<IPython.core.display.Javascript object>"
      ]
     },
     "metadata": {},
     "output_type": "display_data"
    },
    {
     "data": {
      "text/markdown": [
       "<span style=\"color:#33cc33\">Correct:</span> \n",
       "\n",
       "Negative floats are always rounded UP to the closest integer (for instance, both -1.1 and -1.9 are rounded up to -1). Positive floats are always rounded DOWN to the closest integer (for instance, 2.1 and 2.9 are rounded down to 2)."
      ],
      "text/plain": [
       "Correct: \n",
       "\n",
       "Negative floats are always rounded UP to the closest integer (for instance, both -1.1 and -1.9 are rounded up to -1). Positive floats are always rounded DOWN to the closest integer (for instance, 2.1 and 2.9 are rounded down to 2)."
      ]
     },
     "metadata": {},
     "output_type": "display_data"
    }
   ],
   "source": [
    "# Check your answer (Run this code cell to receive credit!)\n",
    "q1.check()"
   ]
  },
  {
   "cell_type": "markdown",
   "id": "a40caa7b",
   "metadata": {
    "papermill": {
     "duration": 0.008771,
     "end_time": "2023-05-13T08:14:02.794273",
     "exception": false,
     "start_time": "2023-05-13T08:14:02.785502",
     "status": "completed"
    },
    "tags": []
   },
   "source": [
    "# Question 2\n",
    "\n",
    "In the tutorial, you learned about booleans (which can take a value of `True` or `False`), in addition to integers, floats, and strings.  For this question, your goal is to determine what happens when you multiply a boolean by any of these data types.  Specifically, \n",
    "- What happens when you multiply an integer or float by `True`?  What happens when you multiply them by `False`?  How does the answer change if the numbers are positive or negative?\n",
    "- What happens when you multiply a string by `True`?  By `False`?\n",
    "\n",
    "Use the next code cell for your investigation. "
   ]
  },
  {
   "cell_type": "code",
   "execution_count": 5,
   "id": "e6d2b517",
   "metadata": {
    "execution": {
     "iopub.execute_input": "2023-05-13T08:14:02.813717Z",
     "iopub.status.busy": "2023-05-13T08:14:02.813309Z",
     "iopub.status.idle": "2023-05-13T08:14:02.819439Z",
     "shell.execute_reply": "2023-05-13T08:14:02.818262Z"
    },
    "papermill": {
     "duration": 0.01926,
     "end_time": "2023-05-13T08:14:02.822355",
     "exception": false,
     "start_time": "2023-05-13T08:14:02.803095",
     "status": "completed"
    },
    "tags": []
   },
   "outputs": [
    {
     "name": "stdout",
     "output_type": "stream",
     "text": [
      "3\n",
      "-3.1\n",
      "<class 'str'>\n",
      "0\n"
     ]
    }
   ],
   "source": [
    "# Uncomment and run this code to get started!\n",
    "print(3 * True)\n",
    "print(-3.1 * True)\n",
    "print(type(\"abc\" * False))\n",
    "print(len(\"abc\" * False))"
   ]
  },
  {
   "cell_type": "markdown",
   "id": "08e208ad",
   "metadata": {
    "papermill": {
     "duration": 0.009133,
     "end_time": "2023-05-13T08:14:02.841524",
     "exception": false,
     "start_time": "2023-05-13T08:14:02.832391",
     "status": "completed"
    },
    "tags": []
   },
   "source": [
    "Once you have an answer, run the code cell below to see the solution.  Viewing the solution will give you credit for answering the problem."
   ]
  },
  {
   "cell_type": "code",
   "execution_count": 6,
   "id": "20aedc50",
   "metadata": {
    "execution": {
     "iopub.execute_input": "2023-05-13T08:14:02.861465Z",
     "iopub.status.busy": "2023-05-13T08:14:02.861069Z",
     "iopub.status.idle": "2023-05-13T08:14:02.869770Z",
     "shell.execute_reply": "2023-05-13T08:14:02.868635Z"
    },
    "papermill": {
     "duration": 0.021514,
     "end_time": "2023-05-13T08:14:02.872016",
     "exception": false,
     "start_time": "2023-05-13T08:14:02.850502",
     "status": "completed"
    },
    "tags": []
   },
   "outputs": [
    {
     "data": {
      "application/javascript": [
       "parent.postMessage({\"jupyterEvent\": \"custom.exercise_interaction\", \"data\": {\"outcomeType\": 1, \"valueTowardsCompletion\": 0.2, \"interactionType\": 1, \"questionType\": 4, \"questionId\": \"2_MultiplyBooleans\", \"learnToolsVersion\": \"0.3.4\", \"failureMessage\": \"\", \"exceptionClass\": \"\", \"trace\": \"\"}}, \"*\")"
      ],
      "text/plain": [
       "<IPython.core.display.Javascript object>"
      ]
     },
     "metadata": {},
     "output_type": "display_data"
    },
    {
     "data": {
      "text/markdown": [
       "<span style=\"color:#33cc33\">Correct:</span> \n",
       "\n",
       "When you multiple an integer or float by a boolean with value `True`, it just returns that same integer or float (and is equivalent to multiplying by 1).  If you multiply an integer or float by a boolean with value `False`, it always returns 0.  This is true for both positive and negative numbers.  If you multiply a string by a boolean with value `True`, it just returns that same string.  And if you multiply a string by a boolean with value `False`, it returns an empty string (or a string with length zero)."
      ],
      "text/plain": [
       "Correct: \n",
       "\n",
       "When you multiple an integer or float by a boolean with value `True`, it just returns that same integer or float (and is equivalent to multiplying by 1).  If you multiply an integer or float by a boolean with value `False`, it always returns 0.  This is true for both positive and negative numbers.  If you multiply a string by a boolean with value `True`, it just returns that same string.  And if you multiply a string by a boolean with value `False`, it returns an empty string (or a string with length zero)."
      ]
     },
     "metadata": {},
     "output_type": "display_data"
    }
   ],
   "source": [
    "# Check your answer (Run this code cell to receive credit!)\n",
    "q2.check()"
   ]
  },
  {
   "cell_type": "markdown",
   "id": "62b1babf",
   "metadata": {
    "papermill": {
     "duration": 0.008926,
     "end_time": "2023-05-13T08:14:02.890352",
     "exception": false,
     "start_time": "2023-05-13T08:14:02.881426",
     "status": "completed"
    },
    "tags": []
   },
   "source": [
    "# Question 3\n",
    "\n",
    "In this question, you will build off your work from the previous exercise to write a function that estimates the value of a house.\n",
    "\n",
    "Use the next code cell to create a function `get_expected_cost` that takes as input three variables:\n",
    "- `beds` - number of bedrooms (data type float)\n",
    "- `baths` - number of bathrooms (data type float)\n",
    "- `has_basement` - whether or not the house has a basement (data type boolean)\n",
    "\n",
    "It should return the expected cost of a house with those characteristics. Assume that:\n",
    "- the expected cost for a house with 0 bedrooms and 0 bathrooms, and no basement is 80000, \n",
    "- each bedroom adds 30000 to the expected cost,\n",
    "- each bathroom adds 10000 to the expected cost, and\n",
    "- a basement adds 40000 to the expected cost.\n",
    "\n",
    "For instance,\n",
    "- a house with 1 bedroom, 1 bathroom, and no basement has an expected cost of 80000 + 30000 + 10000 = 120000.  This value will be calculated with `get_expected_cost(1, 1, False)`.\n",
    "- a house with 2 bedrooms, 1 bathroom, and a basement has an expected cost of 80000 + 2*30000 + 10000 + 40000 = 190000.  This value will be calculated with `get_expected_cost(2, 1, True)`.\n",
    "\n",
    "Remember you can always get a hint by uncommenting `q3.hint()` in the code cell following the next!"
   ]
  },
  {
   "cell_type": "code",
   "execution_count": 7,
   "id": "5c47d234",
   "metadata": {
    "execution": {
     "iopub.execute_input": "2023-05-13T08:14:02.910831Z",
     "iopub.status.busy": "2023-05-13T08:14:02.910368Z",
     "iopub.status.idle": "2023-05-13T08:14:02.919468Z",
     "shell.execute_reply": "2023-05-13T08:14:02.918688Z"
    },
    "papermill": {
     "duration": 0.021965,
     "end_time": "2023-05-13T08:14:02.921603",
     "exception": false,
     "start_time": "2023-05-13T08:14:02.899638",
     "status": "completed"
    },
    "tags": []
   },
   "outputs": [
    {
     "data": {
      "application/javascript": [
       "parent.postMessage({\"jupyterEvent\": \"custom.exercise_interaction\", \"data\": {\"outcomeType\": 1, \"valueTowardsCompletion\": 0.2, \"interactionType\": 1, \"questionType\": 2, \"questionId\": \"3_EstimateHouseValueBool\", \"learnToolsVersion\": \"0.3.4\", \"failureMessage\": \"\", \"exceptionClass\": \"\", \"trace\": \"\"}}, \"*\")"
      ],
      "text/plain": [
       "<IPython.core.display.Javascript object>"
      ]
     },
     "metadata": {},
     "output_type": "display_data"
    },
    {
     "data": {
      "text/markdown": [
       "<span style=\"color:#33cc33\">Correct</span>"
      ],
      "text/plain": [
       "Correct"
      ]
     },
     "metadata": {},
     "output_type": "display_data"
    }
   ],
   "source": [
    "# TODO: Complete the function\n",
    "def get_expected_cost(beds, baths, has_basement):\n",
    "    value = 80000 + beds * 30000 + baths * 10000 + has_basement * 40000\n",
    "    return value\n",
    "\n",
    "# Check your answer \n",
    "q3.check()"
   ]
  },
  {
   "cell_type": "code",
   "execution_count": 8,
   "id": "feea1d89",
   "metadata": {
    "execution": {
     "iopub.execute_input": "2023-05-13T08:14:02.942490Z",
     "iopub.status.busy": "2023-05-13T08:14:02.942131Z",
     "iopub.status.idle": "2023-05-13T08:14:02.946028Z",
     "shell.execute_reply": "2023-05-13T08:14:02.945063Z"
    },
    "papermill": {
     "duration": 0.016827,
     "end_time": "2023-05-13T08:14:02.948106",
     "exception": false,
     "start_time": "2023-05-13T08:14:02.931279",
     "status": "completed"
    },
    "tags": []
   },
   "outputs": [],
   "source": [
    "# Uncomment to see a hint\n",
    "#q3.hint()\n",
    "\n",
    "# Uncomment to view the solution\n",
    "#q3.solution()"
   ]
  },
  {
   "cell_type": "markdown",
   "id": "e8b9cae2",
   "metadata": {
    "papermill": {
     "duration": 0.009245,
     "end_time": "2023-05-13T08:14:02.966940",
     "exception": false,
     "start_time": "2023-05-13T08:14:02.957695",
     "status": "completed"
    },
    "tags": []
   },
   "source": [
    "# Question 4\n",
    "\n",
    "We'll continue our study of boolean arithmetic.  For this question, your task is to provide a description of what happpens when you add booleans. \n",
    "\n",
    "Use the next code cell for your investigation.  Feel free to add or remove any lines of code - use it as your workspace!"
   ]
  },
  {
   "cell_type": "code",
   "execution_count": 9,
   "id": "84d3f77e",
   "metadata": {
    "execution": {
     "iopub.execute_input": "2023-05-13T08:14:02.988122Z",
     "iopub.status.busy": "2023-05-13T08:14:02.987719Z",
     "iopub.status.idle": "2023-05-13T08:14:02.994001Z",
     "shell.execute_reply": "2023-05-13T08:14:02.992857Z"
    },
    "papermill": {
     "duration": 0.019791,
     "end_time": "2023-05-13T08:14:02.996634",
     "exception": false,
     "start_time": "2023-05-13T08:14:02.976843",
     "status": "completed"
    },
    "tags": []
   },
   "outputs": [
    {
     "name": "stdout",
     "output_type": "stream",
     "text": [
      "0\n",
      "1\n",
      "1\n",
      "2\n",
      "3\n"
     ]
    }
   ],
   "source": [
    "print(False + False)\n",
    "print(True + False)\n",
    "print(False + True)\n",
    "print(True + True)\n",
    "print(False + True + True + True)"
   ]
  },
  {
   "cell_type": "markdown",
   "id": "842a3a41",
   "metadata": {
    "papermill": {
     "duration": 0.009448,
     "end_time": "2023-05-13T08:14:03.016203",
     "exception": false,
     "start_time": "2023-05-13T08:14:03.006755",
     "status": "completed"
    },
    "tags": []
   },
   "source": [
    "Once you have an answer, run the code cell below to see the solution.  Viewing the solution will give you credit for answering the problem."
   ]
  },
  {
   "cell_type": "code",
   "execution_count": 10,
   "id": "9fd62651",
   "metadata": {
    "execution": {
     "iopub.execute_input": "2023-05-13T08:14:03.037388Z",
     "iopub.status.busy": "2023-05-13T08:14:03.036970Z",
     "iopub.status.idle": "2023-05-13T08:14:03.045557Z",
     "shell.execute_reply": "2023-05-13T08:14:03.044633Z"
    },
    "papermill": {
     "duration": 0.022238,
     "end_time": "2023-05-13T08:14:03.048277",
     "exception": false,
     "start_time": "2023-05-13T08:14:03.026039",
     "status": "completed"
    },
    "tags": []
   },
   "outputs": [
    {
     "data": {
      "application/javascript": [
       "parent.postMessage({\"jupyterEvent\": \"custom.exercise_interaction\", \"data\": {\"outcomeType\": 1, \"valueTowardsCompletion\": 0.2, \"interactionType\": 1, \"questionType\": 4, \"questionId\": \"4_AddingBooleans\", \"learnToolsVersion\": \"0.3.4\", \"failureMessage\": \"\", \"exceptionClass\": \"\", \"trace\": \"\"}}, \"*\")"
      ],
      "text/plain": [
       "<IPython.core.display.Javascript object>"
      ]
     },
     "metadata": {},
     "output_type": "display_data"
    },
    {
     "data": {
      "text/markdown": [
       "<span style=\"color:#33cc33\">Correct:</span> \n",
       "\n",
       "When you add booleans, adding `False` is equivalent to adding 0, and adding `True` is equivalent to adding 1."
      ],
      "text/plain": [
       "Correct: \n",
       "\n",
       "When you add booleans, adding `False` is equivalent to adding 0, and adding `True` is equivalent to adding 1."
      ]
     },
     "metadata": {},
     "output_type": "display_data"
    }
   ],
   "source": [
    "# Check your answer (Run this code cell to receive credit!)\n",
    "q4.check()"
   ]
  },
  {
   "cell_type": "markdown",
   "id": "07db8cae",
   "metadata": {
    "papermill": {
     "duration": 0.009818,
     "end_time": "2023-05-13T08:14:03.068580",
     "exception": false,
     "start_time": "2023-05-13T08:14:03.058762",
     "status": "completed"
    },
    "tags": []
   },
   "source": [
    "# 🌶️ Question 5\n",
    "\n",
    "You own an online shop where you sell rings with custom engravings.  You offer both gold plated and solid gold rings.\n",
    "- Gold plated rings have a base cost of \\\\$50, and you charge \\\\$7 per engraved unit.  \n",
    "- Solid gold rings have a base cost of \\\\$100, and you charge \\\\$10 per engraved unit.\n",
    "- Spaces and punctuation are counted as engraved units.\n",
    "\n",
    "Write a function `cost_of_project()` that takes two arguments:\n",
    "- `engraving` - a Python string with the text of the engraving\n",
    "- `solid_gold` - a Boolean that indicates whether the ring is solid gold\n",
    "\n",
    "It should return the cost of the project.  This question should be fairly challenging, and you may need a hint."
   ]
  },
  {
   "cell_type": "code",
   "execution_count": 11,
   "id": "1032e057",
   "metadata": {
    "execution": {
     "iopub.execute_input": "2023-05-13T08:14:03.090386Z",
     "iopub.status.busy": "2023-05-13T08:14:03.090006Z",
     "iopub.status.idle": "2023-05-13T08:14:03.098843Z",
     "shell.execute_reply": "2023-05-13T08:14:03.097964Z"
    },
    "papermill": {
     "duration": 0.022408,
     "end_time": "2023-05-13T08:14:03.100921",
     "exception": false,
     "start_time": "2023-05-13T08:14:03.078513",
     "status": "completed"
    },
    "tags": []
   },
   "outputs": [
    {
     "data": {
      "application/javascript": [
       "parent.postMessage({\"jupyterEvent\": \"custom.exercise_interaction\", \"data\": {\"outcomeType\": 1, \"valueTowardsCompletion\": 0.2, \"interactionType\": 1, \"questionType\": 2, \"questionId\": \"5_CustomEngravings\", \"learnToolsVersion\": \"0.3.4\", \"failureMessage\": \"\", \"exceptionClass\": \"\", \"trace\": \"\"}}, \"*\")"
      ],
      "text/plain": [
       "<IPython.core.display.Javascript object>"
      ]
     },
     "metadata": {},
     "output_type": "display_data"
    },
    {
     "data": {
      "text/markdown": [
       "<span style=\"color:#33cc33\">Correct</span>"
      ],
      "text/plain": [
       "Correct"
      ]
     },
     "metadata": {},
     "output_type": "display_data"
    }
   ],
   "source": [
    "def cost_of_project(engraving, solid_gold):\n",
    "    cost = solid_gold * (100 + 10 * len(engraving)) + (not solid_gold) * (50 + 7 * len(engraving)) \n",
    "    return cost\n",
    "\n",
    "# Check your answer\n",
    "q5.check()"
   ]
  },
  {
   "cell_type": "code",
   "execution_count": 12,
   "id": "e61dda45",
   "metadata": {
    "execution": {
     "iopub.execute_input": "2023-05-13T08:14:03.123822Z",
     "iopub.status.busy": "2023-05-13T08:14:03.123384Z",
     "iopub.status.idle": "2023-05-13T08:14:03.134553Z",
     "shell.execute_reply": "2023-05-13T08:14:03.133812Z"
    },
    "papermill": {
     "duration": 0.025286,
     "end_time": "2023-05-13T08:14:03.136592",
     "exception": false,
     "start_time": "2023-05-13T08:14:03.111306",
     "status": "completed"
    },
    "tags": []
   },
   "outputs": [
    {
     "data": {
      "application/javascript": [
       "parent.postMessage({\"jupyterEvent\": \"custom.exercise_interaction\", \"data\": {\"interactionType\": 2, \"questionType\": 2, \"questionId\": \"5_CustomEngravings\", \"learnToolsVersion\": \"0.3.4\", \"valueTowardsCompletion\": 0.0, \"failureMessage\": \"\", \"exceptionClass\": \"\", \"trace\": \"\", \"outcomeType\": 4}}, \"*\")"
      ],
      "text/plain": [
       "<IPython.core.display.Javascript object>"
      ]
     },
     "metadata": {},
     "output_type": "display_data"
    },
    {
     "data": {
      "text/markdown": [
       "<span style=\"color:#3366cc\">Hint:</span> There are two options - either the project uses solid gold or does not.  With this in mind, you can structure your solution like this: `cost = solid_gold * ____ + (not solid_gold) * ____`.  You need to figure out how to fill in the blanks. Also, remember that:\n",
       "- If `solid_gold = True`, then `(not solid_gold) = False`, and if `solid_gold = False`, then `(not solid_gold) = True`.\n",
       "- Multiplying an integer by `True` is equivalent to multiplying it by 1, and multiplying an integer by `False` is equivalent to multiplying it by 0."
      ],
      "text/plain": [
       "Hint: There are two options - either the project uses solid gold or does not.  With this in mind, you can structure your solution like this: `cost = solid_gold * ____ + (not solid_gold) * ____`.  You need to figure out how to fill in the blanks. Also, remember that:\n",
       "- If `solid_gold = True`, then `(not solid_gold) = False`, and if `solid_gold = False`, then `(not solid_gold) = True`.\n",
       "- Multiplying an integer by `True` is equivalent to multiplying it by 1, and multiplying an integer by `False` is equivalent to multiplying it by 0."
      ]
     },
     "metadata": {},
     "output_type": "display_data"
    },
    {
     "data": {
      "application/javascript": [
       "parent.postMessage({\"jupyterEvent\": \"custom.exercise_interaction\", \"data\": {\"interactionType\": 3, \"questionType\": 2, \"questionId\": \"5_CustomEngravings\", \"learnToolsVersion\": \"0.3.4\", \"valueTowardsCompletion\": 0.0, \"failureMessage\": \"\", \"exceptionClass\": \"\", \"trace\": \"\", \"outcomeType\": 4}}, \"*\")"
      ],
      "text/plain": [
       "<IPython.core.display.Javascript object>"
      ]
     },
     "metadata": {},
     "output_type": "display_data"
    },
    {
     "data": {
      "text/markdown": [
       "<span style=\"color:#33cc99\">Solution:</span> \n",
       "```python\n",
       "def cost_of_project(engraving, solid_gold):\n",
       "    cost = solid_gold * (100 + 10 * len(engraving)) + (not solid_gold) * (50 + 7 * len(engraving))\n",
       "    return cost\n",
       "\n",
       "```"
      ],
      "text/plain": [
       "Solution: \n",
       "```python\n",
       "def cost_of_project(engraving, solid_gold):\n",
       "    cost = solid_gold * (100 + 10 * len(engraving)) + (not solid_gold) * (50 + 7 * len(engraving))\n",
       "    return cost\n",
       "\n",
       "```"
      ]
     },
     "metadata": {},
     "output_type": "display_data"
    }
   ],
   "source": [
    "# Uncomment to see a hint\n",
    "q5.hint()\n",
    "\n",
    "# Uncomment to view the solution\n",
    "q5.solution()"
   ]
  },
  {
   "cell_type": "markdown",
   "id": "80c5cde7",
   "metadata": {
    "papermill": {
     "duration": 0.010663,
     "end_time": "2023-05-13T08:14:03.158125",
     "exception": false,
     "start_time": "2023-05-13T08:14:03.147462",
     "status": "completed"
    },
    "tags": []
   },
   "source": [
    "Run the next code cell to calculate the cost of engraving `Charlie+Denver` on a solid gold ring."
   ]
  },
  {
   "cell_type": "code",
   "execution_count": 13,
   "id": "08f9f819",
   "metadata": {
    "execution": {
     "iopub.execute_input": "2023-05-13T08:14:03.181753Z",
     "iopub.status.busy": "2023-05-13T08:14:03.181284Z",
     "iopub.status.idle": "2023-05-13T08:14:03.187447Z",
     "shell.execute_reply": "2023-05-13T08:14:03.186207Z"
    },
    "papermill": {
     "duration": 0.020803,
     "end_time": "2023-05-13T08:14:03.189756",
     "exception": false,
     "start_time": "2023-05-13T08:14:03.168953",
     "status": "completed"
    },
    "tags": []
   },
   "outputs": [
    {
     "name": "stdout",
     "output_type": "stream",
     "text": [
      "240\n"
     ]
    }
   ],
   "source": [
    "project_one = cost_of_project(\"Charlie+Denver\", True)\n",
    "print(project_one)"
   ]
  },
  {
   "cell_type": "markdown",
   "id": "031396b2",
   "metadata": {
    "papermill": {
     "duration": 0.010965,
     "end_time": "2023-05-13T08:14:03.211977",
     "exception": false,
     "start_time": "2023-05-13T08:14:03.201012",
     "status": "completed"
    },
    "tags": []
   },
   "source": [
    "Use the next code cell to calculate the cost of engraving `08/10/2000` on a gold plated ring."
   ]
  },
  {
   "cell_type": "code",
   "execution_count": 14,
   "id": "5f7a78f3",
   "metadata": {
    "execution": {
     "iopub.execute_input": "2023-05-13T08:14:03.235551Z",
     "iopub.status.busy": "2023-05-13T08:14:03.235189Z",
     "iopub.status.idle": "2023-05-13T08:14:03.239990Z",
     "shell.execute_reply": "2023-05-13T08:14:03.239175Z"
    },
    "papermill": {
     "duration": 0.019137,
     "end_time": "2023-05-13T08:14:03.242004",
     "exception": false,
     "start_time": "2023-05-13T08:14:03.222867",
     "status": "completed"
    },
    "tags": []
   },
   "outputs": [
    {
     "name": "stdout",
     "output_type": "stream",
     "text": [
      "120\n"
     ]
    }
   ],
   "source": [
    "project_two = cost_of_project(\"08/10/2000\", False)\n",
    "print(project_two)"
   ]
  },
  {
   "cell_type": "markdown",
   "id": "7eb952d4",
   "metadata": {
    "papermill": {
     "duration": 0.011177,
     "end_time": "2023-05-13T08:14:03.264280",
     "exception": false,
     "start_time": "2023-05-13T08:14:03.253103",
     "status": "completed"
    },
    "tags": []
   },
   "source": [
    "# Keep going\n",
    "\n",
    "Continue to the next lesson to **[learn about conditions and conditional statements](https://www.kaggle.com/alexisbcook/conditions-and-conditional-statements)**."
   ]
  },
  {
   "cell_type": "markdown",
   "id": "ce4685f5",
   "metadata": {
    "papermill": {
     "duration": 0.010779,
     "end_time": "2023-05-13T08:14:03.286329",
     "exception": false,
     "start_time": "2023-05-13T08:14:03.275550",
     "status": "completed"
    },
    "tags": []
   },
   "source": [
    "---\n",
    "\n",
    "\n",
    "\n",
    "\n",
    "*Have questions or comments? Visit the [course discussion forum](https://www.kaggle.com/learn/intro-to-programming/discussion) to chat with other learners.*"
   ]
  }
 ],
 "metadata": {
  "kernelspec": {
   "display_name": "Python 3",
   "language": "python",
   "name": "python3"
  },
  "language_info": {
   "codemirror_mode": {
    "name": "ipython",
    "version": 3
   },
   "file_extension": ".py",
   "mimetype": "text/x-python",
   "name": "python",
   "nbconvert_exporter": "python",
   "pygments_lexer": "ipython3",
   "version": "3.10.10"
  },
  "papermill": {
   "default_parameters": {},
   "duration": 14.043984,
   "end_time": "2023-05-13T08:14:04.120453",
   "environment_variables": {},
   "exception": null,
   "input_path": "__notebook__.ipynb",
   "output_path": "__notebook__.ipynb",
   "parameters": {},
   "start_time": "2023-05-13T08:13:50.076469",
   "version": "2.4.0"
  }
 },
 "nbformat": 4,
 "nbformat_minor": 5
}
