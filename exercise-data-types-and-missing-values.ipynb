{
 "cells": [
  {
   "cell_type": "markdown",
   "id": "605d3b0b",
   "metadata": {
    "papermill": {
     "duration": 0.006807,
     "end_time": "2023-12-23T14:00:52.913568",
     "exception": false,
     "start_time": "2023-12-23T14:00:52.906761",
     "status": "completed"
    },
    "tags": []
   },
   "source": [
    "**This notebook is an exercise in the [Pandas](https://www.kaggle.com/learn/pandas) course.  You can reference the tutorial at [this link](https://www.kaggle.com/residentmario/data-types-and-missing-values).**\n",
    "\n",
    "---\n"
   ]
  },
  {
   "cell_type": "markdown",
   "id": "7a6c3d0c",
   "metadata": {
    "papermill": {
     "duration": 0.005795,
     "end_time": "2023-12-23T14:00:52.926096",
     "exception": false,
     "start_time": "2023-12-23T14:00:52.920301",
     "status": "completed"
    },
    "tags": []
   },
   "source": [
    "# Introduction\n",
    "\n",
    "Run the following cell to load your data and some utility functions."
   ]
  },
  {
   "cell_type": "code",
   "execution_count": 1,
   "id": "7cdd547e",
   "metadata": {
    "execution": {
     "iopub.execute_input": "2023-12-23T14:00:52.940460Z",
     "iopub.status.busy": "2023-12-23T14:00:52.939947Z",
     "iopub.status.idle": "2023-12-23T14:00:57.594789Z",
     "shell.execute_reply": "2023-12-23T14:00:57.593216Z"
    },
    "papermill": {
     "duration": 4.6655,
     "end_time": "2023-12-23T14:00:57.597576",
     "exception": false,
     "start_time": "2023-12-23T14:00:52.932076",
     "status": "completed"
    },
    "tags": []
   },
   "outputs": [
    {
     "name": "stdout",
     "output_type": "stream",
     "text": [
      "Setup complete.\n"
     ]
    }
   ],
   "source": [
    "import pandas as pd\n",
    "\n",
    "reviews = pd.read_csv(\"../input/wine-reviews/winemag-data-130k-v2.csv\", index_col=0)\n",
    "\n",
    "from learntools.core import binder; binder.bind(globals())\n",
    "from learntools.pandas.data_types_and_missing_data import *\n",
    "print(\"Setup complete.\")"
   ]
  },
  {
   "cell_type": "markdown",
   "id": "b1e22b60",
   "metadata": {
    "papermill": {
     "duration": 0.006024,
     "end_time": "2023-12-23T14:00:57.609986",
     "exception": false,
     "start_time": "2023-12-23T14:00:57.603962",
     "status": "completed"
    },
    "tags": []
   },
   "source": [
    "# Exercises"
   ]
  },
  {
   "cell_type": "markdown",
   "id": "fece614e",
   "metadata": {
    "papermill": {
     "duration": 0.005956,
     "end_time": "2023-12-23T14:00:57.622219",
     "exception": false,
     "start_time": "2023-12-23T14:00:57.616263",
     "status": "completed"
    },
    "tags": []
   },
   "source": [
    "## 1. \n",
    "What is the data type of the `points` column in the dataset?"
   ]
  },
  {
   "cell_type": "code",
   "execution_count": 2,
   "id": "8efb66ea",
   "metadata": {
    "execution": {
     "iopub.execute_input": "2023-12-23T14:00:57.636768Z",
     "iopub.status.busy": "2023-12-23T14:00:57.636304Z",
     "iopub.status.idle": "2023-12-23T14:00:57.647330Z",
     "shell.execute_reply": "2023-12-23T14:00:57.646417Z"
    },
    "papermill": {
     "duration": 0.021138,
     "end_time": "2023-12-23T14:00:57.649474",
     "exception": false,
     "start_time": "2023-12-23T14:00:57.628336",
     "status": "completed"
    },
    "tags": []
   },
   "outputs": [
    {
     "data": {
      "application/javascript": [
       "parent.postMessage({\"jupyterEvent\": \"custom.exercise_interaction\", \"data\": {\"outcomeType\": 1, \"valueTowardsCompletion\": 0.25, \"interactionType\": 1, \"questionType\": 1, \"questionId\": \"1_PointsDtype\", \"learnToolsVersion\": \"0.3.4\", \"failureMessage\": \"\", \"exceptionClass\": \"\", \"trace\": \"\"}}, \"*\")"
      ],
      "text/plain": [
       "<IPython.core.display.Javascript object>"
      ]
     },
     "metadata": {},
     "output_type": "display_data"
    },
    {
     "data": {
      "text/markdown": [
       "<span style=\"color:#33cc33\">Correct</span>"
      ],
      "text/plain": [
       "Correct"
      ]
     },
     "metadata": {},
     "output_type": "display_data"
    }
   ],
   "source": [
    "# Your code here\n",
    "dtype = reviews.points.dtype\n",
    "\n",
    "# Check your answer\n",
    "q1.check()"
   ]
  },
  {
   "cell_type": "code",
   "execution_count": 3,
   "id": "b5b034e5",
   "metadata": {
    "execution": {
     "iopub.execute_input": "2023-12-23T14:00:57.664995Z",
     "iopub.status.busy": "2023-12-23T14:00:57.664542Z",
     "iopub.status.idle": "2023-12-23T14:00:57.669253Z",
     "shell.execute_reply": "2023-12-23T14:00:57.668132Z"
    },
    "papermill": {
     "duration": 0.015451,
     "end_time": "2023-12-23T14:00:57.671581",
     "exception": false,
     "start_time": "2023-12-23T14:00:57.656130",
     "status": "completed"
    },
    "tags": []
   },
   "outputs": [],
   "source": [
    "#q1.hint()\n",
    "#q1.solution()"
   ]
  },
  {
   "cell_type": "markdown",
   "id": "34e86b8f",
   "metadata": {
    "papermill": {
     "duration": 0.006407,
     "end_time": "2023-12-23T14:00:57.684728",
     "exception": false,
     "start_time": "2023-12-23T14:00:57.678321",
     "status": "completed"
    },
    "tags": []
   },
   "source": [
    "## 2. \n",
    "Create a Series from entries in the `points` column, but convert the entries to strings. Hint: strings are `str` in native Python."
   ]
  },
  {
   "cell_type": "code",
   "execution_count": 4,
   "id": "aa95446f",
   "metadata": {
    "execution": {
     "iopub.execute_input": "2023-12-23T14:00:57.701391Z",
     "iopub.status.busy": "2023-12-23T14:00:57.700965Z",
     "iopub.status.idle": "2023-12-23T14:00:57.811095Z",
     "shell.execute_reply": "2023-12-23T14:00:57.809901Z"
    },
    "papermill": {
     "duration": 0.121558,
     "end_time": "2023-12-23T14:00:57.813524",
     "exception": false,
     "start_time": "2023-12-23T14:00:57.691966",
     "status": "completed"
    },
    "tags": []
   },
   "outputs": [
    {
     "data": {
      "application/javascript": [
       "parent.postMessage({\"jupyterEvent\": \"custom.exercise_interaction\", \"data\": {\"outcomeType\": 1, \"valueTowardsCompletion\": 0.25, \"interactionType\": 1, \"questionType\": 1, \"questionId\": \"2_StrPoints\", \"learnToolsVersion\": \"0.3.4\", \"failureMessage\": \"\", \"exceptionClass\": \"\", \"trace\": \"\"}}, \"*\")"
      ],
      "text/plain": [
       "<IPython.core.display.Javascript object>"
      ]
     },
     "metadata": {},
     "output_type": "display_data"
    },
    {
     "data": {
      "text/markdown": [
       "<span style=\"color:#33cc33\">Correct</span>"
      ],
      "text/plain": [
       "Correct"
      ]
     },
     "metadata": {},
     "output_type": "display_data"
    }
   ],
   "source": [
    "point_strings = reviews.points.astype('str')\n",
    "\n",
    "# Check your answer\n",
    "q2.check()"
   ]
  },
  {
   "cell_type": "code",
   "execution_count": 5,
   "id": "9819c692",
   "metadata": {
    "execution": {
     "iopub.execute_input": "2023-12-23T14:00:57.830173Z",
     "iopub.status.busy": "2023-12-23T14:00:57.829724Z",
     "iopub.status.idle": "2023-12-23T14:00:57.834680Z",
     "shell.execute_reply": "2023-12-23T14:00:57.833278Z"
    },
    "papermill": {
     "duration": 0.016301,
     "end_time": "2023-12-23T14:00:57.837130",
     "exception": false,
     "start_time": "2023-12-23T14:00:57.820829",
     "status": "completed"
    },
    "tags": []
   },
   "outputs": [],
   "source": [
    "#q2.hint()\n",
    "#q2.solution()"
   ]
  },
  {
   "cell_type": "markdown",
   "id": "d25301ac",
   "metadata": {
    "papermill": {
     "duration": 0.006879,
     "end_time": "2023-12-23T14:00:57.851343",
     "exception": false,
     "start_time": "2023-12-23T14:00:57.844464",
     "status": "completed"
    },
    "tags": []
   },
   "source": [
    "## 3.\n",
    "Sometimes the price column is null. How many reviews in the dataset are missing a price?"
   ]
  },
  {
   "cell_type": "code",
   "execution_count": 6,
   "id": "87aa26c7",
   "metadata": {
    "execution": {
     "iopub.execute_input": "2023-12-23T14:00:57.867892Z",
     "iopub.status.busy": "2023-12-23T14:00:57.867414Z",
     "iopub.status.idle": "2023-12-23T14:00:57.878058Z",
     "shell.execute_reply": "2023-12-23T14:00:57.877249Z"
    },
    "papermill": {
     "duration": 0.021842,
     "end_time": "2023-12-23T14:00:57.880351",
     "exception": false,
     "start_time": "2023-12-23T14:00:57.858509",
     "status": "completed"
    },
    "tags": []
   },
   "outputs": [
    {
     "data": {
      "application/javascript": [
       "parent.postMessage({\"jupyterEvent\": \"custom.exercise_interaction\", \"data\": {\"outcomeType\": 1, \"valueTowardsCompletion\": 0.25, \"interactionType\": 1, \"questionType\": 1, \"questionId\": \"3_CountMissingPrices\", \"learnToolsVersion\": \"0.3.4\", \"failureMessage\": \"\", \"exceptionClass\": \"\", \"trace\": \"\"}}, \"*\")"
      ],
      "text/plain": [
       "<IPython.core.display.Javascript object>"
      ]
     },
     "metadata": {},
     "output_type": "display_data"
    },
    {
     "data": {
      "text/markdown": [
       "<span style=\"color:#33cc33\">Correct</span>"
      ],
      "text/plain": [
       "Correct"
      ]
     },
     "metadata": {},
     "output_type": "display_data"
    }
   ],
   "source": [
    "n_missing_prices = pd.isnull(reviews.price).sum()\n",
    "\n",
    "# Check your answer\n",
    "q3.check()"
   ]
  },
  {
   "cell_type": "code",
   "execution_count": 7,
   "id": "e2e127f5",
   "metadata": {
    "execution": {
     "iopub.execute_input": "2023-12-23T14:00:57.898817Z",
     "iopub.status.busy": "2023-12-23T14:00:57.897826Z",
     "iopub.status.idle": "2023-12-23T14:00:57.902294Z",
     "shell.execute_reply": "2023-12-23T14:00:57.901171Z"
    },
    "papermill": {
     "duration": 0.017323,
     "end_time": "2023-12-23T14:00:57.905247",
     "exception": false,
     "start_time": "2023-12-23T14:00:57.887924",
     "status": "completed"
    },
    "tags": []
   },
   "outputs": [],
   "source": [
    "# q3.hint()\n",
    "# q3.solution()"
   ]
  },
  {
   "cell_type": "markdown",
   "id": "4079c503",
   "metadata": {
    "papermill": {
     "duration": 0.007216,
     "end_time": "2023-12-23T14:00:57.920298",
     "exception": false,
     "start_time": "2023-12-23T14:00:57.913082",
     "status": "completed"
    },
    "tags": []
   },
   "source": [
    "pd.isnull(reviews.price).sum()## 4.\n",
    "What are the most common wine-producing regions? Create a Series counting the number of times each value occurs in the `region_1` field. This field is often missing data, so replace missing values with `Unknown`. Sort in descending order.  Your output should look something like this:\n",
    "\n",
    "```\n",
    "Unknown                    21247\n",
    "Napa Valley                 4480\n",
    "                           ...  \n",
    "Bardolino Superiore            1\n",
    "Primitivo del Tarantino        1\n",
    "Name: region_1, Length: 1230, dtype: int64\n",
    "```"
   ]
  },
  {
   "cell_type": "code",
   "execution_count": 8,
   "id": "0f3db4b5",
   "metadata": {
    "execution": {
     "iopub.execute_input": "2023-12-23T14:00:57.937820Z",
     "iopub.status.busy": "2023-12-23T14:00:57.937091Z",
     "iopub.status.idle": "2023-12-23T14:00:58.020123Z",
     "shell.execute_reply": "2023-12-23T14:00:58.019025Z"
    },
    "papermill": {
     "duration": 0.094803,
     "end_time": "2023-12-23T14:00:58.022508",
     "exception": false,
     "start_time": "2023-12-23T14:00:57.927705",
     "status": "completed"
    },
    "tags": []
   },
   "outputs": [
    {
     "data": {
      "application/javascript": [
       "parent.postMessage({\"jupyterEvent\": \"custom.exercise_interaction\", \"data\": {\"outcomeType\": 1, \"valueTowardsCompletion\": 0.25, \"interactionType\": 1, \"questionType\": 2, \"questionId\": \"4_ReviewsPerRegion\", \"learnToolsVersion\": \"0.3.4\", \"failureMessage\": \"\", \"exceptionClass\": \"\", \"trace\": \"\"}}, \"*\")"
      ],
      "text/plain": [
       "<IPython.core.display.Javascript object>"
      ]
     },
     "metadata": {},
     "output_type": "display_data"
    },
    {
     "data": {
      "text/markdown": [
       "<span style=\"color:#33cc33\">Correct</span>"
      ],
      "text/plain": [
       "Correct"
      ]
     },
     "metadata": {},
     "output_type": "display_data"
    }
   ],
   "source": [
    "reviews_per_region = reviews.region_1.fillna('Unknown').value_counts().sort_values(ascending=False)\n",
    "\n",
    "# Check your answer\n",
    "q4.check()"
   ]
  },
  {
   "cell_type": "code",
   "execution_count": 9,
   "id": "e8d6b559",
   "metadata": {
    "execution": {
     "iopub.execute_input": "2023-12-23T14:00:58.040127Z",
     "iopub.status.busy": "2023-12-23T14:00:58.039705Z",
     "iopub.status.idle": "2023-12-23T14:00:58.043977Z",
     "shell.execute_reply": "2023-12-23T14:00:58.042903Z"
    },
    "papermill": {
     "duration": 0.017007,
     "end_time": "2023-12-23T14:00:58.047124",
     "exception": false,
     "start_time": "2023-12-23T14:00:58.030117",
     "status": "completed"
    },
    "tags": []
   },
   "outputs": [],
   "source": [
    "#q4.hint()\n",
    "# q4.solution()"
   ]
  },
  {
   "cell_type": "markdown",
   "id": "77978da4",
   "metadata": {
    "papermill": {
     "duration": 0.007587,
     "end_time": "2023-12-23T14:00:58.062724",
     "exception": false,
     "start_time": "2023-12-23T14:00:58.055137",
     "status": "completed"
    },
    "tags": []
   },
   "source": [
    "# Keep going\n",
    "\n",
    "Move on to **[renaming and combining](https://www.kaggle.com/residentmario/renaming-and-combining)**."
   ]
  },
  {
   "cell_type": "markdown",
   "id": "b96f82a6",
   "metadata": {
    "papermill": {
     "duration": 0.007746,
     "end_time": "2023-12-23T14:00:58.078332",
     "exception": false,
     "start_time": "2023-12-23T14:00:58.070586",
     "status": "completed"
    },
    "tags": []
   },
   "source": [
    "---\n",
    "\n",
    "\n",
    "\n",
    "\n",
    "*Have questions or comments? Visit the [course discussion forum](https://www.kaggle.com/learn/pandas/discussion) to chat with other learners.*"
   ]
  }
 ],
 "metadata": {
  "kaggle": {
   "accelerator": "none",
   "dataSources": [
    {
     "datasetId": 655,
     "sourceId": 1252,
     "sourceType": "datasetVersion"
    },
    {
     "datasetId": 2321,
     "sourceId": 3919,
     "sourceType": "datasetVersion"
    },
    {
     "datasetId": 2894,
     "sourceId": 4877,
     "sourceType": "datasetVersion"
    },
    {
     "datasetId": 3491,
     "sourceId": 5624,
     "sourceType": "datasetVersion"
    },
    {
     "datasetId": 1442,
     "sourceId": 8172,
     "sourceType": "datasetVersion"
    },
    {
     "datasetId": 9366,
     "sourceId": 13206,
     "sourceType": "datasetVersion"
    },
    {
     "datasetId": 179555,
     "sourceId": 403916,
     "sourceType": "datasetVersion"
    },
    {
     "datasetId": 4549,
     "sourceId": 466349,
     "sourceType": "datasetVersion"
    },
    {
     "datasetId": 2478,
     "sourceId": 1151655,
     "sourceType": "datasetVersion"
    },
    {
     "datasetId": 10128,
     "sourceId": 5438389,
     "sourceType": "datasetVersion"
    }
   ],
   "isGpuEnabled": false,
   "isInternetEnabled": false,
   "language": "python",
   "sourceType": "notebook"
  },
  "kernelspec": {
   "display_name": "Python 3",
   "language": "python",
   "name": "python3"
  },
  "language_info": {
   "codemirror_mode": {
    "name": "ipython",
    "version": 3
   },
   "file_extension": ".py",
   "mimetype": "text/x-python",
   "name": "python",
   "nbconvert_exporter": "python",
   "pygments_lexer": "ipython3",
   "version": "3.10.12"
  },
  "papermill": {
   "default_parameters": {},
   "duration": 10.78214,
   "end_time": "2023-12-23T14:00:58.709080",
   "environment_variables": {},
   "exception": null,
   "input_path": "__notebook__.ipynb",
   "output_path": "__notebook__.ipynb",
   "parameters": {},
   "start_time": "2023-12-23T14:00:47.926940",
   "version": "2.4.0"
  }
 },
 "nbformat": 4,
 "nbformat_minor": 5
}
