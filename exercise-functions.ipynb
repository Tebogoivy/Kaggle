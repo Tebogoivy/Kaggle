{
 "cells": [
  {
   "cell_type": "markdown",
   "id": "8b66b51c",
   "metadata": {
    "papermill": {
     "duration": 0.007633,
     "end_time": "2023-05-13T08:13:51.093879",
     "exception": false,
     "start_time": "2023-05-13T08:13:51.086246",
     "status": "completed"
    },
    "tags": []
   },
   "source": [
    "**This notebook is an exercise in the [Intro to Programming](https://www.kaggle.com/learn/intro-to-programming) course.  You can reference the tutorial at [this link](https://www.kaggle.com/alexisbcook/functions).**\n",
    "\n",
    "---\n"
   ]
  },
  {
   "cell_type": "markdown",
   "id": "322a2aac",
   "metadata": {
    "papermill": {
     "duration": 0.006577,
     "end_time": "2023-05-13T08:13:51.107653",
     "exception": false,
     "start_time": "2023-05-13T08:13:51.101076",
     "status": "completed"
    },
    "tags": []
   },
   "source": [
    "In the tutorial, you learned about functions. In this exercise, you'll write some of your own!\n",
    "\n",
    "# Set up the notebook\n",
    "\n",
    "Run the next code cell without changes to set up the notebook."
   ]
  },
  {
   "cell_type": "code",
   "execution_count": 1,
   "id": "a41ca7d5",
   "metadata": {
    "execution": {
     "iopub.execute_input": "2023-05-13T08:13:51.123326Z",
     "iopub.status.busy": "2023-05-13T08:13:51.122796Z",
     "iopub.status.idle": "2023-05-13T08:13:51.166391Z",
     "shell.execute_reply": "2023-05-13T08:13:51.165629Z"
    },
    "papermill": {
     "duration": 0.054036,
     "end_time": "2023-05-13T08:13:51.168607",
     "exception": false,
     "start_time": "2023-05-13T08:13:51.114571",
     "status": "completed"
    },
    "tags": []
   },
   "outputs": [
    {
     "name": "stdout",
     "output_type": "stream",
     "text": [
      "Setup complete.\n"
     ]
    }
   ],
   "source": [
    "# Set up the exercise\n",
    "import math\n",
    "from learntools.core import binder\n",
    "binder.bind(globals())\n",
    "from learntools.intro_to_programming.ex2 import *\n",
    "print('Setup complete.')"
   ]
  },
  {
   "cell_type": "markdown",
   "id": "504ea946",
   "metadata": {
    "papermill": {
     "duration": 0.006586,
     "end_time": "2023-05-13T08:13:51.182516",
     "exception": false,
     "start_time": "2023-05-13T08:13:51.175930",
     "status": "completed"
    },
    "tags": []
   },
   "source": [
    "# Question 1\n",
    "\n",
    "In the [House Prices - Advanced Regression Techniques competition](https://www.kaggle.com/c/house-prices-advanced-regression-techniques/overview), you need to use information like the number of bedrooms and bathrooms to predict the price of a house.  Inspired by this competition, you'll write your own function to do this.\n",
    "\n",
    "In the next code cell, create a function `get_expected_cost()` that has two arguments:\n",
    "- `beds` - number of bedrooms \n",
    "- `baths` - number of bathrooms\n",
    "\n",
    "It should return the expected cost of a house with that number of bedrooms and bathrooms.  Assume that:\n",
    "- the expected cost for a house with 0 bedrooms and 0 bathrooms is `80000`.  \n",
    "- each bedroom adds `30000` to the expected cost\n",
    "- each bathroom adds `10000` to the expected cost.\n",
    "\n",
    "For instance, \n",
    "- a house with 1 bedroom and 1 bathroom has an expected cost of `120000`, and \n",
    "- a house with 2 bedrooms and 1 bathroom has an expected cost of `150000`."
   ]
  },
  {
   "cell_type": "code",
   "execution_count": 2,
   "id": "66b72050",
   "metadata": {
    "execution": {
     "iopub.execute_input": "2023-05-13T08:13:51.197445Z",
     "iopub.status.busy": "2023-05-13T08:13:51.197117Z",
     "iopub.status.idle": "2023-05-13T08:13:51.207023Z",
     "shell.execute_reply": "2023-05-13T08:13:51.205798Z"
    },
    "papermill": {
     "duration": 0.019569,
     "end_time": "2023-05-13T08:13:51.209043",
     "exception": false,
     "start_time": "2023-05-13T08:13:51.189474",
     "status": "completed"
    },
    "tags": []
   },
   "outputs": [
    {
     "data": {
      "application/javascript": [
       "parent.postMessage({\"jupyterEvent\": \"custom.exercise_interaction\", \"data\": {\"outcomeType\": 1, \"valueTowardsCompletion\": 0.2, \"interactionType\": 1, \"questionType\": 2, \"questionId\": \"1_GetExpectedCost\", \"learnToolsVersion\": \"0.3.4\", \"failureMessage\": \"\", \"exceptionClass\": \"\", \"trace\": \"\"}}, \"*\")"
      ],
      "text/plain": [
       "<IPython.core.display.Javascript object>"
      ]
     },
     "metadata": {},
     "output_type": "display_data"
    },
    {
     "data": {
      "text/markdown": [
       "<span style=\"color:#33cc33\">Correct</span>"
      ],
      "text/plain": [
       "Correct"
      ]
     },
     "metadata": {},
     "output_type": "display_data"
    }
   ],
   "source": [
    "# TODO: Complete the function\n",
    "def get_expected_cost(beds, baths):\n",
    "    value = 80000 + beds * 30000 + 10000 * baths\n",
    "    return value\n",
    "\n",
    "# Check your answer \n",
    "q1.check()"
   ]
  },
  {
   "cell_type": "code",
   "execution_count": 3,
   "id": "2e1f011a",
   "metadata": {
    "execution": {
     "iopub.execute_input": "2023-05-13T08:13:51.226047Z",
     "iopub.status.busy": "2023-05-13T08:13:51.225712Z",
     "iopub.status.idle": "2023-05-13T08:13:51.228963Z",
     "shell.execute_reply": "2023-05-13T08:13:51.228259Z"
    },
    "papermill": {
     "duration": 0.01434,
     "end_time": "2023-05-13T08:13:51.231037",
     "exception": false,
     "start_time": "2023-05-13T08:13:51.216697",
     "status": "completed"
    },
    "tags": []
   },
   "outputs": [],
   "source": [
    "# Uncomment to see a hint\n",
    "#q1.hint()\n",
    "\n",
    "# Uncomment to view the solution\n",
    "#q1.solution()"
   ]
  },
  {
   "cell_type": "markdown",
   "id": "99fb1f74",
   "metadata": {
    "papermill": {
     "duration": 0.007216,
     "end_time": "2023-05-13T08:13:51.245761",
     "exception": false,
     "start_time": "2023-05-13T08:13:51.238545",
     "status": "completed"
    },
    "tags": []
   },
   "source": [
    "# Question 2\n",
    "\n",
    "You are thinking about buying a home and want to get an idea of how much you will spend, based on the number of bedrooms and bathrooms.  You are trying to decide between four different options:\n",
    "- Option 1: house with two bedrooms and three bathrooms\n",
    "- Option 2: house with three bedrooms and two bathrooms\n",
    "- Option 3: house with three bedrooms and three bathrooms\n",
    "- Option 4: house with three bedrooms and four bathrooms\n",
    "\n",
    "Use the `get_expected_cost()` function you defined in question 1 to set `option_1`, `option_2`, `option_3`, and `option_4` to the expected cost of each option."
   ]
  },
  {
   "cell_type": "code",
   "execution_count": 4,
   "id": "b919a2f7",
   "metadata": {
    "execution": {
     "iopub.execute_input": "2023-05-13T08:13:51.263021Z",
     "iopub.status.busy": "2023-05-13T08:13:51.262617Z",
     "iopub.status.idle": "2023-05-13T08:13:51.274942Z",
     "shell.execute_reply": "2023-05-13T08:13:51.273872Z"
    },
    "papermill": {
     "duration": 0.027365,
     "end_time": "2023-05-13T08:13:51.280102",
     "exception": false,
     "start_time": "2023-05-13T08:13:51.252737",
     "status": "completed"
    },
    "tags": []
   },
   "outputs": [
    {
     "name": "stdout",
     "output_type": "stream",
     "text": [
      "170000\n",
      "190000\n",
      "200000\n",
      "210000\n"
     ]
    },
    {
     "data": {
      "application/javascript": [
       "parent.postMessage({\"jupyterEvent\": \"custom.exercise_interaction\", \"data\": {\"outcomeType\": 1, \"valueTowardsCompletion\": 0.2, \"interactionType\": 1, \"questionType\": 1, \"questionId\": \"2_RunGetExpectedCost\", \"learnToolsVersion\": \"0.3.4\", \"failureMessage\": \"\", \"exceptionClass\": \"\", \"trace\": \"\"}}, \"*\")"
      ],
      "text/plain": [
       "<IPython.core.display.Javascript object>"
      ]
     },
     "metadata": {},
     "output_type": "display_data"
    },
    {
     "data": {
      "text/markdown": [
       "<span style=\"color:#33cc33\">Correct</span>"
      ],
      "text/plain": [
       "Correct"
      ]
     },
     "metadata": {},
     "output_type": "display_data"
    }
   ],
   "source": [
    "# TODO: Use the get_expected_cost function to fill in each value\n",
    "option_one = get_expected_cost(2,3)\n",
    "option_two = get_expected_cost(3,2)\n",
    "option_three = get_expected_cost(3,3)\n",
    "option_four = get_expected_cost(3,4)\n",
    "\n",
    "print(option_one)\n",
    "print(option_two)\n",
    "print(option_three)\n",
    "print(option_four)\n",
    "\n",
    "# Check your answer\n",
    "q2.check()"
   ]
  },
  {
   "cell_type": "code",
   "execution_count": 5,
   "id": "04a1ce2e",
   "metadata": {
    "execution": {
     "iopub.execute_input": "2023-05-13T08:13:51.301403Z",
     "iopub.status.busy": "2023-05-13T08:13:51.300712Z",
     "iopub.status.idle": "2023-05-13T08:13:51.305795Z",
     "shell.execute_reply": "2023-05-13T08:13:51.304701Z"
    },
    "papermill": {
     "duration": 0.01965,
     "end_time": "2023-05-13T08:13:51.308250",
     "exception": false,
     "start_time": "2023-05-13T08:13:51.288600",
     "status": "completed"
    },
    "tags": []
   },
   "outputs": [],
   "source": [
    "# Uncomment to see a hint\n",
    "#q2.hint()\n",
    "\n",
    "# Uncomment to view the solution\n",
    "#q2.solution()"
   ]
  },
  {
   "cell_type": "markdown",
   "id": "4bc4e5d8",
   "metadata": {
    "papermill": {
     "duration": 0.008959,
     "end_time": "2023-05-13T08:13:51.325982",
     "exception": false,
     "start_time": "2023-05-13T08:13:51.317023",
     "status": "completed"
    },
    "tags": []
   },
   "source": [
    "# Question 3\n",
    "\n",
    "You're a home decorator, and you'd like to use Python to streamline some of your work.  Specifically, you're creating a tool that you intend to use to calculate the cost of painting a room.\n",
    "\n",
    "As a first step, define a function `get_cost()` that takes as input:\n",
    "- `sqft_walls` = total square feet of walls to be painted\n",
    "- `sqft_ceiling` = square feet of ceiling to be painted\n",
    "- `sqft_per_gallon` = number of square feet that you can cover with one gallon of paint\n",
    "- `cost_per_gallon` = cost (in dollars) of one gallon of paint\n",
    "\n",
    "It should return the cost (in dollars) of putting one coat of paint on all walls and the ceiling.  Assume you can buy the exact amount of paint that you need, so you can buy partial gallons (e.g., if you need 7.523 gallons, you can buy that exact amount, instead of needing to buy 8 gallons and waste some paint).  Do not round your answer."
   ]
  },
  {
   "cell_type": "code",
   "execution_count": 6,
   "id": "47b565b9",
   "metadata": {
    "execution": {
     "iopub.execute_input": "2023-05-13T08:13:51.346080Z",
     "iopub.status.busy": "2023-05-13T08:13:51.345429Z",
     "iopub.status.idle": "2023-05-13T08:13:51.354052Z",
     "shell.execute_reply": "2023-05-13T08:13:51.353058Z"
    },
    "papermill": {
     "duration": 0.021324,
     "end_time": "2023-05-13T08:13:51.355893",
     "exception": false,
     "start_time": "2023-05-13T08:13:51.334569",
     "status": "completed"
    },
    "tags": []
   },
   "outputs": [
    {
     "data": {
      "application/javascript": [
       "parent.postMessage({\"jupyterEvent\": \"custom.exercise_interaction\", \"data\": {\"outcomeType\": 1, \"valueTowardsCompletion\": 0.2, \"interactionType\": 1, \"questionType\": 2, \"questionId\": \"3_GetCostPaint\", \"learnToolsVersion\": \"0.3.4\", \"failureMessage\": \"\", \"exceptionClass\": \"\", \"trace\": \"\"}}, \"*\")"
      ],
      "text/plain": [
       "<IPython.core.display.Javascript object>"
      ]
     },
     "metadata": {},
     "output_type": "display_data"
    },
    {
     "data": {
      "text/markdown": [
       "<span style=\"color:#33cc33\">Correct</span>"
      ],
      "text/plain": [
       "Correct"
      ]
     },
     "metadata": {},
     "output_type": "display_data"
    }
   ],
   "source": [
    "# TODO: Finish defining the function\n",
    "def get_cost(sqft_walls, sqft_ceiling, sqft_per_gallon, cost_per_gallon):\n",
    "    cost = (sqft_walls + sqft_ceiling) / sqft_per_gallon * cost_per_gallon\n",
    "    return cost\n",
    "\n",
    "# Check your answer\n",
    "q3.check()"
   ]
  },
  {
   "cell_type": "code",
   "execution_count": 7,
   "id": "7fbdd854",
   "metadata": {
    "execution": {
     "iopub.execute_input": "2023-05-13T08:13:51.372853Z",
     "iopub.status.busy": "2023-05-13T08:13:51.372594Z",
     "iopub.status.idle": "2023-05-13T08:13:51.376216Z",
     "shell.execute_reply": "2023-05-13T08:13:51.375369Z"
    },
    "papermill": {
     "duration": 0.014496,
     "end_time": "2023-05-13T08:13:51.378427",
     "exception": false,
     "start_time": "2023-05-13T08:13:51.363931",
     "status": "completed"
    },
    "tags": []
   },
   "outputs": [],
   "source": [
    "# Uncomment to see a hint\n",
    "#q3.hint()\n",
    "\n",
    "# Uncomment to view the solution\n",
    "#q3.solution()"
   ]
  },
  {
   "cell_type": "markdown",
   "id": "2b053757",
   "metadata": {
    "papermill": {
     "duration": 0.007734,
     "end_time": "2023-05-13T08:13:51.394114",
     "exception": false,
     "start_time": "2023-05-13T08:13:51.386380",
     "status": "completed"
    },
    "tags": []
   },
   "source": [
    "# Question 4\n",
    "\n",
    "Use the `get_cost()` function you defined in Question 3 to calculate the cost of applying one coat of paint to a room with:\n",
    "- 432 square feet of walls, and\n",
    "- 144 square feet of ceiling.\n",
    "\n",
    "Assume that one gallon of paint covers 400 square feet and costs $15.  As in Question 3, assume you can buy partial gallons of paint.  Do not round your answer."
   ]
  },
  {
   "cell_type": "code",
   "execution_count": 8,
   "id": "fd1cceeb",
   "metadata": {
    "execution": {
     "iopub.execute_input": "2023-05-13T08:13:51.411047Z",
     "iopub.status.busy": "2023-05-13T08:13:51.410765Z",
     "iopub.status.idle": "2023-05-13T08:13:51.418332Z",
     "shell.execute_reply": "2023-05-13T08:13:51.417490Z"
    },
    "papermill": {
     "duration": 0.018691,
     "end_time": "2023-05-13T08:13:51.420532",
     "exception": false,
     "start_time": "2023-05-13T08:13:51.401841",
     "status": "completed"
    },
    "tags": []
   },
   "outputs": [
    {
     "data": {
      "application/javascript": [
       "parent.postMessage({\"jupyterEvent\": \"custom.exercise_interaction\", \"data\": {\"outcomeType\": 1, \"valueTowardsCompletion\": 0.2, \"interactionType\": 1, \"questionType\": 1, \"questionId\": \"4_GetCostPaintExample\", \"learnToolsVersion\": \"0.3.4\", \"failureMessage\": \"\", \"exceptionClass\": \"\", \"trace\": \"\"}}, \"*\")"
      ],
      "text/plain": [
       "<IPython.core.display.Javascript object>"
      ]
     },
     "metadata": {},
     "output_type": "display_data"
    },
    {
     "data": {
      "text/markdown": [
       "<span style=\"color:#33cc33\">Correct</span>"
      ],
      "text/plain": [
       "Correct"
      ]
     },
     "metadata": {},
     "output_type": "display_data"
    }
   ],
   "source": [
    "# TODO: Set the project_cost variable to the cost of the project\n",
    "project_cost = get_cost(432,144, 400, 15)\n",
    "\n",
    "# Check your answer\n",
    "q4.check()"
   ]
  },
  {
   "cell_type": "code",
   "execution_count": 9,
   "id": "d2298f75",
   "metadata": {
    "execution": {
     "iopub.execute_input": "2023-05-13T08:13:51.438530Z",
     "iopub.status.busy": "2023-05-13T08:13:51.437718Z",
     "iopub.status.idle": "2023-05-13T08:13:51.441617Z",
     "shell.execute_reply": "2023-05-13T08:13:51.440636Z"
    },
    "papermill": {
     "duration": 0.015146,
     "end_time": "2023-05-13T08:13:51.443754",
     "exception": false,
     "start_time": "2023-05-13T08:13:51.428608",
     "status": "completed"
    },
    "tags": []
   },
   "outputs": [],
   "source": [
    "# Uncomment to see a hint\n",
    "#q4.hint()\n",
    "\n",
    "# Uncomment to view the solution\n",
    "#q4.solution()"
   ]
  },
  {
   "cell_type": "markdown",
   "id": "e14a569a",
   "metadata": {
    "papermill": {
     "duration": 0.008092,
     "end_time": "2023-05-13T08:13:51.460131",
     "exception": false,
     "start_time": "2023-05-13T08:13:51.452039",
     "status": "completed"
    },
    "tags": []
   },
   "source": [
    "# 🌶️ Question 5\n",
    "\n",
    "Now say you can no longer buy fractions of a gallon.  (For instance, if you need 4.3 gallons to do a project, then you have to buy 5 gallons of paint.)\n",
    "\n",
    "With this new scenario, you will create a new function `get_actual_cost` that uses the same inputs and calculates the cost of your project.\n",
    "\n",
    "One function that you'll need to use to do this is `math.ceil()`.  We demonstrate usage of this function in the code cell below.  It takes as a number as input and rounds the number up to the nearest integer.  \n",
    "\n",
    "Run the next code cell to test this function for yourself.  Feel free to change the value of `test_value` and make sure `math.ceil()` returns the number you expect."
   ]
  },
  {
   "cell_type": "code",
   "execution_count": 10,
   "id": "1fa78e9a",
   "metadata": {
    "execution": {
     "iopub.execute_input": "2023-05-13T08:13:51.478911Z",
     "iopub.status.busy": "2023-05-13T08:13:51.478534Z",
     "iopub.status.idle": "2023-05-13T08:13:51.484377Z",
     "shell.execute_reply": "2023-05-13T08:13:51.483106Z"
    },
    "papermill": {
     "duration": 0.01785,
     "end_time": "2023-05-13T08:13:51.486342",
     "exception": false,
     "start_time": "2023-05-13T08:13:51.468492",
     "status": "completed"
    },
    "tags": []
   },
   "outputs": [
    {
     "name": "stdout",
     "output_type": "stream",
     "text": [
      "3\n"
     ]
    }
   ],
   "source": [
    "test_value = 2.17\n",
    "\n",
    "rounded_value = math.ceil(test_value)\n",
    "print(rounded_value)"
   ]
  },
  {
   "cell_type": "markdown",
   "id": "6e0d155f",
   "metadata": {
    "papermill": {
     "duration": 0.008088,
     "end_time": "2023-05-13T08:13:51.503339",
     "exception": false,
     "start_time": "2023-05-13T08:13:51.495251",
     "status": "completed"
    },
    "tags": []
   },
   "source": [
    "Use the next code cell to define the function `get_actual_cost()`.  You'll need to use the `math.ceil()` function to do this.\n",
    "\n",
    "When answering this question, note that it's completely valid to define a function that makes use of another function.  For instance, we can define a function `round_up_and_divide_by_three` that makes use of the `math.ceil` function:\n",
    "```\n",
    "def round_up_and_divide_by_three(num):\n",
    "    new_value = math.ceil(num)\n",
    "    final_value = new_value / 3\n",
    "    return final_value\n",
    "```"
   ]
  },
  {
   "cell_type": "code",
   "execution_count": 11,
   "id": "a1681314",
   "metadata": {
    "execution": {
     "iopub.execute_input": "2023-05-13T08:13:51.521594Z",
     "iopub.status.busy": "2023-05-13T08:13:51.521242Z",
     "iopub.status.idle": "2023-05-13T08:13:51.530404Z",
     "shell.execute_reply": "2023-05-13T08:13:51.529427Z"
    },
    "papermill": {
     "duration": 0.020857,
     "end_time": "2023-05-13T08:13:51.532439",
     "exception": false,
     "start_time": "2023-05-13T08:13:51.511582",
     "status": "completed"
    },
    "tags": []
   },
   "outputs": [
    {
     "data": {
      "application/javascript": [
       "parent.postMessage({\"jupyterEvent\": \"custom.exercise_interaction\", \"data\": {\"outcomeType\": 1, \"valueTowardsCompletion\": 0.2, \"interactionType\": 1, \"questionType\": 2, \"questionId\": \"5_NoMoreFractions\", \"learnToolsVersion\": \"0.3.4\", \"failureMessage\": \"\", \"exceptionClass\": \"\", \"trace\": \"\"}}, \"*\")"
      ],
      "text/plain": [
       "<IPython.core.display.Javascript object>"
      ]
     },
     "metadata": {},
     "output_type": "display_data"
    },
    {
     "data": {
      "text/markdown": [
       "<span style=\"color:#33cc33\">Correct</span>"
      ],
      "text/plain": [
       "Correct"
      ]
     },
     "metadata": {},
     "output_type": "display_data"
    }
   ],
   "source": [
    "def get_actual_cost(sqft_walls, sqft_ceiling, sqft_per_gallon, cost_per_gallon):\n",
    "    total_sqft = sqft_walls + sqft_ceiling\n",
    "    gallons_needed = total_sqft / sqft_per_gallon\n",
    "    gallons_to_buy = math.ceil(gallons_needed)\n",
    "    cost = cost_per_gallon * gallons_to_buy\n",
    "    return cost\n",
    "# Check your answer\n",
    "q5.check()"
   ]
  },
  {
   "cell_type": "code",
   "execution_count": 12,
   "id": "c47f4ba9",
   "metadata": {
    "execution": {
     "iopub.execute_input": "2023-05-13T08:13:51.551820Z",
     "iopub.status.busy": "2023-05-13T08:13:51.551456Z",
     "iopub.status.idle": "2023-05-13T08:13:51.563414Z",
     "shell.execute_reply": "2023-05-13T08:13:51.562322Z"
    },
    "papermill": {
     "duration": 0.024152,
     "end_time": "2023-05-13T08:13:51.565438",
     "exception": false,
     "start_time": "2023-05-13T08:13:51.541286",
     "status": "completed"
    },
    "tags": []
   },
   "outputs": [
    {
     "data": {
      "application/javascript": [
       "parent.postMessage({\"jupyterEvent\": \"custom.exercise_interaction\", \"data\": {\"interactionType\": 2, \"questionType\": 2, \"questionId\": \"5_NoMoreFractions\", \"learnToolsVersion\": \"0.3.4\", \"valueTowardsCompletion\": 0.0, \"failureMessage\": \"\", \"exceptionClass\": \"\", \"trace\": \"\", \"outcomeType\": 4}}, \"*\")"
      ],
      "text/plain": [
       "<IPython.core.display.Javascript object>"
      ]
     },
     "metadata": {},
     "output_type": "display_data"
    },
    {
     "data": {
      "text/markdown": [
       "<span style=\"color:#3366cc\">Hint:</span> Begin with the `get_cost()` function as a starting point.  The only change you need to make is to add `math.ceil()` to round up the number of gallons that need to be purchased. Can you figure out where to add it to the function?"
      ],
      "text/plain": [
       "Hint: Begin with the `get_cost()` function as a starting point.  The only change you need to make is to add `math.ceil()` to round up the number of gallons that need to be purchased. Can you figure out where to add it to the function?"
      ]
     },
     "metadata": {},
     "output_type": "display_data"
    },
    {
     "data": {
      "application/javascript": [
       "parent.postMessage({\"jupyterEvent\": \"custom.exercise_interaction\", \"data\": {\"interactionType\": 3, \"questionType\": 2, \"questionId\": \"5_NoMoreFractions\", \"learnToolsVersion\": \"0.3.4\", \"valueTowardsCompletion\": 0.0, \"failureMessage\": \"\", \"exceptionClass\": \"\", \"trace\": \"\", \"outcomeType\": 4}}, \"*\")"
      ],
      "text/plain": [
       "<IPython.core.display.Javascript object>"
      ]
     },
     "metadata": {},
     "output_type": "display_data"
    },
    {
     "data": {
      "text/markdown": [
       "<span style=\"color:#33cc99\">Solution:</span> \n",
       "```python\n",
       "def get_actual_cost(sqft_walls, sqft_ceiling, sqft_per_gallon, cost_per_gallon):\n",
       "    total_sqft = sqft_walls + sqft_ceiling\n",
       "    gallons_needed = total_sqft / sqft_per_gallon\n",
       "    gallons_to_buy = math.ceil(gallons_needed)\n",
       "    cost = cost_per_gallon * gallons_to_buy\n",
       "    return cost\n",
       "\n",
       "```"
      ],
      "text/plain": [
       "Solution: \n",
       "```python\n",
       "def get_actual_cost(sqft_walls, sqft_ceiling, sqft_per_gallon, cost_per_gallon):\n",
       "    total_sqft = sqft_walls + sqft_ceiling\n",
       "    gallons_needed = total_sqft / sqft_per_gallon\n",
       "    gallons_to_buy = math.ceil(gallons_needed)\n",
       "    cost = cost_per_gallon * gallons_to_buy\n",
       "    return cost\n",
       "\n",
       "```"
      ]
     },
     "metadata": {},
     "output_type": "display_data"
    }
   ],
   "source": [
    "# Uncomment to see a hint\n",
    "q5.hint()\n",
    "\n",
    "# Uncomment to view the solution\n",
    "q5.solution()"
   ]
  },
  {
   "cell_type": "markdown",
   "id": "ba2eea82",
   "metadata": {
    "papermill": {
     "duration": 0.009092,
     "end_time": "2023-05-13T08:13:51.584265",
     "exception": false,
     "start_time": "2023-05-13T08:13:51.575173",
     "status": "completed"
    },
    "tags": []
   },
   "source": [
    "Once your function is verified as correct, run the next code cell to calculate the updated cost of your project."
   ]
  },
  {
   "cell_type": "code",
   "execution_count": 13,
   "id": "2ac19307",
   "metadata": {
    "execution": {
     "iopub.execute_input": "2023-05-13T08:13:51.605106Z",
     "iopub.status.busy": "2023-05-13T08:13:51.604659Z",
     "iopub.status.idle": "2023-05-13T08:13:51.611661Z",
     "shell.execute_reply": "2023-05-13T08:13:51.610694Z"
    },
    "papermill": {
     "duration": 0.020186,
     "end_time": "2023-05-13T08:13:51.613771",
     "exception": false,
     "start_time": "2023-05-13T08:13:51.593585",
     "status": "completed"
    },
    "tags": []
   },
   "outputs": [
    {
     "data": {
      "text/plain": [
       "30"
      ]
     },
     "execution_count": 13,
     "metadata": {},
     "output_type": "execute_result"
    }
   ],
   "source": [
    "get_actual_cost(432, 144, 400, 15) "
   ]
  },
  {
   "cell_type": "markdown",
   "id": "77e0ef98",
   "metadata": {
    "papermill": {
     "duration": 0.009586,
     "end_time": "2023-05-13T08:13:51.633545",
     "exception": false,
     "start_time": "2023-05-13T08:13:51.623959",
     "status": "completed"
    },
    "tags": []
   },
   "source": [
    "Say you're working with a slightly larger room.  Run the next code cell to calculate the cost of the project."
   ]
  },
  {
   "cell_type": "code",
   "execution_count": 14,
   "id": "d8cb4207",
   "metadata": {
    "execution": {
     "iopub.execute_input": "2023-05-13T08:13:51.654650Z",
     "iopub.status.busy": "2023-05-13T08:13:51.654301Z",
     "iopub.status.idle": "2023-05-13T08:13:51.661014Z",
     "shell.execute_reply": "2023-05-13T08:13:51.659988Z"
    },
    "papermill": {
     "duration": 0.020132,
     "end_time": "2023-05-13T08:13:51.663446",
     "exception": false,
     "start_time": "2023-05-13T08:13:51.643314",
     "status": "completed"
    },
    "tags": []
   },
   "outputs": [
    {
     "data": {
      "text/plain": [
       "45"
      ]
     },
     "execution_count": 14,
     "metadata": {},
     "output_type": "execute_result"
    }
   ],
   "source": [
    "get_actual_cost(594, 288, 400, 15) "
   ]
  },
  {
   "cell_type": "markdown",
   "id": "01245514",
   "metadata": {
    "papermill": {
     "duration": 0.009812,
     "end_time": "2023-05-13T08:13:51.683325",
     "exception": false,
     "start_time": "2023-05-13T08:13:51.673513",
     "status": "completed"
    },
    "tags": []
   },
   "source": [
    "# Keep going\n",
    "\n",
    "Continue to learn about **[data types](https://www.kaggle.com/alexisbcook/data-types)**."
   ]
  },
  {
   "cell_type": "markdown",
   "id": "47a98c45",
   "metadata": {
    "papermill": {
     "duration": 0.009738,
     "end_time": "2023-05-13T08:13:51.703040",
     "exception": false,
     "start_time": "2023-05-13T08:13:51.693302",
     "status": "completed"
    },
    "tags": []
   },
   "source": [
    "---\n",
    "\n",
    "\n",
    "\n",
    "\n",
    "*Have questions or comments? Visit the [course discussion forum](https://www.kaggle.com/learn/intro-to-programming/discussion) to chat with other learners.*"
   ]
  }
 ],
 "metadata": {
  "kernelspec": {
   "display_name": "Python 3",
   "language": "python",
   "name": "python3"
  },
  "language_info": {
   "codemirror_mode": {
    "name": "ipython",
    "version": 3
   },
   "file_extension": ".py",
   "mimetype": "text/x-python",
   "name": "python",
   "nbconvert_exporter": "python",
   "pygments_lexer": "ipython3",
   "version": "3.10.10"
  },
  "papermill": {
   "default_parameters": {},
   "duration": 12.053619,
   "end_time": "2023-05-13T08:13:52.433231",
   "environment_variables": {},
   "exception": null,
   "input_path": "__notebook__.ipynb",
   "output_path": "__notebook__.ipynb",
   "parameters": {},
   "start_time": "2023-05-13T08:13:40.379612",
   "version": "2.4.0"
  }
 },
 "nbformat": 4,
 "nbformat_minor": 5
}
